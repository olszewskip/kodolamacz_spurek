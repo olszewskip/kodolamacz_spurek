{
 "cells": [
  {
   "cell_type": "markdown",
   "metadata": {},
   "source": [
    "# Zadanie\n",
    "Miasto Linz chce wiedzieć, czy ludzie chcą zbudować długą plażę wzdłuż Dunaju. Rozmawiają z miejscowymi ludźmi i decydują się zebrać 20 odpowiedzi z każdej z pięciu grup wiekowych: (<15, 15-30, 30-45, 45-60,> 60)\n",
    "\n",
    "Kwestionariusz stwierdza: \"Rozwój przybrzeżny przyniesie korzyści Linz\" i możliwe odpowiedzi są\n",
    "\n",
    "<table>\n",
    "  <tr>\n",
    "    <th>1</th>\n",
    "    <td>Strongly agree</td> \n",
    "  </tr>\n",
    "  <tr>\n",
    "    <td>2</td>\n",
    "    <td>Agree</td>\n",
    "  </tr>\n",
    "  <tr>\n",
    "    <td>3</td>\n",
    "    <td>Disagree</td>\n",
    "  </tr>\n",
    "  <tr>\n",
    "    <td>4</td>\n",
    "    <td>Strongly disagree</td>\n",
    "  </tr>\n",
    "</table>  \n",
    "\n",
    "Rada Miasta chce dowiedzieć się, czy wiek ludzi wpływał na odpowiedzi, szczególnie tych, którzy odczuwali negatywnie (tj. \"Nie zgadzali się\" lub \"zdecydowanie nie zgadzali\").\n",
    "\n",
    "<table>\n",
    "  <tr>\n",
    "    <td>Age group</td>\n",
    "    <td>Frequency of negative responses</td> \n",
    "  </tr>\n",
    "  <tr>\n",
    "    <td>$<15$</th>\n",
    "    <td>4</td> \n",
    "  </tr>\n",
    "  <tr>\n",
    "    <td>$15-30$</td>\n",
    "    <td>6</td>\n",
    "  </tr>\n",
    "  <tr>\n",
    "    <td>$30-45$</td>\n",
    "    <td>14</td>\n",
    "  </tr>\n",
    "  <tr>\n",
    "    <td>$45-60$</td>\n",
    "    <td>10</td>\n",
    "  </tr>\n",
    "  <tr>\n",
    "    <td>$>60$</td>\n",
    "    <td>16</td>\n",
    "  </tr>\n",
    "</table>   \n",
    "\n",
    "- Czy te różnice są znaczące? \n",
    "- Jaki rozkład i z iloma stopniami swobody ma statystyka testowa?\n",
    "\n",
    "\n"
   ]
  },
  {
   "cell_type": "markdown",
   "metadata": {},
   "source": [
    "## Wykonujemy test"
   ]
  },
  {
   "cell_type": "code",
   "execution_count": 1,
   "metadata": {
    "collapsed": true
   },
   "outputs": [],
   "source": [
    "import numpy as np\n",
    "import pandas as pd\n",
    "from scipy import stats"
   ]
  },
  {
   "cell_type": "code",
   "execution_count": 2,
   "metadata": {},
   "outputs": [
    {
     "name": "stdout",
     "output_type": "stream",
     "text": [
      "0.03420269940871678\n",
      "\n",
      "--- Chi2-oneway ---\n",
      "The difference in opinion between the different age groups is significant (p=0.0342)\n",
      "DOF=  4\n"
     ]
    }
   ],
   "source": [
    "# Chi2-oneway-test\n",
    "obs = [4,6,14,10,16]\n",
    "_, p = stats.chisquare(obs)\n",
    "print(p)\n",
    "print('\\n--- Chi2-oneway ---')\n",
    "if p < 0.05:\n",
    "    print('The difference in opinion between the different age groups is significant (p={0:6.4f})'.format(p))\n",
    "else:\n",
    "    print('The difference in opinion between the different age groups is NOT significant (p={0:6.4f})'.format(p))\n",
    "\n",
    "print('DOF={0:3d}'.format(len(obs)-1))"
   ]
  },
  {
   "cell_type": "code",
   "execution_count": 3,
   "metadata": {},
   "outputs": [
    {
     "data": {
      "text/plain": [
       "Power_divergenceResult(statistic=10.4, pvalue=0.03420269940871678)"
      ]
     },
     "execution_count": 3,
     "metadata": {},
     "output_type": "execute_result"
    }
   ],
   "source": [
    "# stats.chisquare(obs)"
   ]
  },
  {
   "cell_type": "code",
   "execution_count": null,
   "metadata": {
    "collapsed": true
   },
   "outputs": [],
   "source": []
  }
 ],
 "metadata": {
  "kernelspec": {
   "display_name": "Python 3",
   "language": "python",
   "name": "python3"
  },
  "language_info": {
   "codemirror_mode": {
    "name": "ipython",
    "version": 3
   },
   "file_extension": ".py",
   "mimetype": "text/x-python",
   "name": "python",
   "nbconvert_exporter": "python",
   "pygments_lexer": "ipython3",
   "version": "3.6.3"
  }
 },
 "nbformat": 4,
 "nbformat_minor": 2
}
