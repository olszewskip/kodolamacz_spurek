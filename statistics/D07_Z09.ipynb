{
 "cells": [
  {
   "cell_type": "markdown",
   "metadata": {
    "collapsed": false
   },
   "source": [
    "# Zadanie\n",
    "W ankiecie przeprowadzonej wśród kilkudziesięciu osób zamieszkałych w dwóch regionach pytano m.in. ile razy dziennie piją kawę. Uzyskano następujące odpowiedzi:\n",
    "\n",
    "Region 1\n",
    "\n",
    "3 ,4 ,1 ,1 ,4 ,2 ,1 ,1 ,0 ,1 ,4 ,1 ,1 ,6 ,1 ,1 ,0 ,1 ,3 ,1 ,1 ,1 ,2 ,0 ,1 ,0 ,3 ,0 ,1 ,1 ,1 ,0 ,3 ,0 ,0 ,0 ,1 ,2 ,2 ,1 ,1 ,1 ,0 ,0 ,1\n",
    "\n",
    "Region 2\n",
    "\n",
    "0 ,0 ,1 ,2 ,0 ,0 ,1 ,1 ,5 ,1 ,1 ,2 ,1 ,2 ,1 ,0 ,1 ,1 ,0 ,0 ,0 ,1 ,0 ,2 ,1 ,2 ,2 ,1 ,1 ,2 ,2 ,6 ,1 ,3 ,2 ,4 ,1 ,2 ,1 ,0 ,4 ,0 ,2 ,0 ,3\n",
    "\n",
    "Czy na podstawie tych wyników można stwierdzić, że osoby z regionu 1 częściej piją kawę?"
   ]
  },
  {
   "cell_type": "code",
   "execution_count": 2,
   "metadata": {
    "collapsed": true
   },
   "outputs": [],
   "source": [
    "import numpy as np\n",
    "import matplotlib.pyplot as plt\n",
    "import scipy.stats as stats\n",
    "import seaborn as sns\n",
    "import pandas as pd\n",
    "# additional packages\n",
    "from statsmodels.stats.diagnostic import lillifors"
   ]
  },
  {
   "cell_type": "code",
   "execution_count": 3,
   "metadata": {
    "collapsed": false
   },
   "outputs": [],
   "source": [
    "data1=np.array([3 ,4 ,1 ,1 ,4 ,2 ,1 ,1 ,0 ,1 ,4 ,1 ,1 ,6 ,1 ,1 ,0 ,1 ,3 ,1 ,1 ,1 ,2 ,0 ,1 ,0 ,3 ,0 ,1 ,1 ,1 ,0 ,3 ,0 ,0 ,0 ,1 ,2 ,2 ,1 ,1 ,1 ,0 ,0 ,1])\n",
    "data2=np.array([0 ,0 ,1 ,2 ,0 ,0 ,1 ,1 ,5 ,1 ,1 ,2 ,1 ,2 ,1 ,0 ,1 ,1 ,0 ,0 ,0 ,1 ,0 ,2 ,1 ,2 ,2 ,1 ,1 ,2 ,2 ,6 ,1 ,3 ,2 ,4 ,1 ,2 ,1 ,0 ,4 ,0 ,2 ,0 ,3])\n"
   ]
  },
  {
   "cell_type": "code",
   "execution_count": null,
   "metadata": {
    "collapsed": true
   },
   "outputs": [],
   "source": []
  }
 ],
 "metadata": {
  "kernelspec": {
   "display_name": "Python 3",
   "language": "python",
   "name": "python3"
  },
  "language_info": {
   "codemirror_mode": {
    "name": "ipython",
    "version": 3
   },
   "file_extension": ".py",
   "mimetype": "text/x-python",
   "name": "python",
   "nbconvert_exporter": "python",
   "pygments_lexer": "ipython3",
   "version": "3.6.0"
  }
 },
 "nbformat": 4,
 "nbformat_minor": 2
}
