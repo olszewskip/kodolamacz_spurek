{
 "cells": [
  {
   "cell_type": "markdown",
   "metadata": {},
   "source": [
    "# Gęstość i dystrybuanta rozkładu Normalnego\n",
    "\n",
    "Jeżeli $f_{X} \\colon \\mathbb{R} \\to [0,+\\infty] $ jest gęstością ciągłej zmiennej losowej $X$ to\n",
    "$$\n",
    "\\int_{-\\infty}^x f_{X}(t)dt=P((-\\infty, x])=F_X(x),\n",
    "$$\n",
    "gdzie $F_X$ jest dystrybuantą zmiennej losowej $X$. \n",
    "\n",
    "\n",
    "Jeżeli $f_{X} \\colon \\mathbb{R} \\to [0,+\\infty] $ jest gęstością ciągłej zmiennej losowej $X$ to\n",
    "$$\n",
    "\\int_{-\\infty}^x f_{X}(t)dt=P((-\\infty, x])=F_X(x),\n",
    "$$\n",
    "gdzie $F_X$ jest dystrybuantą zmiennej losowej $X$. "
   ]
  },
  {
   "cell_type": "code",
   "execution_count": 1,
   "metadata": {
    "collapsed": true
   },
   "outputs": [],
   "source": [
    "import matplotlib.pyplot as plt\n",
    "import numpy as np\n",
    "from scipy import stats\n",
    "from scipy import integrate"
   ]
  },
  {
   "cell_type": "markdown",
   "metadata": {},
   "source": [
    "Zdefiniujmy zmienną losową o rozkładzie Normalnym"
   ]
  },
  {
   "cell_type": "code",
   "execution_count": 2,
   "metadata": {
    "collapsed": false
   },
   "outputs": [],
   "source": [
    "(mu, sigma)=(0,1)\n",
    "nd=stats.norm(mu, sigma)"
   ]
  },
  {
   "cell_type": "markdown",
   "metadata": {},
   "source": [
    "Będziemy liczyć prawdopodobieństwo $P(X \\in [-\\infty,x_0] )$, gdzie $x_0 \\in \\mathbb{R}$"
   ]
  },
  {
   "cell_type": "code",
   "execution_count": 3,
   "metadata": {
    "collapsed": true
   },
   "outputs": [],
   "source": [
    "x0=0.6"
   ]
  },
  {
   "cell_type": "code",
   "execution_count": 4,
   "metadata": {
    "collapsed": false
   },
   "outputs": [
    {
     "name": "stdout",
     "output_type": "stream",
     "text": [
      "0.7257\n"
     ]
    }
   ],
   "source": [
    "(inte,err)=integrate.quad(lambda x: nd.pdf(x), -np.inf, x0)\n",
    "print(np.round(inte,4))"
   ]
  },
  {
   "cell_type": "markdown",
   "metadata": {},
   "source": [
    "Zgodnie z naszymi wzorami\n",
    "$$\n",
    "P(X \\in [-\\infty,x_0] )  = \\int_{\\infty}^{x_{0}} f_{X}(x)dx=P(X\\leq x_0)=F_{X}(x_0) \n",
    "$$"
   ]
  },
  {
   "cell_type": "code",
   "execution_count": 5,
   "metadata": {
    "collapsed": false
   },
   "outputs": [
    {
     "data": {
      "image/png": "[encoded data removed]",
      "text/plain": [
       "<matplotlib.figure.Figure at 0x706e3bd390>"
      ]
     },
     "metadata": {},
     "output_type": "display_data"
    }
   ],
   "source": [
    "x = np.linspace(-3,3,100)\n",
    "yp = nd.pdf(x)\n",
    "y = nd.cdf(x)\n",
    "x1 = np.linspace(-3, x0)\n",
    "y1 = nd.pdf(x1)\n",
    "\n",
    "figs, axs = plt.subplots(1,2, figsize=(7, 4))\n",
    "\n",
    "axs[0].plot(x,yp, 'k')\n",
    "axs[0].fill_between(x1, y1, facecolor='#CCCCCC')\n",
    "axs[0].text(x0, 0.1, np.round(inte,4))\n",
    "axs[0].set_xlabel('x')\n",
    "axs[0].set_ylabel('PDF(x)')\n",
    "\n",
    "axs[1].plot(x, y, '#999999', lw=3)\n",
    "axs[1].set_xlabel('x')\n",
    "axs[1].set_ylabel('CDF(x)')\n",
    "axs[1].text(x0, nd.cdf(x0), np.round(nd.cdf(x0),4))\n",
    "plt.vlines(x0, 0, nd.cdf(x0), linestyles='--')\n",
    "plt.show()\n"
   ]
  },
  {
   "cell_type": "markdown",
   "metadata": {},
   "source": [
    "# Zadanie 1\n",
    "Napisz skrypt, który będzie liczył prawdopodobieństwo: \n",
    "\n",
    "$$\n",
    "P(X \\in [x_0,\\infty])  = \\int^{\\infty}_{x_{1}} f_{X}(x)dx =P(X\\geq x_0)=1-F_{X}(x_1) \n",
    "$$\n",
    "<ul>\n",
    "<li>Sprawdź czy wszystkie równości zachodzą? </li>\n",
    "<li>Narysuj gęstość i dystrybuantę oraz zaznacz na niej wszystkie dane. </li>\n",
    "</ul>"
   ]
  },
  {
   "cell_type": "code",
   "execution_count": null,
   "metadata": {
    "collapsed": true
   },
   "outputs": [],
   "source": []
  },
  {
   "cell_type": "markdown",
   "metadata": {},
   "source": [
    "# Zadanie 2\n",
    "Napisz skrypt, który będzie liczył prawdopodobieństwo:\n",
    "\n",
    "$$\n",
    "P(X \\in [-\\infty,x_1] \\cup [x_2\\infty])  = \\int_{\\infty}^{x_{1}} f_{X}(x)dx + \\int_{x_{2}}^{\\infty} f_{X}(x)dx=P(X\\leq x_2 \\ or \\ X\\geq x_2)=F_{X}(x_2)+1-F_{X}(x_1) \n",
    "$$\n",
    "<ul>\n",
    "<li>Sprawdź czy wszystkie równości zachodzą? </li>\n",
    "<li>Narysuj gęstość i dystrybuantę oraz zaznacz na niej wszystkie dane. </li>\n",
    "</ul>"
   ]
  },
  {
   "cell_type": "code",
   "execution_count": null,
   "metadata": {
    "collapsed": true
   },
   "outputs": [],
   "source": []
  }
 ],
 "metadata": {
  "kernelspec": {
   "display_name": "Python 3",
   "language": "python",
   "name": "python3"
  },
  "language_info": {
   "codemirror_mode": {
    "name": "ipython",
    "version": 3
   },
   "file_extension": ".py",
   "mimetype": "text/x-python",
   "name": "python",
   "nbconvert_exporter": "python",
   "pygments_lexer": "ipython3",
   "version": "3.6.0"
  }
 },
 "nbformat": 4,
 "nbformat_minor": 2
}
