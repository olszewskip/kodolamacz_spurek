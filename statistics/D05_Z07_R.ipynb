{
 "cells": [
  {
   "cell_type": "markdown",
   "metadata": {},
   "source": [
    "# Zadanie 1\n",
    "\n",
    "W centrali telefonicznej dokonano 17 obserwacji długości losowo wybranych rozmów w ciągu jednego dnia i otrzymano (w min): $\\bar X = 5.48$, $S=1.2$; na tej podstawie -- przy założeniu, że długość rozmów telefonicznych mają rozkład normalny -- wyznaczyć $95\\%$-ową realizację przedziału ufności dla wartości przeciętnej długości rozmowy telefonicznej przeprowadzonej za pośrednictwem tej centrali w danym dniu.    "
   ]
  },
  {
   "cell_type": "code",
   "execution_count": 3,
   "metadata": {
    "collapsed": true
   },
   "outputs": [],
   "source": [
    "import matplotlib.pyplot as plt\n",
    "import numpy as np\n",
    "from scipy import stats\n",
    "from scipy import integrate"
   ]
  },
  {
   "cell_type": "markdown",
   "metadata": {},
   "source": [
    "## Zdefiniuj zmienną losową"
   ]
  },
  {
   "cell_type": "code",
   "execution_count": 6,
   "metadata": {},
   "outputs": [],
   "source": [
    "n = 17\n",
    "X=stats.t(n-1)\n",
    "alpha = 0.05\n",
    "\n",
    "m = 5.48\n",
    "s=1.2"
   ]
  },
  {
   "cell_type": "markdown",
   "metadata": {},
   "source": [
    "## Wylicz końce przedziałów"
   ]
  },
  {
   "cell_type": "code",
   "execution_count": 9,
   "metadata": {},
   "outputs": [],
   "source": [
    "L = m - X.ppf(1-alpha/2)* s/np.sqrt(n-1)\n",
    "R = m + X.ppf(1-alpha/2)* s/np.sqrt(n-1)"
   ]
  },
  {
   "cell_type": "markdown",
   "metadata": {},
   "source": [
    "## Wypisz przedział ufności"
   ]
  },
  {
   "cell_type": "code",
   "execution_count": 10,
   "metadata": {},
   "outputs": [
    {
     "name": "stdout",
     "output_type": "stream",
     "text": [
      "( 4.84 , 6.12)\n"
     ]
    }
   ],
   "source": [
    "print(r'( %3.2f , %3.2f)' % (L,R))"
   ]
  },
  {
   "cell_type": "markdown",
   "metadata": {},
   "source": [
    "# Zadanie 2\n",
    "Wykonaj zadanie za pomocą <tt>scipy</tt> i <tt>funkcji stats</tt>."
   ]
  },
  {
   "cell_type": "code",
   "execution_count": null,
   "metadata": {
    "collapsed": true
   },
   "outputs": [],
   "source": [
    "stats.t.interval(1-alpha, loc=m, scale=s/np.sqrt(n-1) , df=n-1)"
   ]
  }
 ],
 "metadata": {
  "kernelspec": {
   "display_name": "Python 3",
   "language": "python",
   "name": "python3"
  },
  "language_info": {
   "codemirror_mode": {
    "name": "ipython",
    "version": 3
   },
   "file_extension": ".py",
   "mimetype": "text/x-python",
   "name": "python",
   "nbconvert_exporter": "python",
   "pygments_lexer": "ipython3",
   "version": "3.6.3"
  }
 },
 "nbformat": 4,
 "nbformat_minor": 2
}
