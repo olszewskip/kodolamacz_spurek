{
 "cells": [
  {
   "cell_type": "code",
   "execution_count": 3,
   "metadata": {},
   "outputs": [
    {
     "name": "stderr",
     "output_type": "stream",
     "text": [
      "C:\\Users\\przem85\\AppData\\Local\\conda\\conda\\envs\\tensorflow\\lib\\site-packages\\statsmodels\\compat\\pandas.py:56: FutureWarning: The pandas.core.datetools module is deprecated and will be removed in a future version. Please use the pandas.tseries module instead.\n",
      "  from pandas.core import datetools\n"
     ]
    }
   ],
   "source": [
    "import numpy as np\n",
    "import matplotlib.pyplot as plt\n",
    "import scipy.stats as stats\n",
    "import pandas as pd\n",
    "# additional packages\n",
    "from statsmodels.stats.diagnostic import lillifors"
   ]
  },
  {
   "cell_type": "markdown",
   "metadata": {},
   "source": [
    "# Test dla innych postaci rozkładu"
   ]
  },
  {
   "cell_type": "markdown",
   "metadata": {},
   "source": [
    "Wylosujmy próbki z rozkładu normalnego, jednostajnego i t-Studenta, a następnie sprawdżmy jak zadziałają testy na tych próbkach."
   ]
  },
  {
   "cell_type": "code",
   "execution_count": 4,
   "metadata": {
    "collapsed": true
   },
   "outputs": [],
   "source": [
    "n=1000\n",
    "ud=stats.uniform(-1,2)\n",
    "nd=stats.norm()\n",
    "td=stats.t(7)\n",
    "data_u=ud.rvs(n)\n",
    "data_n=nd.rvs(n)\n",
    "data_t=td.rvs(n)\n",
    "fewData_u = data_u[:100]\n",
    "fewData_n = data_n[:100]\n",
    "fewData_t = data_t[:100]"
   ]
  },
  {
   "cell_type": "code",
   "execution_count": 5,
   "metadata": {},
   "outputs": [
    {
     "name": "stdout",
     "output_type": "stream",
     "text": [
      "0.357631145082\n",
      "0.0\n",
      "0.0\n"
     ]
    }
   ],
   "source": [
    "D , p = stats.kstest(data_u, 'uniform', args=(-1, 2)) \n",
    "print(p)\n",
    "D , p = stats.kstest(data_n, 'uniform', args=(0, 1)) \n",
    "print(p)\n",
    "D , p = stats.kstest(data_t, 'uniform', args=(0, 1)) \n",
    "print(p)"
   ]
  },
  {
   "cell_type": "markdown",
   "metadata": {},
   "source": [
    "# Zadanie\n",
    "Wylosujmy po 100 próbek z rozkładu normalnego, jednostajnego i t-Studenta zawierajacych 1000 punktów, a następnie sprawdżmy na ilu z nich testy pochodzenia z danego rozkładu je pomylą.\n",
    "\n",
    "Wykonaj analogicznie zadanie dla 100 próbek o liczności 100."
   ]
  },
  {
   "cell_type": "code",
   "execution_count": 6,
   "metadata": {},
   "outputs": [
    {
     "name": "stdout",
     "output_type": "stream",
     "text": [
      "0.0\n",
      "0.382510563676\n",
      "0.358322119632\n"
     ]
    }
   ],
   "source": [
    "D , p = stats.kstest(data_u, 'norm', args=(-1, 2)) \n",
    "print(p)\n",
    "D , p = stats.kstest(data_n, 'norm', args=(0, 1)) \n",
    "print(p)\n",
    "D , p = stats.kstest(data_t, 'norm', args=(0, 1)) \n",
    "print(p)"
   ]
  },
  {
   "cell_type": "code",
   "execution_count": 8,
   "metadata": {},
   "outputs": [
    {
     "name": "stdout",
     "output_type": "stream",
     "text": [
      "0.0\n",
      "0.0272091951746\n",
      "0.926584385881\n"
     ]
    }
   ],
   "source": [
    "D , p = stats.kstest(data_u, 't', args=(6,)) \n",
    "print(p)\n",
    "D , p = stats.kstest(data_n, 't', args=(6,)) \n",
    "print(p)\n",
    "D , p = stats.kstest(data_t, 't', args=(6,)) \n",
    "print(p)"
   ]
  },
  {
   "cell_type": "code",
   "execution_count": null,
   "metadata": {
    "collapsed": true
   },
   "outputs": [],
   "source": []
  }
 ],
 "metadata": {
  "kernelspec": {
   "display_name": "Python 3",
   "language": "python",
   "name": "python3"
  },
  "language_info": {
   "codemirror_mode": {
    "name": "ipython",
    "version": 3
   },
   "file_extension": ".py",
   "mimetype": "text/x-python",
   "name": "python",
   "nbconvert_exporter": "python",
   "pygments_lexer": "ipython3",
   "version": "3.6.3"
  }
 },
 "nbformat": 4,
 "nbformat_minor": 2
}
