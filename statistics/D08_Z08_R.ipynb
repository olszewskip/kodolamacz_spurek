{
 "cells": [
  {
   "cell_type": "markdown",
   "metadata": {},
   "source": [
    "# Zadanie\n",
    "Badania nad efektami nowego leku na serce doprowadziły do uzyskania następujących danych:\n",
    "\n",
    "<table>\n",
    "  <tr>\n",
    "    <th></th>\n",
    "    <td>increased</td> \n",
    "    <td>NOT-increased</td>\n",
    "    <td>Total</td>\n",
    "  </tr>\n",
    "  <tr>\n",
    "    <td>Treated</td>\n",
    "    <td>36</td>\n",
    "    <td>14</td>\n",
    "    <td>50</td>\n",
    "  </tr>\n",
    "  <tr>\n",
    "    <td>Not treated</td>\n",
    "    <td>30</td>\n",
    "    <td>25</td>\n",
    "    <td>55</td>\n",
    "  </tr>\n",
    "  <tr>\n",
    "    <td>Total</td>\n",
    "    <td>66</td>\n",
    "    <td>39</td>\n",
    "    <td>105</td>\n",
    "  </tr>\n",
    "</table>  \n",
    "\n",
    "\n",
    "- Czy lek ma wpływ na chorobę?\n",
    "- Co by się stało jak by dla jednej osoby zmienił się wynik?\n",
    "\n",
    "<table>\n",
    "  <tr>\n",
    "    <th></th>\n",
    "    <td>increased</td> \n",
    "    <td>NOT-increased</td>\n",
    "    <td>Total</td>\n",
    "  </tr>\n",
    "  <tr>\n",
    "    <td>Treated</td>\n",
    "    <td>36</td>\n",
    "    <td>14</td>\n",
    "    <td>50</td>\n",
    "  </tr>\n",
    "  <tr>\n",
    "    <td>Not treated</td>\n",
    "    <td>28</td>\n",
    "    <td>27</td>\n",
    "    <td>55</td>\n",
    "  </tr>\n",
    "  <tr>\n",
    "    <td>Total</td>\n",
    "    <td>65</td>\n",
    "    <td>40</td>\n",
    "    <td>105</td>\n",
    "  </tr>\n",
    "</table>  \n"
   ]
  },
  {
   "cell_type": "markdown",
   "metadata": {},
   "source": [
    "## Wykonujemy test"
   ]
  },
  {
   "cell_type": "code",
   "execution_count": 2,
   "metadata": {
    "collapsed": true
   },
   "outputs": [],
   "source": [
    "import numpy as np\n",
    "import pandas as pd\n",
    "from scipy import stats"
   ]
  },
  {
   "cell_type": "code",
   "execution_count": 3,
   "metadata": {},
   "outputs": [
    {
     "name": "stdout",
     "output_type": "stream",
     "text": [
      "0.09966209595851808\n",
      "0.04419997819371917\n"
     ]
    }
   ],
   "source": [
    "obs = [[36,14], [30,25]]\n",
    "chi2, p, dof, expected = stats.chi2_contingency(obs)\n",
    "print(p)\n",
    "# print('--- Contingency Test ---')\n",
    "# if p < 0.05:\n",
    "#     print('p={0:6.4f}: the drug affects the heart rate.'.format(p))\n",
    "# else:\n",
    "#     print('p={0:6.4f}: the drug does NOT affect the heart rate.'.format(p))\n",
    "    \n",
    "obs2 = [[36,14], [28,27]]\n",
    "chi2, p, dof, expected = stats.chi2_contingency(obs2)\n",
    "print(p)\n",
    "# chi2, p2, dof, expected = stats.chi2_contingency(obs2, correction=False)\n",
    "\n",
    "# print('If the response in 1 non-treated person were different, \\n we would get p={0:6.4f} with Yates correction, and p={1:6.4f} without.'.format(p, p2))"
   ]
  },
  {
   "cell_type": "code",
   "execution_count": null,
   "metadata": {
    "collapsed": true
   },
   "outputs": [],
   "source": []
  }
 ],
 "metadata": {
  "kernelspec": {
   "display_name": "Python 3",
   "language": "python",
   "name": "python3"
  },
  "language_info": {
   "codemirror_mode": {
    "name": "ipython",
    "version": 3
   },
   "file_extension": ".py",
   "mimetype": "text/x-python",
   "name": "python",
   "nbconvert_exporter": "python",
   "pygments_lexer": "ipython3",
   "version": "3.6.3"
  }
 },
 "nbformat": 4,
 "nbformat_minor": 2
}
