{
 "cells": [
  {
   "cell_type": "markdown",
   "metadata": {},
   "source": [
    "# Zadanie\n",
    "\n",
    "Dla sprawdzenia poprawności działania urządzenia automatycznie odważającego produkt w opakowania po $250$ g wybrano losowo $15$ opakowań i zważono masę netto każdego z opakowań.\n",
    "Uzyskano następujące wyniki:\n",
    "\n",
    "249.3, 248.5, 250.2, 249.3, 247.9, 250.3, 251.1, 250.2, 249.3, 248.3, 247.9, 248.6, 250.6, 251.6, 249.6\n",
    "\n",
    "Czy na podstawie uzyskanych wyników możemy stwierdzić, że urządzenie odważa średnio właściwą masę produktu?"
   ]
  },
  {
   "cell_type": "code",
   "execution_count": 1,
   "metadata": {
    "collapsed": true
   },
   "outputs": [],
   "source": [
    "import numpy as np\n",
    "import matplotlib.pyplot as plt\n",
    "import scipy.stats as stats\n",
    "import seaborn as sns\n",
    "import pandas as pd\n",
    "# additional packages\n",
    "from statsmodels.stats.diagnostic import lillifors"
   ]
  },
  {
   "cell_type": "code",
   "execution_count": 2,
   "metadata": {},
   "outputs": [],
   "source": [
    "data=np.array([249.3, 248.5, 250.2, 249.3, 247.9, 250.3, 251.1, 250.2, 249.3, 248.3, 247.9, 248.6, 250.6, 251.6, 249.6])"
   ]
  },
  {
   "cell_type": "markdown",
   "metadata": {},
   "source": [
    "# Najpierw sprawdzamy założenie o tym, że próbka pochodzi z rozkładu normalnego."
   ]
  },
  {
   "cell_type": "code",
   "execution_count": null,
   "metadata": {},
   "outputs": [],
   "source": []
  },
  {
   "cell_type": "markdown",
   "metadata": {},
   "source": [
    "# Wykonaj odpowiedni test"
   ]
  },
  {
   "cell_type": "code",
   "execution_count": null,
   "metadata": {},
   "outputs": [],
   "source": []
  }
 ],
 "metadata": {
  "kernelspec": {
   "display_name": "Python 3",
   "language": "python",
   "name": "python3"
  },
  "language_info": {
   "codemirror_mode": {
    "name": "ipython",
    "version": 3
   },
   "file_extension": ".py",
   "mimetype": "text/x-python",
   "name": "python",
   "nbconvert_exporter": "python",
   "pygments_lexer": "ipython3",
   "version": "3.5.4"
  }
 },
 "nbformat": 4,
 "nbformat_minor": 2
}
