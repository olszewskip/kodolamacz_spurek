{
 "cells": [
  {
   "cell_type": "markdown",
   "metadata": {},
   "source": [
    "# Zadanie\n",
    "\n",
    "Dzienne spalanie energii przez 11 zdrowych kobiet wynosi \n",
    "\n",
    "[5260., 5470., 5640., 6180., 6390., 6515., 6805., 7515., 7515., 8230., 8770.] kJ.\n",
    "\n",
    "Czy ta wartość znacznie różni się od zalecanej wartości 7725?\n",
    "\n",
    "Wykorzystaj dwa testy."
   ]
  },
  {
   "cell_type": "markdown",
   "metadata": {},
   "source": [
    "## Wykonujemy test"
   ]
  },
  {
   "cell_type": "code",
   "execution_count": 2,
   "metadata": {
    "collapsed": true
   },
   "outputs": [],
   "source": [
    "import numpy as np\n",
    "import pandas as pd\n",
    "from scipy import stats"
   ]
  },
  {
   "cell_type": "code",
   "execution_count": 3,
   "metadata": {},
   "outputs": [
    {
     "name": "stdout",
     "output_type": "stream",
     "text": [
      "Data are distributed normally, p = 0.6813132824061632\n",
      "With the one-sample t-test, 7725.00 is significantly different from the mean (p=0.018).\n",
      "With the Wilcoxon test, 7725.00 is significantly different from the mean (p=0.026).\n"
     ]
    },
    {
     "name": "stderr",
     "output_type": "stream",
     "text": [
      "D:\\Anaconda3\\lib\\site-packages\\scipy\\stats\\stats.py:1327: UserWarning: kurtosistest only valid for n>=20 ... continuing anyway, n=11\n",
      "  \"anyway, n=%i\" % int(n))\n"
     ]
    }
   ],
   "source": [
    "data = np.array([5260, 5470, 5640, 6180, 6390, 6515, 6805, 7515, 7515, 8230, 8770], dtype=np.float)\n",
    "checkValue = 7725   # value to compare the data to\n",
    "\n",
    "# Normality test\n",
    "# We don't need the first parameter, so we just assign the output to the dummy variable \"_\"\n",
    "(_, p) = stats.normaltest(data)\n",
    "if p > 0.05:\n",
    "    print('Data are distributed normally, p = {0}'.format(p))\n",
    "\n",
    "# Do the onesample t-test\n",
    "t, prob = stats.ttest_1samp(data, checkValue)\n",
    "if prob < 0.05:\n",
    "    print('With the one-sample t-test, {0:4.2f} is significantly different from the mean (p={1:5.3f}).'.\\\n",
    "    format(checkValue, prob))\n",
    "else:\n",
    "    print('No difference from reference value with onesample t-test.')\n",
    "\n",
    "# This implementation of the Wilcoxon test checks for the \"difference\" of one vector of data from zero\n",
    "(_,p) = stats.wilcoxon(data-checkValue)\n",
    "if p < 0.05:\n",
    "    print('With the Wilcoxon test, {0:4.2f} is significantly different from the mean (p={1:5.3f}).'.\\\n",
    "    format(checkValue, p))\n",
    "else:\n",
    "    print('No difference from reference value with Wilcoxon rank sum test.')"
   ]
  },
  {
   "cell_type": "code",
   "execution_count": null,
   "metadata": {
    "collapsed": true
   },
   "outputs": [],
   "source": []
  }
 ],
 "metadata": {
  "kernelspec": {
   "display_name": "Python 3",
   "language": "python",
   "name": "python3"
  },
  "language_info": {
   "codemirror_mode": {
    "name": "ipython",
    "version": 3
   },
   "file_extension": ".py",
   "mimetype": "text/x-python",
   "name": "python",
   "nbconvert_exporter": "python",
   "pygments_lexer": "ipython3",
   "version": "3.5.4"
  }
 },
 "nbformat": 4,
 "nbformat_minor": 2
}
