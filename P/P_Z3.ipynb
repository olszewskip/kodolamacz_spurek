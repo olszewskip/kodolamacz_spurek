{
 "cells": [
  {
   "cell_type": "markdown",
   "metadata": {},
   "source": [
    "# Typy sekwencyjne\n",
    "\n",
    "Sekwencyjne typy danych służą do przechowywaniu wielu wartości w pojedynczej zmiennej (w innych językach nazywane tablicami), w odróżnieniu od typów prostych, takich jak np. int, które w pojedynczej zmiennej mogą zachować tylko jedną wartość. Do typów sekwencyjnych należą: napisy (łańcuchy znaków), listy, krotki."
   ]
  },
  {
   "cell_type": "markdown",
   "metadata": {},
   "source": [
    "# 1. Napisy/łańcuchy\n",
    "Do tej pory poznaliśmy już jeden typ sekwencyjny, mianowicie typ łańcuchowy (łańcuchy znaków). Wartości napisów podajemy w cudzysłowach lub apostrofach:"
   ]
  },
  {
   "cell_type": "code",
   "execution_count": null,
   "metadata": {
    "collapsed": true
   },
   "outputs": [],
   "source": [
    "x = \"To jest napis\"\n",
    "y = 'To też jest napis'"
   ]
  },
  {
   "cell_type": "markdown",
   "metadata": {},
   "source": [
    "Napisy są sekwencjami znaków. Każdy typ sekwencyjny pozwala na dostęp do każdego swojego elementu z osobna. Aby uzyskać dostęp do znaku na określonej pozycji podajemy jej indeks (numer porządkowy liczony od lewej, zero oznacza pierwszy znak napisu) w nawiasach kwadratowych bezpośrednio po łańcuchu:"
   ]
  },
  {
   "cell_type": "code",
   "execution_count": null,
   "metadata": {
    "collapsed": false
   },
   "outputs": [],
   "source": [
    "x = \"To jest napis\"\n",
    "print(x[0])\n",
    "print(x[1])\n",
    "print(x[3])"
   ]
  },
  {
   "cell_type": "markdown",
   "metadata": {},
   "source": [
    "Możemy też dostawać znaki od końca łańcucha. W tym celu używamy indeksów ujemnych (-1 oznacza ostatni znak napisu):"
   ]
  },
  {
   "cell_type": "code",
   "execution_count": null,
   "metadata": {
    "collapsed": false
   },
   "outputs": [],
   "source": [
    "x = \"To jest napis\"\n",
    "print(x[-1])\n",
    "print(x[-2])\n",
    "print(x[-3])"
   ]
  },
  {
   "cell_type": "markdown",
   "metadata": {},
   "source": [
    "Do obliczania długości napisu (liczby znaków w łańcuchu) służy funkcja **len**:"
   ]
  },
  {
   "cell_type": "code",
   "execution_count": null,
   "metadata": {
    "collapsed": false
   },
   "outputs": [],
   "source": [
    "x = \"To jest napis\"\n",
    "print(len(x))"
   ]
  },
  {
   "cell_type": "markdown",
   "metadata": {},
   "source": [
    "# Przycinanie łańcuchów\n",
    "Czasami interesuje nas nie pobranie z napisu pojedynczego znaku, ale wykrojenie ciągu znaków. Do wykrajania fragmentów napisów używamy zapisu z dwukropkiem:"
   ]
  },
  {
   "cell_type": "code",
   "execution_count": null,
   "metadata": {
    "collapsed": false
   },
   "outputs": [],
   "source": [
    "x = \"To jest napis\"\n",
    "print(x[:5])\n",
    "print(x[5:])\n",
    "print(x[3:7])\n",
    "print(x[3:12:2])\n",
    "print(x[:-4])\n",
    "print(x[-1:-6:-1])"
   ]
  },
  {
   "cell_type": "markdown",
   "metadata": {},
   "source": [
    "# Typ łańcuchowy jako typ niezmienny\n",
    "Sekwencyjne typy danych w Pythonie dzielimy na zmienne (mutable) i niezmienne (immutable). Typ łańcuchowy należy do typów niezmiennych. Typy niezmienne nie mogą zmieniać swojej wartości."
   ]
  },
  {
   "cell_type": "code",
   "execution_count": null,
   "metadata": {
    "collapsed": false
   },
   "outputs": [],
   "source": [
    "x = \"To jest napis\"\n",
    "x[1]='N'"
   ]
  },
  {
   "cell_type": "markdown",
   "metadata": {},
   "source": [
    "Możemy jednak nadać zmiennej typu łańcuchowy nową wartość. Wówczas tworzymy nową zmienną o tej samej nazwie ale o innej wartości, starą usuwając. Na przykład:"
   ]
  },
  {
   "cell_type": "code",
   "execution_count": null,
   "metadata": {
    "collapsed": false
   },
   "outputs": [],
   "source": [
    "x = \"To jest napis\"\n",
    "print(x)\n",
    "x = x+\"!\"\n",
    "print(x)\n",
    "x = \"NAPIS\"\n",
    "print(x)"
   ]
  },
  {
   "cell_type": "markdown",
   "metadata": {},
   "source": [
    "# Wybrane operacje na napisach\n",
    "* łączenie napisów:"
   ]
  },
  {
   "cell_type": "code",
   "execution_count": null,
   "metadata": {
    "collapsed": false
   },
   "outputs": [],
   "source": [
    "print(\"Tak\" + \" - \" + \"nie\")\n",
    "print(\" - \".join([\"Tak\", \"nie\"]))"
   ]
  },
  {
   "cell_type": "markdown",
   "metadata": {},
   "source": [
    "* zmiana pierwszej litery na dużą"
   ]
  },
  {
   "cell_type": "code",
   "execution_count": null,
   "metadata": {
    "collapsed": false
   },
   "outputs": [],
   "source": [
    "x = \"napis\"\n",
    "print(x.capitalize())"
   ]
  },
  {
   "cell_type": "markdown",
   "metadata": {},
   "source": [
    "* wyśrodkowanie napisu w polu o podanej długości"
   ]
  },
  {
   "cell_type": "code",
   "execution_count": null,
   "metadata": {
    "collapsed": false
   },
   "outputs": [],
   "source": [
    "x = \"napis\"\n",
    "print(x.center(30))"
   ]
  },
  {
   "cell_type": "markdown",
   "metadata": {},
   "source": [
    "* zliczanie wystąpień danego podciągu w łańcuchu"
   ]
  },
  {
   "cell_type": "code",
   "execution_count": null,
   "metadata": {
    "collapsed": false
   },
   "outputs": [],
   "source": [
    "x = \"Ala ma kota, a Tom ma psa\"\n",
    "print(x.count(\"ma\")) "
   ]
  },
  {
   "cell_type": "markdown",
   "metadata": {},
   "source": [
    "* sprawdzanie czy wszystkie znaki są znakami alfanumerycznymi"
   ]
  },
  {
   "cell_type": "code",
   "execution_count": null,
   "metadata": {
    "collapsed": false
   },
   "outputs": [],
   "source": [
    "x = \"haguda7383dj9dm\"\n",
    "print(x.isalnum())\n",
    "\n",
    "y = \"hie7e&n.xd3\"\n",
    "print(y.isalnum())"
   ]
  },
  {
   "cell_type": "markdown",
   "metadata": {},
   "source": [
    "* sprawdzanie czy wszystkie znaki są cyframi"
   ]
  },
  {
   "cell_type": "code",
   "execution_count": null,
   "metadata": {
    "collapsed": false
   },
   "outputs": [],
   "source": [
    "x = \"1234\"\n",
    "print(x.isdigit())\n",
    "\n",
    "x = \"12s4\"\n",
    "print(x.isdigit())"
   ]
  },
  {
   "cell_type": "markdown",
   "metadata": {},
   "source": [
    "* sprawdzanie czy wszystkie litery są małe"
   ]
  },
  {
   "cell_type": "code",
   "execution_count": null,
   "metadata": {
    "collapsed": false
   },
   "outputs": [],
   "source": [
    "x = \"171b28d82hd39\"\n",
    "print(x.islower())\n",
    "\n",
    "x = \"d82Hd39\"\n",
    "print(x.islower()) "
   ]
  },
  {
   "cell_type": "markdown",
   "metadata": {},
   "source": [
    "* sprawdzanie czy wszystkie litery są duże"
   ]
  },
  {
   "cell_type": "code",
   "execution_count": null,
   "metadata": {
    "collapsed": false
   },
   "outputs": [],
   "source": [
    "x = \"JOSCDJ83D\"\n",
    "print(x.isupper())\n",
    "\n",
    "x = \"JOSCDJ83d\"\n",
    "print(x.isupper())"
   ]
  },
  {
   "cell_type": "markdown",
   "metadata": {},
   "source": [
    "* sprawdzanie czy wszystkie znaki są białymi znakami"
   ]
  },
  {
   "cell_type": "code",
   "execution_count": null,
   "metadata": {
    "collapsed": false
   },
   "outputs": [],
   "source": [
    "x = \" \\t \\n\"      # \\t - znak tabulatora, \\n - znak nowego wiersza\n",
    "print(x.isspace())\n",
    "\n",
    "x = \" skdl tak\\t\"\n",
    "print(x.isspace())"
   ]
  },
  {
   "cell_type": "markdown",
   "metadata": {},
   "source": [
    "* usuwanie początkowych, końcowych białych znaków"
   ]
  },
  {
   "cell_type": "code",
   "execution_count": null,
   "metadata": {
    "collapsed": false
   },
   "outputs": [],
   "source": [
    "x = \"  tak  \"\n",
    "print(x.lstrip()) # początkowe\n",
    "print(x.rstrip()) # końcowe\n",
    "print(x.strip()) #początkowe i końcowe"
   ]
  },
  {
   "cell_type": "markdown",
   "metadata": {},
   "source": [
    "* zastępowanie starego podciągu nowym"
   ]
  },
  {
   "cell_type": "code",
   "execution_count": null,
   "metadata": {
    "collapsed": false
   },
   "outputs": [],
   "source": [
    "x = \"Ala ma kota\"\n",
    "print(x.replace(\"ma\", \"nie ma\"))"
   ]
  },
  {
   "cell_type": "markdown",
   "metadata": {},
   "source": [
    "* dzielenie łańcucha używając podanego separatora"
   ]
  },
  {
   "cell_type": "code",
   "execution_count": null,
   "metadata": {
    "collapsed": false
   },
   "outputs": [],
   "source": [
    "x = \"1,2,3,4,5,6\"\n",
    "print(x.split(','))"
   ]
  },
  {
   "cell_type": "markdown",
   "metadata": {},
   "source": [
    "# Zad. \n",
    "\n",
    "Napisz funkcję zamieniającą napis na pisany wielkimi literami. Na przykład słowo **Napis** na **NAPIS**."
   ]
  },
  {
   "cell_type": "code",
   "execution_count": null,
   "metadata": {
    "collapsed": false
   },
   "outputs": [],
   "source": []
  },
  {
   "cell_type": "markdown",
   "metadata": {},
   "source": [
    "# Zad\n",
    "\n",
    "Napisz funkcję, która zwraca liczbę słów w podanym łańcuchu. Przez słowo rozumiemy dowolny ciąg znaków nie zawierający białego znaku."
   ]
  },
  {
   "cell_type": "code",
   "execution_count": null,
   "metadata": {
    "collapsed": true
   },
   "outputs": [],
   "source": []
  },
  {
   "cell_type": "markdown",
   "metadata": {},
   "source": [
    "# Zad. \n",
    "\n",
    "Dane jest pewna permutacja liter alfabetu angielskiego w postaci tablicy, na przykład:\n",
    "\n",
    "```python\n",
    "zyxwvutsrqponmlkjihgfedcba\n",
    "```\n",
    "\n",
    "Jest to klucz szyfru podstawieniowego, polegającego na zamianie liter. Napisz dwie funkcje:\n",
    "\n",
    "```python\n",
    "def szyfruj(co, klucz);\n",
    "def rozszyfruj(co, klucz);\n",
    "```\n",
    "\n",
    "które będą realizowały szyfrowanie i rozszyfrowywanie kluczem podstawieniowym. Na przykład\n",
    "\n",
    "```python\n",
    "napis = \"ala ma kota\"\n",
    "szyfruj(napis,\"zyxwvutsrqponmlkjihgfedcba\")\n",
    "// na wyjsciu: zoz nz plgz\n",
    "```"
   ]
  },
  {
   "cell_type": "code",
   "execution_count": null,
   "metadata": {
    "collapsed": true
   },
   "outputs": [],
   "source": []
  },
  {
   "cell_type": "markdown",
   "metadata": {},
   "source": [
    "# 2. Listy\n",
    "Do zapamiętywania sekwencji danych nie będącymi znakami (np. liczby) służy typ sekwencyjny - **lista**. Elementy list mogą być dowolnego typu, to znaczy mogą zawierać zarówno liczby jak i napisy."
   ]
  },
  {
   "cell_type": "code",
   "execution_count": null,
   "metadata": {
    "collapsed": false
   },
   "outputs": [],
   "source": [
    "x = [1, 2, 3]\n",
    "y = [1, 'tak', 5]\n",
    "\n",
    "print(x)\n",
    "print(y)"
   ]
  },
  {
   "cell_type": "markdown",
   "metadata": {},
   "source": [
    "Aby uzyskać dostęp do wartości znajdującej się na określonej pozycji podajemy jej indeks (numer porządkowy liczony od lewej, zero oznacza pierwszą wartość listy) w nawiasach kwadratowych bezpośrednio po nazwie listy. Dzięki czemu można odczytywać wybiórczo zawartość poszczególnych elementów listy lub ich ciągów:"
   ]
  },
  {
   "cell_type": "code",
   "execution_count": null,
   "metadata": {
    "collapsed": false
   },
   "outputs": [],
   "source": [
    "x = range(10)\n",
    "print(x[0])\n",
    "print(x[1])\n",
    "\n",
    "print(x[-1])\n",
    "print(x[-2])\n",
    "\n",
    "print(x[3:])\n",
    "print(x[0::2]) # co drugi element listy\n",
    "print(x[1:9:3])"
   ]
  },
  {
   "cell_type": "markdown",
   "metadata": {},
   "source": [
    "Możemy też powielać listy:"
   ]
  },
  {
   "cell_type": "code",
   "execution_count": null,
   "metadata": {
    "collapsed": false
   },
   "outputs": [],
   "source": [
    "print([0] * 4)\n",
    "print([1,2,3] * 3)"
   ]
  },
  {
   "cell_type": "markdown",
   "metadata": {},
   "source": [
    "# Porównywanie list\n",
    "\n",
    "Porównywanie list odbywa się na zasadzie porównywania poszczególnych elementów:\n",
    "\n",
    "* jeżeli elementy obu list są sobie równe, listy są równe\n",
    "* jeżeli listy różnią się choć jednym elementem, to są nierówne\n",
    "* jeżeli pierwszy element pierwszej listy jest większy od pierwszego elementu drugiej listy, to pierwsza lista jest większa od drugiej\n",
    "* jeżeli pierwszy element pierwszej listy jest taki sam jak pierwszy element drugiej listy, decyduje porównanie drugich elementów, itd.\n",
    "* element nieistniejący jest zawsze mniejszy od każdego innego elementu"
   ]
  },
  {
   "cell_type": "code",
   "execution_count": null,
   "metadata": {
    "collapsed": false
   },
   "outputs": [],
   "source": [
    "x = [1, 2, 3, 4, 5]\n",
    "print(x)\n",
    "\n",
    "print(x == [1, 2, 4, 4])\n",
    "print(x != [1, 2, 3, 4])\n",
    "print(x > [0, 2, 3, 4])\n",
    "print(x > [1, 2, 2, 5])\n",
    "print(x < [1, 2, 4, 4, 5])"
   ]
  },
  {
   "cell_type": "markdown",
   "metadata": {},
   "source": [
    "# Sprawdzanie zawartości list\n",
    "\n",
    "Aby sprawdzić, czy określona wartość znajduje się w liście, używamy operatora **in**:"
   ]
  },
  {
   "cell_type": "code",
   "execution_count": null,
   "metadata": {
    "collapsed": false
   },
   "outputs": [],
   "source": [
    "x = [1, 2, 3, 4]\n",
    "\n",
    "print(2 in x)\n",
    "print(3 not in x)\n",
    "print(5 not in x)"
   ]
  },
  {
   "cell_type": "markdown",
   "metadata": {},
   "source": [
    "# Listy wielopoziomowe\n",
    "Listy mogą zawierać inne listy:"
   ]
  },
  {
   "cell_type": "code",
   "execution_count": null,
   "metadata": {
    "collapsed": false
   },
   "outputs": [],
   "source": [
    "x = [range(5), [8, -7, -1]]\n",
    "\n",
    "print(x)\n",
    "print(x[0])\n",
    "print(x[1])\n",
    "print(x[1][1])"
   ]
  },
  {
   "cell_type": "markdown",
   "metadata": {},
   "source": [
    "# Listy jako tym zmienny\n",
    "W przeciwieństwie do typów łańcuchowych, lista jest typem zmiennym."
   ]
  },
  {
   "cell_type": "code",
   "execution_count": null,
   "metadata": {
    "collapsed": false
   },
   "outputs": [],
   "source": [
    "x = [1, 2, 3, 4]\n",
    "print(x)\n",
    "x[0] = 5\n",
    "print(x)"
   ]
  },
  {
   "cell_type": "markdown",
   "metadata": {},
   "source": [
    "# UWAGA !\n",
    "W Pythonie wszystkie sekwencje zmienne nie odnoszą się do określonych danych, ale do miejsca w pamięci, w którym te dane się znajdują. W związku z tym przypisanie listy do listy nie kopiuje wartości, a jedynie wskaźnik do nich:"
   ]
  },
  {
   "cell_type": "code",
   "execution_count": null,
   "metadata": {
    "collapsed": false
   },
   "outputs": [],
   "source": [
    "x = [1, 2, 3, 4]\n",
    "y = x\n",
    "print(x)\n",
    "x[0] = -5\n",
    "print(y)\n",
    "y[3] = 0\n",
    "print(x)"
   ]
  },
  {
   "cell_type": "markdown",
   "metadata": {},
   "source": [
    "Aby uniknąć powyższej sytuacji należy skopiować zawartość wszystkich elementów listy:"
   ]
  },
  {
   "cell_type": "code",
   "execution_count": null,
   "metadata": {
    "collapsed": false
   },
   "outputs": [],
   "source": [
    "from copy import copy\n",
    "x = [1, 2, 3, 4]\n",
    "y = copy(x)\n",
    "print(x)\n",
    "x[0] = -5\n",
    "print(y)\n",
    "y[3] = 0\n",
    "print(x)\n",
    "print(y, \"\\n\")\n",
    "\n",
    "# lub\n",
    "\n",
    "x = [1, 2, 3, 4]\n",
    "y = x[:]\n",
    "print(x)\n",
    "x[0] = -5\n",
    "print(y)\n",
    "y[3] = 0\n",
    "print(x)\n",
    "print(y)\n",
    "\n",
    "# lub\n",
    "print()\n",
    "\n",
    "x = [1, 2, 3, 4]\n",
    "y = list(x)\n",
    "print(x)\n",
    "x[0] = -5\n",
    "print(y)\n",
    "y[3] = 0\n",
    "print(x)\n",
    "print(y)"
   ]
  },
  {
   "cell_type": "markdown",
   "metadata": {},
   "source": [
    "W przypadku zmiennych liczbowych przypisywanie wartości jednej zmiennej do drugiej jest naturalne, tzn. referencja jest usuwana w chwili zmiany wartości dowolnej z tych zmiennych:"
   ]
  },
  {
   "cell_type": "code",
   "execution_count": null,
   "metadata": {
    "collapsed": false
   },
   "outputs": [],
   "source": [
    "x = 3\n",
    "y = x\n",
    "print(y)\n",
    "x = 5\n",
    "print(y)\n",
    "print(x)"
   ]
  },
  {
   "cell_type": "markdown",
   "metadata": {},
   "source": [
    "# Wybrane operacje na listach\n",
    "\n",
    "* konwertowanie sekwencji na listę"
   ]
  },
  {
   "cell_type": "code",
   "execution_count": null,
   "metadata": {
    "collapsed": false
   },
   "outputs": [],
   "source": [
    "x = (1, 4)\n",
    "y = list(x)\n",
    "print(type(x))\n",
    "print(type(y))"
   ]
  },
  {
   "cell_type": "markdown",
   "metadata": {},
   "source": [
    "* dodawanie elementu na podaną pozycję listy"
   ]
  },
  {
   "cell_type": "code",
   "execution_count": null,
   "metadata": {
    "collapsed": false
   },
   "outputs": [],
   "source": [
    "x = [1, 2, 3]\n",
    "x.insert(1, 5)\n",
    "print(x)"
   ]
  },
  {
   "cell_type": "markdown",
   "metadata": {},
   "source": [
    "* dodawanie nowego elementu na koniec listy"
   ]
  },
  {
   "cell_type": "code",
   "execution_count": null,
   "metadata": {
    "collapsed": false
   },
   "outputs": [],
   "source": [
    "x = [1, 2, 3]\n",
    "print(x)\n",
    "x.append(4) # równoważnie x.insert(len(x),4)\n",
    "print(x)"
   ]
  },
  {
   "cell_type": "markdown",
   "metadata": {},
   "source": [
    "* przedłużenie listy (dodaje elementów ,,nowej'' listy na końcu ,,starej'')"
   ]
  },
  {
   "cell_type": "code",
   "execution_count": null,
   "metadata": {
    "collapsed": false
   },
   "outputs": [],
   "source": [
    "x = [1, 2, 3]\n",
    "print(x)\n",
    "x.extend([3, 5, -1])\n",
    "print(x)"
   ]
  },
  {
   "cell_type": "markdown",
   "metadata": {},
   "source": [
    "* zliczanie wystąpień elementów w liście"
   ]
  },
  {
   "cell_type": "code",
   "execution_count": null,
   "metadata": {
    "collapsed": false
   },
   "outputs": [],
   "source": [
    "x = [1, 2, 3, -4, 1, 2, 6, 8, 2, 1]\n",
    "print(x.count(1))\n",
    "\n",
    "y = [[1, 2], \"tak\", 1, 2, \"tak\", [1, 2]]\n",
    "print(y.count([1, 2]))\n",
    "print(y.count(\"tak\"))\n",
    "print(y.count(1))"
   ]
  },
  {
   "cell_type": "markdown",
   "metadata": {},
   "source": [
    "* szukanie indeksu elementu w liście"
   ]
  },
  {
   "cell_type": "code",
   "execution_count": null,
   "metadata": {
    "collapsed": false
   },
   "outputs": [],
   "source": [
    "x = [1, 2, 3, 4, 1, 2]\n",
    "print(x.index(2)) # zwraca najmniejszy indeks i, gdzie s[i] == x\n",
    "print(x.index(5))"
   ]
  },
  {
   "cell_type": "markdown",
   "metadata": {},
   "source": [
    "* usuwanie elementu z listy"
   ]
  },
  {
   "cell_type": "code",
   "execution_count": null,
   "metadata": {
    "collapsed": false
   },
   "outputs": [],
   "source": [
    "x = [1, 2, 3, 4, 1, 2]\n",
    "print(x)\n",
    "print(x.pop(3)) # zwraca i-ty element i usuwa go z listy. \n",
    "                 # Jeżeli nie podamy parametru to usunięty zostanie ostatni element\n",
    "print(x)"
   ]
  },
  {
   "cell_type": "code",
   "execution_count": null,
   "metadata": {
    "collapsed": false
   },
   "outputs": [],
   "source": [
    "x = [1, 2, 3, 4, 1, 2]\n",
    "print(x)\n",
    "x.remove(2) # odnajduje element o wartości 2 i usuwa go z listy\n",
    "print(x)"
   ]
  },
  {
   "cell_type": "code",
   "execution_count": null,
   "metadata": {
    "collapsed": false
   },
   "outputs": [],
   "source": [
    "x = [1, 2, 3, 4, 1, 2]\n",
    "print(x)\n",
    "del x[2]\n",
    "print(x)\n",
    "del x[3:]\n",
    "print(x)\n",
    "del x\n",
    "print(x)"
   ]
  },
  {
   "cell_type": "markdown",
   "metadata": {},
   "source": [
    "* odwracanie kolejności elementów w liście"
   ]
  },
  {
   "cell_type": "code",
   "execution_count": null,
   "metadata": {
    "collapsed": false
   },
   "outputs": [],
   "source": [
    "x = [1, 2, 3, 4, 5, 6]\n",
    "print(x)\n",
    "x.reverse()\n",
    "print(x)"
   ]
  },
  {
   "cell_type": "markdown",
   "metadata": {},
   "source": [
    "* sortowanie listy"
   ]
  },
  {
   "cell_type": "code",
   "execution_count": null,
   "metadata": {
    "collapsed": false
   },
   "outputs": [],
   "source": [
    "x = [1, -2, 0, 1, 4, -6, 3]\n",
    "print(x)\n",
    "x.sort() # Sortuje w miejscu elementy\n",
    "print(x)\n",
    "x.sort(reverse=True)\n",
    "print(x)\n",
    "\n",
    "print()\n",
    "x = [1, -2, 0, 1, 4, -6, 3]\n",
    "print(sorted(x)) # Sortowanie przez tworzenie nowej listy\n",
    "print(sorted(x, reverse=True))\n",
    "print(x)"
   ]
  },
  {
   "cell_type": "markdown",
   "metadata": {},
   "source": [
    "# Wytworniki list (ang. list comprehensions)\n",
    "Wytworniki dostępne są w pięciu postaciach:\n",
    "\n",
    "* prostej:"
   ]
  },
  {
   "cell_type": "code",
   "execution_count": null,
   "metadata": {
    "collapsed": false
   },
   "outputs": [],
   "source": [
    "x = range(10)\n",
    "print(x)\n",
    "print([i*2 for i in x])\n",
    "\n",
    "# to samo można zapisać:\n",
    "x = []\n",
    "for i in range(10):\n",
    "    x.append(i*2)\n",
    "\n",
    "print(x)"
   ]
  },
  {
   "cell_type": "markdown",
   "metadata": {},
   "source": [
    "* prostej warunkowej (pozwala umieszczać na liście tylko takie elementy, które spełniają pewien warunek):"
   ]
  },
  {
   "cell_type": "code",
   "execution_count": null,
   "metadata": {
    "collapsed": false
   },
   "outputs": [],
   "source": [
    "x = range(10)\n",
    "print([i for i in x if i % 2 == 0])"
   ]
  },
  {
   "cell_type": "markdown",
   "metadata": {},
   "source": [
    "* rozszerzonej (pozwala tworzyć nową listę w oparciu o więcej niż jedną istniejącą listę):"
   ]
  },
  {
   "cell_type": "code",
   "execution_count": null,
   "metadata": {
    "collapsed": false
   },
   "outputs": [],
   "source": [
    "x = [1, 3, 5]\n",
    "y = [2, 4, 6]\n",
    "print([(i, j) for i in x for j in y])"
   ]
  },
  {
   "cell_type": "markdown",
   "metadata": {},
   "source": [
    "* rozszerzonej z jednym warunkiem (pozwala na określenie pojedynczego warunku, który muszą spełniać dane kwalifikujące się na listę wynikową):"
   ]
  },
  {
   "cell_type": "code",
   "execution_count": null,
   "metadata": {
    "collapsed": false
   },
   "outputs": [],
   "source": [
    "x = range(10)\n",
    "y = x\n",
    "print([(i, j) for i in x for j in y if i % 2 and not j % 2])"
   ]
  },
  {
   "cell_type": "markdown",
   "metadata": {},
   "source": [
    "* rozszerzonej z wieloma warunkami (pozwala na określenie warunków, które muszą spełniać dane pobierane z poszczególnych list źródłowych):"
   ]
  },
  {
   "cell_type": "code",
   "execution_count": null,
   "metadata": {
    "collapsed": false
   },
   "outputs": [],
   "source": [
    "x = range(10)\n",
    "y = x\n",
    "print([(i, j) for i in x if i % 2 for j in y if not j % 2])\n",
    "\n",
    "print()\n",
    "y = []\n",
    "for i in x:\n",
    "    if i % 2:\n",
    "        for j in x:\n",
    "            if not j % 2:\n",
    "                y.append((i,j))\n",
    "                \n",
    "print(y)"
   ]
  },
  {
   "cell_type": "markdown",
   "metadata": {},
   "source": [
    "# Zad.\n",
    "\n",
    "Wczytaj od użytkownika listę wyrazów, a następnie wyświetl je posortowane alfabetycznie. "
   ]
  },
  {
   "cell_type": "code",
   "execution_count": null,
   "metadata": {
    "collapsed": false
   },
   "outputs": [],
   "source": []
  },
  {
   "cell_type": "markdown",
   "metadata": {},
   "source": [
    "# Zad.\n",
    "\n",
    "Napisz program, który policzy wystąpienia wyrazu ,,Ojczyzno'' w poniższym tekście<br /><br />\n",
    "\n",
    "<tt>\n",
    "Litwo, Ojczyzno moja! ty jesteś jak zdrowie;\n",
    "Ile cię trzeba cenić, ten tylko się dowie,\n",
    "Kto cię stracił. Dziś piękność twą w całej ozdobie\n",
    "Widzę i opisuję, bo tęsknię po tobie.\n",
    "Panno święta, co Jasnej bronisz Częstochowy\n",
    "I w Ostrej świecisz Bramie! Ty, co gród zamkowy\n",
    "Nowogródzki ochraniasz z jego wiernym ludem!\n",
    "Jak mnie dziecko do zdrowia powróciłaś cudem\n",
    "(— Gdy od płaczącej matki, pod Twoją opiekę\n",
    "Ofiarowany martwą podniosłem powiekę;\n",
    "I zaraz mogłem pieszo, do Twych świątyń progu\n",
    "Iść za wrócone życie podziękować Bogu —)\n",
    "Tak nas powrócisz cudem na Ojczyzny łono!...\n",
    "Tymczasem, przenoś moją duszę utęsknioną\n",
    "Do tych pagórków leśnych, do tych łąk zielonych,\n",
    "Szeroko nad błękitnym Niemnem rozciągnionych;\n",
    "Do tych pól malowanych zbożem rozmaitem,\n",
    "Wyzłacanych pszenicą, posrebrzanych żytem;\n",
    "Gdzie bursztynowy świerzop, gryka jak śnieg biała,\n",
    "Gdzie panieńskim rumieńcem dzięcielina pała,\n",
    "A wszystko przepasane jakby wstęgą, miedzą\n",
    "Zieloną, na niej zrzadka ciche grusze siedzą.\n",
    "</tt>"
   ]
  },
  {
   "cell_type": "code",
   "execution_count": null,
   "metadata": {
    "collapsed": false
   },
   "outputs": [],
   "source": []
  },
  {
   "cell_type": "markdown",
   "metadata": {},
   "source": [
    "# Zad. \n",
    "\n",
    "Napisz jednoargumentową funkcję zaprzyjaznione(n), która zwraca listę par liczb zaprzyjaźnionych (zobacz: https://pl.wikipedia.org/wiki/Liczby_zaprzyja%C5%BAnione nie większych niż n, na przykład\n",
    "```python\n",
    ">>> zaprzyjaznione(1300)\n",
    "[(220, 284), (1184, 1210)]\n",
    "```"
   ]
  },
  {
   "cell_type": "code",
   "execution_count": null,
   "metadata": {
    "collapsed": false
   },
   "outputs": [],
   "source": []
  },
  {
   "cell_type": "markdown",
   "metadata": {},
   "source": [
    "# Zad.\n",
    "\n",
    "Napisz funkcję, która zwraca liczbę dni pomiędzy dwoma datami (daty w postaci **rrrr-mm-dd**). "
   ]
  },
  {
   "cell_type": "code",
   "execution_count": null,
   "metadata": {
    "collapsed": false
   },
   "outputs": [],
   "source": []
  },
  {
   "cell_type": "markdown",
   "metadata": {},
   "source": [
    "# Zad.\n",
    "\n",
    "Napisz funkcję, która stworzy listę będącą sumą dwóch list x, y taką, że lista wyników będzie miała unikalne wartości z obu list, np\n",
    "```python\n",
    ">>> suma_list([1, 2, 3, 3, 4], [3, 4, 6, 0])\n",
    "[0, 1, 2, 3, 4, 6]\n",
    "```\n"
   ]
  },
  {
   "cell_type": "code",
   "execution_count": null,
   "metadata": {
    "collapsed": false
   },
   "outputs": [],
   "source": []
  },
  {
   "cell_type": "markdown",
   "metadata": {},
   "source": [
    "# 3. Krotki\n",
    "\n",
    "Krotki pod wieloma względami przypominają listy, w podobny sposób tworzymy je i sprawdzamy ich wartości. \n",
    "\n",
    "**W odróżnieniu od list, krotki są sekwencjami niezmiennymi.**"
   ]
  },
  {
   "cell_type": "code",
   "execution_count": null,
   "metadata": {
    "collapsed": false
   },
   "outputs": [],
   "source": [
    "x = (1, \"tak\", 4, 3+1j)\n",
    "print(x)\n",
    "\n",
    "x = (1, 2, 3)\n",
    "print(x)\n",
    "\n",
    "# Krotki można zagnieżdżać\n",
    "x = (1, (2, 3, 4))\n",
    "print(x)\n",
    "\n",
    "x[0] = 0"
   ]
  },
  {
   "cell_type": "markdown",
   "metadata": {},
   "source": [
    "## Modyfikacje krotki\n",
    "Krotki można powielać, skracać i wydłużać:"
   ]
  },
  {
   "cell_type": "code",
   "execution_count": null,
   "metadata": {
    "collapsed": false
   },
   "outputs": [],
   "source": [
    "x = (1, 2, 3, 4)\n",
    "print(x)\n",
    "\n",
    "x *= 3 # równoważnie x = x * 3\n",
    "print(x)\n",
    "\n",
    "x = x[:3]\n",
    "print(x)"
   ]
  },
  {
   "cell_type": "markdown",
   "metadata": {},
   "source": [
    "## Krotki jako typ niezmienny\n",
    "\n",
    "Krotki są sekwencjami niezmiennymi (jak pokazaliśmy powyżej), w związku z tym przypisanie krotki do krotki kopiuje faktyczne wartości, a nie jedynie wskaźnik do nich:"
   ]
  },
  {
   "cell_type": "code",
   "execution_count": null,
   "metadata": {
    "collapsed": false
   },
   "outputs": [],
   "source": [
    "x = (1, 2, 3)\n",
    "y = x\n",
    "print(y)\n",
    "x += (4,)\n",
    "print(x)\n",
    "print(y)"
   ]
  },
  {
   "cell_type": "markdown",
   "metadata": {},
   "source": [
    "## Operacje na krotkach\n",
    "\n",
    "Ze względu na niezmienniczość, krotki mają mniej metod niż listy:"
   ]
  },
  {
   "cell_type": "code",
   "execution_count": null,
   "metadata": {
    "collapsed": false
   },
   "outputs": [],
   "source": [
    "x = (1, 2, 3, 3)\n",
    "print(x.index(3))\n",
    "print(2 in x)\n",
    "print(x + (4, 5))\n",
    "print(x.count(3))\n",
    "print(len(x))"
   ]
  },
  {
   "cell_type": "markdown",
   "metadata": {},
   "source": [
    "## Pakowanie i rozpakowywanie krotek"
   ]
  },
  {
   "cell_type": "code",
   "execution_count": null,
   "metadata": {
    "collapsed": false
   },
   "outputs": [],
   "source": [
    "x = 1, 2, \"tak\", 3+1j # pakowanie krotki\n",
    "print(x)\n",
    "print(type(x))\n",
    "print()\n",
    "\n",
    "a, b, c, d = x # rozpakowanie krotki\n",
    "print(a)\n",
    "print(type(a))\n",
    "print(b)\n",
    "print(c)\n",
    "print(d)"
   ]
  },
  {
   "cell_type": "markdown",
   "metadata": {},
   "source": [
    "Rozpakowywanie krotki wymaga, aby liczba zmiennych stojących po lewej stronie miała tyle samo elementów, ile elementów ma krotka."
   ]
  },
  {
   "cell_type": "markdown",
   "metadata": {},
   "source": [
    "## Zamiana zmiennych\n",
    "W języku Python zamianę zmiennych możemy wykonać przy użyciu idiomu:"
   ]
  },
  {
   "cell_type": "code",
   "execution_count": null,
   "metadata": {
    "collapsed": false
   },
   "outputs": [],
   "source": [
    "x = 3\n",
    "y = 5\n",
    "y, x = x, y\n",
    "print(x)\n",
    "print(y)"
   ]
  },
  {
   "cell_type": "markdown",
   "metadata": {},
   "source": [
    "W innych językach, np. C/C++ musielibyśmy napisać:\n",
    "\n",
    "temp = x<br />\n",
    "    x = y<br />\n",
    "    y = temp<br />"
   ]
  },
  {
   "cell_type": "markdown",
   "metadata": {},
   "source": [
    "# Konwersja typów sekwencyjnych\n",
    "W konwersji typów sekwencyjnych używamy następujących instrukcji:\n",
    "\n",
    "* **list** zamienia typ sekwencyjny na listę:"
   ]
  },
  {
   "cell_type": "code",
   "execution_count": null,
   "metadata": {
    "collapsed": false
   },
   "outputs": [],
   "source": [
    "x = (1, 2, 3)\n",
    "print(type(x), \"\\t\", x)\n",
    "y = list(x)\n",
    "print(type(y), \"\\t\", y)\n",
    "\n",
    "x = \"abcd\"\n",
    "print(type(x), \"\\t\", x)\n",
    "y = list(x)\n",
    "print(type(y), \"\\t\", y)"
   ]
  },
  {
   "cell_type": "markdown",
   "metadata": {},
   "source": [
    "* **tuple** zamienia typ sekwencyjny na krotkę:"
   ]
  },
  {
   "cell_type": "code",
   "execution_count": null,
   "metadata": {
    "collapsed": false
   },
   "outputs": [],
   "source": [
    "x = [1, 2, 3]\n",
    "print(type(x), \"\\t\", x)\n",
    "y = tuple(x)\n",
    "print(type(y), \"\\t\", y)\n",
    "\n",
    "x = \"abcd\"\n",
    "print(type(x), \"\\t\", x)\n",
    "y = tuple(x)\n",
    "print(type(y), \"\\t\", y)"
   ]
  },
  {
   "cell_type": "markdown",
   "metadata": {},
   "source": [
    "* **str** zamienia typ sekwencyjny na napis:"
   ]
  },
  {
   "cell_type": "code",
   "execution_count": null,
   "metadata": {
    "collapsed": false
   },
   "outputs": [],
   "source": [
    "x = [1, 2, 3]\n",
    "print(type(x), \"\\t\", x)\n",
    "y = str(x)\n",
    "print(type(y), \"\\t\", y)\n",
    "\n",
    "x = ('a', 'b', 'c', 'd')\n",
    "print(type(x), \"\\t\", x)\n",
    "y = str(x)\n",
    "print(type(y), \"\\t\", y)"
   ]
  },
  {
   "cell_type": "markdown",
   "metadata": {},
   "source": [
    "# Zad.\n",
    "\n",
    "Napisz funkcję, która zamienia liczę naturalną (w zakresie 0-999999) na napis, na przykład\n",
    "\n",
    "```python\n",
    "cout << konwertuj(123456);\n",
    "// na wyjsciu: sto dwadzieścia trzy tysiące czterysta pięćdziesiąt sześć\n",
    "```"
   ]
  },
  {
   "cell_type": "code",
   "execution_count": null,
   "metadata": {
    "collapsed": true
   },
   "outputs": [],
   "source": []
  }
 ],
 "metadata": {
  "kernelspec": {
   "display_name": "Python 3",
   "language": "python",
   "name": "python3"
  },
  "language_info": {
   "codemirror_mode": {
    "name": "ipython",
    "version": 3
   },
   "file_extension": ".py",
   "mimetype": "text/x-python",
   "name": "python",
   "nbconvert_exporter": "python",
   "pygments_lexer": "ipython3",
   "version": "3.6.0"
  }
 },
 "nbformat": 4,
 "nbformat_minor": 2
}
