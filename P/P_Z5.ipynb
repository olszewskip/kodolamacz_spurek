{
 "cells": [
  {
   "cell_type": "markdown",
   "metadata": {},
   "source": [
    "# 1. Elementy programowania funkcjonalnego w Pythonie\n",
    "\n",
    "Dodatkową cechą Pythona jest dostępność składni funkcyjnej. Udostępnia on kilka rozwiązań przejętych z języków programowania funkcyjnego takich jak np.: *Scheme*, *Standard ML*, opartych na paradygmacie funkcjonalnym, w których za program uważa się wyrażenie matematyczne, operujące na pewnych parametrach i zwracające pewien rezultat. Te rozwiązania to:\n",
    "\n",
    "* wytworniki list,\n",
    "* forma lambda,\n",
    "* funkcja map(),\n",
    "* funkcja zip(),\n",
    "* funkcja filter(),\n",
    "* funkcja reduce().\n",
    "\n",
    "## Wyrażenia lambda\n",
    "\n",
    "Forma lambda służy do tworzenia małych, anonimowych funkcji. Jej składnia jest następująca:<br /><br />\n",
    "\n",
    "<tt>lambda parametry: wyrażenie</tt>\n",
    "\n",
    "Przykłady:"
   ]
  },
  {
   "cell_type": "code",
   "execution_count": null,
   "metadata": {
    "collapsed": false
   },
   "outputs": [],
   "source": [
    "x = lambda : 'x'\n",
    "print(x())\n",
    "\n",
    "y = lambda x: x + 1\n",
    "print(y(4))\n",
    "\n",
    "suma = lambda x,y : x+y\n",
    "print(suma(1,2))"
   ]
  },
  {
   "cell_type": "markdown",
   "metadata": {},
   "source": [
    "Zaletą formy lambda jest to, że możemy ją wstawić wszędzie tam, gdzie da się wstawić inne wyrażenie, np. do listy:"
   ]
  },
  {
   "cell_type": "code",
   "execution_count": null,
   "metadata": {
    "collapsed": false
   },
   "outputs": [],
   "source": [
    "z=[lambda x,y: x+y, lambda x,y: x-y]\n",
    "print(z[0](2, 4))\n",
    "print(z[1](2, 4))"
   ]
  },
  {
   "cell_type": "markdown",
   "metadata": {},
   "source": [
    "jako element dłuższego wyrażenia:"
   ]
  },
  {
   "cell_type": "code",
   "execution_count": null,
   "metadata": {
    "collapsed": false
   },
   "outputs": [],
   "source": [
    "print(\"%.2f\" % (lambda x,y: x**y)(4,0.5))"
   ]
  },
  {
   "cell_type": "markdown",
   "metadata": {},
   "source": [
    "albo jako parametr będący funkcją:"
   ]
  },
  {
   "cell_type": "code",
   "execution_count": null,
   "metadata": {
    "collapsed": false
   },
   "outputs": [],
   "source": [
    "x = \"1 5 3 11\".split()\n",
    "print(x, \"\\n\")\n",
    "\n",
    "x.sort() # sortowanie wg alfabetu\n",
    "print(x, \"\\n\")\n",
    "\n",
    "# równoważnie\n",
    "x = \"1 5 3 11\".split()\n",
    "x.sort(key=int)\n",
    "print(x)"
   ]
  },
  {
   "cell_type": "markdown",
   "metadata": {},
   "source": [
    "Wadą formy lambda jest brak możliwości wykorzystania w niej instrukcji nie będących wyrażeniami, np. print, if, for, while, itp. Jakkolwiek forma lambda bywa wygodna, nie należy jej nadużywać, bo prowadzi to do nieprzejrzystego kodu źródłowego."
   ]
  },
  {
   "cell_type": "markdown",
   "metadata": {},
   "source": [
    "# Zad. \n",
    "Napisz program, który będzie sortował dane względem:\n",
    "\n",
    "* nazwiska,\n",
    "* wieku,\n",
    "* wzrostu.\n",
    "\n",
    "Dane przechowujemy jako listę krotek, np.:\n",
    "[('John', '20', '90'), ('Jony', '17', '91'), ('Jony', '17', '93'), ('Json', '21', '85'), ('Tom', '19', '80')]. \n",
    "\n",
    "Możesz **użyć tylko raz sort** i funkcji lambda. "
   ]
  },
  {
   "cell_type": "code",
   "execution_count": null,
   "metadata": {
    "collapsed": false
   },
   "outputs": [],
   "source": []
  },
  {
   "cell_type": "markdown",
   "metadata": {},
   "source": [
    "## Funkcja map()\n",
    "Funkcja map() ma dwa parametry: funkcję i sekwencję. Pozwala wywołać określoną funkcję dla każdego elementu sekwencji z osobna. Zwraca listę rezultatów funkcji, o takiej samej długości jak listy parametrów, np.:"
   ]
  },
  {
   "cell_type": "code",
   "execution_count": null,
   "metadata": {
    "collapsed": false
   },
   "outputs": [],
   "source": [
    "print(map(int, [0.7, 1.3, 3.7]))\n",
    "\n",
    "for el in map(lambda x: x*x, range(1,11)):\n",
    "    print(el)\n",
    "print()\n",
    "    \n",
    "kwadrat=lambda x: x*x\n",
    "for el in map(kwadrat, map(int, [0.7, 1.3, 3.7])):\n",
    "    print(el)\n",
    "print()\n",
    "\n"
   ]
  },
  {
   "cell_type": "code",
   "execution_count": null,
   "metadata": {
    "collapsed": false
   },
   "outputs": [],
   "source": [
    "for el in map(kwadrat, [0.7, 1.3, 3.7]):\n",
    "        print(el)\n",
    "print()\n",
    "\n",
    "for el in map(int, map(kwadrat, [0.7, 1.3, 3.7])):\n",
    "    print(el)\n",
    "print()"
   ]
  },
  {
   "cell_type": "code",
   "execution_count": null,
   "metadata": {
    "collapsed": false
   },
   "outputs": [],
   "source": [
    "L = [-2, -1, 0, 1, 2]\n",
    "for el in map(abs, L): \n",
    "    print(el)\n",
    "print()\n",
    "\n",
    "print([abs(x) for x in L])"
   ]
  },
  {
   "cell_type": "markdown",
   "metadata": {},
   "source": [
    "Jeżeli przekażemy do funkcji map kilka sekwencji, z pierwszej pobierany będzie pierwszy parametr funkcji, z drugiej - drugi, itd.:"
   ]
  },
  {
   "cell_type": "code",
   "execution_count": null,
   "metadata": {
    "collapsed": false
   },
   "outputs": [],
   "source": [
    "avg = lambda x,y: (x+y)*0.5\n",
    "for el in map(avg, [1, 5, 100], [2, 10, 100]):\n",
    "    print(el)\n",
    "print()    "
   ]
  },
  {
   "cell_type": "markdown",
   "metadata": {},
   "source": [
    "## Funkcja zip()\n",
    "Funkcja zip() służy do konsolidacji danych, tj. operacji łączenia kilku list w jedną, w której wartość pojedynczego elementu listy wynikowej zależy od wartości pojedynczych elementów list źródłowych. Funkcja zip przyjmuje jako swoje parametry jedną lub więcej sekwencji, po czym zwraca listę krotek, których poszczególne elementy pochodzą z poszczególnych sekwencji, np.:"
   ]
  },
  {
   "cell_type": "code",
   "execution_count": null,
   "metadata": {
    "collapsed": false
   },
   "outputs": [],
   "source": [
    "print(zip(\"abcdef\", [1, 2, 3, 4, 5, 6]))\n",
    "for el in zip(\"abcdef\", [1, 2, 3, 4, 5, 6]):\n",
    "    print(el)\n",
    "print()    "
   ]
  },
  {
   "cell_type": "code",
   "execution_count": null,
   "metadata": {
    "collapsed": false
   },
   "outputs": [],
   "source": [
    "print(zip(range(1, 10), range(9, 0, -1)))\n",
    "for el in zip(range(1, 10), range(9, 0, -1)):\n",
    "    print(el)\n",
    "print() "
   ]
  },
  {
   "cell_type": "code",
   "execution_count": null,
   "metadata": {
    "collapsed": false
   },
   "outputs": [],
   "source": [
    "liczby_n = [1, 3, 5]\n",
    "liczby_p = [2, 4, 6]\n",
    "print(zip(liczby_n, liczby_p))\n",
    "for el in zip(liczby_n, liczby_p):\n",
    "    print(el)\n",
    "print() "
   ]
  },
  {
   "cell_type": "markdown",
   "metadata": {},
   "source": [
    "W przypadku, gdy długości sekwencji są różne, wynikowa sekwencja jest skracana do najkrótszej spośród nich:"
   ]
  },
  {
   "cell_type": "code",
   "execution_count": null,
   "metadata": {
    "collapsed": false
   },
   "outputs": [],
   "source": [
    "z1 = zip(\"abcdef\", [1, 2, 3, 4, 5, 6, 7, 8])\n",
    "for el in z1:\n",
    "    print(el)\n",
    "print() \n",
    "z2 = zip(\"zip\", range(0, 9), zip(range(0, 9)))\n",
    "for el in z2:\n",
    "    print(el)\n",
    "print() "
   ]
  },
  {
   "cell_type": "markdown",
   "metadata": {},
   "source": [
    "## Funkcja filter()\n",
    "Funkcja filter() służy do filtrowania danych. Przyjmuje jako parametry funkcję oraz sekwencję, po czym zwraca sekwencję zawierającą te elementy sekwencji wejściowej, dla których funkcja zwróciła wartość logiczną True, np.:"
   ]
  },
  {
   "cell_type": "code",
   "execution_count": null,
   "metadata": {
    "collapsed": false
   },
   "outputs": [],
   "source": [
    "samogloska = lambda x: x.lower() in 'aeiou'\n",
    "print(samogloska('A'))\n",
    "print(samogloska('z'), \"\\n\")"
   ]
  },
  {
   "cell_type": "code",
   "execution_count": null,
   "metadata": {
    "collapsed": false
   },
   "outputs": [],
   "source": [
    "f1=filter(samogloska, \"Ala ma kota, kot ma Ale\")\n",
    "for el in f1:\n",
    "    print(el)"
   ]
  },
  {
   "cell_type": "code",
   "execution_count": null,
   "metadata": {
    "collapsed": false
   },
   "outputs": [],
   "source": [
    "f2 = filter(lambda x: not samogloska(x), \"Ala ma kota, kot ma Ale\")\n",
    "for el in f2:\n",
    "    print(el)"
   ]
  },
  {
   "cell_type": "code",
   "execution_count": null,
   "metadata": {
    "collapsed": false
   },
   "outputs": [],
   "source": [
    "# liczby parzyste\n",
    "f3 = filter(lambda x: x % 2 - 1, range(0, 11))\n",
    "for el in f3:\n",
    "    print(el)"
   ]
  },
  {
   "cell_type": "markdown",
   "metadata": {},
   "source": [
    "# Funkcja reduce()\n",
    "\n",
    "Funkcja reduce() służy do agregowania danych, tj. operacji obliczenia pojedynczego wyrażenia, zależnego od wszystkich elementów listy źródłowej. Funkcja reduce przyjmuje jako parametry funkcję oraz sekwencję, zwraca pojedynczą wartość. Na początek wykonuje funkcję dla dwóch pierwszych elementów sekwencji, następnie wykonuje funkcję dla otrzymanego w pierwszym kroku rezultatu i trzeciego elementu sekwencji, następnie wykonuje funkcję dla otrzymanego w drugim kroku rezultatu i czwartego elementu sekwencji, itd., aż dojdzie do końca sekwencji, np.:"
   ]
  },
  {
   "cell_type": "code",
   "execution_count": null,
   "metadata": {
    "collapsed": false
   },
   "outputs": [],
   "source": [
    "from functools import reduce\n",
    "\n",
    "print(reduce(lambda x,y: x+y, [1, 2, 3, 6]))\n",
    "\n",
    "# suma kwadratów elementów \n",
    "print(reduce(lambda x,y: x+y, map(lambda x: x*x, range(1,10))))"
   ]
  },
  {
   "cell_type": "markdown",
   "metadata": {},
   "source": [
    "## Generatory i iteratory\n",
    "Generatorów i iteratorów używamy, aby oszczędzić pamięć (a także czas potrzebny na jej alokację). Zysk wydajności powstaje przez ominięcie potrzeby tworzenia tymczasowych struktur pośrednich w pamięci. Zamiast tego możemy przeiterować kolejno po elementach i finalnie zapisać tylko te które są potrzebne.\n",
    "\n",
    "Obiekty, z których pętle odczytują kolejne dane to iteratory (ang. iterators). Reprezentują one strumień danych, z którego zwracają tylko jedną kolejną wartość na raz za pomocą metody next() (python 3 __next()__). Jeżeli w strumieniu nie ma więcej danych, wywoływany jest wyjątek StopIteration."
   ]
  },
  {
   "cell_type": "code",
   "execution_count": null,
   "metadata": {
    "collapsed": false
   },
   "outputs": [],
   "source": [
    "x = iter([1, 2, 3])\n",
    "\n",
    "print(x)\n",
    "\n",
    "print(next(x))\n",
    "print(next(x))\n",
    "print(next(x))\n",
    "\n",
    "print(next(x))"
   ]
  },
  {
   "cell_type": "markdown",
   "metadata": {},
   "source": [
    "Wbudowana funkcja **iter()** zwraca iterator utworzony z dowolnego iterowalnego obiektu. Iteratory wykorzystujemy do przeglądania list, krotek, słowników czy plików używając instrukcji for x in y, w której y jest obiektem iterowalnym równoważnym wyrażeniu iter(y), np.:"
   ]
  },
  {
   "cell_type": "code",
   "execution_count": null,
   "metadata": {
    "collapsed": false
   },
   "outputs": [],
   "source": [
    "lista = [2, 5, 6]\n",
    "for x in lista:\n",
    "    print(x)\n",
    "\n",
    "print()\n",
    "    \n",
    "slownik = {'-1':1, '4':3 , '7':5}\n",
    "for x in slownik:\n",
    "    print(x)\n",
    "\n",
    "print() \n",
    "    \n",
    "for x in slownik:\n",
    "    print(slownik[x])"
   ]
  },
  {
   "cell_type": "markdown",
   "metadata": {},
   "source": [
    "**Generatory** (ang. generators) to funkcje ułatwiające tworzenie iteratorów. Od zwykłych funkcji różnią się tym, że:\n",
    "\n",
    "* zwracają iterator za pomocą słowa kluczowego yield:\n",
    "* Wyrażenie yield tymczasowo zatrzymuje przetwarzanie, zapamiętuje stan funkcji. Po wznowieniu generatora (ponownym wywołaniu) przetwarzanie jest kontynuowane od miejsca zatrzymania.\n",
    "* zapamiętują swój stan z momentu ostatniego wywołania, są więc wznawialne (ang. resumable),\n",
    "* zwracają następną wartość ze strumienia danych podczas kolejnych wywołań metodą next().\n",
    "\n",
    "Z generatorów korzystamy zwykle wtedy, gdy nie potrzebujemy pamiętać pełnej listy, a lista jest tylko pewnym krokiem pośrednim w obliczeniach. Generatory to \"leniwe funkcje\": obliczają wartości tylko wtedy, gdy są żądane. Generatory są iteratorami, bo obsługują metodę next(). Przykład:"
   ]
  },
  {
   "cell_type": "code",
   "execution_count": null,
   "metadata": {
    "collapsed": false
   },
   "outputs": [],
   "source": [
    "def gen_parzyste(n):\n",
    "    for i in range(n):\n",
    "        if i % 2 == 0:\n",
    "            yield i\n",
    "\n",
    "gen = gen_parzyste(10)\n",
    "print(gen)\n",
    "print(next(gen))\n",
    "print(next(gen))\n",
    "print(next(gen), \"\\n\")\n",
    "\n",
    "for i in gen_parzyste(20):\n",
    "    print(i)"
   ]
  },
  {
   "cell_type": "markdown",
   "metadata": {},
   "source": [
    "Generator można także wyrazić za pomocą **wyrażenia generatorowego** (ang. generator expressions), które jest analogiczne do wytworników list, np.:"
   ]
  },
  {
   "cell_type": "code",
   "execution_count": null,
   "metadata": {
    "collapsed": false
   },
   "outputs": [],
   "source": [
    "gen_kwadratow1 = (i**2 for i in range(10))\n",
    "\n",
    "for i in gen_kwadratow1:\n",
    "    print(i, end=\" \")\n",
    "    \n",
    "print()\n",
    "# równoważnie\n",
    "def gen_kwadratow2():\n",
    "    for i in range(10):\n",
    "         yield i**2\n",
    "            \n",
    "for i in gen_kwadratow2():\n",
    "    print(i, end=\" \")"
   ]
  },
  {
   "cell_type": "markdown",
   "metadata": {},
   "source": [
    "# Zad.\n",
    "\n",
    "Używając wytwornika list zbuduj listę zawierającą wszystkie liczby podzielne przez 4 z zakresu od 1 do n (wartość n wprowadzamy z klawiatury). Następnie wykonaj poszczególne kroki:\n",
    "\n",
    "* używając funkcji filter usuń z niej wszystkie liczby parzyste,\n",
    "* używając wyrażenia lambda i funkcji map podnieś wszystkie elementy listy (otrzymanej z poprzedniego podpunktu) do sześcianu,\n",
    "* używając funkcji reduce i len oblicz średnią arytmetyczną z elementów otrzymanej listy z poprzedniego podpunktu"
   ]
  },
  {
   "cell_type": "code",
   "execution_count": null,
   "metadata": {
    "collapsed": false
   },
   "outputs": [],
   "source": []
  },
  {
   "cell_type": "code",
   "execution_count": null,
   "metadata": {
    "collapsed": false
   },
   "outputs": [],
   "source": []
  },
  {
   "cell_type": "code",
   "execution_count": null,
   "metadata": {
    "collapsed": false
   },
   "outputs": [],
   "source": []
  },
  {
   "cell_type": "markdown",
   "metadata": {},
   "source": [
    "# Zad. \n",
    "\n",
    "Stwórz trzy listy zawierające po 5 elementów: nazwiska - z nazwiskami pracowników, godziny - z liczbą przepracowanych godzin, stawka - ze stawką w złotych za godzinę pracy, np.:\n",
    "\n",
    "<tt>\n",
    "nazwiska = [\"Kowalski\", \"Przybył\", \"Nowak\", \"Konior\", \"Kaczka\"], <br />\n",
    "godziny = [105, 220, 112, 48, 79], <br />\n",
    "stawka = [10.0, 17.0, 9.0, 18.0, 13.0]. <br />\n",
    "</tt>\n",
    "\n",
    "Wykorzystując funkcje: zip, map, reduce i filter (oraz, ewentualnie, wytworniki list) wyświetl nazwiska i wypłaty (iloczyn stawki godzinowej i liczby przepracowanych godzin) tych pracowników, którzy zarobili więcej, niż wyniosła średnia wypłata. "
   ]
  },
  {
   "cell_type": "code",
   "execution_count": null,
   "metadata": {
    "collapsed": false
   },
   "outputs": [],
   "source": []
  },
  {
   "cell_type": "markdown",
   "metadata": {},
   "source": [
    "# Zad.\n",
    "\n",
    "Napisz własny generator, który będzie zamieniał imiona, pisane małą literą, na imiona pisane z dużej litery, np.:\n",
    "\n",
    "<tt>\n",
    "['anna', 'ala', 'ela', 'wiola', 'ola'] -> ['Anna', 'Ala', 'Ela', 'Wiola', 'Ola'].\n",
    "</tt>\n",
    "\n",
    "Wypisz wyniki wykorzystując pętlę **for** i funkcję **next**. "
   ]
  },
  {
   "cell_type": "code",
   "execution_count": null,
   "metadata": {
    "collapsed": false
   },
   "outputs": [],
   "source": []
  },
  {
   "cell_type": "markdown",
   "metadata": {},
   "source": [
    "# Zad.\n",
    "\n",
    "Zmodyfikuj swój generator tak aby wybierał tylko imiona n-literowe, np.: \n",
    "<br /><br />\n",
    "<tt>\n",
    "imiona 3-literowe ['anna', 'ala', 'ela', 'wiola', 'ola'] -> ['Ala', 'Ela', 'Ola'] \n",
    "</tt>"
   ]
  },
  {
   "cell_type": "code",
   "execution_count": null,
   "metadata": {
    "collapsed": false
   },
   "outputs": [],
   "source": []
  },
  {
   "cell_type": "markdown",
   "metadata": {},
   "source": [
    "# 2. Moduły i pakiety\n",
    "Moduł to plik w Pythonie zawierający definicję klas, funkcji, stałych i zmiennych. Definicje zawarte w module mogą być zaimportowane do innych modułów lub do modułu głównego. Wewnątrz modułu jego nazwa dostępna jest jako wartość zmiennej globalnej **<tt>__name__</tt>**.\n",
    "\n",
    "Moduł, oprócz definicji funkcji i klas, może zawierać instrukcje, które służą do inicjalizacji modułu w trakcie ładowania. Inicjalizacja ta wykonywana jest tylko raz. Instrukcje te wykonywane są również, gdy moduł wykonywany jest jako skrypt."
   ]
  },
  {
   "cell_type": "markdown",
   "metadata": {},
   "source": [
    "Instrukcje związane z modułami to **import** oraz **from**. Zwyczajowo instrukcje import umieszcza się na początku modułu. Zalecane jest umieszczanie każdego importu w osobnej linii. Kod modułu jest wykonywany tylko raz podczas pierwszego importu. Python wykonuje instrukcje modułu jedna po drugiej, od góry pliku do dołu. Zwykle instrukcje wewnątrz modułu służą do jego inicjalizacji. Importowany moduł może z kolei importować inne moduły."
   ]
  },
  {
   "cell_type": "code",
   "execution_count": null,
   "metadata": {
    "collapsed": false
   },
   "outputs": [],
   "source": [
    "# Zastosowanie instrukcji import\n",
    "import module1                # zaleca się pojedyncze zapisy\n",
    "import module2, module3       # import kilku modułów\n",
    "\n",
    "print module1.zmienna         # użycie zmiennej z modułu\n",
    "print module1.funkcja()       # użycie funkcji z modułu\n",
    "\n",
    "\n",
    "# Zastosowanie instrukcji from\n",
    "from module1 import zmienna, funkcja   # ładowanie wybranych nazw\n",
    "\n",
    "print zmienna, funkcja()\n",
    "\n",
    "\n",
    "# Import modułu pod inną nazwą\n",
    "import module1 as module2    \n",
    "\n",
    "# Zmiana nazw atrybutów\n",
    "from module1 import funkcja as funkcja1"
   ]
  },
  {
   "cell_type": "markdown",
   "metadata": {},
   "source": [
    "Do ponownego ładowania modułu służy funkcja **reload(nazwa_modułu)**.\n",
    "\n",
    "Instrukcja **from** niszczy podział przestrzeni nazw, ponieważ nazwy są importowane bezpośrednio do lokalnej tablicy symboli. Sama nazwa modułu, z którego importowane są nazwy, nie jest ustawiana. Beztroskie korzystanie z instrukcji from grozi nadpisaniem istniejących zmiennych z lokalnego zakresu. Inne problemy mogą pojawić się przy zastosowaniu reload(). Generalnie zalecane jest stosowanie instrukcji import.\n",
    "\n",
    "Dostęp do przestrzeni nazw modułu odbywa się za pomocą atrybutu **__dict__** lub **dir(nazwa_modułu)**. Inaczej mówiąc, funkcja wbudowana dir() służy do znajdywania wszystkich nazw, które są zdefiniowane w module. Zwraca ona posortowaną listę napisów:"
   ]
  },
  {
   "cell_type": "code",
   "execution_count": null,
   "metadata": {
    "collapsed": false
   },
   "outputs": [],
   "source": [
    "import sys\n",
    "print(dir(sys))"
   ]
  },
  {
   "cell_type": "markdown",
   "metadata": {},
   "source": [
    "Funkcja **dir()** wywołana bez argumentów zwróci listę zdefiniowanych przez nas nazw:"
   ]
  },
  {
   "cell_type": "code",
   "execution_count": null,
   "metadata": {
    "collapsed": false
   },
   "outputs": [],
   "source": [
    "%reset\n",
    "x = [1, 2, 3, 4]\n",
    "\n",
    "def suma(x, y):\n",
    "    return x+y\n",
    "\n",
    "print(dir())"
   ]
  },
  {
   "cell_type": "markdown",
   "metadata": {},
   "source": [
    "## Jak działa importowanie\n",
    "Przy pierwszym imporcie danego pliku przez program wykonywane są trzy osobne kroki:\n",
    "\n",
    "* odnalezienie pliku modułu (wykorzystanie standardowej ścieżki wyszukiwania modułów),\n",
    "* skompilowanie go do kodu bajtowego, jeśli jest to konieczne (powstają pliki .pyc),\n",
    "* wykonanie kodu modułu w celu utworzenia zdefiniowanych przez niego obiektów.\n",
    "\n",
    "Python przechowuje moduły programu w słowniku sys.modules.\n"
   ]
  },
  {
   "cell_type": "code",
   "execution_count": null,
   "metadata": {
    "collapsed": false
   },
   "outputs": [],
   "source": [
    "import sys\n",
    "\n",
    "print(sys.path)                # ścieżka wyszukiwania\n",
    "print(sys.modules.keys())      # nazwy importowanych modułów"
   ]
  },
  {
   "cell_type": "markdown",
   "metadata": {},
   "source": [
    "# Polecenie import poszukuje wskazanego modułu:\n",
    "\n",
    "* wśród modułów wbudowanych\n",
    "* następnie przeszukiwane są miejsca wskazane w zmiennej sys.path Zmienna sys.path zawiera:\n",
    "  * ścieżkę do katalogu ze skryptem, który został uruchomiony przez interpreter,\n",
    "  * ścieżki ze zmiennej PYTHONPATH,\n",
    "  * ścieżki domyślnych lokalizacji dla danej instalacji.\n",
    "\n",
    "Python zawiera standardową bibliotekę modułów. Niektóre z modułów są wbudowane w interpreter, by zapewnić odpowiednią szybkość działania, lub dostęp do API systemowego. Jednym z takich modułów jest **sys**."
   ]
  },
  {
   "cell_type": "markdown",
   "metadata": {},
   "source": [
    "Katalog z modułem musi zawierać plik __init__.py, który może zawierać kod Pythona lub może też pozostać pusty."
   ]
  },
  {
   "cell_type": "markdown",
   "metadata": {},
   "source": [
    "## Wybrane pakiety, moduły:\n",
    "\n",
    "* random - moduł ten zawiera funkcje obsługujące generowanie liczb pseudolosowych:"
   ]
  },
  {
   "cell_type": "code",
   "execution_count": null,
   "metadata": {
    "collapsed": false
   },
   "outputs": [],
   "source": [
    "import random\n",
    "\n",
    "random.seed() # inicjalizacja generatora liczb pseudolosowych\n",
    "\n",
    "# losowanie liczb całkowitych z zakresu od..do.\n",
    "print(random.randint(1,10))\n",
    "print(random.randint(1,10))\n",
    "print(random.randint(1,10))"
   ]
  },
  {
   "cell_type": "code",
   "execution_count": null,
   "metadata": {
    "collapsed": false
   },
   "outputs": [],
   "source": [
    "import random\n",
    "\n",
    "random.seed()\n",
    "\n",
    "# losowe wybieranie elementu z sekwencji\n",
    "print(random.choice([1, 4, 6, 2]))\n",
    "print(random.choice([1, 4, 6, 2]))"
   ]
  },
  {
   "cell_type": "markdown",
   "metadata": {},
   "source": [
    "* losowa permutacja sekwencji"
   ]
  },
  {
   "cell_type": "code",
   "execution_count": null,
   "metadata": {
    "collapsed": false
   },
   "outputs": [],
   "source": [
    "import random\n",
    "\n",
    "random.seed()\n",
    "\n",
    "# losowa permutacja sekwencji\n",
    "x = list(range(10))\n",
    "print(x)\n",
    "random.shuffle(x)\n",
    "print(x)"
   ]
  },
  {
   "cell_type": "markdown",
   "metadata": {},
   "source": [
    "* generowanie losowej liczby rzeczywistej z przedziału [0.0, 1.0)"
   ]
  },
  {
   "cell_type": "code",
   "execution_count": null,
   "metadata": {
    "collapsed": false
   },
   "outputs": [],
   "source": [
    "from random import random, seed\n",
    "\n",
    "seed()\n",
    "\n",
    "# generowanie losowej liczby rzeczywistej z przedziału [0.0, 1.0)\n",
    "print(random())\n",
    "print(random())"
   ]
  },
  {
   "cell_type": "markdown",
   "metadata": {},
   "source": [
    "* generowanie losowej liczby rzeczywistej z przedziału [a, b)"
   ]
  },
  {
   "cell_type": "code",
   "execution_count": null,
   "metadata": {
    "collapsed": false
   },
   "outputs": [],
   "source": [
    "from random import * # normalnie tak nie importujemy\n",
    "\n",
    "seed()\n",
    "\n",
    "# generowanie losowej liczby rzeczywistej z przedziału [a, b)\n",
    "print(uniform(10,20)) # rozkład jednostajny\n",
    "print(uniform(10,20))"
   ]
  },
  {
   "cell_type": "markdown",
   "metadata": {},
   "source": [
    "* normalvariate(mu, sigma) - zwraca wartość zmiennej losowej o rozkładzie normalnym, o średniej mu i odchyleniu standardowym sigma"
   ]
  },
  {
   "cell_type": "code",
   "execution_count": null,
   "metadata": {
    "collapsed": false
   },
   "outputs": [],
   "source": [
    "from random import seed, normalvariate\n",
    "\n",
    "seed()\n",
    "\n",
    "# normalvariate(mu, sigma) - zwraca wartość zmiennej losowej o \n",
    "# rozkładzie normalnym, o średniej mu i odchyleniu standardowym sigma\n",
    "print(normalvariate(5,2))\n",
    "print(normalvariate(5,2))"
   ]
  },
  {
   "cell_type": "markdown",
   "metadata": {},
   "source": [
    "* **math** - moduł ten zawiera definicje najczęściej używanych funkcji matematycznych:"
   ]
  },
  {
   "cell_type": "code",
   "execution_count": null,
   "metadata": {
    "collapsed": false
   },
   "outputs": [],
   "source": [
    "from math import *\n",
    "\n",
    "print(ceil(4.7)) # zwraca sufit liczby rzeczywistej\n",
    "print(floor(4.7)) # zwraca podłogę liczby rzeczywistej\n",
    "print(fabs(-3)) # zwraca wartość absolutną liczby rzeczywistej\n",
    "print(modf(2.5)) # zwraca krotkę zawierającą część ułamkową i całkowitą liczby rzeczywistej\n",
    "print(exp(2)) # zwraca e do potęgi x\n",
    "print(log(e)) # zwraca logarytm naturalny\n",
    "print(log(8, 2)) # zwraca logarytm o podstawie 2 (drugi parametr)\n",
    "print(sqrt(2.25)) # zwraca pierwiastek kwadratowy\n",
    "print(acos(1))\n",
    "print(cos(1))"
   ]
  },
  {
   "cell_type": "markdown",
   "metadata": {},
   "source": [
    "* **itertools* - moduł ten dostarcza bardzo wiele ciekawych narzędzi pracujących na iteratorach pomocnych do zaawansowanego programowania funkcyjnego:"
   ]
  },
  {
   "cell_type": "code",
   "execution_count": null,
   "metadata": {
    "collapsed": false
   },
   "outputs": [],
   "source": [
    "from itertools import *  \n",
    "\n",
    "# łączy wiele iteratorów w jeden\n",
    "print(list(chain([1, 2, 3], [4, 5, 6])), \"\\n\")\n",
    "\n",
    "# kombinacja\n",
    "print(list(combinations('abcdef', 3)), \"\\n\")\n",
    "\n",
    "# kombinacja z powtórzeniami\n",
    "print(list(combinations_with_replacement('abcdef', 3)), \"\\n\")\n",
    "\n",
    "# permutacja\n",
    "iterator = permutations('ABC', 2)\n",
    "print(list(iterator), \"\\n\")\n",
    "\n",
    "# wersja funkcji zip\n",
    "for x, y in zip([\"a\", \"b\", \"c\"], [1, 2, 3]):\n",
    "    print(x, y)\n",
    "\n",
    "print\n",
    "# wersja funkcji map\n",
    "for i in map(pow, (2,3,10), (5,2,3)):\n",
    "    print(i)\n",
    "    \n",
    "print() \n",
    "# produkt\n",
    "print(list(product('ABC', 'XY')), \"\\n\")\n",
    "\n",
    "# numerowanie elementów listy\n",
    "print(list(enumerate([\"a\", \"b\", \"c\"])))"
   ]
  },
  {
   "cell_type": "markdown",
   "metadata": {},
   "source": [
    "\n",
    "# Zad. \n",
    "\n",
    "Wyestymować wartość liczby $\\pi$ metodą Monte Carlo.\n",
    "\n",
    "Pole kwadratu to $4r^2$, a pole koła wynosi $\\pi r^2$. W takim razie stosunek:\n",
    "$$\n",
    "\\frac{P_{kola}}{P_{kwadratu}} = \\frac{\\pi r^2}{4 r^2} = \\frac{\\pi}{4}.\n",
    "$$\n",
    "W konsekwencji: \n",
    "$$\n",
    "\\pi = 4 \\frac{P_{kola}}{P_{kwadratu}}.\n",
    "$$\n",
    "\n",
    "Jeżeli będziemy losować punkty o współrzędnych od $-2r$ do $2r$, to stosunek liczby punktów zawierających się w kole o środku w punkcie $(0,0)$ i promieniu $r$ do wszystkich wylosowanych punktów, będzie dążył w nieskończoności (z pewnym prawdopodobieństwem) do stosunku tego pola koła do koła kwadratu o boku $2r$.\n",
    "\n",
    "Cała metoda sprowadza się więc do tego, by losować punkty i sprawdzać, czy mieszczą się w kole. "
   ]
  },
  {
   "cell_type": "code",
   "execution_count": null,
   "metadata": {
    "collapsed": false
   },
   "outputs": [],
   "source": []
  }
 ],
 "metadata": {
  "kernelspec": {
   "display_name": "Python 3",
   "language": "python",
   "name": "python3"
  },
  "language_info": {
   "codemirror_mode": {
    "name": "ipython",
    "version": 3
   },
   "file_extension": ".py",
   "mimetype": "text/x-python",
   "name": "python",
   "nbconvert_exporter": "python",
   "pygments_lexer": "ipython3",
   "version": "3.6.0"
  }
 },
 "nbformat": 4,
 "nbformat_minor": 2
}
