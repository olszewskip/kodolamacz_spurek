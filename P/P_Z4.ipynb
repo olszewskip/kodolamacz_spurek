{
 "cells": [
  {
   "cell_type": "markdown",
   "metadata": {},
   "source": [
    "# 1. Słowniki\n",
    "\n",
    "Słowniki (ang. dictionary) to najbardziej zaawansowana struktura danych. W odróżnieniu od sekwencji, które są indeksowane liczbami, słowniki są indeksowane kluczami, które mogą być obiektami dowolnego typu, np.: napisy, liczby. \n",
    "\n",
    "Słownik składa się zatem ze zbioru kluczy i zbioru wartości (klucz: wartość), gdzie każdemu kluczowi przypisana jest pojedyncza wartość. Słowniki nie są sekwencjami, ale odwzorowaniami (mapping). Wartości (obiekty) są przechowywane po kluczu, a nie po ich pozycji względnej. \n",
    "\n",
    "W języku Python do tworzenia słowników używamy nawiasów klamrowych **{}**, np.:"
   ]
  },
  {
   "cell_type": "code",
   "execution_count": null,
   "metadata": {
    "collapsed": false
   },
   "outputs": [],
   "source": [
    "osoba = {\"imie\":'Jan', \"nazwisko\":'Kowalski', \"wiek\":23}\n",
    "print(osoba)"
   ]
  },
  {
   "cell_type": "markdown",
   "metadata": {},
   "source": [
    "Klucz musi być niezmienny (immutable), zwykle są to liczby lub stringi:"
   ]
  },
  {
   "cell_type": "code",
   "execution_count": null,
   "metadata": {
    "collapsed": false
   },
   "outputs": [],
   "source": [
    "liczby = {1:12, 4:4-2j}\n",
    "print(liczby)"
   ]
  },
  {
   "cell_type": "markdown",
   "metadata": {},
   "source": [
    "Specyficzny słownik zwraca funkcja **vars()**. Zawiera on wszystkie dostępne aktualnie zmienne:"
   ]
  },
  {
   "cell_type": "code",
   "execution_count": null,
   "metadata": {
    "collapsed": false
   },
   "outputs": [],
   "source": [
    "vars()"
   ]
  },
  {
   "cell_type": "markdown",
   "metadata": {},
   "source": [
    "Aby ustalić ilość kluczy pamiętanych w słowniku używamy funkcji **len**:"
   ]
  },
  {
   "cell_type": "code",
   "execution_count": null,
   "metadata": {
    "collapsed": false
   },
   "outputs": [],
   "source": [
    "osoba = {\"imie\":'Jan', \"nazwisko\":'Kowalski', \"wiek\":23}\n",
    "print(len(osoba))"
   ]
  },
  {
   "cell_type": "markdown",
   "metadata": {},
   "source": [
    "Aby otrzymać wartość podanego klucza używamy nawiasów kwadratowych:"
   ]
  },
  {
   "cell_type": "code",
   "execution_count": null,
   "metadata": {
    "collapsed": false
   },
   "outputs": [],
   "source": [
    "osoba = {\"imie\":'Jan', \"nazwisko\":'Kowalski', \"wiek\":23}\n",
    "liczby = {1:12, 4:4-2j}\n",
    "\n",
    "print(osoba['imie'])\n",
    "print(liczby[4]) # 4 nie oznacza piątego elementu słownika"
   ]
  },
  {
   "cell_type": "markdown",
   "metadata": {},
   "source": [
    "## Dodawanie elementów\n",
    "Żeby dodać nowy element do słownika należy użyć nowego (nie istniejącego klucza):"
   ]
  },
  {
   "cell_type": "code",
   "execution_count": null,
   "metadata": {
    "collapsed": false
   },
   "outputs": [],
   "source": [
    "osoba = {\"imie\":'Jan', \"nazwisko\":'Kowalski', \"wiek\":23}\n",
    "print(osoba)\n",
    "osoba['plec'] = 'M'\n",
    "print(osoba)"
   ]
  },
  {
   "cell_type": "markdown",
   "metadata": {},
   "source": [
    "## Modyfikacja słownika\n",
    "Aby zmodyfikować istniejącą wartość w słowniku należy odwołać się do niej i nadać jej nową wartość:"
   ]
  },
  {
   "cell_type": "code",
   "execution_count": null,
   "metadata": {
    "collapsed": false
   },
   "outputs": [],
   "source": [
    "osoba = {\"imie\":'Jan', \"nazwisko\":'Kowalski', \"wiek\":23}\n",
    "print(osoba)\n",
    "\n",
    "osoba['wiek'] = 25\n",
    "print(osoba)"
   ]
  },
  {
   "cell_type": "markdown",
   "metadata": {},
   "source": [
    "## Kopiowanie słowników\n",
    "Przypisanie istniejącego słownika do jakieś zmiennej nie tworzy drugiego słownika o tych samych elementach, tylko tworzy drugie odwołanie do wartości przypisywanego słownika:"
   ]
  },
  {
   "cell_type": "code",
   "execution_count": null,
   "metadata": {
    "collapsed": false
   },
   "outputs": [],
   "source": [
    "osoba = {\"imie\":'Jan', \"nazwisko\":'Kowalski', \"wiek\":23}\n",
    "print(osoba)\n",
    "o = osoba\n",
    "print(osoba)\n",
    "print()\n",
    "o['imie'] = 'Tomasz'\n",
    "print(osoba)\n",
    "print(o)"
   ]
  },
  {
   "cell_type": "markdown",
   "metadata": {},
   "source": [
    "Zatem operacje przypisania nie tworzy kopii tylko kolejny odnośnik do tych samych wartości. Aby skopiować zawartość jednego słownika do drugiego używamy metody **copy**:"
   ]
  },
  {
   "cell_type": "code",
   "execution_count": null,
   "metadata": {
    "collapsed": false
   },
   "outputs": [],
   "source": [
    "from copy import copy\n",
    "osoba = {\"imie\":'Jan', \"nazwisko\":'Kowalski', \"wiek\":23}\n",
    "print(osoba)\n",
    "o = copy(osoba)\n",
    "print(osoba)\n",
    "o['imie'] = 'Tomasz'\n",
    "print(o)\n",
    "print(osoba)"
   ]
  },
  {
   "cell_type": "markdown",
   "metadata": {},
   "source": [
    "## Usuwanie elementów\n",
    "Do usuwania poszczególnych elementów słownika lub całego słownika używamy funkcji **del**:"
   ]
  },
  {
   "cell_type": "code",
   "execution_count": null,
   "metadata": {
    "collapsed": false
   },
   "outputs": [],
   "source": [
    "osoba = {\"imie\":'Jan', \"nazwisko\":'Kowalski', \"wiek\":23}\n",
    "del osoba['wiek']\n",
    "print(osoba)\n",
    "del osoba\n",
    "print(osoba)"
   ]
  },
  {
   "cell_type": "markdown",
   "metadata": {},
   "source": [
    "## Wybrane funkcje\n",
    "\n",
    "* aktualizacja słownika w oparciu o inny słownik:"
   ]
  },
  {
   "cell_type": "code",
   "execution_count": null,
   "metadata": {
    "collapsed": false
   },
   "outputs": [],
   "source": [
    "osoba = {\"imie\":'Jan', \"nazwisko\":'Kowalski', \"wiek\":23}\n",
    "os1 = {\"imie\":'Katarzyna', \"nazwisko\":'Nowak', \"plec\":'K'}\n",
    "osoba.update(os1)\n",
    "print(osoba)"
   ]
  },
  {
   "cell_type": "markdown",
   "metadata": {},
   "source": [
    "* odczytanie i usunięcie określonej wartości:"
   ]
  },
  {
   "cell_type": "code",
   "execution_count": null,
   "metadata": {
    "collapsed": false
   },
   "outputs": [],
   "source": [
    "osoba = {\"imie\":'Jan', \"nazwisko\":'Kowalski', \"wiek\":23}\n",
    "\n",
    "print(osoba.pop('imie'))\n",
    "print(osoba)"
   ]
  },
  {
   "cell_type": "markdown",
   "metadata": {},
   "source": [
    "* sprawdzenie czy określony klucz istnieje w słowniku"
   ]
  },
  {
   "cell_type": "code",
   "execution_count": null,
   "metadata": {
    "collapsed": false
   },
   "outputs": [],
   "source": [
    "osoba = {\"imie\":'Jan', \"nazwisko\":'Kowalski', \"wiek\":23}\n",
    "\n",
    "print('imie' in osoba)\n",
    "print('wzrost' in osoba)\n",
    "print('wzrost' not in osoba)"
   ]
  },
  {
   "cell_type": "markdown",
   "metadata": {},
   "source": [
    "* lista kluczy występujących w słowniku:"
   ]
  },
  {
   "cell_type": "code",
   "execution_count": null,
   "metadata": {
    "collapsed": false
   },
   "outputs": [],
   "source": [
    "osoba = {\"imie\":'Jan', \"nazwisko\":'Kowalski', \"wiek\":23}\n",
    "\n",
    "print(osoba.keys())"
   ]
  },
  {
   "cell_type": "markdown",
   "metadata": {
    "collapsed": true
   },
   "source": [
    "* lista wartości występujących w słowniku:"
   ]
  },
  {
   "cell_type": "code",
   "execution_count": null,
   "metadata": {
    "collapsed": false
   },
   "outputs": [],
   "source": [
    "osoba = {\"imie\":'Jan', \"nazwisko\":'Kowalski', \"wiek\":23}\n",
    "\n",
    "print(osoba.values())"
   ]
  },
  {
   "cell_type": "markdown",
   "metadata": {},
   "source": [
    "* lista krotek (key, value):"
   ]
  },
  {
   "cell_type": "code",
   "execution_count": null,
   "metadata": {
    "collapsed": false
   },
   "outputs": [],
   "source": [
    "osoba = {\"imie\":'Jan', \"nazwisko\":'Kowalski', \"wiek\":23}\n",
    "\n",
    "print(osoba.items())"
   ]
  },
  {
   "cell_type": "code",
   "execution_count": null,
   "metadata": {
    "collapsed": false
   },
   "outputs": [],
   "source": [
    "for i, j in osoba.items():\n",
    "    print(\"%s %s\" % (i, j))"
   ]
  },
  {
   "cell_type": "code",
   "execution_count": null,
   "metadata": {
    "collapsed": false
   },
   "outputs": [],
   "source": [
    "print(osoba.items(), \"\\n\")"
   ]
  },
  {
   "cell_type": "code",
   "execution_count": null,
   "metadata": {
    "collapsed": false
   },
   "outputs": [],
   "source": [
    "for i, j in osoba.items():\n",
    "    print(\"%s %s\" % (i, j))"
   ]
  },
  {
   "cell_type": "markdown",
   "metadata": {},
   "source": [
    "# Zad.\n",
    "\n",
    "Sporządź skrypt zawierający słownik stolic krajów UE oraz możliwość interaktywnego wynajdywania nazwy stolicy wg nazwy państwa. "
   ]
  },
  {
   "cell_type": "code",
   "execution_count": null,
   "metadata": {
    "collapsed": false
   },
   "outputs": [],
   "source": []
  },
  {
   "cell_type": "markdown",
   "metadata": {},
   "source": [
    "# Zad.\n",
    "\n",
    "Napisz funkcję, który wczyta od użytkownika login i hasło. Jeżeli w słowniku haseł znajduje się odpowiedni login i hasło, program powinien wyświetlić ,,Autoryzacja pomyślna\", w pozostałych przypadkach wypisze: ,,Błąd logowania''. "
   ]
  },
  {
   "cell_type": "code",
   "execution_count": null,
   "metadata": {
    "collapsed": false
   },
   "outputs": [],
   "source": []
  },
  {
   "cell_type": "markdown",
   "metadata": {},
   "source": [
    "# 2. Zbiory\n",
    "\n",
    "W Pythonie są dostępne dwa rodzaje wbudowanych zbiorów: set (mutable) i frozenset (immutable, hashable)."
   ]
  },
  {
   "cell_type": "code",
   "execution_count": null,
   "metadata": {
    "collapsed": false
   },
   "outputs": [],
   "source": [
    "s1 = set([1, 2, 3])\n",
    "s2 = frozenset([4, 5, 6])\n",
    "s3 = set() # zbiór pusty\n",
    "\n",
    "print(s1, \"\\n\", s2, \"\\n\", s3)"
   ]
  },
  {
   "cell_type": "markdown",
   "metadata": {},
   "source": [
    "## Podstawowe operacje na zbiorach (mutable):\n",
    "* dodawanie elementu:"
   ]
  },
  {
   "cell_type": "code",
   "execution_count": null,
   "metadata": {
    "collapsed": false
   },
   "outputs": [],
   "source": [
    "s = set([2, 3, -1, 1])\n",
    "print(s)\n",
    "\n",
    "s.add(10)\n",
    "print(s)"
   ]
  },
  {
   "cell_type": "markdown",
   "metadata": {},
   "source": [
    "* usuwanie elementu:"
   ]
  },
  {
   "cell_type": "code",
   "execution_count": null,
   "metadata": {
    "collapsed": false
   },
   "outputs": [],
   "source": [
    "s = set([2, 7, 1, 4, 2])\n",
    "\n",
    "print(s)\n",
    "\n",
    "s.discard(4)\n",
    "print(s)\n",
    "\n",
    "s.remove(7)\n",
    "print(s)"
   ]
  },
  {
   "cell_type": "markdown",
   "metadata": {},
   "source": [
    "* czyszczenie zbioru (usuwanie wszystkich elementów):"
   ]
  },
  {
   "cell_type": "code",
   "execution_count": null,
   "metadata": {
    "collapsed": false
   },
   "outputs": [],
   "source": [
    "s = set([2, 3, -1, 1])\n",
    "print(s)\n",
    "\n",
    "s.clear()\n",
    "print(s)"
   ]
  },
  {
   "cell_type": "markdown",
   "metadata": {},
   "source": [
    "* pobieranie i usuwanie pierwszego elementu:"
   ]
  },
  {
   "cell_type": "code",
   "execution_count": null,
   "metadata": {
    "collapsed": false
   },
   "outputs": [],
   "source": [
    "s = set([2, 7, 1, 4])\n",
    "print(s)\n",
    "print()\n",
    "\n",
    "print(s.pop())\n",
    "print(s)\n",
    "print(s.pop())\n",
    "print(s)"
   ]
  },
  {
   "cell_type": "markdown",
   "metadata": {},
   "source": [
    "* update-owanie zbioru"
   ]
  },
  {
   "cell_type": "code",
   "execution_count": null,
   "metadata": {
    "collapsed": false
   },
   "outputs": [],
   "source": [
    "s1 = set([2, 7, 1, 4])\n",
    "s2 = set([-2, 7, -1, -4])\n",
    "\n",
    "print(s1, \"\\n\", s2, \"\\n\")\n",
    "\n",
    "s1.update(s2) # dodaje do zbioru s1 elementy ze zbioru s2\n",
    "# s1.update(s2) <=> s1 |= s2\n",
    "print(s1, \"\\n\")"
   ]
  },
  {
   "cell_type": "code",
   "execution_count": null,
   "metadata": {
    "collapsed": false
   },
   "outputs": [],
   "source": [
    "s1 = set([2, 7, 1, 4])\n",
    "s2 = set([-2, 7, -1, -4])\n",
    "print(s1, \"\\n\", s2, \"\\n\")\n",
    "print()\n",
    "\n",
    "s1 = set([2, 7, 1, 4])\n",
    "s1.intersection_update(s2) # zwraca zbiór s1 po usunięciu z niego elementów, \n",
    "                           # które nie występują w zbiorze s2\n",
    "# s1.intersection_update(s2) <=> s1 &= s2\n",
    "print(s1, \"\\n\")"
   ]
  },
  {
   "cell_type": "code",
   "execution_count": null,
   "metadata": {
    "collapsed": false
   },
   "outputs": [],
   "source": [
    "s1 = set([2, 7, 1, 4])\n",
    "s2 = set([-2, 7, -1, -4])\n",
    "\n",
    "print(s1, \"\\n\", s2, \"\\n\")\n",
    "\n",
    "s1.difference_update(s2) # zwraca zbiór s1 po usunięciu z niego elementów, \n",
    "                         # które występują w zbiorze s2\n",
    "# s1.difference_update(s2) <=> s1 -= s2\n",
    "print(s1, \"\\n\")"
   ]
  },
  {
   "cell_type": "code",
   "execution_count": null,
   "metadata": {
    "collapsed": false
   },
   "outputs": [],
   "source": [
    "s1 = set([2, 7, 1, 4])\n",
    "s2 = set([-2, 7, -1, -4])\n",
    "\n",
    "print(s1, \"\\n\", s2, \"\\n\")\n",
    "\n",
    "s1 = set([2, 7, 1, 4])\n",
    "s1.symmetric_difference_update(s2) # zwraca zbiór s1 po wypełnieniu go elementami \n",
    "# przynależącymi do dokładnie jednego ze zbiorów s1 lub s2\n",
    "# s1.symmetric_difference_update(s2) <=> s1 ^= s2\n",
    "print(s1, \"\\n\")"
   ]
  },
  {
   "cell_type": "markdown",
   "metadata": {},
   "source": [
    "# Zbiory niezmiennicze - frozenset\n",
    "\n",
    "Zbiory niezmienne mogą być kluczami w słownikach, zaś zmiennicze nie:"
   ]
  },
  {
   "cell_type": "code",
   "execution_count": null,
   "metadata": {
    "collapsed": false
   },
   "outputs": [],
   "source": [
    "s1 = set([1, 2, 3])\n",
    "s2 = frozenset([4, 5, 6])\n",
    "\n",
    "x = {s2: 3}\n",
    "print(x)\n",
    "\n",
    "y = {s1: 4}"
   ]
  },
  {
   "cell_type": "markdown",
   "metadata": {},
   "source": [
    "Zbiory niezmienne mogą być elementami innych zbiorów, zaś zmiennicze nie:"
   ]
  },
  {
   "cell_type": "code",
   "execution_count": null,
   "metadata": {
    "collapsed": false
   },
   "outputs": [],
   "source": [
    "s1 = set([1, 2, 3])\n",
    "s2 = frozenset([4, 5, 6])\n",
    "s3 = set()\n",
    "\n",
    "s3.add(s2)\n",
    "print(s3)\n",
    "\n",
    "s3.add(s1)\n",
    "print(s3)"
   ]
  },
  {
   "cell_type": "markdown",
   "metadata": {},
   "source": [
    "## Porównywanie zbiorów\n",
    "Porównywanie dwóch zbiorów ma sens, gdy jeden zawiera się w drugim. W przeciwnym razie wyjdzie False.\n",
    "\n",
    "* Dwa zbiory są równe wtedy i tylko wtedy, gdy każdy z elementów każdego ze zbiorów należy do zbioru drugiego (każdy ze zbiorów jest podzbiorem drugiego):"
   ]
  },
  {
   "cell_type": "code",
   "execution_count": null,
   "metadata": {
    "collapsed": false
   },
   "outputs": [],
   "source": [
    "s1 = set([1, 2, 4])\n",
    "s2 = set([1, 2, 4])\n",
    "s3 = frozenset([1, 2, 4])\n",
    "\n",
    "print(s1==s2)\n",
    "print(s1==s3)"
   ]
  },
  {
   "cell_type": "markdown",
   "metadata": {},
   "source": [
    "* Zbiór jest mniejszy od drugiego zbioru wtedy i tylko wtedy, gdy jest jego podzbiorem właściwym (jest jego podzbiorem, jednak nie jest mu równy):"
   ]
  },
  {
   "cell_type": "code",
   "execution_count": null,
   "metadata": {
    "collapsed": false
   },
   "outputs": [],
   "source": [
    "s1 = set([1, 2])\n",
    "s2 = set([1, 2, 4])\n",
    "s3 = frozenset([1, 2, 4])\n",
    "\n",
    "print(s1 < s2)\n",
    "print(s2 < s3)\n",
    "print(s2 <= s3)"
   ]
  },
  {
   "cell_type": "markdown",
   "metadata": {},
   "source": [
    "* Zbiór jest większy od drugiego zbioru wtedy i tylko wtedy, gdy jest jego nadzbiorem właściwym (jest jego nadzbiorem, jednak nie jest mu równy):"
   ]
  },
  {
   "cell_type": "code",
   "execution_count": null,
   "metadata": {
    "collapsed": false
   },
   "outputs": [],
   "source": [
    "s1 = set([1, 2, 5])\n",
    "s2 = set([1, 2])\n",
    "s3 = frozenset([1, 2])\n",
    "\n",
    "print(s1 > s2)\n",
    "print(s2 > s3)\n",
    "print(s2 >= s3)"
   ]
  },
  {
   "cell_type": "markdown",
   "metadata": {},
   "source": [
    "## Operacje na zbiorach (set i frozenset)\n",
    "\n",
    "* liczebność (liczba elementów):"
   ]
  },
  {
   "cell_type": "code",
   "execution_count": null,
   "metadata": {
    "collapsed": false
   },
   "outputs": [],
   "source": [
    "s1 = set([1, 2, 4, 2, 1, 5])\n",
    "s2 = frozenset([1, 2, 5])\n",
    "\n",
    "print(len(s1))\n",
    "print(len(s2))"
   ]
  },
  {
   "cell_type": "markdown",
   "metadata": {},
   "source": [
    "* należenie do zbioru:"
   ]
  },
  {
   "cell_type": "code",
   "execution_count": null,
   "metadata": {
    "collapsed": false
   },
   "outputs": [],
   "source": [
    "s1 = set([1, 2, 4, 2, 1, 5])\n",
    "s2 = frozenset([1, 2, 5])\n",
    "\n",
    "print(2 in s1)\n",
    "print(2 in s2)\n",
    "print(3 in s2)"
   ]
  },
  {
   "cell_type": "markdown",
   "metadata": {},
   "source": [
    "* nienależenie do zbioru:"
   ]
  },
  {
   "cell_type": "code",
   "execution_count": null,
   "metadata": {
    "collapsed": false
   },
   "outputs": [],
   "source": [
    "s1 = set([1, 2, 4, 2, 1, 5])\n",
    "s2 = frozenset([1, 2, 5])\n",
    "\n",
    "print(3 not in s1)\n",
    "print(3 not in s2)\n",
    "print(2 not in s1)"
   ]
  },
  {
   "cell_type": "markdown",
   "metadata": {},
   "source": [
    "* dany zbiór jest podzbiorem innego:"
   ]
  },
  {
   "cell_type": "code",
   "execution_count": null,
   "metadata": {
    "collapsed": false
   },
   "outputs": [],
   "source": [
    "s1 = set([1, 2, 4, 2, 1, 5])\n",
    "s2 = frozenset([1, 2, 5])\n",
    "\n",
    "print(set([1, 4]) <= s1) # set([1, 4]) <= s1 <=> set([1, 4]).issubset(s1)\n",
    "print(set([1, 4]) <= s2)\n",
    "print(set([1, 5]) <= s1)\n",
    "print(set([1, 5]).issubset(s2))"
   ]
  },
  {
   "cell_type": "markdown",
   "metadata": {},
   "source": [
    "* dany zbiór jest nadzbiorem innego:"
   ]
  },
  {
   "cell_type": "code",
   "execution_count": null,
   "metadata": {
    "collapsed": false
   },
   "outputs": [],
   "source": [
    "s1 = set([1, 2, 4, 2, 1, 5])\n",
    "s2 = frozenset([1, 2, 5])\n",
    "\n",
    "print(s1 >= set([1, 4])) # s1 >= set([1, 4]) <=> s1.issuperset(set([1, 4]))\n",
    "print(s2 >= set([1, 4]))\n",
    "print(s2 >= set([1, 5]))\n",
    "print(s2.issuperset(set([1, 5])))"
   ]
  },
  {
   "cell_type": "markdown",
   "metadata": {},
   "source": [
    "* łączenie dwóch (suma) zbiorów:"
   ]
  },
  {
   "cell_type": "code",
   "execution_count": null,
   "metadata": {
    "collapsed": false
   },
   "outputs": [],
   "source": [
    "s1 = set([1, 2, 4, 2, 1, 5])\n",
    "s2 = frozenset([1, 3, 5])\n",
    "\n",
    "print(s1.union(s2)) # s1.union(s2) <=> s1 | s2 \n",
    "print(s1)\n",
    "\n",
    "# Przy mieszanych set instances wynik jest typu pierwszego\n",
    "print(type(s1.union(s2)))\n",
    "print(type(s2.union(s1)))"
   ]
  },
  {
   "cell_type": "markdown",
   "metadata": {},
   "source": [
    "* część wspólną (iloczyn) dwóch zbiorów:"
   ]
  },
  {
   "cell_type": "code",
   "execution_count": null,
   "metadata": {
    "collapsed": false
   },
   "outputs": [],
   "source": [
    "s1 = set([1, 2, 4, 2, 1, 5])\n",
    "s2 = frozenset([1, 3, 5])\n",
    "\n",
    "print(s1.intersection(s2)) # s1.intersection(s2) <=> s1 & s2 \n",
    "print(s1)\n",
    "\n",
    "# Przy mieszanych set instances wynik jest typu pierwszego\n",
    "print(type(s1 & s2))\n",
    "print(type(s2 & s1))"
   ]
  },
  {
   "cell_type": "markdown",
   "metadata": {},
   "source": [
    "* różnica dwóch zbiorów:"
   ]
  },
  {
   "cell_type": "code",
   "execution_count": null,
   "metadata": {
    "collapsed": false
   },
   "outputs": [],
   "source": [
    "s1 = set([1, 2, 4, 2, 1, 5])\n",
    "s2 = frozenset([1, 3, 5])\n",
    "\n",
    "print(s1.difference(s2)) # s1.difference(s2) <=> s1 - s2 \n",
    "print(s1)\n",
    "\n",
    "# Przy mieszanych set instances wynik jest typu pierwszego\n",
    "print(type(s1 - s2))\n",
    "print(type(s2 - s1))"
   ]
  },
  {
   "cell_type": "markdown",
   "metadata": {},
   "source": [
    "* różnica symetryczna dwóch zbiorów"
   ]
  },
  {
   "cell_type": "code",
   "execution_count": null,
   "metadata": {
    "collapsed": false
   },
   "outputs": [],
   "source": [
    "s1 = set([1, 2, 4, 2, 1, 5])\n",
    "s2 = frozenset([1, 3, 5])\n",
    "\n",
    "print(s1.symmetric_difference(s2)) \n",
    "# s1.symmetric_difference(s2) <=> s1 ^ s2 <=> s1-s2|s2-s1 \n",
    "print(s1)\n",
    "print(s1-s2|s2-s1)"
   ]
  },
  {
   "cell_type": "markdown",
   "metadata": {},
   "source": [
    "## Zbiory można wykorzystać do odfiltrowania duplikatów z listy"
   ]
  },
  {
   "cell_type": "code",
   "execution_count": null,
   "metadata": {
    "collapsed": false
   },
   "outputs": [],
   "source": [
    "l = [1, 2, 2, 2, 3, 3]\n",
    "print(l)\n",
    "l = list(set(l)) \n",
    "print(l)"
   ]
  },
  {
   "cell_type": "markdown",
   "metadata": {},
   "source": [
    "## Jak dostać się do elementów zbioru:"
   ]
  },
  {
   "cell_type": "code",
   "execution_count": null,
   "metadata": {
    "collapsed": false
   },
   "outputs": [],
   "source": [
    "s = set([1, 2, 4, 2, 1, 5])\n",
    "print(s)\n",
    "i = iter(s)\n",
    "print(next(i))\n",
    "print(next(i))\n",
    "\n",
    "# lub \n",
    "\n",
    "l = list(s)\n",
    "print(l[2], \"\\n\")\n",
    "\n",
    "# lub\n",
    "\n",
    "for x in s:\n",
    "    print(x)"
   ]
  },
  {
   "cell_type": "markdown",
   "metadata": {},
   "source": [
    "## Przykład użycia zbioru:\n",
    "\n",
    "Symulacja losowania lotto:"
   ]
  },
  {
   "cell_type": "code",
   "execution_count": null,
   "metadata": {
    "collapsed": false
   },
   "outputs": [],
   "source": [
    "from random import choice\n",
    "wyn = set()\n",
    "while len(wyn) < 6:\n",
    "    wyn.add(choice(range(1,50)))\n",
    "for x in wyn:\n",
    "    print(x,)"
   ]
  },
  {
   "cell_type": "markdown",
   "metadata": {},
   "source": [
    "# Zad.\n",
    "\n",
    "Napisz funkcje, która pobiera jako argument łańcuch znaków i zwraca jako wynik zbiór składający się z małych liter występujących w łańcuchu podanym jako argument."
   ]
  },
  {
   "cell_type": "code",
   "execution_count": null,
   "metadata": {
    "collapsed": false
   },
   "outputs": [],
   "source": []
  },
  {
   "cell_type": "markdown",
   "metadata": {},
   "source": [
    "# Zad.\n",
    "Zczytaj dwa napisy oraz wypisz wszytkie znaki (bez powtórzeń), które:\n",
    "\n",
    "* występują w pierwszym napisie ale nie wsytępuja w drugim\n",
    "* występują w obu napisach\n",
    "* występują w conajmniej jednym napisie\n"
   ]
  },
  {
   "cell_type": "code",
   "execution_count": null,
   "metadata": {
    "collapsed": true
   },
   "outputs": [],
   "source": []
  },
  {
   "cell_type": "markdown",
   "metadata": {
    "collapsed": true
   },
   "source": [
    "# Zad\n",
    "\n",
    "Napisz funkcję, która stworzy listę będącą sumą dwóch list x, y taką, że lista wyników będzie miała unikalne wartości z obu list, np\n",
    "```python\n",
    ">>> suma_list([1, 2, 3, 3, 4], [3, 4, 6, 0])\n",
    "[0, 1, 2, 3, 4, 6]\n",
    "```"
   ]
  },
  {
   "cell_type": "code",
   "execution_count": null,
   "metadata": {
    "collapsed": false
   },
   "outputs": [],
   "source": []
  },
  {
   "cell_type": "markdown",
   "metadata": {},
   "source": [
    "# Zad \n",
    "\n",
    "Korzystając z poznanych funkcji (funkcjonałów) proszę napisać własne funkcje max i min zwracające odpowiednio największą i najmniejszą wartość listy, np. dla danych [2, 2, 11, 4, 9] funkcja powinna zwrócić wartość 11. "
   ]
  },
  {
   "cell_type": "code",
   "execution_count": null,
   "metadata": {
    "collapsed": false
   },
   "outputs": [],
   "source": []
  }
 ],
 "metadata": {
  "kernelspec": {
   "display_name": "Python 3",
   "language": "python",
   "name": "python3"
  },
  "language_info": {
   "codemirror_mode": {
    "name": "ipython",
    "version": 3
   },
   "file_extension": ".py",
   "mimetype": "text/x-python",
   "name": "python",
   "nbconvert_exporter": "python",
   "pygments_lexer": "ipython3",
   "version": "3.6.0"
  }
 },
 "nbformat": 4,
 "nbformat_minor": 2
}
