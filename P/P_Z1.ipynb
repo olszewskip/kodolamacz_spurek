{
 "cells": [
  {
   "cell_type": "markdown",
   "metadata": {},
   "source": [
    "# Podstawowe operatory\n",
    "\n",
    " * \\+ – dodawanie: 4 + 7.5 daje 11.5;\n",
    " * \\- – odejmowanie: 30 - 24 daje 6;\n",
    " * \\* – mnożenie: 2 * 3 daje 6;\n",
    " * \\*\\* – potęgowanie: 3 ** 4 daje 81;\n",
    " * / – dzielenie: 4 / 3 daje 1;\n",
    " * // – dzielenie całkowite: 4 // 3.0 daje 1;\n",
    " * % – dzielenie modulo: 8 % 3 daje 2. "
   ]
  },
  {
   "cell_type": "markdown",
   "metadata": {},
   "source": [
    "# Operatory porównania:\n",
    "\n",
    " * < – mniejsze,\n",
    " * \\> – większe,\n",
    " * <= – mniejsze lub równe,\n",
    " * == – równe,\n",
    " * != – różne. "
   ]
  },
  {
   "cell_type": "markdown",
   "metadata": {},
   "source": [
    "# Zad 1.\n",
    "\n",
    "Napisz skrypt, który wyświetla poniższy rysunek:\n",
    "\n",
    "&nbsp;\\&nbsp;&nbsp;&nbsp;&nbsp;  |&nbsp;&nbsp;&nbsp;&nbsp;  / <br/>\n",
    "&nbsp;&nbsp;  @ @ <br/>\n",
    "&nbsp;&nbsp;&nbsp;&nbsp;&nbsp;   \\* <br/>\n",
    "&nbsp;&nbsp;&nbsp;&nbsp;\\\"\"\"/<br/>"
   ]
  },
  {
   "cell_type": "code",
   "execution_count": null,
   "metadata": {
    "collapsed": false
   },
   "outputs": [],
   "source": []
  },
  {
   "cell_type": "markdown",
   "metadata": {},
   "source": [
    "# Zad.\n",
    "\n",
    "Korzystając z poniższego programu (proszę go uruchomić), napisać program, który prosi użytkownika o swój ulubiony kolor i wyświetla następujący wynik (zakładając, że \"red\" jest podanym kolorem). Użyj symboli \"+\" i \"*\". \n",
    "<center>\n",
    "```red red red red red red red red red red red red red red red red red red red red red red red red ```\n",
    "</center>\n",
    "\n",
    "```python\n",
    "# poniższy program proszę uruchomić\n",
    "b = \"the\"\n",
    "c = \"cat\"\n",
    "d = \" is on the mat\"\n",
    "a = b + \" \" + c + d\n",
    "print(a)\n",
    "b = b + \" \"\n",
    "a = b * 5\n",
    "print(a)\n",
    "print(\"The first character of\", c, \"is\" ,c[0])\n",
    "print(\"The word \\\"\"+ c+ \"\\\" has\", len(c) ,\"characters\")\n",
    "name = input (\"Please, type in your name \")\n",
    "name = (name + \"!\") * 5\n",
    "print(name)\n",
    "```"
   ]
  },
  {
   "cell_type": "code",
   "execution_count": null,
   "metadata": {
    "collapsed": false
   },
   "outputs": [],
   "source": []
  },
  {
   "cell_type": "markdown",
   "metadata": {},
   "source": [
    "# Zad\n",
    "Wykonaj poniższe operacje:\n",
    "\n",
    "* $6+4⋅10$\n",
    "* $(6+4)⋅10$  (Porównaj ten zapis z powyższym zapisem. Zauważ, że Python zachowuje naturalną kolejność wykonywania działań arytmetycznych!)\n",
    "* $234\\cdot(45−\\frac{56.0}{34})$ \n",
    "* $3^4$"
   ]
  },
  {
   "cell_type": "code",
   "execution_count": null,
   "metadata": {
    "collapsed": false
   },
   "outputs": [],
   "source": []
  },
  {
   "cell_type": "markdown",
   "metadata": {},
   "source": [
    "# 1. Warunki\n",
    "Python używa zmiennych logicznych w celu oceny warunków. \n",
    "Wartości logiczne prawda (True) i fałsz (False) są zwracane, gdy wyrażenie jest porównywane i oceniane. \n",
    "\n",
    "Na przykład:"
   ]
  },
  {
   "cell_type": "code",
   "execution_count": null,
   "metadata": {
    "collapsed": false
   },
   "outputs": [],
   "source": [
    "x = 2\n",
    "print(x == 2)\n",
    "print(x == 3)\n",
    "print(x < 3) "
   ]
  },
  {
   "cell_type": "markdown",
   "metadata": {},
   "source": [
    "# 1.1 Instrukcje Warunkowe\n",
    "Aby uzależnić wykonanie instrukcji od rezultatu porównania, używamy instrukcji warunkowej"
   ]
  },
  {
   "cell_type": "code",
   "execution_count": null,
   "metadata": {
    "collapsed": false
   },
   "outputs": [],
   "source": [
    "x=2\n",
    "\n",
    "if x==2: \n",
    "    print(\"OK\")"
   ]
  },
  {
   "cell_type": "markdown",
   "metadata": {},
   "source": [
    "Przykład bardziej skomplikowany:"
   ]
  },
  {
   "cell_type": "code",
   "execution_count": null,
   "metadata": {
    "collapsed": false
   },
   "outputs": [],
   "source": [
    "a = 2\n",
    "b = 4\n",
    "if a > b:\n",
    "    print(b)\n",
    "else:\n",
    "    print(a)"
   ]
  },
  {
   "cell_type": "markdown",
   "metadata": {},
   "source": [
    "W powyższym przykładzie użyliśmy pełnej instrukcji warunkowej <b>IF/ELSE</b>. Istnieje jeszcze bardziej bogatsza instrukcja warunkowa tzw. instrukcja wyboru wielokrotnego <b>IF/ELIF/ELSE</b>:"
   ]
  },
  {
   "cell_type": "code",
   "execution_count": null,
   "metadata": {
    "collapsed": false
   },
   "outputs": [],
   "source": [
    "print(\"Ten program porównuje dwie liczby\")\n",
    "x = input(\"Podaj pierwszą z dwóch liczb:\")                                 \n",
    "y = input(\"Podaj drugą z dwóch liczb:\")                                    \n",
    "print(\"Liczba\",x,\"w stosunku do\",y,\"jest:\",)\n",
    "if x==y:\n",
    "    print(\"taka sama\")\n",
    "elif x>y:\n",
    "    print(\"większa\")\n",
    "else:\n",
    "    print(\"mniejsza\")"
   ]
  },
  {
   "cell_type": "markdown",
   "metadata": {},
   "source": [
    "# Operatory logiczne\n",
    "Operatory logiczne, takie jak: <b>and</b> i <b>or</b> umożliwiają budowanie złożonych wyrażeń logicznych, na przykład:"
   ]
  },
  {
   "cell_type": "code",
   "execution_count": null,
   "metadata": {
    "collapsed": false
   },
   "outputs": [],
   "source": [
    "name = \"John\"\n",
    "age = 23\n",
    "if name == \"John\" and age == 23:\n",
    "    print(\"Your name is John, and you are also 23 years old.\")\n",
    "\n",
    "if name == \"John\" or name == \"Rick\":\n",
    "    print(\"Your name is either John or Rick.\")"
   ]
  },
  {
   "cell_type": "markdown",
   "metadata": {},
   "source": [
    "# Zad.\n",
    "\n",
    "Napisz program, który sprawdzi, czy podane przez użytkownika koła mają niepuste przecięcie. Użytkownik programu podaje współrzędne środka oraz promień każdego koła.\n"
   ]
  },
  {
   "cell_type": "code",
   "execution_count": null,
   "metadata": {
    "collapsed": true
   },
   "outputs": [],
   "source": []
  },
  {
   "cell_type": "markdown",
   "metadata": {},
   "source": [
    "# Zad.\n",
    "\n",
    "Napisz program wyznaczający rozwiązanie równania liniowego **a*x+b=0**. Zadbaj o to, aby program poprawnie się wykonywał i wypisywał poprawne wyniki w każdej możliwej sytuacji.\n"
   ]
  },
  {
   "cell_type": "code",
   "execution_count": null,
   "metadata": {
    "collapsed": true
   },
   "outputs": [],
   "source": []
  },
  {
   "cell_type": "markdown",
   "metadata": {},
   "source": [
    "# Operator ,,in''\n",
    "Operator <b>in</b> może być używany w celu sprawdzenia, czy określony ,,obiekt'' istnieje w obrębie iterowalnego kontenera obiektów, np. listy:"
   ]
  },
  {
   "cell_type": "code",
   "execution_count": null,
   "metadata": {
    "collapsed": false
   },
   "outputs": [],
   "source": [
    "if name in [\"John\", \"Rick\"]:\n",
    "    print(\"Your name is either John or Rick.\")"
   ]
  },
  {
   "cell_type": "markdown",
   "metadata": {},
   "source": [
    "Instrukcje warunkowe możemy zagnieżdżać, np.:"
   ]
  },
  {
   "cell_type": "code",
   "execution_count": null,
   "metadata": {
    "collapsed": false
   },
   "outputs": [],
   "source": [
    "print(\"Ten program przewidzi Twoją długość życia\")\n",
    "odp = input(\"Czy palisz papierosy?\")\n",
    "if odp == \"Tak\" or odp == \"TAK\" or odp == \"tak\" or odp == \"no pewnie\":\n",
    "    odp = input(\"A czy się zaciągasz?\")\n",
    "    if odp == \"Tak\" or odp == \"TAK\" or odp == \"tak\" or odp == \"no pewnie\":\n",
    "        print(\"Nie pożyjesz długo!\")\n",
    "    else:\n",
    "        print(\"To pożyjesz długo!\")\n",
    "else:\n",
    "    print(\"To pożyjesz bardzo długo!\")"
   ]
  },
  {
   "cell_type": "markdown",
   "metadata": {},
   "source": [
    "# Zad\n",
    "Proszę napisać program zwracający największą z trzech zdanych liczb:\n",
    "\n",
    "<tt>    \n",
    "a=1<br />\n",
    "b=12<br />\n",
    "c=4<br />\n",
    "</tt>"
   ]
  },
  {
   "cell_type": "code",
   "execution_count": null,
   "metadata": {
    "collapsed": true
   },
   "outputs": [],
   "source": []
  },
  {
   "cell_type": "markdown",
   "metadata": {},
   "source": [
    "# 2. Pętle\n",
    "W Pythonie istnieją dwa typy pętli: <b>for<b> i <b>while<b>."
   ]
  },
  {
   "cell_type": "markdown",
   "metadata": {},
   "source": [
    "# 2.1 Pętle iterowane po elementach sekwencji\n",
    "\n",
    "Typowa pętla po liczbach:"
   ]
  },
  {
   "cell_type": "code",
   "execution_count": null,
   "metadata": {
    "collapsed": false
   },
   "outputs": [],
   "source": [
    "for x in range(3,10):\n",
    "      print(x)"
   ]
  },
  {
   "cell_type": "markdown",
   "metadata": {},
   "source": [
    "Funkcja <b>range</b> tworzy \"listę\" wartości całkowitych: \n",
    "\n",
    "- od zera do podanej wartości (jeżeli podamy 1 argument) \n",
    "- od - do (jeżeli podamy 2 argumenty)\n",
    "- możemy podać też trzeci parametr określający przyrost (normalnie +1).\n"
   ]
  },
  {
   "cell_type": "code",
   "execution_count": null,
   "metadata": {
    "collapsed": false
   },
   "outputs": [],
   "source": [
    "print(range(10))\n",
    "print(range(3, 10))\n",
    "print(range(1,10,2))\n",
    "print(range(4,0,-1))"
   ]
  },
  {
   "cell_type": "markdown",
   "metadata": {},
   "source": [
    "Pętla <b>for</b> może też iterować inne typy danych, np napisy, listy:"
   ]
  },
  {
   "cell_type": "code",
   "execution_count": null,
   "metadata": {
    "collapsed": false
   },
   "outputs": [],
   "source": [
    "bar = \"Zdrabniamy literki\"\n",
    "for i in bar:\n",
    "    print(i, end =\"\")\n",
    "print()\n",
    "\n",
    "x = [2, 3, 5, 7]\n",
    "for i in x:\n",
    "    print(i, end =\" \") \n",
    "print()\n",
    "\n",
    "for e in ['apple', 'orange', 'peach']:\n",
    "    print(e, end =\" \")"
   ]
  },
  {
   "cell_type": "markdown",
   "metadata": {},
   "source": [
    "W takiej pętli nie mamy dostępu do indeksu elementu w liście, ale możemy taki uzyskać, odpowiednio mapując kolekcję za pomocą <b>enumerate</b> (generator):"
   ]
  },
  {
   "cell_type": "code",
   "execution_count": null,
   "metadata": {
    "collapsed": false
   },
   "outputs": [],
   "source": [
    "print(list(enumerate(['apple', 'orange', 'peach'])), \"\\n\")\n",
    "\n",
    "for i, x in enumerate(['apple', 'orange', 'peach']):\n",
    "    print(i, x)"
   ]
  },
  {
   "cell_type": "markdown",
   "metadata": {},
   "source": [
    "## W for może wystąpić dowolny typ sekwencyjny:\n",
    "* str, list, tuple, range, bytes, bytearray\n",
    "* krotka tworzona operatorem ,: 1,2,3 albo (3,) albo ()\n",
    "* Łańcuchy: 'ala', ”makota”\n",
    "* Operacje na sekwencjach:\n",
    "  * Operacje:\n",
    "    * x in s, x not in s\n",
    "    * s + t\n",
    "    * s * n\n",
    "    * s[i], s[i:j], s[i:j:k]\n",
    "\n",
    "  * Operacje:\n",
    "    * len(s)\n",
    "    * min(s), max(s)\n",
    "    * s.index(x[, i[, j]])\n",
    "    * s.count(x)"
   ]
  },
  {
   "cell_type": "markdown",
   "metadata": {},
   "source": [
    "# 2.2 Pętla while\n",
    "\n",
    "Pętla **while** powtarza instrukcje znajdujące się w jej wnętrzu tak długo, dopóki podany warunek logiczny jest spełniony. \n",
    "\n",
    "Na przykład:"
   ]
  },
  {
   "cell_type": "code",
   "execution_count": null,
   "metadata": {
    "collapsed": false
   },
   "outputs": [],
   "source": [
    "x=[1,2,3,4,5,6]\n",
    "while x:\n",
    "    x=x[:len(x)-1] # funkcja len() zwraca długość listy (liczbę elementów)\n",
    "    print(x)"
   ]
  },
  {
   "cell_type": "code",
   "execution_count": null,
   "metadata": {
    "collapsed": false
   },
   "outputs": [],
   "source": [
    "licznik = 10\n",
    "\n",
    "while licznik < 15:\n",
    "    licznik += 1\n",
    "    print(\"Jestem w while.\")"
   ]
  },
  {
   "cell_type": "markdown",
   "metadata": {},
   "source": [
    "\n",
    "# Zad\n",
    "Napisz program, który będzie wczytywał kolejne słowa i je wypisywał aż do wczytania słowa \"stop\" po którym program się zatrzyma.\n"
   ]
  },
  {
   "cell_type": "code",
   "execution_count": null,
   "metadata": {
    "collapsed": false
   },
   "outputs": [],
   "source": []
  },
  {
   "cell_type": "markdown",
   "metadata": {},
   "source": [
    "# 2.3 Instrukcje \"break\" and \"continue\""
   ]
  },
  {
   "cell_type": "markdown",
   "metadata": {},
   "source": [
    "Polecenie **break** służy do wyjścia z pętli **for** lub **while**, podczas gdy instrukcja **continue** jest używana, aby pominąć bieżący blok (jedną iterację pętli), i kontynuować dalszy przebieg pętli **for** lub **while**. \n",
    "\n",
    "Na przykład:"
   ]
  },
  {
   "cell_type": "code",
   "execution_count": null,
   "metadata": {
    "collapsed": false
   },
   "outputs": [],
   "source": [
    "count = 0\n",
    "while True:\n",
    "    print(count, end=\"\") \n",
    "    count += 1 # count = count + 1\n",
    "    if count >= 5:\n",
    "        break"
   ]
  },
  {
   "cell_type": "code",
   "execution_count": null,
   "metadata": {
    "collapsed": false
   },
   "outputs": [],
   "source": [
    "for x in range(10):\n",
    "    # Check if x is even\n",
    "    if x % 2 == 0:\n",
    "        continue\n",
    "    print(x, end=\"\") "
   ]
  },
  {
   "cell_type": "markdown",
   "metadata": {},
   "source": [
    "W przeciwieństwie do innych języków, jak np C, C++, Java, pętla w Pythonie mogą również zawierać blok **else**, wykonywany po ostatnim obiegu pętli:"
   ]
  },
  {
   "cell_type": "code",
   "execution_count": null,
   "metadata": {
    "collapsed": false
   },
   "outputs": [],
   "source": [
    "for i in range(1, 5):\n",
    "    print(i)\n",
    "else:\n",
    "    print('KONIEC')\n",
    "    \n",
    "print() \n",
    "\n",
    "x=7\n",
    "while x:\n",
    "    x-=1\n",
    "    print(x)\n",
    "else:\n",
    "    print(\"koniec\")"
   ]
  },
  {
   "cell_type": "markdown",
   "metadata": {},
   "source": [
    "# Zad. \n",
    "\n",
    "Napisz program, który pobiera od użytkownika liczby, jeżeli liczba jest parzysta to ja wypisuje a jeśli nie to zaczytuje następną. Użyj instrukcji \"continue\"."
   ]
  },
  {
   "cell_type": "code",
   "execution_count": null,
   "metadata": {
    "collapsed": false
   },
   "outputs": [],
   "source": []
  },
  {
   "cell_type": "markdown",
   "metadata": {},
   "source": [
    "# Zad. \n",
    "\n",
    "Napisz program, który pobiera od użytkownika liczby, jeżeli liczba jest parzysta to ja wypisuje a jeśli nie to kończy działanie. Użyj instrukcji \"break\". "
   ]
  },
  {
   "cell_type": "code",
   "execution_count": null,
   "metadata": {
    "collapsed": false
   },
   "outputs": [],
   "source": []
  },
  {
   "cell_type": "markdown",
   "metadata": {},
   "source": [
    "# Zad.\n",
    "\n",
    "Napisz program tworzący tablicę n na m elementową w kształcie tablicy szachowej. Np. dla\n",
    "<br />\n",
    "<tt>\n",
    "n = 5<br />\n",
    "m = 5\n",
    "</tt>\n",
    "\n",
    "otrzymujemy\n",
    "\n",
    "<br />\n",
    "<tt>\n",
    "10101<br />\n",
    "01010<br />\n",
    "10101<br />\n",
    "01010<br />\n",
    "10101<br />\n",
    "</tt>"
   ]
  },
  {
   "cell_type": "code",
   "execution_count": null,
   "metadata": {
    "collapsed": false
   },
   "outputs": [],
   "source": [
    "n = 6\n",
    "m = 6\n",
    "\n",
    "for i in range(n):\n",
    "    for j in range(m):\n",
    "        if( (i+j) % 2 == 0):\n",
    "            print(\"0\", end=' ')\n",
    "        else:\n",
    "            print(\"1\", end=' ')\n",
    "        if(j==m-1):\n",
    "            print(\"\\n\", end='')\n",
    "            "
   ]
  },
  {
   "cell_type": "markdown",
   "metadata": {},
   "source": [
    "# 3. Formatowanie liczb"
   ]
  },
  {
   "cell_type": "markdown",
   "metadata": {},
   "source": [
    "Celem pętli często jest wyświetlenie kolumny liczb. \n",
    "\n",
    "Aby liczby wyświetlane były w należyty sposób i w pożądanym miejscu używamy operatora formatowania **%** w połączeniu z ciągiem formatującym. \n",
    "\n",
    "Ciąg formatujący składa się ze znaku **%**, po którym następują \n",
    "\n",
    "* opcje formatowania, \n",
    "* ilość znaków przeznaczonych do wyświetlenia \n",
    "* oraz typ danej do wyświetlenia \n",
    "(przy czym tylko trzeci element – tj. typ danych jest wymagany).\n",
    "\n",
    "Typ danej sygnalizujemy pojedynczą literą. I tak:\n",
    "* litera s oznacza napis (konwertuje każdy typ danych na tekst), np.:"
   ]
  },
  {
   "cell_type": "code",
   "execution_count": null,
   "metadata": {
    "collapsed": false
   },
   "outputs": [],
   "source": [
    "# stary sposób\n",
    "\n",
    "print(\"%s\" % 10)\n",
    "print(\"%s\" % range(6))\n",
    "print(\"%s\" % \"txt\")\n",
    "print('%10s' % 'test')\n",
    "print('%-10s' % 'test')\n",
    "print('%.5s' % 'xylophone')"
   ]
  },
  {
   "cell_type": "code",
   "execution_count": null,
   "metadata": {
    "collapsed": false
   },
   "outputs": [],
   "source": [
    "# nowy\n",
    "\n",
    "print(\"{}\".format(10))\n",
    "print(\"{}\".format(range(6)))\n",
    "print(\"{}\".format(\"txt\"))\n",
    "print('{:>10}'.format('test'))\n",
    "print('{:10}'.format('test'))\n",
    "print('{:.5}'.format('xylophone'))"
   ]
  },
  {
   "cell_type": "markdown",
   "metadata": {},
   "source": [
    "Poniższe sposoby nie są dostępne w starym sposobie formatowania."
   ]
  },
  {
   "cell_type": "code",
   "execution_count": null,
   "metadata": {
    "collapsed": false
   },
   "outputs": [],
   "source": [
    "print('{:_<10}'.format('test'))\n",
    "print('{:^10}'.format('test'))\n",
    "print('{:^6}'.format('zip'))"
   ]
  },
  {
   "cell_type": "markdown",
   "metadata": {},
   "source": [
    "* litera **c** oznacza pojedynczy znak w kodzie ASCII, np.:"
   ]
  },
  {
   "cell_type": "code",
   "execution_count": null,
   "metadata": {
    "collapsed": false
   },
   "outputs": [],
   "source": [
    "print(\"%c\" % \"A\")\n",
    "print(\"%c\" % 77)\n",
    "print(\"%c\" % 33)"
   ]
  },
  {
   "cell_type": "markdown",
   "metadata": {},
   "source": [
    "* litera **d** oznacza dziesiętną liczbę całkowitą (konwertuje kompatybilny typ danych na liczbę całkowitą), np.:"
   ]
  },
  {
   "cell_type": "code",
   "execution_count": null,
   "metadata": {
    "collapsed": false
   },
   "outputs": [],
   "source": [
    "print(\"%d\" % 0xff)\n",
    "print(\"%d\" % 2)\n",
    "print('{:d}'.format(0xff))\n",
    "print('{:d}'.format(2))"
   ]
  },
  {
   "cell_type": "markdown",
   "metadata": {},
   "source": [
    "* litera **x** oznacza szesnastkową liczbę całkowitą (konwertuje kompatybilny typ danych na liczbę całkowitą), np.:"
   ]
  },
  {
   "cell_type": "code",
   "execution_count": null,
   "metadata": {
    "collapsed": false
   },
   "outputs": [],
   "source": [
    "print(\"%x\" % 0xff)\n",
    "print(\"%x\" % 2)\n",
    "\n",
    "print('{:x}'.format(0xff))\n",
    "print('{:x}'.format(2))"
   ]
  },
  {
   "cell_type": "markdown",
   "metadata": {},
   "source": [
    "* litera **o** oznacza ósemkową liczbę całkowitą (konwertuje kompatybilny typ danych na liczbę całkowitą), np.:"
   ]
  },
  {
   "cell_type": "code",
   "execution_count": null,
   "metadata": {
    "collapsed": false
   },
   "outputs": [],
   "source": [
    "print(\"%o\" % 0xff)\n",
    "print(\"%o\" % 22)\n",
    "print(\"%o\" % 77)\n",
    "\n",
    "print('{:o}'.format(0xff))\n",
    "print('{:o}'.format(22))\n",
    "print('{:o}'.format(77))"
   ]
  },
  {
   "cell_type": "markdown",
   "metadata": {},
   "source": [
    "* litera **e** oznacza liczbę zmiennopozycyjną w postaci wykładniczej, np.:"
   ]
  },
  {
   "cell_type": "code",
   "execution_count": null,
   "metadata": {
    "collapsed": false
   },
   "outputs": [],
   "source": [
    "print(\"%e\" % 1)\n",
    "print(\"%e\" % 1.23)\n",
    "print(\"%e\" % 123)\n",
    "\n",
    "print('{:e}'.format(1))\n",
    "print('{:e}'.format(1.23))\n",
    "print('{:e}'.format(123))"
   ]
  },
  {
   "cell_type": "markdown",
   "metadata": {},
   "source": [
    "* litera **f** oznacza liczbę zmiennopozycyjną w postaci ułamka dziesiętnego, np.:"
   ]
  },
  {
   "cell_type": "code",
   "execution_count": null,
   "metadata": {
    "collapsed": false
   },
   "outputs": [],
   "source": [
    "print(\"%f\" % 123)\n",
    "print(\"%f\" % 1.23)\n",
    "\n",
    "print('{:f}'.format(123))\n",
    "print('{:f}'.format(1.23))"
   ]
  },
  {
   "cell_type": "markdown",
   "metadata": {},
   "source": [
    "# Ustalenie długości pola do wyświetlenia tekstu\n",
    "\n",
    "Aby przekonać się na czym polega zaleta formatowania, wyświetlmy tabelę kwadratów i sześcianów wybranych liczb:"
   ]
  },
  {
   "cell_type": "code",
   "execution_count": null,
   "metadata": {
    "collapsed": false
   },
   "outputs": [],
   "source": [
    "for x in range(5, 100, 10):\n",
    "      print(x, x**2, x**3)"
   ]
  },
  {
   "cell_type": "markdown",
   "metadata": {},
   "source": [
    "Spróbujmy ustalić w formacie długość pola do wyświetlenia każdej liczby na 4, jej kwadratu na 6, a sześcianu na 8:"
   ]
  },
  {
   "cell_type": "code",
   "execution_count": null,
   "metadata": {
    "collapsed": false
   },
   "outputs": [],
   "source": [
    "for x in range(5, 100, 10):\n",
    "      print(\"%4d%6d%8d\" % (x, x**2, x**3))\n",
    "\n",
    "print()\n",
    "\n",
    "for x in range(5, 100, 10):\n",
    "      print(\"{:4d}{:6d}{:8d}\".format(x, x**2, x**3))"
   ]
  },
  {
   "cell_type": "markdown",
   "metadata": {},
   "source": [
    "Formatując liczby zmiennopozycyjne możemy także ustalić nie tylko całkowitą długość, ale także liczbę wyświetlanych miejsc po przecinku. Na przykład:"
   ]
  },
  {
   "cell_type": "code",
   "execution_count": null,
   "metadata": {
    "collapsed": false
   },
   "outputs": [],
   "source": [
    "print(\"%.4f\"% 123.060723)\n",
    "print(\"%3.5f\" % 1.2343355)\n",
    "\n",
    "print('{:.4f}'.format(123.060723))\n",
    "print('{:3.5f}'.format(1.2343355))"
   ]
  },
  {
   "cell_type": "markdown",
   "metadata": {},
   "source": [
    "# Zad.\n",
    "\n",
    "Spróbujmy ustalić w formacie długość pola do wyświetlenia liczb [0.1, 0.2, ..., 0.9, 1.0]  na 2 i 1 po przecinku, jej kwadratu na 2 i 2 po przecinku, a sześcianu na 1 i 3 po przecinku:"
   ]
  },
  {
   "cell_type": "code",
   "execution_count": null,
   "metadata": {
    "collapsed": false
   },
   "outputs": [],
   "source": [
    "l=[0.1, 0.2, 0.3, 0.4, 0.5, 0.6, 0.7, 0.8, 0.9, 1.]\n",
    "for x in l:\n",
    "      print(\"%2.2f  %2.2f  %2.3f\" % (x, x**2, x**3))"
   ]
  },
  {
   "cell_type": "markdown",
   "metadata": {},
   "source": [
    "# Wybrane opcje formatowania\n",
    "* opcja **+** wymusza wyświetlanie znaku liczby, także dla liczb nieujemnych:"
   ]
  },
  {
   "cell_type": "code",
   "execution_count": null,
   "metadata": {
    "collapsed": false
   },
   "outputs": [],
   "source": [
    "for x in range (-10, 11):\n",
    "    print(\"%+d\" % x, end=\" \")\n",
    "        \n",
    "print()\n",
    "        \n",
    "for x in range (-10, 11):\n",
    "    print((\"{:+d}\").format(x), end=\" \")"
   ]
  },
  {
   "cell_type": "markdown",
   "metadata": {},
   "source": [
    "* opcja **#** spowoduje, że liczby np. ósemkowe i szesnastkowe będą poprzedzane właściwym prefiksem:"
   ]
  },
  {
   "cell_type": "code",
   "execution_count": null,
   "metadata": {
    "collapsed": false
   },
   "outputs": [],
   "source": [
    "for x in range(5, 100, 10):\n",
    "      print(\"%3d%#6o%#5x\" % (x, x, x))\n",
    "        \n",
    "print()\n",
    "\n",
    "for x in range(5, 100, 10):\n",
    "      print((\"{:3d}{:#6o}{:#5x}\").format(x, x, x))"
   ]
  },
  {
   "cell_type": "markdown",
   "metadata": {},
   "source": [
    "* opcja **-** spowoduje, że liczby będą wyrównywane do lewej, a nie prawej krawędzi swojego pola:"
   ]
  },
  {
   "cell_type": "code",
   "execution_count": null,
   "metadata": {
    "collapsed": false
   },
   "outputs": [],
   "source": [
    "for x in range(5, 100, 10):\n",
    "    print(\"%-3d%#-6o%#-5x\" % (x, x, x))"
   ]
  },
  {
   "cell_type": "markdown",
   "metadata": {},
   "source": [
    "* opcja **0** spowoduje, że pole przeznaczone na liczby będzie wypełniane nie spacjami, lecz zerami:"
   ]
  },
  {
   "cell_type": "code",
   "execution_count": null,
   "metadata": {
    "collapsed": false
   },
   "outputs": [],
   "source": [
    "for x in range(5, 120, 10):\n",
    "    print(\"%03d \" % (x))\n",
    "        \n",
    "print()\n",
    "\n",
    "for x in range(5, 120, 10):\n",
    "    print((\"{:03d}\").format(x))"
   ]
  },
  {
   "cell_type": "markdown",
   "metadata": {},
   "source": [
    "# Zad. \n",
    "\n",
    "Napisz program wyświetlający tabliczkę mnożenia o wymiarach  n×n. Zadbaj o wyrównanie liczb w kolumnach do prawej strony. Przykład dla  n=4:\n",
    "\n",
    "$$\n",
    "\\begin{array}{l l l l l}\n",
    "  & 1 & 2 & 3 & 4\\\\\n",
    "1 & 1 & 2 & 3 & 4\\\\\n",
    "2 & 2 & 4 & 6 & 8\\\\\n",
    "3 & 3 & 6 & 9 & 12\\\\\n",
    "4 & 4 & 8 & 12 & 16\\\\\n",
    "\\end{array}\n",
    "$$"
   ]
  },
  {
   "cell_type": "code",
   "execution_count": null,
   "metadata": {
    "collapsed": false
   },
   "outputs": [],
   "source": [
    "n=10\n",
    "for i in range(0,n):\n",
    "    print()\n",
    "    for j in range(0,n):\n",
    "        if(i==0 and j == 0):\n",
    "            print(\"%-3s\" % \" \", end=\" \") \n",
    "        elif(i==0):\n",
    "            print(\"%-3i\" % (j), end=\" \")\n",
    "        elif(j==0):\n",
    "            print(\"%-3i\" % (i), end=\" \")    \n",
    "        else:\n",
    "            print(\"%-3i\" % (i*j), end=\" \")"
   ]
  },
  {
   "cell_type": "markdown",
   "metadata": {},
   "source": [
    "# Zad.\n",
    "\n",
    "Napisać program rysujący \"miarkę\" o zadanej długości. Należy prawidłowo obsłużyć liczby składające się z kilku cyfr, np.:\n",
    "\n",
    "$$|....|....|....|....|....|....|....|....|$$\n",
    "$$0 \\quad \\ 1 \\quad \\ 2 \\quad \\ 3 \\quad \\ 4 \\quad \\ 5 \\quad \\ 6 \\quad \\ 7 \\quad \\ 8$$"
   ]
  },
  {
   "cell_type": "code",
   "execution_count": null,
   "metadata": {
    "collapsed": false
   },
   "outputs": [],
   "source": [
    "def print_lin(lin_len=8):\n",
    "    text_1 = \"|\"\n",
    "    text_2 = \"\"\n",
    "    for i in range(lin_len):\n",
    "        text_1 += \"....|\"\n",
    "        text_2 += str(i)+\"    \"\n",
    "    text_2 += str(i+1)\n",
    "    print(text_1)\n",
    "    print(text_2)\n",
    "    \n",
    "print_lin()  "
   ]
  },
  {
   "cell_type": "markdown",
   "metadata": {},
   "source": [
    "# Zad. \n",
    "\n",
    "Napisz program, który zwraca wszystkie liczby pierwsze od 0 do liczby podanej przez użytkownika. "
   ]
  },
  {
   "cell_type": "code",
   "execution_count": null,
   "metadata": {
    "collapsed": true
   },
   "outputs": [],
   "source": [
    "def nLiczby(nLiczbaOd = 1, nLiczbaDo=10):\n",
    "    nLista = []\n",
    "    for i in range(nLiczbaOd, nLiczbaDo):\n",
    "        for x in range(2,i):\n",
    "            if (i % x) == 0:\n",
    "                break\n",
    "            else:\n",
    "                if( x == i-1):\n",
    "                    nLista.append(i)\n",
    "            #print(nLista)\n",
    "\n",
    "nLiczby(0,10) # tak wywołuje funkcje nLiczby"
   ]
  },
  {
   "cell_type": "markdown",
   "metadata": {},
   "source": [
    "# Zad.\n",
    "Wypisz w pętli liczby od 0 do 30 z wyjątkiem liczb podzielnych przez 3. "
   ]
  },
  {
   "cell_type": "code",
   "execution_count": null,
   "metadata": {
    "collapsed": false
   },
   "outputs": [],
   "source": [
    "for i in range(30):\n",
    "    if( i % 3 != 0):\n",
    "        print(i, end=\" \")"
   ]
  },
  {
   "cell_type": "markdown",
   "metadata": {},
   "source": [
    "# Zad.\n",
    "Napisz program, który pobiera dwie liczby od użytkownika i wylicza:\n",
    "\n",
    " * NWD\n",
    " * NWW"
   ]
  },
  {
   "cell_type": "code",
   "execution_count": null,
   "metadata": {
    "collapsed": false
   },
   "outputs": [],
   "source": [
    "# Wyliczanie NWD i NWW\n",
    "# 1. wprowadzanie liczb\n",
    "print(\"Podaj dwie liczby naturalne:\")\n",
    "a = int(input(\"Pierwsza:\"))\n",
    "b = int(input(\"Druga:\"))\n",
    "# 2. ustalenie która jest mniejsza\n",
    "if a > b:\n",
    "    w = a\n",
    "    m = b\n",
    "else:\n",
    "    w = b\n",
    "    m = a\n",
    "# 3. pętla główna\n",
    "r = w % m\n",
    "while r:\n",
    "    w = m\n",
    "    m = r\n",
    "    r = w % m\n",
    "# 4. wyświetlenie rezultatów\n",
    "print(\"NWD liczb %i i %i wynosi %i, a ich NWW wynosi %i\" % (a,b,m,a*b/m))"
   ]
  },
  {
   "cell_type": "code",
   "execution_count": null,
   "metadata": {
    "collapsed": true
   },
   "outputs": [],
   "source": []
  }
 ],
 "metadata": {
  "kernelspec": {
   "display_name": "Python 3",
   "language": "python",
   "name": "python3"
  },
  "language_info": {
   "codemirror_mode": {
    "name": "ipython",
    "version": 3
   },
   "file_extension": ".py",
   "mimetype": "text/x-python",
   "name": "python",
   "nbconvert_exporter": "python",
   "pygments_lexer": "ipython3",
   "version": "3.6.0"
  }
 },
 "nbformat": 4,
 "nbformat_minor": 2
}
