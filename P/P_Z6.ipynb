{
 "cells": [
  {
   "cell_type": "markdown",
   "metadata": {},
   "source": [
    "# 3. Klasy czyli obiektowość w Pythonie\n",
    "Python jest językiem do programowania zorientowanego obiektowo (object-oriented programming). Cechy takiego programowania są następujące:\n",
    "\n",
    "* programy są zbudowane z definicji obiektów i definicji funkcji, ponadto większość obliczeń wyrażona jest w postaci operacji na obiektach,\n",
    "* każda definicja obiektu odpowiada obiektowi lub koncepcji w świecie rzeczywistym. Funkcje działające na obiektach odpowiadają sposobowi działania obiektów w świecie rzeczywistym.\n",
    "\n",
    "Instrukcja wykonywalna **class** tworzy obiekt klasy i przypisuje go do nazwy. Zakres instrukcji class staje się przestrzenią nazw atrybutów obiektu klasy. Atrybuty klasy udostępniają stan obiektu i jego zachowanie.\n",
    "Najprostszą formą definicji klasy jest:\n",
    "\n",
    "```python\n",
    "class NazwaKlasy:\n",
    "    class_docstring       # opcjonalnie\n",
    "    instrukcje\n",
    "```\n",
    "\n",
    "Przykład:"
   ]
  },
  {
   "cell_type": "code",
   "execution_count": null,
   "metadata": {
    "collapsed": false
   },
   "outputs": [],
   "source": [
    "class Point:      # instrukcja tworząca obiekt klasy\n",
    "    \"\"\"Klasa odpowiadająca punktom na płaszczyźnie.\"\"\"\n",
    "    pass          # wymagana jakaś instrukcja\n",
    "\n",
    "p = Point()   # tworzenie obiektu instancji klasy\n",
    "# Uwaga: nawiasy pokazują, że jest to wywołanie klasy.\n",
    "print(p)"
   ]
  },
  {
   "cell_type": "markdown",
   "metadata": {},
   "source": [
    "# Obiekty klas\n",
    "Istnieją dwa typy pól (obiektów klasy) — zmienne klas i zmienne obiektów, które rozróżniamy po tym, czy dana zmienna należy do całej klasy, czy też do poszczególnych obiektów.\n",
    "\n",
    "* Zmienne klasy są dzielone, co oznacza, że są dostępne dla wszystkich instancji danej klasy. Istnieje tylko jedna kopia zmiennej klasy, czyli jeśli jeden obiekt zmieni w jakiś sposób tę zmienną, to zmiana ta będzie widziana również przez wszystkie pozostałe instancje."
   ]
  },
  {
   "cell_type": "code",
   "execution_count": null,
   "metadata": {
    "collapsed": false
   },
   "outputs": [],
   "source": [
    "class Point:\n",
    "    \"\"\"Klasa dla punktów.\"\"\"\n",
    "    ile = 0\n",
    "\n",
    "p1 = Point()\n",
    "print(p1.ile)\n",
    "\n",
    "Point.ile += 1 # zmieniamy zmienną statyczną\n",
    "\n",
    "p2 = Point()\n",
    "print(p2.ile)\n",
    "\n",
    "p1.ile += 1\n",
    "\n",
    "p3 = Point()\n",
    "print(p3.ile)\n",
    "print(p1.ile)\n",
    "print(p2.ile)\n",
    "\n",
    "Point.ile += 1 # ponownie zmieniamy\n",
    "\n",
    "print(p1.ile)\n",
    "print(p2.ile)\n",
    "print(p3.ile)"
   ]
  },
  {
   "cell_type": "markdown",
   "metadata": {},
   "source": [
    "* Zmienne obiektów należą do poszczególnych obiektów danej klasy. Oznacza to, że każdy obiekt posiada własną kopię takiej zmiennej, czyli nie są one dzielone ani w żadnej sposób powiązane ze sobą w różnych instancjach danej klasy."
   ]
  },
  {
   "cell_type": "code",
   "execution_count": null,
   "metadata": {
    "collapsed": false
   },
   "outputs": [],
   "source": [
    "class Point:                            # definicja obiektu klasy\n",
    "    \"\"\"Klasa dla punktów.\"\"\"            # łańcuch dokumentacyjny\n",
    "\n",
    "    def set_point(self, x, y):          # definicja metody klasy\n",
    "        \"\"\"Ustaw punkt.\"\"\"\n",
    "        self.x = x            # przypisanie atrybutu do instancji\n",
    "        self.y = y\n",
    "        \n",
    "p1 = Point()\n",
    "p1.set_point(2, 5)\n",
    "print(p1.x, p1.y)\n",
    "\n",
    "p2 = Point()\n",
    "p2.set_point(7, 1)\n",
    "print(p2.x, p2.y)\n",
    "print(p1.x, p1.y)"
   ]
  },
  {
   "cell_type": "markdown",
   "metadata": {},
   "source": [
    "Nazwa **self** nie jest słowem kluczowym, ale odnosi się do argumentu znajdującego się najbardziej na lewo. Nazwa ta automatycznie odnosi się do przetwarzanej instancji. Nazwa **other** jest zwyczajowo nadawana argumentowi drugiemu licząc od lewej, kiedy metoda wykonuje pewne operacje związane z dwoma różnymi instancjami, np. dodawanie, porównywanie."
   ]
  },
  {
   "cell_type": "code",
   "execution_count": null,
   "metadata": {
    "collapsed": false
   },
   "outputs": [],
   "source": [
    "class Point:                \n",
    "\n",
    "    def set_point(self, x, y):  \n",
    "        \"\"\"Ustaw punkt.\"\"\"\n",
    "        self.x = x           \n",
    "        self.y = y\n",
    "\n",
    "    def wypisz(self):\n",
    "        \"\"\"Wypisz punkt.\"\"\"\n",
    "        print(\"(%s, %s)\" % (self.x, self.y))\n",
    "\n",
    "    def same_point(self, other):\n",
    "        \"\"\"Porównaj punkty.\"\"\"\n",
    "        return (self.x == other.x) and (self.y == other.y)\n",
    "\n",
    "p1 = Point()\n",
    "p1.set_point(1.1, 2.6)\n",
    "p1.wypisz()\n",
    "\n",
    "p2 = Point()\n",
    "p2.set_point(1.1, 2.6)\n",
    "p2.wypisz()\n",
    "\n",
    "print(\"Takie same = \", p1.same_point(p2))\n",
    "# równoważne\n",
    "print(\"Takie same = \", Point.same_point(p1, p2))\n",
    "\n",
    "p3 = Point()\n",
    "p3.set_point(8.3, 2.6)\n",
    "p3.wypisz()\n",
    "print(\"Takie same = \", p1.same_point(p3))"
   ]
  },
  {
   "cell_type": "markdown",
   "metadata": {},
   "source": [
    "Na obiektach klasy można przeprowadzać dwa rodzaje operacji:\n",
    "\n",
    "* odniesienia do atrybutów:\n",
    "\n",
    "Odniesienie do atrybutu da się wyrazić za pomocą standardowej składni używanej w przypadku odniesień dla wszystkich atrybutów w Pythonie: **obiekt.nazwa**. Prawidłowymi nazwami atrybutów są nazwy, które istniały w przestrzeni nazw klasy w czasie tworzenia jej obiektu. Tak więc, jeśli definicja klasy wygląda następująco:\n",
    "\n",
    "```python\n",
    "class MojaKlasa:\n",
    "  \"Prosta, przykładowa klasa\"\n",
    "  a = 123\n",
    "  def f(x):\n",
    "      print 'Witaj świecie :)'\n",
    "```\n",
    "\n",
    "to **MojaKlasa.a** i **MojaKlasa.f** są prawidłowymi odniesieniami do jej atrybutów, których wartością jest odpowiednio liczba całkowita i obiekt metody. Atrybutom klasy można przypisywać wartości. \n",
    "\n",
    "Przykład:\n"
   ]
  },
  {
   "cell_type": "code",
   "execution_count": null,
   "metadata": {
    "collapsed": false
   },
   "outputs": [],
   "source": [
    "class Point: \n",
    "    pass          # wymagana jakaś instrukcja\n",
    "\n",
    "p = Point()   # tworzenie obiektu instancji klasy\n",
    "\n",
    "# Do punktu (instancji) przypisujemy atrybuty korzystając z \n",
    "# notacji z kropką.\n",
    "p.x = 3.4\n",
    "p.y = 5.6\n",
    "x = 7.8\n",
    "\n",
    "# Zmienne x i point.x to dwie różne wartości.\n",
    "# Instancja point jest osobną przestrzenią nazw.\n",
    "print(x, p.x)\n",
    "print(p)                   \n",
    "\n",
    "def wypisz(p1):\n",
    "    \"\"\"Wypisz punkt.\"\"\"\n",
    "    print(\"(%s, %s)\" % (p1.x, p1.y))\n",
    "\n",
    "# Wywołujemy funkcję dla punktu. Do funkcji przekazujemy wartość\n",
    "# zmiennej point, czyli referencję do obiektu.\n",
    "\n",
    "wypisz(p)"
   ]
  },
  {
   "cell_type": "markdown",
   "metadata": {},
   "source": [
    "* konkretyzacja:\n",
    "\n",
    "Konkretyzację klasy przeprowadza się używając notacji wywołania funkcji. Należy tylko udać, że obiekt klasy jest bezparametrową funkcją, która zwraca instancję (konkret) klasy. Przykład:"
   ]
  },
  {
   "cell_type": "code",
   "execution_count": null,
   "metadata": {
    "collapsed": false
   },
   "outputs": [],
   "source": [
    "class MojaKlasa:\n",
    "    \"Prosta, przykładowa klasa\"\n",
    "    a = 123\n",
    "    def f(x):\n",
    "        print('Witaj świecie :)')\n",
    "        \n",
    "x = MojaKlasa()\n",
    "x.f()"
   ]
  },
  {
   "cell_type": "markdown",
   "metadata": {},
   "source": [
    "W powyższym przykładzie tworzymy nowy obiekt klasy i wiążemy go z nazwą zmiennej lokalnej x poprzez przypisanie do niej."
   ]
  },
  {
   "cell_type": "markdown",
   "metadata": {},
   "source": [
    "## Metody Specjalne\n",
    "Istnieje wiele metod, które mają specjalne znaczenie dla klas w Pythonie. Oto niektóre z nich:\n",
    "\n",
    "* **\\__init__**:\n",
    "\n",
    "Metoda **\\__init__** jest wywoływana w momencie, kiedy tworzony jest obiekt danej klasy. Jest ona przydatna, kiedy chcemy zainicjalizować obiekt w jakiś sposób. Zwróćmy uwagę na podwójne podkreślniki na początku i na końcu nazwy."
   ]
  },
  {
   "cell_type": "code",
   "execution_count": null,
   "metadata": {
    "collapsed": false
   },
   "outputs": [],
   "source": [
    "class Point:\n",
    "    \"\"\"Klasa dla punktów.\"\"\"\n",
    "\n",
    "    def __init__(self, x, y):\n",
    "        \"\"\"Ustaw punkt.\"\"\"\n",
    "        self.x = x \n",
    "        self.y = y\n",
    "        \n",
    "    def wypisz(self):\n",
    "        \"\"\"Wypisz punkt.\"\"\"\n",
    "        print(\"(%s, %s)\" % (self.x, self.y))\n",
    "    \n",
    "p = Point(2, 4)\n",
    "p.wypisz()\n",
    "\n",
    "p1 = Point() # zwraca błąd"
   ]
  },
  {
   "cell_type": "markdown",
   "metadata": {},
   "source": [
    "* **\\__del__**\n",
    "\n",
    "Metoda **\\__del__** jest destruktorem, tzn. niszczy obiekt. Działa gdy licznik referencji zejdzie do zera. Nie korzystamy bo garbage collector jest nieprzewidywalny."
   ]
  },
  {
   "cell_type": "code",
   "execution_count": null,
   "metadata": {
    "collapsed": false
   },
   "outputs": [],
   "source": [
    "class Point:\n",
    "    \"\"\"Klasa dla punktów.\"\"\"\n",
    "    counter = 0                     # atrybut klasy\n",
    "\n",
    "    def __init__(self, x=0, y=0):\n",
    "        \"\"\"Konstruktor punktu.\"\"\"\n",
    "        self.x = x\n",
    "        self.y = y\n",
    "        Point.counter = Point.counter + 1\n",
    "        print(\"init: counter =\", Point.counter)\n",
    "\n",
    "    def __del__(self):\n",
    "        \"\"\"Destruktor punktu.\"\"\"\n",
    "        Point.counter = Point.counter -1\n",
    "        print(\"del: counter =\", Point.counter)\n",
    "        \n",
    "print(\"counter =\", Point.counter)\n",
    "p1 = Point(3.4, 5.6)\n",
    "p2 = Point(4.5, 2.1) \n",
    "p3 = Point(2.3, 7.2) \n",
    "\n",
    "del(p1)\n",
    "del(p2)"
   ]
  },
  {
   "cell_type": "markdown",
   "metadata": {},
   "source": [
    "* **\\__str__**\n",
    "\n",
    "Metoda **\\__str__** konwertuje dane na napis (wywoływane przez str(x)):"
   ]
  },
  {
   "cell_type": "code",
   "execution_count": null,
   "metadata": {
    "collapsed": false
   },
   "outputs": [],
   "source": [
    "class Point:\n",
    "    \"\"\"Klasa dla punktów.\"\"\"\n",
    "\n",
    "    def __init__(self, x=0, y=0):\n",
    "        \"\"\"Konstruktor punktu.\"\"\"\n",
    "        self.x = x\n",
    "        self.y = y\n",
    "\n",
    "    def __str__(self):\n",
    "        \"\"\"Postać łańcuchowa punktu.\"\"\"\n",
    "        return(\"(%s, %s)\" % (self.x, self.y))\n",
    "\n",
    "p1 = Point(3.4, 5.6)\n",
    "p2 = Point(4.5, 2.1) \n",
    "print(\"Wypisujemy punkty:\", p1, p2)"
   ]
  },
  {
   "cell_type": "markdown",
   "metadata": {},
   "source": [
    "**\\__add__**, **\\__sub__**, **\\__mul__ etc**. - przeciążanie operatorów"
   ]
  },
  {
   "cell_type": "code",
   "execution_count": null,
   "metadata": {
    "collapsed": false
   },
   "outputs": [],
   "source": [
    "class Point:\n",
    "    \"\"\"Klasa dla punktów.\"\"\"\n",
    "\n",
    "    def __init__(self, x=0, y=0):\n",
    "        \"\"\"Konstruktor punktu.\"\"\"\n",
    "        self.x = x\n",
    "        self.y = y\n",
    "\n",
    "    def __str__(self):\n",
    "        \"\"\"Postać łańcuchowa punktu.\"\"\"\n",
    "        return \"(%s, %s)\" % (self.x, self.y)\n",
    "\n",
    "    def __add__(self, other): \n",
    "        \"\"\"Dodawanie punktów jako wektorów.\"\"\"\n",
    "        return Point(self.x + other.x, self.y + other.y)\n",
    "\n",
    "\n",
    "p1 = Point(3.4, 5.6)\n",
    "p2 = Point(4.5, 2.1)\n",
    "print(\"Wypisujemy punkty:\", p1, p2)\n",
    "print(\"Dodajemy punkty:\", p1 + p2)"
   ]
  },
  {
   "cell_type": "markdown",
   "metadata": {},
   "source": [
    "* **\\__lt__** (<), **\\__gt__** (<=), **\\__eq__** (==), **\\__ne__** (!=,<>), etc ... porównanie"
   ]
  },
  {
   "cell_type": "code",
   "execution_count": null,
   "metadata": {
    "collapsed": false
   },
   "outputs": [],
   "source": [
    "class Point:\n",
    "    \"\"\"Klasa dla punktów.\"\"\"\n",
    "\n",
    "    def __init__(self, x=0, y=0):\n",
    "        \"\"\"Konstruktor punktu.\"\"\"\n",
    "        self.x = x\n",
    "        self.y = y\n",
    "\n",
    "    def __str__(self):\n",
    "        \"\"\"Postać łańcuchowa punktu.\"\"\"\n",
    "        return \"(%s, %s)\" % (self.x, self.y)\n",
    "\n",
    "    def __lt__(self, other): \n",
    "        \"\"\"Dodawanie punktów jako wektorów.\"\"\"\n",
    "        return (self.x < other.x) and (self.y < other.y)\n",
    "\n",
    "\n",
    "p1 = Point(3.4, 5.6)\n",
    "p2 = Point(4.5, 2.1)\n",
    "print(\"Wypisujemy punkty:\", p1, p2)\n",
    "print(\"Sprawdzamy czy p1 < p2:\", p1 < p2)\n",
    "\n",
    "p3 = Point(4.5, 6.1)\n",
    "print(\"Sprawdzamy czy p1 < p3:\", p1 < p3)"
   ]
  },
  {
   "cell_type": "markdown",
   "metadata": {},
   "source": [
    "* **\\__call__**\n",
    "Przechwytywanie wywołań instancji realizuje metoda **\\__call__**. Dzięki temu klasy mogą emulować funkcje, ale z dodatkowymi możliwościami, jak zachowywanie stanu między wywołaniami."
   ]
  },
  {
   "cell_type": "code",
   "execution_count": null,
   "metadata": {
    "collapsed": false
   },
   "outputs": [],
   "source": [
    "class Printer:\n",
    "    \"\"\"Klasa reprezentująca obiekt wyświetlający.\"\"\"\n",
    "\n",
    "    def __init__(self, counter=0):\n",
    "        \"\"\"Utwórz obiekt.\"\"\"\n",
    "        self.counter = counter  # licznik wywołań funkcji\n",
    "\n",
    "    def __call__(self, *arguments, **keywords):\n",
    "        \"\"\"Obsługa wywołania.\"\"\"\n",
    "        self.counter = self.counter + 1\n",
    "        print(\"Wywołanie:\", arguments, keywords)\n",
    "\n",
    "X = Printer()\n",
    "X(1, 2)                       # Wywołanie: (1, 2) {}\n",
    "X(1, 2, x=3, y=4)             # Wywołanie: (1, 2) {\"x\":3, \"y\":4}\n",
    "print(X.counter)               # odczyt licznika wywołań funkcji"
   ]
  },
  {
   "cell_type": "markdown",
   "metadata": {},
   "source": [
    "Więcej na temat (tych i innych) metod specjalnych można znaleźć [tutaj](https://pl.python.org/docs/ref/node15.html).\n",
    "\n",
    "Przykłady:"
   ]
  },
  {
   "cell_type": "code",
   "execution_count": null,
   "metadata": {
    "collapsed": false
   },
   "outputs": [],
   "source": [
    "# Przykład 1\n",
    "\n",
    "class Point:                            # definicja obiektu klasy\n",
    "    \"\"\"Klasa dla punktów.\"\"\"            # łańcuch dokumentacyjny\n",
    "\n",
    "    def set_point(self, x, y):          # definicja metody klasy\n",
    "        \"\"\"Ustaw punkt.\"\"\"\n",
    "        self.x = x            # przypisanie atrybutu do instancji\n",
    "        self.y = y\n",
    "\n",
    "    def wypisz(self):\n",
    "        \"\"\"Wypisz punkt.\"\"\"\n",
    "        print(\"(%s, %s)\" % (self.x, self.y))\n",
    "\n",
    "    def same_point(self, other):\n",
    "        \"\"\"Porównaj punkty.\"\"\"\n",
    "        return (self.x == other.x) and (self.y == other.y)\n",
    "\n",
    "p1 = Point()\n",
    "p1.set_point(3.4, 5.6)       # odpowiada Point.set_point(pt1, 3.4, 5.6)\n",
    "p1.wypisz()\n",
    "p2 = Point()\n",
    "p2.set_point(3.4, 5.6)\n",
    "p2.wypisz()\n",
    "print(\"te same?\", p1.same_point(p2))\n",
    "print(\"te same?\", Point.same_point(p1, p2))    # równoważne\n",
    "\n",
    "# Metodę można utworzyć poza klasą, a następnie trzeba powiązać\n",
    "# ją z klasą (na tym etapie nazwa self jest istotna).\n",
    "def show_point(self):         # tworzymy funkcję\n",
    "    \"\"\"Wypisz punkt.\"\"\"\n",
    "    print(\"x =\", self.x, \"y =\", self.y)\n",
    "\n",
    "Point.show = show_point      # funkcja staje się metodą klasy\n",
    "p1.show()                    # wywołanie metody\n",
    "Point.show(p1)               # równoważne wywołanie"
   ]
  },
  {
   "cell_type": "code",
   "execution_count": null,
   "metadata": {
    "collapsed": false
   },
   "outputs": [],
   "source": [
    "# Przykład 2\n",
    "\n",
    "class Point:\n",
    "    \"\"\"Klasa dla punktów.\"\"\"\n",
    "    counter = 0                 \n",
    "\n",
    "    def __init__(self, x=0, y=0):\n",
    "        \"\"\"Konstruktor punktu.\"\"\"\n",
    "        self.x = x\n",
    "        self.y = y\n",
    "        Point.counter = Point.counter + 1\n",
    "        print(\"init: counter =\", Point.counter)\n",
    "\n",
    "    def __str__(self):\n",
    "        \"\"\"Postać łańcuchowa punktu.\"\"\"\n",
    "        return \"(%s, %s)\" % (self.x, self.y)\n",
    "\n",
    "    def __add__(self, other):\n",
    "        \"\"\"Dodawanie punktów jako wektorów.\"\"\"\n",
    "        return Point(self.x + other.x, self.y + other.y)\n",
    "\n",
    "    def __del__(self):\n",
    "        \"\"\"Destruktor punktu.\"\"\"\n",
    "        Point.counter = Point.counter -1\n",
    "        print(\"del: counter =\", Point.counter)\n",
    "\n",
    "print(\"counter =\", Point.counter)       # na starcie counter=0\n",
    "p1 = Point(3.4, 5.6)                   # counter=1\n",
    "p2 = Point(4.5, 2.1)                   # counter=2\n",
    "print(\"metoda __str__\", p1, p2)\n",
    "print(\"metoda __add__\", p1 + p2)        # counter wzrasta do 3 i od razu wraca do 2\n",
    "\n",
    "# Każda instancja ma łącze do swojej klasy.\n",
    "print(p1.__class__)\n",
    "print(p1.__dict__.keys())               # przestrzeń nazw instancji\n",
    "\n",
    "del p1                                 # counter=1\n",
    "del p2                                 # counter=0\n",
    "print(dir(Point))                       # przestrzeń nazw klasy\n",
    "print(Point.__dict__.keys())            # przestrzeń nazw klasy"
   ]
  },
  {
   "cell_type": "markdown",
   "metadata": {},
   "source": [
    "# Zad.\n",
    "\n",
    "Napisz klasę Point w 3D wraz z potrzebnymi metodami (skorzystaj z poniższego szablonu - uzupełni brakujące definicje). Punkty są traktowane jak wektory zaczepione w początku układu współrzędnych, o końcu w położeniu (x, y, z). Przedstaw działanie poniższej klasy. Zapisz program w pliku o nazwie ,,points.py''."
   ]
  },
  {
   "cell_type": "code",
   "execution_count": null,
   "metadata": {
    "collapsed": true
   },
   "outputs": [],
   "source": []
  },
  {
   "cell_type": "markdown",
   "metadata": {},
   "source": [
    "# Zad\n",
    "\n",
    "Proszę napisać klase ,,Complex'', która będzie odzwierciedlać liczbe zespoloną. Klasa liczb zespolonych powinna zawierać 2 atrybuty: liczbę określającą część rzeczywistą i urojoną (konstruktor - __init__). Ponadto, powinna zawierać funkcje umożliwiające wypisywanie (**\\__str__**), dodawanie (**\\__add__**), mnożenie (**\\__mul__**) liczb zespolonych."
   ]
  },
  {
   "cell_type": "code",
   "execution_count": null,
   "metadata": {
    "collapsed": true
   },
   "outputs": [],
   "source": []
  },
  {
   "cell_type": "markdown",
   "metadata": {},
   "source": [
    "# Zad\n",
    "\n",
    "Proszę napisać klasę „osoba”.\n",
    "\n",
    "Obiektami klasy mają być:\n",
    "\n",
    " * imie[20]\n",
    " * nazwisko[20]\n",
    " * wiek\n",
    " * pesel\n",
    "\n",
    "Dodaj konstruktor.\n",
    "\n",
    "Zdefiniować metodę \\__str__, która wypisuje dane osoby.\n",
    "\n",
    "Zdefiniuj funkcje\n",
    " \n",
    "* zmien_imie\n",
    "* zmien_nazwisko\n",
    "* zmien_wiek\n",
    "* zmien_pesel"
   ]
  },
  {
   "cell_type": "code",
   "execution_count": null,
   "metadata": {
    "collapsed": true
   },
   "outputs": [],
   "source": []
  },
  {
   "cell_type": "markdown",
   "metadata": {},
   "source": [
    "# 2. Wyjątki\n",
    "\n",
    "Wyjątek jest zdarzeniem, które może modyfikować przebieg sterowania programów. W Pythonie wyjątki wywoływane są automatycznie w momencie wystąpienia błędów (np.: przy dzieleniu przez zero) i mogą być wywoływane oraz przechwytywane przez nasz kod.\n",
    "\n",
    "Najważniejsze powody wykorzystywania wyjątków:\n",
    "\n",
    "* obsługa błędów,\n",
    "* powiadomienia o zdarzeniach (nie każdy wyjątek to błąd),\n",
    "* obsługa przypadków specjalnych,\n",
    "* nietypowy przebieg sterowania (pythonowe \"goto\").\n",
    "\n",
    "Kiedy pojawi się błąd w czasie wykonywania programu, tworzony jest wyjątek (exception). Zwykle wtedy program jest zatrzymywany, a Python wypisuje komunikat o błędzie, np.:"
   ]
  },
  {
   "cell_type": "code",
   "execution_count": null,
   "metadata": {
    "collapsed": false
   },
   "outputs": [],
   "source": [
    "# Dzielenie przez zero - ZeroDivisionError.\n",
    "print 5/0"
   ]
  },
  {
   "cell_type": "code",
   "execution_count": null,
   "metadata": {
    "collapsed": false
   },
   "outputs": [],
   "source": [
    "# Odwołanie się do nieistniejącego elementu listy - IndexError.\n",
    "x = []\n",
    "print x[1]"
   ]
  },
  {
   "cell_type": "code",
   "execution_count": null,
   "metadata": {
    "collapsed": false
   },
   "outputs": [],
   "source": [
    "# Odwołanie się do nieistniejącego klucza w słowniku - KeyError.\n",
    "s = {'1':5}\n",
    "print s['2']"
   ]
  },
  {
   "cell_type": "markdown",
   "metadata": {},
   "source": [
    "## Wybrane wyjątki:\n",
    "\n",
    "* ArithmeticError - klasa bazowa dla wyjątków związanych z błędami arytmetycznymi,\n",
    "* AssertionError - powstaje gdy wyrażenie assert napotka False,\n",
    "* IndexError - powstaje kiedy indeks sekwencji jest poza dozwolonym zakresem,\n",
    "* KeyError - powstaje kiedy słownik (ogólnie mapping) nie posiada żądanego klucza,\n",
    "* NameError - powstaje kiedy lokalna lub globalna nazwa zmiennej nie zostaje znaleziona,\n",
    "* SyntaxError - powstaje kiedy parser napotka błąd składniowy,\n",
    "* TypeError - powstaje kiedy operacja lub funkcja jest zastosowana do obiektu niewłaściwego typu,\n",
    "* ValueError - powstaje kiedy wbudowana operacja lub funkcja otrzymuje argument właściwego typu, ale mający niewłaściwą wartość.\n",
    "\n",
    "## Przechwytywanie wyjątków\n",
    "\n",
    "Jeśli nie chcemy, aby program zatrzymał się po wystąpieniu wyjątku, należy ,,opakować'' nasz kod w instrukcję **try/except/else** w celu samodzielnego przechwycenia wyjątku. Jeżeli zależy nam na wykonaniu pewnych działań końcowych, niezależnych od wystąpienia wyjątku, wówczas używamy instrukcji finally. Przykłady:"
   ]
  },
  {
   "cell_type": "code",
   "execution_count": null,
   "metadata": {
    "collapsed": false
   },
   "outputs": [],
   "source": [
    "# x = []\n",
    "x = range(5)\n",
    "\n",
    "try:\n",
    "    print(x[1])\n",
    "except IndexError:\n",
    "    print(\"mam wyjątek\")\n",
    "else:\n",
    "    print(\"nie było wyjątku\")\n",
    "print(\"kontynuuję\")"
   ]
  },
  {
   "cell_type": "markdown",
   "metadata": {},
   "source": [
    "Klauzula else zostanie wykonany, jeśli nie zostanie zgłoszony wyjątek."
   ]
  },
  {
   "cell_type": "markdown",
   "metadata": {},
   "source": [
    "## Jak to działa\n",
    "\n",
    "Na początku wykonywana jest klauzula try (czyli instrukcje pomiędzy try, a except). Jeżeli nie pojawi się żaden wyjątek klauzula except jest pomijana. Wykonanie instrukcji try uważa się za zakończone. Jeżeli podczas wykonywania klauzuli try pojawi się wyjątek, reszta niewykonanych instrukcji jest pomijana. Następnie, w zależności od tego, czy jego typ pasuje do typów wyjątków wymienionych w części except, wykonywany jest kod następujący w tym bloku, a potem interpreter przechodzi do wykonywania instrukcji umieszczonych po całym bloku try...except."
   ]
  },
  {
   "cell_type": "code",
   "execution_count": null,
   "metadata": {
    "collapsed": false
   },
   "outputs": [],
   "source": [
    "x = []\n",
    "# x = range(5)\n",
    "try:\n",
    "    print(x[1])\n",
    "finally:\n",
    "    print(\"zawsze wykonane\")\n",
    "print(\"kontynuuję\")"
   ]
  },
  {
   "cell_type": "markdown",
   "metadata": {},
   "source": [
    "Jeżeli podczas wykonywania bloku try nie wystąpił wyjątek, to będzie wykonany blok finally, a następnie instrukcje pod instrukcją try. Jeżeli podczas wykonywania bloku try wystąpił wyjątek, to będzie wykonany blok finally, ale potem wyjątek będzie przekazany wyżej.\n",
    "\n",
    "Ogólny format instrukcji try/except/else/finally zawiera wiele opcjonalnych bloków z programami obsługi, choć musi pojawić się przynajmniej jeden.\n",
    "\n",
    "```python\n",
    "# Składnia.\n",
    "try:\n",
    "    instrukcje                   # podstawowe działanie instrukcji\n",
    "except Exception1:               # przechwytuje wskazany wyjątek\n",
    "    instrukcje\n",
    "except (Exception2, Exception3): # przechwytuje wymienione wyjątki\n",
    "    instrukcje\n",
    "except Exception4 as Value1:     # przechwytuje wyjątek i jego instancję\n",
    "    instrukcje\n",
    "except (Exception4, Exception5) as Value2: # przechwytuje wyjątki i instancję\n",
    "    instrukcje\n",
    "except:                          # przechwytuje wszystkie (pozostałe) wyjątki\n",
    "    instrukcje\n",
    "else:                            # działania przy braku zgłoszenia wyjątku\n",
    "    instrukcje\n",
    "finally:                         # działania końcowe\n",
    "    instrukcje\n",
    "```\n",
    "\n",
    "Należy ostrożnie korzystać z pustej części except, ponieważ może przechwycić nieoczekiwane wyjątki systemowe niezwiązane z naszym kodem albo wyjątki przeznaczone dla innych programów obsługi. Lepsza jest postać except Exception, która ignoruje wyjątki powiązane z systemowymi wyjściami z programu."
   ]
  },
  {
   "cell_type": "markdown",
   "metadata": {},
   "source": [
    "# Zgłaszanie wyjątków\n",
    "\n",
    "Do jawnego wywoływania wyjątków służy instrukcja raise. Pierwszy argument instrukcji raise służy do podania nazwy wyjątku. Opcjonalny drugi argument jest jego wartością (argumentem wyjątku)."
   ]
  },
  {
   "cell_type": "code",
   "execution_count": null,
   "metadata": {
    "collapsed": false
   },
   "outputs": [],
   "source": [
    "raise IndexError, \"To byl wyjatek\"   # stara składnia"
   ]
  },
  {
   "cell_type": "code",
   "execution_count": null,
   "metadata": {
    "collapsed": false
   },
   "outputs": [],
   "source": [
    "raise IndexError(\"To byl wyjatek\")  # nowa składnia"
   ]
  },
  {
   "cell_type": "markdown",
   "metadata": {},
   "source": [
    "Do wywołania wyjątku można także wykorzystać instrukcję assert, która jest wykorzystywana głównie przy debugowaniu kodu (wykorzystuje się ją do weryfikowania warunków programu w czasie jego tworzenia)."
   ]
  },
  {
   "cell_type": "code",
   "execution_count": null,
   "metadata": {
    "collapsed": false
   },
   "outputs": [],
   "source": [
    "# Składnia.\n",
    "# assert warunek, dane\n",
    "assert False, \"To byl wyjatek\"\n",
    "# assert True, \"To byl wyjatek\""
   ]
  },
  {
   "cell_type": "markdown",
   "metadata": {},
   "source": [
    "Wyjątki oparte na łańcuchach znaków zniknęły w Pythonie 2.6+ i 3.x. Obecnie korzysta się z wyjątków opartych na klasach.\n",
    "\n",
    "Zalety wyjątków opartych na klasach:\n",
    "\n",
    "* można je organizować w kategorie,\n",
    "* dołączają informacje o stanie,\n",
    "* obsługują dziedziczenie."
   ]
  },
  {
   "cell_type": "code",
   "execution_count": null,
   "metadata": {
    "collapsed": false
   },
   "outputs": [],
   "source": [
    "# Nowe podejście - wyjątek to klasa wywiedziona z Exception\n",
    "\n",
    "class BadNumberError(Exception):\n",
    "    pass\n",
    "\n",
    "def read_number():\n",
    "    number = int(input(\"Podaj liczbe: \"))\n",
    "    if number == 13:      # nie podoba nam się liczba 13\n",
    "        raise BadNumberError(\"13 przynosi pecha\")\n",
    "    return number\n",
    "\n",
    "try:\n",
    "    n = read_number()\n",
    "except BadNumberError:\n",
    "    print(\"przechwycenie BadNumberError\")"
   ]
  },
  {
   "cell_type": "markdown",
   "metadata": {},
   "source": [
    "Można zdefiniować własny konstruktor wyjątku (**\\__init__**). Podobnie można określić własny sposób wyświetlania wyjątku (**\\__str__**)."
   ]
  },
  {
   "cell_type": "code",
   "execution_count": null,
   "metadata": {
    "collapsed": false
   },
   "outputs": [],
   "source": [
    "class MyError(Exception):\n",
    "\n",
    "    def __init__(self, value):      # nasz konstruktor wyjątku\n",
    "        self.value = value\n",
    "\n",
    "    def __str__(self):              # zmiana sposobu wyświetlania wyjątku\n",
    "        return str(self.value)\n",
    "\n",
    "try:\n",
    "    raise MyError(2)    # instancja\n",
    "except MyError as exception:\n",
    "    print(\"mam wyjątek, value:\", exception.value)\n",
    "    print(\"mam wyjątek, value:\", exception)    # jw, bo jest __str__"
   ]
  },
  {
   "cell_type": "markdown",
   "metadata": {},
   "source": [
    "## Wykorzystanie wyjątków do innych celów\n",
    "\n",
    "Jest wiele innych sposobów wykorzystania wyjątków, oprócz obsługi błędów. Dobrym przykładem jest importowanie modułów Pythona, sprawdzając czy nastąpił wyjątek. Jeśli moduł nie istnieje zostanie rzucony wyjątek **ImportError**."
   ]
  },
  {
   "cell_type": "code",
   "execution_count": null,
   "metadata": {
    "collapsed": false
   },
   "outputs": [],
   "source": [
    "try:\n",
    "    import aaaa\n",
    "except ImportError:\n",
    "    print(\"mamy wyjątek - 1\")\n",
    "    try:\n",
    "        import numpy\n",
    "    except ImportError:\n",
    "        print(\"mamy wyjątek - 2\")"
   ]
  },
  {
   "cell_type": "markdown",
   "metadata": {},
   "source": [
    "Jako instrukcje **if**, np:"
   ]
  },
  {
   "cell_type": "code",
   "execution_count": null,
   "metadata": {
    "collapsed": false
   },
   "outputs": [],
   "source": [
    "def word_count(s):\n",
    "    words = s.split()\n",
    "    wdict = {}\n",
    "    for word in words:\n",
    "        if word not in wdict:\n",
    "            wdict[word] = 0\n",
    "        wdict[word] += 1\n",
    "    return wdict\n",
    "\n",
    "print(word_count(\"Ala ma kota, kot ma Ale\"))\n",
    "print(word_count(\"tak nie tak nie tak nie nie nie\"))"
   ]
  },
  {
   "cell_type": "code",
   "execution_count": null,
   "metadata": {
    "collapsed": false
   },
   "outputs": [],
   "source": [
    "def word_count(s):\n",
    "    words = s.split()\n",
    "    wdict = {}\n",
    "    for word in words:\n",
    "        try:                    # działa szybciej niż instrukcja if\n",
    "            wdict[word] += 1\n",
    "        except KeyError:\n",
    "            wdict[word] = 1\n",
    "    return wdict\n",
    "\n",
    "print(word_count(\"Ala ma kota, kot ma Ale\"))\n",
    "print(word_count(\"tak nie tak nie tak nie nie nie\"))"
   ]
  },
  {
   "cell_type": "markdown",
   "metadata": {
    "collapsed": true
   },
   "source": [
    "# Zad.\n",
    "\n",
    " Napisz program, w którym użytkownik najpierw wpisuje elementy, które są dodawane do tablicy, a potem użytkownik wybiera, który element wyświetlić. Jeśli element o zadanym numerze nie istnieje, program wyrzuci wyjątek, który ma być obsłużony. "
   ]
  },
  {
   "cell_type": "code",
   "execution_count": null,
   "metadata": {
    "collapsed": false
   },
   "outputs": [],
   "source": []
  },
  {
   "cell_type": "markdown",
   "metadata": {},
   "source": [
    "# Zad.\n",
    "\n",
    "Proszę zdefiniować klasę Circle wraz z potrzebnymi metodami. Okrąg jest określony przez podanie środka i promienia. Wykorzystać wyjątek ValueError do obsługi błędów."
   ]
  },
  {
   "cell_type": "code",
   "execution_count": null,
   "metadata": {
    "collapsed": true
   },
   "outputs": [],
   "source": []
  }
 ],
 "metadata": {
  "kernelspec": {
   "display_name": "Python 3",
   "language": "python",
   "name": "python3"
  },
  "language_info": {
   "codemirror_mode": {
    "name": "ipython",
    "version": 3
   },
   "file_extension": ".py",
   "mimetype": "text/x-python",
   "name": "python",
   "nbconvert_exporter": "python",
   "pygments_lexer": "ipython3",
   "version": "3.6.0"
  }
 },
 "nbformat": 4,
 "nbformat_minor": 2
}
