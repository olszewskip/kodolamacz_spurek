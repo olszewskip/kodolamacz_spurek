{
 "cells": [
  {
   "cell_type": "markdown",
   "metadata": {},
   "source": [
    "# 1. Wejście i wyjście\n",
    "\n",
    "W Pythonie istnieje kilka sposobów prezentowania wyników działania naszego programu:\n",
    "\n",
    "* dane mogą zostać wypisane na ekran,\n",
    "* zapisane do pliku w celu ponownego użycia.\n",
    "\n",
    "Python posiada wbudowaną funkcję **open**, która służy do otwierania plików z dysku. Zwraca ona obiekt pliku posiadający metody i atrybuty, dzięki którym możemy dostać się do pliku i wykonywać na nim pewne operacje, np. pobranie, dopisanie danych. Funkcja ta posiada dwa argumenty: nazwę (ścieżkę do pliku), tryb (określa czynność np. odczyt z pliku).\n",
    "\n",
    "Najprostszy sposób użycia metody open to:"
   ]
  },
  {
   "cell_type": "code",
   "execution_count": null,
   "metadata": {
    "collapsed": false
   },
   "outputs": [],
   "source": [
    "text = open('plik.txt', ).read()\n",
    "print(text)"
   ]
  },
  {
   "cell_type": "markdown",
   "metadata": {},
   "source": [
    "Jednakże nie jest to metoda bezpieczna. Dobry skrypt powinien zamykać połączenie z plikiem zaraz po zakończeniu operowania na nim. Do tego służy metoda **close**."
   ]
  },
  {
   "cell_type": "code",
   "execution_count": null,
   "metadata": {
    "collapsed": false
   },
   "outputs": [],
   "source": [
    "plik = open('plik.txt')\n",
    "try:\n",
    "    tekst = plik.read()\n",
    "finally:\n",
    "    plik.close()\n",
    "\n",
    "print(tekst)"
   ]
  },
  {
   "cell_type": "markdown",
   "metadata": {},
   "source": [
    "Różne tryby metody open:\n",
    "\n",
    "* **r** - czytanie pliku,\n",
    "* **w** - zapisywanie do pliku (kasowanie poprzedniej zawartości, gdy plik nie istnieje tworzy go),\n",
    "* **a** - dopisywanie do pliku (poprzednia zawartość pozostaje, dodanie nowych danych na końcu pliku),\n",
    "* **r+** - czytanie i pisanie (poprzednia zawartość pozostaje),\n",
    "* **w+** - czytanie i pisanie (kasowanie poprzedniej zawartości),\n",
    "* **a+** - czytanie i pisanie (poprzednia zawartość pozostaje),\n",
    "* **b** - dodatek do poprzednich, określa tryb binarny (Windows, Macintosh),\n",
    "* **U** - dodatek do poprzednich (uniwersalny translator nowych wierszy).\n",
    "\n",
    "W systemach Windows i na macintoshach dodanie b do tryb powoduje otwarcie pliku w trybie binarnym, tak więc możemy podać tryby rb, wb i r+b. Windows rozróżnia pliki tekstowe i binarne: znaki końca linii w plikach tekstowych są automatycznie zmieniane, gdy dane są czytane lub pisane.\n",
    "\n",
    "# Odczytywanie danych z pliku\n",
    "\n",
    "Wybrane funkcje:\n",
    "\n",
    "* przeczytanie całego pliku"
   ]
  },
  {
   "cell_type": "code",
   "execution_count": null,
   "metadata": {
    "collapsed": false
   },
   "outputs": [],
   "source": [
    "f = open('plik.txt', 'r')\n",
    "try:\n",
    "    tekst = f.read()\n",
    "finally:\n",
    "    f.close()\n",
    "\n",
    "print(tekst)"
   ]
  },
  {
   "cell_type": "markdown",
   "metadata": {},
   "source": [
    "* przeczytanie kilku (n) znaków:"
   ]
  },
  {
   "cell_type": "code",
   "execution_count": null,
   "metadata": {
    "collapsed": false
   },
   "outputs": [],
   "source": [
    "f = open('plik.txt', 'r')\n",
    "try:\n",
    "    tekst = f.read(7) # czyta 7 znakow\n",
    "finally: \n",
    "    f.close()\n",
    "\n",
    "print(tekst)"
   ]
  },
  {
   "cell_type": "markdown",
   "metadata": {},
   "source": [
    "* czytanie jednej linii (wraz ze znakiem końca linii \\n):"
   ]
  },
  {
   "cell_type": "code",
   "execution_count": null,
   "metadata": {
    "collapsed": false
   },
   "outputs": [],
   "source": [
    "f = open('plik.txt', 'r')\n",
    "try:\n",
    "    tekst = f.readline()\n",
    "    tekst = f.readline()\n",
    "    tekst = f.readline()\n",
    "finally: \n",
    "    f.close()\n",
    "\n",
    "print(tekst)"
   ]
  },
  {
   "cell_type": "markdown",
   "metadata": {},
   "source": [
    "* przeczytanie wszystkich linii i przechowanie ich jako listę stringów z \\n na końcu:"
   ]
  },
  {
   "cell_type": "code",
   "execution_count": null,
   "metadata": {
    "collapsed": false
   },
   "outputs": [],
   "source": [
    "f = open('plik.txt', 'r')\n",
    "try:\n",
    "    tekst = f.readlines()\n",
    "finally: \n",
    "    f.close()\n",
    "\n",
    "print(tekst)\n",
    "\n",
    "print()\n",
    "print(tekst[0])"
   ]
  },
  {
   "cell_type": "markdown",
   "metadata": {},
   "source": [
    "# Zapisywanie danych do pliku"
   ]
  },
  {
   "cell_type": "code",
   "execution_count": null,
   "metadata": {
    "collapsed": true
   },
   "outputs": [],
   "source": [
    "liczba = 131\n",
    "x = 1.2345\n",
    "napis = \"abcdef\"\n",
    "\n",
    "f = open('plik3.txt', 'w')\n",
    "try:\n",
    "    f.write(\"jeden\\n\")\n",
    "    f.write(str(liczba) + \"\\n\")\n",
    "    f.write(str(x) + \"\\n\")\n",
    "    f.write(napis + \"\\n\")\n",
    "finally: \n",
    "    f.close()"
   ]
  },
  {
   "cell_type": "code",
   "execution_count": null,
   "metadata": {
    "collapsed": false
   },
   "outputs": [],
   "source": [
    "f = open('plik3.txt', 'r')\n",
    "try:\n",
    "    tekst = f.read()\n",
    "finally:\n",
    "    f.close()\n",
    "\n",
    "print(tekst)"
   ]
  },
  {
   "cell_type": "markdown",
   "metadata": {},
   "source": [
    "Inny zapis:"
   ]
  },
  {
   "cell_type": "code",
   "execution_count": null,
   "metadata": {
    "collapsed": true
   },
   "outputs": [],
   "source": [
    "liczba = 535\n",
    "x = 633.647\n",
    "napis = \"ghij\"\n",
    "\n",
    "f = open('plik3.txt', 'w')\n",
    "try:\n",
    "    f.write(\"%d\\n\" % liczba)\n",
    "    f.write(\"%f\\n\" % x)\n",
    "    f.write(\"%s\\n\" % napis)\n",
    "    \n",
    "    f.write(\"%s %s %s\\n\" % (\"a1\",\"a2\",\"a3\"))\n",
    "    f.write(\"%s\\n\" % \" \".join([\"a1\",\"a2\",\"a3\"]))\n",
    "finally: \n",
    "    f.close()"
   ]
  },
  {
   "cell_type": "code",
   "execution_count": null,
   "metadata": {
    "collapsed": false
   },
   "outputs": [],
   "source": [
    "f = open('plik3.txt', 'r')\n",
    "try:\n",
    "    tekst = f.read()\n",
    "finally:\n",
    "    f.close()\n",
    "\n",
    "print(tekst)"
   ]
  },
  {
   "cell_type": "markdown",
   "metadata": {},
   "source": [
    "Zapisywanie kilku linii do pliku:"
   ]
  },
  {
   "cell_type": "code",
   "execution_count": null,
   "metadata": {
    "collapsed": true
   },
   "outputs": [],
   "source": [
    "str = [\"abcdef\\n\", \"nie\\n\", \"tak\\n\"]\n",
    "\n",
    "f = open('plik3.txt', 'w')\n",
    "try:\n",
    "    f.writelines(str)\n",
    "finally: \n",
    "    f.close()"
   ]
  },
  {
   "cell_type": "code",
   "execution_count": null,
   "metadata": {
    "collapsed": false
   },
   "outputs": [],
   "source": [
    "f = open('plik3.txt', 'r')\n",
    "try:\n",
    "    tekst = f.read()\n",
    "finally:\n",
    "    f.close()\n",
    "\n",
    "print(tekst)"
   ]
  },
  {
   "cell_type": "markdown",
   "metadata": {},
   "source": [
    "# Poruszanie się po pliku\n",
    "Oprócz powyższych metod istnieją jeszcze takie, które pozwalają poruszać się ,,wewnątrz'' pliku, np.:\n",
    "\n",
    " * funkcja **tell()** - zwraca liczbę całkowitą oznaczającą bieżącą pozycję w pliku mierzoną w bajtach, licząc od początku pliku,\n",
    " * funkcja **seek**(przesuniecie, od_czego) - zmienia pozycję w pliku. Nowa pozycja obliczana jest poprzez dodanie ,,przesuniecie'' do punktu odniesienia, a ten z kolei wyznaczony jest przez wartość argumentu ,,od_czego''. Wartość od_czego równa 0 oznacza początek pliku, 1 oznacza bieżącą pozycję, a 2 to koniec pliku. ,,od_czego'' może zostać pominięte i domyślnie przyjmowane jest jako 0, używając jako punktu odniesienia początek pliku."
   ]
  },
  {
   "cell_type": "code",
   "execution_count": null,
   "metadata": {
    "collapsed": false
   },
   "outputs": [],
   "source": [
    "f = open('plik5.txt', 'rb+')\n",
    "try:\n",
    "    print(f.tell())\n",
    "    print(f.tell())\n",
    "    f.seek(5)     # Idź do 5 bajtu w pliku\n",
    "    print(f.read(1))\n",
    "    f.seek(-3, 2) # Idź do 3 bajtu od końca pliku\n",
    "    print(f.read(1))\n",
    "finally: \n",
    "    f.close()"
   ]
  },
  {
   "cell_type": "markdown",
   "metadata": {},
   "source": [
    "## Przykład 1 (kopiowanie zawartości jednego pliku do drugiego):"
   ]
  },
  {
   "cell_type": "code",
   "execution_count": null,
   "metadata": {
    "collapsed": false
   },
   "outputs": [],
   "source": [
    "def copy_file(infile_name, outfile_name):\n",
    "    infile = open(infile_name, \"r\")\n",
    "    outfile = open(outfile_name, \"w\")\n",
    "    try:\n",
    "        for line in infile:\n",
    "            outfile.write(line)\n",
    "    finally:\n",
    "        infile.close()\n",
    "        outfile.close()\n",
    "        \n",
    "copy_file(\"plik2.txt\", \"plik4.txt\")"
   ]
  },
  {
   "cell_type": "markdown",
   "metadata": {},
   "source": [
    "## Przykład 2 (pobieranie określonego wiersza z pliku):"
   ]
  },
  {
   "cell_type": "code",
   "execution_count": null,
   "metadata": {
    "collapsed": false
   },
   "outputs": [],
   "source": [
    "import linecache\n",
    "wiersz = linecache.getline('plik.txt', 2)\n",
    "print(wiersz)"
   ]
  },
  {
   "cell_type": "markdown",
   "metadata": {},
   "source": [
    "# Inny sposób otwierania plików\n",
    "\n",
    "W Pythonie 2.6 i 3.x pojawiła się nowa instrukcja **with** z opcjonalnym **as** związana z wyjątkami. Instrukcja ta jest alternatywą dla zwykłego zastosowania **try finally**."
   ]
  },
  {
   "cell_type": "code",
   "execution_count": null,
   "metadata": {
    "collapsed": false
   },
   "outputs": [],
   "source": [
    "# Czytanie danych z pliku.\n",
    "# Plik zostanie zamknięty nawet gdy wystąpi wyjątek.\n",
    "with open(\"plik2.txt\", 'r') as f:\n",
    "#     print f.closed\n",
    "    text = f.read()\n",
    "\n",
    "print(f.closed)\n",
    "print()\n",
    "print(text)"
   ]
  },
  {
   "cell_type": "code",
   "execution_count": null,
   "metadata": {
    "collapsed": true
   },
   "outputs": [],
   "source": [
    "# Zapisywanie do pliku\n",
    "liczba = 234.5\n",
    "\n",
    "with open(\"plik6.txt\", 'w') as f:\n",
    "    f.write(\"%.1f\\n\" % liczba)"
   ]
  },
  {
   "cell_type": "markdown",
   "metadata": {},
   "source": [
    "## Operacje na plikach i katalogach\n",
    "\n",
    "Jednym z podstawowych zadań systemu operacyjnego jest obsługa dyskowego systemu plików. Funkcje, które pozwalają usuwać, przenosić pliki i katalogi znajdują się w modelu standardowym **os**:"
   ]
  },
  {
   "cell_type": "code",
   "execution_count": null,
   "metadata": {
    "collapsed": true
   },
   "outputs": [],
   "source": [
    "import os"
   ]
  },
  {
   "cell_type": "markdown",
   "metadata": {},
   "source": [
    "Poniżej podamy kilka funkcji pozwalających wykonywać pewne operacje na plikach i katalogach:\n",
    " \n",
    " * jak sprawdzić, w którym znajdujemy się katalogu:"
   ]
  },
  {
   "cell_type": "code",
   "execution_count": null,
   "metadata": {
    "collapsed": false
   },
   "outputs": [],
   "source": [
    "print(os.getcwd())"
   ]
  },
  {
   "cell_type": "markdown",
   "metadata": {},
   "source": [
    "* jak zmienić bieżący katalog:"
   ]
  },
  {
   "cell_type": "code",
   "execution_count": null,
   "metadata": {
    "collapsed": false
   },
   "outputs": [],
   "source": [
    "os.chdir('../')\n",
    "print(os.getcwd())\n",
    "os.chdir('F:\\J_python')\n",
    "print(os.getcwd())"
   ]
  },
  {
   "cell_type": "markdown",
   "metadata": {},
   "source": [
    "* jak sprawdzić zawartość dowolnego katalogu:"
   ]
  },
  {
   "cell_type": "code",
   "execution_count": null,
   "metadata": {
    "collapsed": false
   },
   "outputs": [],
   "source": [
    "print(os.listdir('.'))\n",
    "print()\n",
    "print(os.listdir(r'e:\\programy'))"
   ]
  },
  {
   "cell_type": "markdown",
   "metadata": {},
   "source": [
    "* jak znaleźć pliki z rozszerzeniem ,,exe'':"
   ]
  },
  {
   "cell_type": "code",
   "execution_count": null,
   "metadata": {
    "collapsed": false
   },
   "outputs": [],
   "source": [
    "import fnmatch\n",
    "# fnmatch(nazwa, wzorzec) - zwraca prawdę, wtedy i tylko wtedy, \n",
    "# gdy nazwa odpowiada wzorcowi\n",
    "\n",
    "print([x for x in os.listdir(r'C:\\Windows') if fnmatch.fnmatch(x,'*.exe')])"
   ]
  },
  {
   "cell_type": "markdown",
   "metadata": {},
   "source": [
    "* jak otrzymać katalog i nazwę pliku ze ścieżki path:"
   ]
  },
  {
   "cell_type": "code",
   "execution_count": null,
   "metadata": {
    "collapsed": false
   },
   "outputs": [],
   "source": [
    "print(os.path.split('C:\\Python24\\nazwa_katalogu\\plik.txt'))\n",
    "print(os.path.split(r'C:\\Python24\\nazwa_katalogu\\plik.txt')[0])\n",
    "print(os.path.split('C:\\Python24\\nazwa_katalogu\\plik.txt')[1])\n"
   ]
  },
  {
   "cell_type": "markdown",
   "metadata": {},
   "source": [
    "* jak połączyć ciąg katalogów w jedną ścieżkę:"
   ]
  },
  {
   "cell_type": "code",
   "execution_count": null,
   "metadata": {
    "collapsed": false
   },
   "outputs": [],
   "source": [
    "print(os.path.join('C:','Python24','nazwa_katalogu','plik.txt'))"
   ]
  },
  {
   "cell_type": "markdown",
   "metadata": {},
   "source": [
    "* jak srawdzić czy dany plik istnieje:"
   ]
  },
  {
   "cell_type": "code",
   "execution_count": null,
   "metadata": {
    "collapsed": false
   },
   "outputs": [],
   "source": [
    "print(os.path.exists('e:'))\n",
    "print(os.path.exists('f:'))"
   ]
  },
  {
   "cell_type": "markdown",
   "metadata": {},
   "source": [
    "* jak stworzyć nowy katalog:"
   ]
  },
  {
   "cell_type": "code",
   "execution_count": null,
   "metadata": {
    "collapsed": true
   },
   "outputs": [],
   "source": [
    "os.mkdir('nowy')"
   ]
  },
  {
   "cell_type": "markdown",
   "metadata": {},
   "source": [
    "* ak zmienić nazwę pliku lub katalogu:"
   ]
  },
  {
   "cell_type": "code",
   "execution_count": null,
   "metadata": {
    "collapsed": true
   },
   "outputs": [],
   "source": [
    "os.rename('nowy','nowy_1')"
   ]
  },
  {
   "cell_type": "markdown",
   "metadata": {},
   "source": [
    "* jak sprawdzić, czy dany obiekt jest plikiem:"
   ]
  },
  {
   "cell_type": "code",
   "execution_count": null,
   "metadata": {
    "collapsed": false
   },
   "outputs": [],
   "source": [
    "print(os.path.isfile('e:'))\n",
    "print(os.path.isfile('./plik1.txt'))"
   ]
  },
  {
   "cell_type": "markdown",
   "metadata": {},
   "source": [
    "* jak sprawdzić, czy dany obiekt jest katalogiem:"
   ]
  },
  {
   "cell_type": "code",
   "execution_count": null,
   "metadata": {
    "collapsed": false
   },
   "outputs": [],
   "source": [
    "print(os.path.isdir('e:'))"
   ]
  },
  {
   "cell_type": "markdown",
   "metadata": {},
   "source": [
    "* jak usunąć plik lub katalog z dysku:"
   ]
  },
  {
   "cell_type": "code",
   "execution_count": null,
   "metadata": {
    "collapsed": false
   },
   "outputs": [],
   "source": [
    "os.remove('./wyk6/plik4.txt')\n",
    "os.rmdir('nowy_1')"
   ]
  },
  {
   "cell_type": "markdown",
   "metadata": {},
   "source": [
    "# Zad.\n",
    "\n",
    "Napisz funkcję, która będzie zwracała:\n",
    "\n",
    "* liczbę wierszy,\n",
    "* liczbę wyrazów w każdej linii oraz obliczy średnią długość słowa w poszczególnych wierszach,\n",
    "* liczbę zdań w pliku.\n",
    "\n",
    "Funkcja powinna przyjmować jeden argument: nazwę/ścieżkę do pliku."
   ]
  },
  {
   "cell_type": "code",
   "execution_count": null,
   "metadata": {
    "collapsed": false
   },
   "outputs": [],
   "source": []
  },
  {
   "cell_type": "code",
   "execution_count": null,
   "metadata": {
    "collapsed": false
   },
   "outputs": [],
   "source": []
  },
  {
   "cell_type": "code",
   "execution_count": null,
   "metadata": {
    "collapsed": false
   },
   "outputs": [],
   "source": []
  },
  {
   "cell_type": "code",
   "execution_count": null,
   "metadata": {
    "collapsed": false
   },
   "outputs": [],
   "source": []
  },
  {
   "cell_type": "markdown",
   "metadata": {},
   "source": [
    "# Zad.\n",
    "\n",
    "Dany jest plik tekstowy o następującej zawartości:\n",
    "\n",
    "\n",
    "```python\n",
    "kanapka 2.50\n",
    "szarlotka 1.50\n",
    "woda_mineralna 1.50\n",
    "```\n",
    "\n",
    "Napisz funkcję, która obliczy łączną cenę koszyka towarów. Argumentem jest nazwa pliku, wartością jest łączna cena."
   ]
  },
  {
   "cell_type": "code",
   "execution_count": null,
   "metadata": {
    "collapsed": true
   },
   "outputs": [],
   "source": []
  },
  {
   "cell_type": "markdown",
   "metadata": {},
   "source": [
    "# Zad. \n",
    "\n",
    "Dany jest plik tekstowy o następującej zawartości\n",
    "\n",
    "```python\n",
    "kanapka 2.50\n",
    "szarlotka 1.50\n",
    "woda_mineralna 1.50\n",
    "```\n",
    "\n",
    "ym razem nazwy towarów mogą być wielowyrazowe, ale cena jest zawsze poprzedzona znakiem dwukropka.\n",
    "\n",
    "Napisz następujące funkcje\n",
    "\n",
    "* obliczanie ceny koszyka\n",
    "* dodawanie nowej pozycji do koszyka (na koniec)\n",
    "* usuwanie wybranej pozycji z koszyka (podajemy numer linii do usunięcia)\n",
    "\n"
   ]
  },
  {
   "cell_type": "code",
   "execution_count": null,
   "metadata": {
    "collapsed": true
   },
   "outputs": [],
   "source": []
  },
  {
   "cell_type": "markdown",
   "metadata": {
    "collapsed": true
   },
   "source": [
    "# 2. Wyrażenia regularne\n",
    "\n",
    "Wyrażenia regularne wykorzystywane są w praktyce do przetwarzania tekstów (wyszukiwania określonych znaków, łańcuchów). Wyrażenie regularne (ang. regular expression) stanowi wzorzec napisu. W oparciu o nie, możemy automatycznie odnaleźć w tekście każdy napis pasujący do wzorca (ang. matching string, lub krócej match). Funkcje obsługujące wyrażenia regularne w Pythonie znajdują się w module **re**."
   ]
  },
  {
   "cell_type": "code",
   "execution_count": null,
   "metadata": {
    "collapsed": true
   },
   "outputs": [],
   "source": [
    "import re"
   ]
  },
  {
   "cell_type": "markdown",
   "metadata": {},
   "source": [
    "# Najważniejsze metody modułu re:\n",
    "\n",
    " * **re.search(pattern, str)**\n",
    "\n",
    "Szuka dopasowania wyrażenia regularnego pattern w całym łańcuchu str i zwraca obiekt klasy MatchObject."
   ]
  },
  {
   "cell_type": "code",
   "execution_count": null,
   "metadata": {
    "collapsed": false
   },
   "outputs": [],
   "source": [
    "lancuch=\"\"\"Wlazł kot na płot i nie mruga.\n",
    "Smutna to blablalaaaa, niedługa?\"\"\"\n",
    "\n",
    "print(lancuch)\n",
    "kot = re.search(\"kot\", lancuch)\n",
    "print(kot)"
   ]
  },
  {
   "cell_type": "markdown",
   "metadata": {},
   "source": [
    "W zmiennej kot mamy teraz zapamiętany wynik wyszukiwania wzorca \"kot\" w napisie lancuch w postaci obiektu klasy MatchObject, który posiada m.in. metody **start** i **end** zwracające początek i koniec pasującego do wzorca fragmentu napisu, który z kolei zwracany jest przez metodę **group** wywołaną z parametrem 0 (kolejne liczby naturalne zwracają kolejne grupy wyrażenia regularnego):"
   ]
  },
  {
   "cell_type": "code",
   "execution_count": null,
   "metadata": {
    "collapsed": false
   },
   "outputs": [],
   "source": [
    "print(kot.start(), kot.end(), kot.group())"
   ]
  },
  {
   "cell_type": "markdown",
   "metadata": {},
   "source": [
    "* **re.match(pattern, str)**\n",
    "\n",
    "Szuka dopasowania wyrażenia regularnego pattern, ale tylko na początku łańcucha str, czym różni się od funkcji search:"
   ]
  },
  {
   "cell_type": "code",
   "execution_count": null,
   "metadata": {
    "collapsed": false
   },
   "outputs": [],
   "source": [
    "print(re.match(\"kot\", lancuch))\n",
    "w = re.match(\"Wlazł\", lancuch)\n",
    "print(w.start(), w.end(), w.group())"
   ]
  },
  {
   "cell_type": "markdown",
   "metadata": {},
   "source": [
    "* **re.findall(pattern, str)**\n",
    "\n",
    "Funkcja findall pozwala znaleźć wszystkie wystąpienia wzorca w tekście i zwraca ich listę:"
   ]
  },
  {
   "cell_type": "code",
   "execution_count": null,
   "metadata": {
    "collapsed": false
   },
   "outputs": [],
   "source": [
    "print(re.findall(\"nie\", lancuch))"
   ]
  },
  {
   "cell_type": "markdown",
   "metadata": {},
   "source": [
    "* **re.finditer(pattern, str)**\n",
    "\n",
    "Zwraca iterator zwracający kolejne obiekty dopasowania wzorca pattern w łańcuchu str:"
   ]
  },
  {
   "cell_type": "code",
   "execution_count": null,
   "metadata": {
    "collapsed": false
   },
   "outputs": [],
   "source": [
    "text = \"He was carefully disguised but captured quickly by police.\"\n",
    "for m in re.finditer(r\"\\w+ly\", text):\n",
    "    print('%02d-%02d: %s' % (m.start(), m.end(), m.group(0)))"
   ]
  },
  {
   "cell_type": "markdown",
   "metadata": {},
   "source": [
    "* **re.split(pattern, str)**\n",
    "\n",
    "Zwraca listę stringów powstałą z podzielenia łańcucha str na każdym dopasowania wyrażenia regularnego pattern:"
   ]
  },
  {
   "cell_type": "code",
   "execution_count": null,
   "metadata": {
    "collapsed": false
   },
   "outputs": [],
   "source": [
    "print(re.split(\" - \",\"34 - 523 - 876 - 098\"))"
   ]
  },
  {
   "cell_type": "markdown",
   "metadata": {},
   "source": [
    "* **re.sub(pattern, repl, str)**\n",
    "Zwraca kopię łańcucha str, gdzie wszystkie dopasowania wyrażenia regularnego pattern zamienione zostały na repl:"
   ]
  },
  {
   "cell_type": "code",
   "execution_count": null,
   "metadata": {
    "collapsed": false
   },
   "outputs": [],
   "source": [
    "l2 = re.sub(\"ot\",\"otek\", lancuch)\n",
    "print(lancuch)\n",
    "print()\n",
    "print(l2)"
   ]
  },
  {
   "cell_type": "markdown",
   "metadata": {},
   "source": [
    "## Przyspieszanie wyszukiwania\n",
    "\n",
    "Jeżeli pewnego wzorca mamy zamiar używać wielokrotnie, wygodnie jest go skompilować. Funkcje modułu re dostępne są wtedy jako metody skompilowanego wyrażenia. Poprawia to także szybkość wyszukiwania."
   ]
  },
  {
   "cell_type": "code",
   "execution_count": null,
   "metadata": {
    "collapsed": false
   },
   "outputs": [],
   "source": [
    "procenty = re.compile(r\"\\b\\d+%\")\n",
    "print(procenty.findall(\"Woda ma 0% cukru.\"))\n",
    "print(procenty.findall(\"Śmietana ma 6% cukru.\"))\n",
    "print(procenty.findall(\"Cukier ma 100% cukru.\"))\n",
    "print(procenty.sub(\"90%\",\"Cukier ma 100% cukru.\"))\n",
    "print(procenty.split(\"Cukier ma 100% cukru.\"))"
   ]
  },
  {
   "cell_type": "markdown",
   "metadata": {},
   "source": [
    "## Obiekty dopasowania\n",
    "\n",
    "W przypadku dopasowania zwracany jest tzw. obiekt dopasowania (ang. match object). Obiekty dopasowania posiadają m.in. następujące metody:\n",
    "\n",
    "* group(n) - zwraca tekst dopasowania dla grupy n,\n",
    "* groups() - zwraca krotkę zawierającą dopasowania wszystkich grup, począwszy od 1. grupy,\n",
    "* start(n) - zwraca indeks początkowy dla grupy n,\n",
    "* end(n) - zwraca indeks końcowy dla grupy n,\n",
    "* span(n) - zwraca dla grupy n krotkę (indeks początkowy, indeks końcowy).\n",
    "\n",
    "Najważniejsza z powyższych jest funkcja group. Dla grupy 0 funkcja zwraca całe dopasowane wyrażenie regularne. Dla grup 1,2,... funkcja zwraca dopasowania w kolejnych nawiasach (nawiasy nieprzechwytujące nie są brane pod uwagę)."
   ]
  },
  {
   "cell_type": "code",
   "execution_count": null,
   "metadata": {
    "collapsed": false
   },
   "outputs": [],
   "source": [
    "pattern = r'(\\d+).(\\d*)'\n",
    "str = '342.79+12.56'\n",
    "\n",
    "m = re.match(pattern, str)\n",
    "\n",
    "print(m.group(0))           # 342.79, cale dopasowanie\n",
    "print(m.group(1))           # 342, dopasowanie (\\d+)\n",
    "print(m.group(2))           # 79, dopasowanie (\\d*)\n",
    "print(m.start(1), m.end(1)) \n",
    "print(m.start(2), m.end(2))\n",
    "print(m.span(2))"
   ]
  },
  {
   "cell_type": "markdown",
   "metadata": {},
   "source": [
    "## Znaki specjalne\n",
    "\n",
    "Większość znaków może być używana jako literały. Istnieją jednak znaki specjalne, które muszą być poprzedzone ukośnikiem \\, aby można było ich używać jako literałów. Wspomniane znaki specjalne to: \\, **.**, **^**, **$**, **?**, **+**, *****, **{**, **}**, **[**, **]**, **|**.\n",
    "\n",
    "## Surowe ciągi znaków\n",
    "\n",
    "Surowe ciągi znaków (ang. raw strings) ułatwiają pisanie wyrażeń regularnych w Pythonie, zmniejszając potrzebę użycia znaków ukośnika (backslash'a). Łańcuch znaków poprzedza się literą r, która wyłącza specjalne znaczenie ukośnika. Dobrą praktyką jest zawsze definiowanie wzorców jako surowych łańcuchów.\n",
    "Przykłady:"
   ]
  },
  {
   "cell_type": "code",
   "execution_count": null,
   "metadata": {
    "collapsed": false
   },
   "outputs": [],
   "source": [
    "print(\"ab*\")    # zwykły łańcuch\n",
    "print(r\"ab*\")   # surowy łańcuch\n",
    "\n",
    "print(\"\\\\w+\\\\s+\")    # zwykły łańcuch\n",
    "print(r\"\\w+\\s+\")    # surowy łańcuch"
   ]
  },
  {
   "cell_type": "markdown",
   "metadata": {},
   "source": [
    "## Klasy znaków\n",
    "\n",
    "Klasa znaków to jeden lub większa liczba znaków ujętych w nawiasy kwadratowe. Klasa znaków jest wyrażeniem. Jeśli nie jest podany po niej kwantyfikator, zostanie dopasowany dokładnie jeden znak spośród znaków zdefiniowanych w klasie znaków. Oto niektóre z nich:\n",
    "\n",
    "* . - dowolny znak z wyjątkiem znaku nowej linii,\n",
    "* \\d - dowolna cyfra,\n",
    "* \\D - dowolna znak nie będący cyfrą,\n",
    "* \\s - dowolny biały znak (spacja, tabulator, itd.),\n",
    "* \\S - dowolny znak nie będący białym znakiem,\n",
    "* \\w - dowolny znak alfanumeryczny (litera lub cyfra),\n",
    "* \\W - dowolny znak nie będący znakiem alfanumerycznym.\n",
    "\n",
    "## Kwantyfikatory wyrażeń regularnych\n",
    "\n",
    "Kwantyfikatory określają ilość powtórzeń znaków lub sekwencji we wzorcach. Domyślnie kwantyfikatory są zachłanne, tzn. starają się dopasować maksymalną możliwą ilość znaków w tekście. Oto niektóre z nich:\n",
    "\n",
    "* \\* - 0 lub więcej wystąpień,\n",
    "* \\+ - 1 lub więcej wystąpień,\n",
    "* ? - 0 lub 1 wystąpienie,\n",
    "* {n} - dokładnie n wystąpień,\n",
    "* {n,} - co najmniej n wystąpień,\n",
    "* {,n} - co najwyżej n wystąpień,\n",
    "* {m,n} - od m do n wystąpień,\n",
    "* [...] - jeden znak spośród zbioru znaków,\n",
    "* [^...] - jeden znak spoza zbioru znaków,\n",
    "* A|B - dopasowanie A lub B, operator alternatywy.\n",
    "\n",
    "## Kwantyfikatory niezachłanne\n",
    "\n",
    "Dodanie znaku zapytania po kwantyfikatorze przekształca go w kwantyfikator niezachłanny (leniwy):\n",
    "\n",
    "* \\*? - 0 lub więcej wystąpień,\n",
    "* \\+? - 1 lub więcej wystąpień,\n",
    "* ?? - 0 lub 1 wystąpienie,\n",
    "* {m,n}? - od m do n wystąpień. Kwantyfikator niezachłanny stara się dopasować minimalną możliwą ilość tekstu.\n",
    "\n",
    "## Asercje\n",
    "\n",
    "Asercje (kotwice) pozwalają wyznaczyć miejsce w tekście, w którym musi pojawić się dopasowanie:\n",
    "\n",
    "* ^ - początek tekstu,\n",
    "* $ - koniec tekstu,\n",
    "* \\A - początek tekstu,\n",
    "* \\Z - koniec tekstu,\n",
    "* \\b - pusty string na początku lub końcu słowa (dopasowuje granicę słowa albo początek lub koniec tekstu),\n",
    "* \\B - pusty string, lecz nie na początku lub końcu słowa (dopasowanie wewnątrz słowa)."
   ]
  },
  {
   "cell_type": "code",
   "execution_count": null,
   "metadata": {
    "collapsed": false
   },
   "outputs": [],
   "source": [
    "# szukamy daty\n",
    "print(re.findall(r\"\\b\\d{4}-\\d{2}-\\d{2}\\b\",\"Zdarzyło się to 2006-08-12.\"))"
   ]
  },
  {
   "cell_type": "code",
   "execution_count": null,
   "metadata": {
    "collapsed": false
   },
   "outputs": [],
   "source": [
    "# szykamy liczb\n",
    "print(re.findall(r\"-?\\b\\d+(?:[,\\.]\\d*)?\\b\",\"7 ludzi ma 3,3 psy warte -112.30 zł\"))"
   ]
  },
  {
   "cell_type": "code",
   "execution_count": null,
   "metadata": {
    "collapsed": false
   },
   "outputs": [],
   "source": [
    "# podwajamy wszystkie liczby w łańcuchu\n",
    "print(re.sub(r\"-?\\b\\d+(?:[,\\.]\\d*)?\\b\", \\\n",
    "       lambda m: \"%.2f\"%(float(m.group(0))*2), \\\n",
    "       \"7 ludzi ma 3 psy warte -112.20 zł\"))"
   ]
  },
  {
   "cell_type": "markdown",
   "metadata": {},
   "source": [
    "Pozostałe opcje sterujące wyrażeniami regularnymi:\n",
    "\n",
    "* **IGNORECASE** – ignoruje przy porównywaniu wielkość liter,\n",
    "* **MULTILINE** – sprawia, że znaki $ i ^ oznaczają nie tylko początek (koniec) napisu, ale też początek (koniec) wiersza,\n",
    "* **DOTALL** – sprawia, że kropka obejmuje też znaki końca wiersza,\n",
    "* **VERBOSE** – ignoruje białe znaki we wzorcu i pozwala umieszczać w nim komentarze (opcja stosowana wyłącznie dla poprawienia przejrzystości kodu źródłowego).\n",
    "\n",
    "Kilka opcji łączymy ze sobą operatorem sumy bitowej ,,|'':"
   ]
  },
  {
   "cell_type": "code",
   "execution_count": null,
   "metadata": {
    "collapsed": false
   },
   "outputs": [],
   "source": [
    "print(lancuch)\n",
    "print()\n",
    "print(re.findall(r\"^\\w+\", lancuch, re.IGNORECASE|re.MULTILINE))"
   ]
  },
  {
   "cell_type": "markdown",
   "metadata": {},
   "source": [
    "# Zad.\n",
    "Stwórz wyrażenie regularne, które pozwoli wyszukać w dowolnym tekście wszystkie zawarte w nim adresy e-mail. Pamiętaj o znakach, które muszą być w każdym poprawnym adresie e-mail, oraz o znakach, które mogą w nim wystąpić."
   ]
  },
  {
   "cell_type": "code",
   "execution_count": 1,
   "metadata": {
    "collapsed": false
   },
   "outputs": [],
   "source": [
    "import re\n",
    "f = open('4.txt', 'r')"
   ]
  },
  {
   "cell_type": "markdown",
   "metadata": {},
   "source": [
    "# Zad.\n",
    "\n",
    "Typowym błędem przy szybkim wpisywaniu tekstu jest pisanie drugiej litery wyrazu dużą literą, np. SZczecin (zamiast Szczecin) czy POlska (zamiast Polska). Napisz program, wykorzystujący funkcję sub i wyrażenia regularne, który poprawi wszystkie takie błędy w tekście wprowadzonym przez użytkownika. Wyrazy dłuższe niż dwie litery mają być poprawiane automatycznie, natomiast o podmianę wyrazu dwuliterowego (np. IT na It) program ma pytać użytkownika za każdym razem, gdy na taki natrafi."
   ]
  },
  {
   "cell_type": "code",
   "execution_count": null,
   "metadata": {
    "collapsed": false
   },
   "outputs": [],
   "source": [
    "text= \"POlska to piękny kraj dla LUdzi pracujących w IT\"\n"
   ]
  },
  {
   "cell_type": "markdown",
   "metadata": {},
   "source": [
    "# Zad\n",
    "\n",
    "Napisz program, który wczytuje plik i zapisuje jego zawartość w nowym pliku ale w odwrotnej kolejności występowania wierszy (czyli pierwsza linia w starym pliku będzie ostatnią w nowym pliku)."
   ]
  },
  {
   "cell_type": "code",
   "execution_count": null,
   "metadata": {
    "collapsed": false
   },
   "outputs": [],
   "source": [
    "f = open('1.txt', 'r')"
   ]
  },
  {
   "cell_type": "markdown",
   "metadata": {},
   "source": [
    "# Zad\n",
    "\n",
    "W pliku 'dane.txt' są dane z brakującymi wartościami. Każda wartość oddzielona jest przecinkiem. Proszę napisać program, który będzie czytał dane z pliku 'dane.txt' i zapisywał je do innego pliku ale tak aby wartości były oddzielone spacjami, a w miejsce brakujących danych wstawiał '0'."
   ]
  },
  {
   "cell_type": "code",
   "execution_count": null,
   "metadata": {
    "collapsed": false
   },
   "outputs": [],
   "source": [
    "f = open('dane.txt', 'r')"
   ]
  },
  {
   "cell_type": "markdown",
   "metadata": {},
   "source": [
    "# Zad. \n",
    "Napisz program, który w pliku 3.txt usunie powtarzające się spacje występujące obok siebie i zastąpi znaczniki <tt>&lt;b&gt;</tt> oraz <tt>&lt;/b&gt;</tt> znacznikami <tt>[b]</tt> oraz <tt>[/b]</tt>. Tekst, który powstanie w wyniku przeprowadzenia wspomnianych operacji wypisz na ekran."
   ]
  },
  {
   "cell_type": "code",
   "execution_count": 4,
   "metadata": {
    "collapsed": false
   },
   "outputs": [],
   "source": [
    "f = open('3.txt', 'r')"
   ]
  }
 ],
 "metadata": {
  "kernelspec": {
   "display_name": "Python 3",
   "language": "python",
   "name": "python3"
  },
  "language_info": {
   "codemirror_mode": {
    "name": "ipython",
    "version": 3
   },
   "file_extension": ".py",
   "mimetype": "text/x-python",
   "name": "python",
   "nbconvert_exporter": "python",
   "pygments_lexer": "ipython3",
   "version": "3.6.0"
  }
 },
 "nbformat": 4,
 "nbformat_minor": 2
}
