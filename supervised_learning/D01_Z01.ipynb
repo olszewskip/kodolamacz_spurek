{
 "cells": [
  {
   "cell_type": "markdown",
   "metadata": {},
   "source": [
    "# Zadanie 1\n",
    "\n",
    "Za pomoca funkcji \n",
    "\n",
    "```python\n",
    "sklearn.datasets.make_moons\n",
    "```\n",
    "\n",
    "wygeneruj 4 zbiory danych z parametrami:\n",
    "\n",
    "  * n_samples=1000, noise=.05\n",
    "  * n_samples=1000, noise=.3\n",
    "  * n_samples=200, noise=.05\n",
    "  * n_samples=200, noise=.3\n"
   ]
  },
  {
   "cell_type": "code",
   "execution_count": 1,
   "metadata": {
    "collapsed": true
   },
   "outputs": [],
   "source": [
    "import numpy as np\n",
    "import sklearn.datasets\n",
    "\n",
    "#low noise, plenty of samples, should be easy\n",
    "X, y = sklearn.datasets.make_moons(n_samples=1000, noise=.05)"
   ]
  },
  {
   "cell_type": "code",
   "execution_count": 2,
   "metadata": {},
   "outputs": [
    {
     "data": {
      "image/png": "[encoded data removed]",
      "text/plain": [
       "<Figure size 432x288 with 1 Axes>"
      ]
     },
     "metadata": {},
     "output_type": "display_data"
    }
   ],
   "source": [
    "import matplotlib.pyplot as plt\n",
    "\n",
    "plt.scatter(X[:,0],X[:,1],c=y)\n",
    "plt.axis('equal')\n",
    "plt.show()"
   ]
  },
  {
   "cell_type": "markdown",
   "metadata": {},
   "source": [
    "# Zadanie 2\n",
    "\n",
    "Do równania prostej w postaci ogólnej\n",
    "\n",
    "$$\n",
    "Ax + By + C = 0\n",
    "$$\n",
    "\n",
    "łatwo znaleść współrzedne wektora prostopadłego do wykresu\n",
    "\n",
    "$$\n",
    "W = [A,B].\n",
    "$$\n",
    "\n",
    "Łatwo policzyć, że dla funkcji\n",
    "\n",
    "$$\n",
    "y = ax+b\n",
    "$$\n",
    "\n",
    "mamy\n",
    "\n",
    "$$\n",
    "A=-a, B=1, C=-b\n",
    "$$\n",
    "\n",
    "Dla danych z poprzedniego zadania narysuj dowolna prosta przchodzcą przez środek układu współrzednych i dokonaj klasyfikacji.\n",
    "Dane po lewej stronie mają być oznaczone jako -1 a prawej jako +1. Użyj iloczynu skalarnego oraz wektora normalnego do prostej.\n",
    "\n",
    "Narysuj odpowiedni rysunek."
   ]
  },
  {
   "cell_type": "code",
   "execution_count": null,
   "metadata": {},
   "outputs": [],
   "source": [
    "a=0.5\n",
    "b=0\n",
    "\n",
    "A= #\n",
    "B= #\n",
    "C= #"
   ]
  },
  {
   "cell_type": "code",
   "execution_count": null,
   "metadata": {},
   "outputs": [],
   "source": [
    "x = np.arange(np.min(X[:,0]), np.max(X[:,0]), 0.5)\n",
    "yx = a*x+b\n",
    "plt.arrow(0, b, A, B, head_width=0.05, head_length=0.1, fc='k', ec='k')\n",
    "plt.plot(x, yx)\n",
    "\n",
    "y_cl=np.sign(np.dot( X, np.array([A,B]))+C)\n",
    "y_cl[y_cl==-1]=0   \n",
    "\n",
    "plt.scatter(X[:, 0], X[:, 1], c=y_cl)\n",
    "plt.axis('equal')\n",
    "plt.show()"
   ]
  },
  {
   "cell_type": "code",
   "execution_count": null,
   "metadata": {},
   "outputs": [],
   "source": [
    "class fixed_plan(object):\n",
    "    \"\"\"\n",
    "    \"\"\"\n",
    "    def __init__(self, a=0.5, b=0):\n",
    "        self.a=a\n",
    "        self.b=b\n",
    "\n",
    "        self.A=-self.a\n",
    "        self.B=1\n",
    "        self.C=-self.b\n",
    "\n",
    "    def fit(self, X, y):\n",
    "        return self\n",
    "    \n",
    "    def predict(self, X):\n",
    "        \"\"\"Return class label after unit step\"\"\"\n",
    "        y_cl= # \n",
    "        y_cl[y_cl==-1]=0\n",
    "        return y_cl "
   ]
  },
  {
   "cell_type": "markdown",
   "metadata": {},
   "source": [
    "# Zadanie 3\n",
    "Predykcji można dokonać dla dowolnego punktu na płaszczyźnie. Wygeneruj punkty równomiernie na kwadracie zawierającym punkty i wykonaj dla nich predykcję.\n",
    "\n",
    "Oryginalny zbiór danych niech będzie pokolorowany za pomocą oryginalnych klas. Narysuj wszystko na jednym wykresie."
   ]
  },
  {
   "cell_type": "code",
   "execution_count": null,
   "metadata": {
    "collapsed": true
   },
   "outputs": [],
   "source": [
    "from help_plot import plot_decision_regions"
   ]
  },
  {
   "cell_type": "code",
   "execution_count": null,
   "metadata": {},
   "outputs": [],
   "source": [
    "classifier=fixed_plan(a=1,b=0)\n",
    "classifier.fit(X,y)\n",
    "plot_decision_regions(X, y, classifier, resolution=0.02)"
   ]
  },
  {
   "cell_type": "code",
   "execution_count": null,
   "metadata": {
    "collapsed": true
   },
   "outputs": [],
   "source": []
  },
  {
   "cell_type": "code",
   "execution_count": null,
   "metadata": {
    "collapsed": true
   },
   "outputs": [],
   "source": []
  }
 ],
 "metadata": {
  "kernelspec": {
   "display_name": "Python 3",
   "language": "python",
   "name": "python3"
  },
  "language_info": {
   "codemirror_mode": {
    "name": "ipython",
    "version": 3
   },
   "file_extension": ".py",
   "mimetype": "text/x-python",
   "name": "python",
   "nbconvert_exporter": "python",
   "pygments_lexer": "ipython3",
   "version": "3.6.3"
  }
 },
 "nbformat": 4,
 "nbformat_minor": 2
}
