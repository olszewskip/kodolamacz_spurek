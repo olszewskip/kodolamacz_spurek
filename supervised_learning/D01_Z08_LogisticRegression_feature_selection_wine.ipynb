{
 "cells": [
  {
   "cell_type": "code",
   "execution_count": 1,
   "metadata": {
    "collapsed": true
   },
   "outputs": [],
   "source": [
    "import numpy as np\n",
    "import pandas as pd\n",
    "import matplotlib.pyplot as plt\n",
    "from sklearn import metrics"
   ]
  },
  {
   "cell_type": "markdown",
   "metadata": {
    "collapsed": true
   },
   "source": [
    "# LogisticRegression feature selection"
   ]
  },
  {
   "cell_type": "code",
   "execution_count": 2,
   "metadata": {},
   "outputs": [
    {
     "name": "stdout",
     "output_type": "stream",
     "text": [
      "['class_0', 'class_1', 'class_2']\n",
      "[[1.423e+01 1.710e+00 2.430e+00 ... 1.040e+00 3.920e+00 1.065e+03]\n",
      " [1.320e+01 1.780e+00 2.140e+00 ... 1.050e+00 3.400e+00 1.050e+03]\n",
      " [1.316e+01 2.360e+00 2.670e+00 ... 1.030e+00 3.170e+00 1.185e+03]\n",
      " ...\n",
      " [1.327e+01 4.280e+00 2.260e+00 ... 5.900e-01 1.560e+00 8.350e+02]\n",
      " [1.317e+01 2.590e+00 2.370e+00 ... 6.000e-01 1.620e+00 8.400e+02]\n",
      " [1.413e+01 4.100e+00 2.740e+00 ... 6.100e-01 1.600e+00 5.600e+02]]\n",
      "[1 1 1 1 1 1 1 1 1 1 1 1 1 1 1 1 1 1 1 1 1 1 1 1 1 1 1 1 1 1 1 1 1 1 1 1 1\n",
      " 1 1 1 1 1 1 1 1 1 1 1 1 1 1 1 1 1 1 1 1 1 1 1 1 1 1 1 1 1 1 1 1 1 1 1 1 1\n",
      " 1 1 1 1 1 1 1 1 1 1 1 1 1 1 1 1 1 1 1 1 1 1 1 1 1 1 1 1 1 1 1 1 1 1 1 1 1\n",
      " 1 1 1 1 1 1 1 1 1 1 1 1 1 1 1 1 1 1 1 2 2 2 2 2 2 2 2 2 2 2 2 2 2 2 2 2 2\n",
      " 2 2 2 2 2 2 2 2 2 2 2 2 2 2 2 2 2 2 2 2 2 2 2 2 2 2 2 2 2 2]\n"
     ]
    }
   ],
   "source": [
    "from sklearn.model_selection import train_test_split\n",
    "from sklearn.datasets import load_wine\n",
    "wine = load_wine()\n",
    "print(list(wine.target_names))\n",
    "print(wine.data)\n",
    "wine.target[ wine.target ==0 ] = 1 # we use only two classes \n",
    "print(wine.target)"
   ]
  },
  {
   "cell_type": "code",
   "execution_count": 3,
   "metadata": {},
   "outputs": [
    {
     "name": "stdout",
     "output_type": "stream",
     "text": [
      "(133, 13)\n"
     ]
    }
   ],
   "source": [
    "X_train, X_test, y_train, y_test = train_test_split( wine.data, wine.target, stratify = wine.target, random_state=42)\n",
    "print(X_train.shape)"
   ]
  },
  {
   "cell_type": "markdown",
   "metadata": {},
   "source": [
    "# Zad\n",
    "\n",
    "Wykonaj algorytm LogisticRegression z \n",
    "\n",
    "* C = 1\n"
   ]
  },
  {
   "cell_type": "code",
   "execution_count": null,
   "metadata": {},
   "outputs": [],
   "source": []
  },
  {
   "cell_type": "markdown",
   "metadata": {},
   "source": [
    "# Zad\n",
    "\n",
    "Wykonaj algorytm LogisticRegression z \n",
    "\n",
    "* C = 100\n"
   ]
  },
  {
   "cell_type": "code",
   "execution_count": null,
   "metadata": {},
   "outputs": [],
   "source": []
  },
  {
   "cell_type": "markdown",
   "metadata": {},
   "source": [
    "# Zad\n",
    "\n",
    "Wykonaj algorytm LogisticRegression z \n",
    "\n",
    "* C = 0.01\n"
   ]
  },
  {
   "cell_type": "code",
   "execution_count": null,
   "metadata": {},
   "outputs": [],
   "source": []
  },
  {
   "cell_type": "markdown",
   "metadata": {},
   "source": [
    "# Zad\n",
    "\n",
    "Na koniec spójrzmy na współrzędne wykorzystywane przez modele z trzema różnymi ustawieniami parametru regularyzacji C"
   ]
  },
  {
   "cell_type": "code",
   "execution_count": null,
   "metadata": {},
   "outputs": [],
   "source": []
  },
  {
   "cell_type": "code",
   "execution_count": null,
   "metadata": {},
   "outputs": [],
   "source": []
  },
  {
   "cell_type": "code",
   "execution_count": 18,
   "metadata": {},
   "outputs": [
    {
     "name": "stdout",
     "output_type": "stream",
     "text": [
      "[[ 0.0077741 ]\n",
      " [ 0.02742974]\n",
      " [ 0.00258225]\n",
      " [ 0.04030018]\n",
      " [-0.00601742]\n",
      " [-0.01613855]\n",
      " [-0.0350621 ]\n",
      " [ 0.00227898]\n",
      " [-0.01316346]\n",
      " [ 0.07084799]\n",
      " [-0.00794853]\n",
      " [-0.02719125]\n",
      " [-0.00212776]]\n",
      "[[-2.56210916e-01]\n",
      " [ 6.44780771e-01]\n",
      " [ 1.24384487e-01]\n",
      " [ 1.89040563e-01]\n",
      " [-1.55072855e-02]\n",
      " [-5.06594018e-01]\n",
      " [-1.87158204e+00]\n",
      " [-7.72514404e-02]\n",
      " [-7.31014897e-01]\n",
      " [ 1.04811777e+00]\n",
      " [-4.28074253e-01]\n",
      " [-9.25909502e-01]\n",
      " [ 3.42268346e-04]]\n",
      "[[-1.18410858e+00]\n",
      " [ 1.30476800e+00]\n",
      " [ 8.41230578e-01]\n",
      " [ 4.70532218e-01]\n",
      " [-2.12312302e-03]\n",
      " [-9.44770815e-01]\n",
      " [-5.74757124e+00]\n",
      " [-5.14610522e-01]\n",
      " [-2.34265499e+00]\n",
      " [ 2.54656223e+00]\n",
      " [-1.39344996e+00]\n",
      " [-2.25545291e+00]\n",
      " [ 7.69615032e-03]]\n"
     ]
    }
   ],
   "source": []
  },
  {
   "cell_type": "markdown",
   "metadata": {},
   "source": [
    "# Zad\n",
    "\n",
    "Narysuj wykre współrzędnych wykorzystywane przez modele z trzema różnymi ustawieniami parametru regularyzacji C i regularyzacją L1."
   ]
  },
  {
   "cell_type": "code",
   "execution_count": null,
   "metadata": {},
   "outputs": [],
   "source": []
  },
  {
   "cell_type": "code",
   "execution_count": 26,
   "metadata": {},
   "outputs": [
    {
     "name": "stdout",
     "output_type": "stream",
     "text": [
      "[[ 0.        ]\n",
      " [ 0.        ]\n",
      " [ 0.        ]\n",
      " [ 0.        ]\n",
      " [ 0.        ]\n",
      " [ 0.        ]\n",
      " [ 0.        ]\n",
      " [ 0.        ]\n",
      " [ 0.        ]\n",
      " [ 0.        ]\n",
      " [ 0.        ]\n",
      " [ 0.        ]\n",
      " [-0.00140036]]\n",
      "[[ 0.00000000e+00]\n",
      " [ 5.13949208e-01]\n",
      " [ 0.00000000e+00]\n",
      " [ 3.80463786e-02]\n",
      " [-1.56049446e-02]\n",
      " [ 0.00000000e+00]\n",
      " [-3.67419225e+00]\n",
      " [ 0.00000000e+00]\n",
      " [ 0.00000000e+00]\n",
      " [ 1.07069391e+00]\n",
      " [ 0.00000000e+00]\n",
      " [-4.19818149e-01]\n",
      " [-6.46561146e-04]]\n",
      "[[-9.52409350e-05]\n",
      " [ 2.28775865e+00]\n",
      " [ 1.20723547e+00]\n",
      " [ 2.05883904e-01]\n",
      " [ 1.29494722e-02]\n",
      " [-6.81542828e-02]\n",
      " [-1.16682191e+01]\n",
      " [-2.01552292e-01]\n",
      " [-1.75943017e+00]\n",
      " [ 2.29238775e+00]\n",
      " [-3.80731811e+00]\n",
      " [-4.55547398e+00]\n",
      " [ 2.69318785e-03]]\n"
     ]
    }
   ],
   "source": []
  },
  {
   "cell_type": "code",
   "execution_count": null,
   "metadata": {
    "collapsed": true
   },
   "outputs": [],
   "source": []
  }
 ],
 "metadata": {
  "kernelspec": {
   "display_name": "Python 3",
   "language": "python",
   "name": "python3"
  },
  "language_info": {
   "codemirror_mode": {
    "name": "ipython",
    "version": 3
   },
   "file_extension": ".py",
   "mimetype": "text/x-python",
   "name": "python",
   "nbconvert_exporter": "python",
   "pygments_lexer": "ipython3",
   "version": "3.6.3"
  }
 },
 "nbformat": 4,
 "nbformat_minor": 2
}
