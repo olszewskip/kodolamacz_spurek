{
 "cells": [
  {
   "cell_type": "code",
   "execution_count": null,
   "metadata": {
    "collapsed": true
   },
   "outputs": [],
   "source": [
    "import numpy as np\n",
    "import matplotlib.pyplot as plt\n",
    "from sklearn import datasets"
   ]
  },
  {
   "cell_type": "markdown",
   "metadata": {},
   "source": [
    "# roc curve"
   ]
  },
  {
   "cell_type": "code",
   "execution_count": null,
   "metadata": {
    "collapsed": true
   },
   "outputs": [],
   "source": [
    "np.random.seed(1)\n",
    "cancer = datasets.load_breast_cancer()\n",
    "# print description\n",
    "# print(cancer.DESCR)"
   ]
  },
  {
   "cell_type": "code",
   "execution_count": 3,
   "metadata": {
    "collapsed": true
   },
   "outputs": [],
   "source": [
    "# get the data\n",
    "X = cancer.data\n",
    "y = cancer.target"
   ]
  },
  {
   "cell_type": "markdown",
   "metadata": {},
   "source": [
    "Podzielmy zbiór na część testową i treningową."
   ]
  },
  {
   "cell_type": "code",
   "execution_count": 4,
   "metadata": {},
   "outputs": [
    {
     "data": {
      "image/png": "[encoded data removed]",
      "text/plain": [
       "<Figure size 432x288 with 1 Axes>"
      ]
     },
     "metadata": {},
     "output_type": "display_data"
    }
   ],
   "source": [
    "from sklearn.model_selection import train_test_split\n",
    "X_train, X_test, y_train, y_test = train_test_split(X, y, test_size=0.33, random_state=42)\n",
    "\n",
    "plt.hist(y_train, alpha=0.5)\n",
    "plt.hist(y_test, alpha=0.5)\n",
    "plt.show()"
   ]
  },
  {
   "cell_type": "code",
   "execution_count": 5,
   "metadata": {
    "collapsed": true
   },
   "outputs": [],
   "source": [
    "from sklearn.svm import SVC\n",
    "from sklearn.linear_model import LogisticRegression"
   ]
  },
  {
   "cell_type": "markdown",
   "metadata": {},
   "source": [
    "Zad.\n",
    "Naucz \n",
    "\n",
    "* SVC()\n",
    "* SVC(C=1, gamma=0.00001)\n",
    "* LogisticRegression(C=1)\n",
    "\n",
    "Dla wszystkich modleli wylicz:\n",
    "\n",
    "* precision    \n",
    "* recall  \n",
    "* f1-score\n",
    "* accuracy\n",
    "* roc_auc_score\n",
    "\n",
    "i narysuj krzywą roc"
   ]
  },
  {
   "cell_type": "code",
   "execution_count": 20,
   "metadata": {},
   "outputs": [
    {
     "name": "stdout",
     "output_type": "stream",
     "text": [
      "[1 1 1 1 1 1 1 1 1 1 1 1 1 1 1 1 1 1 1 1 1 1 1 1 1 1 1 1 1 1 1 1 1 1 1 1 1\n",
      " 1 1 1 1 1 1 1 1 1 1 1 1 1 1 1 1 1 1 1 1 1 1 1 1 1 1 1 1 1 1 1 1 1 1 1 1 1\n",
      " 1 1 1 1 1 1 1 1 1 1 1 1 1 1 1 1 1 1 1 1 1 1 1 1 1 1 1 1 1 1 1 1 1 1 1 1 1\n",
      " 1 1 1 1 1 1 1 1 1 1 1 1 1 1 1 1 1 1 1 1 1 1 1 1 1 1 1 1 1 1 1 1 1 1 1 1 1\n",
      " 1 1 1 1 1 1 1 1 1 1 1 1 1 1 1 1 1 1 1 1 1 1 1 1 1 1 1 1 1 1 1 1 1 1 1 1 1\n",
      " 1 1 1]\n"
     ]
    }
   ],
   "source": [
    "clf_1= SVC()\n",
    "clf_1.fit(X_train, y_train)\n",
    "\n",
    "y_pred_1 = clf_1.predict(X_test)\n",
    "print(y_pred_1)"
   ]
  },
  {
   "cell_type": "code",
   "execution_count": 21,
   "metadata": {},
   "outputs": [
    {
     "name": "stdout",
     "output_type": "stream",
     "text": [
      "[0.36832011 0.36647511 0.36647511 0.36791155 0.4666828  0.36647511\n",
      " 0.36647511 0.36647511 0.36678403 0.36787846 0.60053834 0.36647511\n",
      " 0.3760667  0.36647511 0.36648481 0.36647511 0.36647526 0.36666916\n",
      " 0.36647511 0.36647511 0.36647511 0.55418945 0.36647511 0.37662847\n",
      " 0.36685668 0.36647511 0.36681418 0.36648558 0.39649494 0.36647511\n",
      " 0.36850809 0.37082319 0.36782676 0.36647506 0.3923305  0.65188006\n",
      " 0.36647511 0.36668427 0.36647511 0.36647511 0.37047107 0.36647511\n",
      " 0.49166395 0.36877079 0.36647511 0.37049736 0.36666489 0.36652077\n",
      " 0.36669589 0.45646314 0.36647511 0.36647511 0.36666563 0.36647511\n",
      " 0.36772991 0.37167747 0.37730716 0.36647511 0.36655003 0.38847013\n",
      " 0.41324879 0.36647511 0.36647511 0.36701247 0.7069163  0.36668398\n",
      " 0.36647511 0.36647511 0.36652738 0.39637968 0.36647511 0.36647511\n",
      " 0.38301947 0.36647511 0.36647511 0.36647524 0.36734515 0.37836647\n",
      " 0.36937304 0.40057829 0.36647511 0.36953694 0.36647502 0.36647511\n",
      " 0.36647511 0.36647511 0.36647511 0.36647511 0.36647644 0.4452856\n",
      " 0.47676827 0.36668121 0.36649139 0.36647536 0.38387373 0.47002297\n",
      " 0.3664751  0.36647511 0.38144394 0.36647511 0.36647511 0.36886306\n",
      " 0.36647511 0.36647511 0.36647516 0.49586762 0.38229577 0.36647511\n",
      " 0.36647512 0.46146433 0.36647511 0.51417508 0.36627057 0.36647511\n",
      " 0.36647525 0.36647511 0.3665974  0.36647511 0.36647522 0.36647509\n",
      " 0.36647511 0.55663502 0.36673699 0.36647511 0.36654396 0.36647511\n",
      " 0.36647511 0.54667923 0.36647768 0.36647511 0.36647511 0.36647509\n",
      " 0.36605246 0.36765426 0.36647511 0.36647505 0.3669372  0.3704973\n",
      " 0.36647511 0.36647511 0.37472467 0.36647511 0.39696195 0.74897129\n",
      " 0.36647602 0.37094525 0.36647511 0.36647145 0.36647482 0.36657745\n",
      " 0.36647499 0.38680585 0.3714497  0.38284677 0.36658211 0.36647511\n",
      " 0.36647511 0.36647511 0.36850417 0.36650058 0.36647534 0.37663419\n",
      " 0.36647511 0.36737673 0.36647511 0.36647518 0.37035978 0.36890268\n",
      " 0.36675735 0.36647511 0.3851146  0.54536848 0.36655575 0.36647511\n",
      " 0.53858387 0.3670625  0.3661857  0.37734263 0.36670784 0.50923818\n",
      " 0.37916805 0.36887761 0.36850796 0.36647511 0.36646534 0.36625177\n",
      " 0.36647511 0.41089898]\n"
     ]
    }
   ],
   "source": [
    "y_scores_1 = clf_1.decision_function(X_test)\n",
    "print(y_scores_1)"
   ]
  },
  {
   "cell_type": "code",
   "execution_count": 22,
   "metadata": {
    "collapsed": true
   },
   "outputs": [],
   "source": [
    "def plot_roc_curve(fpr, tpr, label=None):\n",
    "    plt.plot(fpr, tpr, linewidth=2, label=label)\n",
    "    plt.plot([0, 1], [0, 1], 'k--')\n",
    "    plt.axis([-0.1, 1.1, -0.1, 1.1])\n",
    "    plt.xlabel('False Positive Rate', fontsize=16)\n",
    "    plt.ylabel('True Positive Rate', fontsize=16)"
   ]
  },
  {
   "cell_type": "code",
   "execution_count": 23,
   "metadata": {},
   "outputs": [
    {
     "data": {
      "image/png": "[encoded data removed]",
      "text/plain": [
       "<Figure size 576x432 with 1 Axes>"
      ]
     },
     "metadata": {},
     "output_type": "display_data"
    }
   ],
   "source": [
    "from sklearn.metrics import roc_auc_score\n",
    "from sklearn.metrics import roc_curve\n",
    "\n",
    "fpr_clf_1, tpr_clf_1, thresholds_clf_1 = roc_curve(y_test, y_scores_1)\n",
    "\n",
    "plt.figure(figsize=(8, 6))\n",
    "plot_roc_curve(fpr_clf_1, tpr_clf_1, \"SVM rbf\")\n",
    "plt.legend(loc=\"lower right\", fontsize=16)\n",
    "plt.show()"
   ]
  },
  {
   "cell_type": "code",
   "execution_count": 25,
   "metadata": {},
   "outputs": [
    {
     "name": "stdout",
     "output_type": "stream",
     "text": [
      "             precision    recall  f1-score   support\n",
      "\n",
      "          0       0.00      0.00      0.00        67\n",
      "          1       0.64      1.00      0.78       121\n",
      "\n",
      "avg / total       0.41      0.64      0.50       188\n",
      "\n"
     ]
    },
    {
     "name": "stderr",
     "output_type": "stream",
     "text": [
      "C:\\Users\\admin\\Anaconda3\\lib\\site-packages\\sklearn\\metrics\\classification.py:1135: UndefinedMetricWarning: Precision and F-score are ill-defined and being set to 0.0 in labels with no predicted samples.\n",
      "  'precision', 'predicted', average, warn_for)\n"
     ]
    }
   ],
   "source": [
    "from sklearn.metrics import classification_report\n",
    "print(classification_report(y_test, y_pred_1))"
   ]
  },
  {
   "cell_type": "code",
   "execution_count": null,
   "metadata": {
    "collapsed": true
   },
   "outputs": [],
   "source": []
  },
  {
   "cell_type": "code",
   "execution_count": 28,
   "metadata": {},
   "outputs": [
    {
     "name": "stdout",
     "output_type": "stream",
     "text": [
      "[1 0 0 1 1 0 0 0 1 1 1 0 1 0 1 0 1 1 1 0 1 1 0 1 1 1 1 1 1 0 1 1 1 1 1 1 0\n",
      " 1 0 1 1 0 1 1 1 1 1 1 1 1 0 0 1 1 1 1 1 0 1 1 1 0 0 1 1 1 0 0 1 1 1 0 1 0\n",
      " 1 1 1 1 1 1 0 1 1 0 0 0 1 0 1 1 1 1 1 1 1 1 0 0 1 0 0 1 0 0 1 1 1 0 1 1 0\n",
      " 1 1 0 1 0 1 1 1 0 1 1 1 0 1 0 0 1 1 0 0 0 1 1 0 0 1 1 1 0 1 0 1 1 0 1 0 0\n",
      " 0 1 0 1 1 1 1 0 0 1 1 1 1 1 1 1 0 1 1 1 1 1 1 1 1 1 1 1 0 1 1 1 1 1 1 0 0\n",
      " 0 1 1]\n",
      "[ 0.70898825 -1.00236194 -1.57855763  1.17371739  1.07158609 -1.00343717\n",
      " -0.99191544 -1.06996703  1.2178239   1.12428267  1.20481063 -1.17893806\n",
      "  1.06934306 -0.40715973  1.16309052 -1.02356519  1.21640751  1.04322635\n",
      "  0.80625802 -1.00455279  0.2139963   1.07752716 -0.99272286  1.04310368\n",
      "  1.07878691  1.37457623  1.29304855  1.03391461  1.21185613 -1.00325497\n",
      "  1.0436517   1.14396633  1.02501666  0.56569841  1.04333991  1.0614806\n",
      " -1.41429006  1.06543731 -1.00793488  0.72476471  1.0350242  -1.39245416\n",
      "  1.0792595   1.05201785  1.08405029  1.00718117  1.06013867  1.05432163\n",
      "  0.99617143  1.25448095 -1.00328735 -1.01513673  1.1496032   1.35872675\n",
      "  1.11062922  0.98370707  1.03902441 -0.97867093  0.6959351   1.06053716\n",
      "  1.13875581 -1.01341936 -1.00294476  1.1720829   1.16024731  1.07071409\n",
      " -1.38979847 -1.01911849  1.10853346  1.11858199  0.18229672 -1.33288143\n",
      "  1.33490573 -0.41714188  0.98345904  1.19377571  1.12080592  0.17772824\n",
      "  1.03050731  1.04267823 -1.40321801  1.03845772  0.58155057 -0.99822356\n",
      " -1.02237905 -0.34226656  0.37102264 -0.99827965  1.12248792  1.21011297\n",
      "  1.0559876   0.82836187  0.38089831  1.03725054  1.05087175  1.04680367\n",
      " -1.00942735 -1.98149884  1.05554285 -1.0995185  -1.42752899  1.0536535\n",
      " -1.00935374 -1.01433228  0.92972969  1.0052269   1.13948493 -1.00522999\n",
      "  0.97950133  0.54364756 -1.36856551  1.07173964  0.80980247 -0.83789452\n",
      "  1.06198008 -0.99227313  1.05805352  0.99602841  1.03923259 -0.80431941\n",
      "  0.86463996  1.06951555  1.12269903 -1.02137338  1.09881269 -0.99735063\n",
      " -1.69210865  1.03421634  1.19912466 -1.00149445 -1.00692882 -0.22990045\n",
      "  0.4627552   1.09101471 -0.18772892 -0.85377604  1.13880114  1.03319687\n",
      "  0.69179142 -1.60806105  1.0262474  -1.00709349  1.03739387  1.29990977\n",
      " -0.37742765  1.20962428 -0.99873531 -1.01266091 -0.7218741   1.12758028\n",
      " -1.22092677  1.18409788  0.99598252  0.98654849  1.05111125 -0.99451879\n",
      " -1.03743926  1.00465687  1.05471028  1.04774056  1.03869535  1.05265513\n",
      "  0.99318924  1.20575664 -0.35726796  1.00381925  1.26335619  0.5336162\n",
      "  1.03185694  0.44723313  1.09774591  0.99790581  1.30943334  0.63226692\n",
      "  1.24971281  0.85330844 -1.10754382  0.8398545   1.02650494  1.13551417\n",
      "  1.04967018  1.00215441  1.04889236 -1.37131757 -1.01638424 -0.79369835\n",
      "  0.62656577  0.99821203]\n"
     ]
    }
   ],
   "source": [
    "clf_2= SVC(C=1, gamma=0.00001)\n",
    "clf_2.fit(X_train, y_train)\n",
    "\n",
    "y_pred_2 = clf_2.predict(X_test)\n",
    "print(y_pred_2)\n",
    "\n",
    "y_scores_2 = clf_2.decision_function(X_test)\n",
    "print(y_scores_2)"
   ]
  },
  {
   "cell_type": "code",
   "execution_count": null,
   "metadata": {
    "collapsed": true
   },
   "outputs": [],
   "source": []
  },
  {
   "cell_type": "code",
   "execution_count": 29,
   "metadata": {},
   "outputs": [
    {
     "data": {
      "image/png": "[encoded data removed]",
      "text/plain": [
       "<Figure size 576x432 with 1 Axes>"
      ]
     },
     "metadata": {},
     "output_type": "display_data"
    }
   ],
   "source": [
    "fpr_clf_1, tpr_clf_1, thresholds_clf_1 = roc_curve(y_test, y_scores_1)\n",
    "fpr_clf_2, tpr_clf_2, thresholds_clf_2 = roc_curve(y_test, y_scores_2)\n",
    "\n",
    "plt.figure(figsize=(8, 6))\n",
    "plot_roc_curve(fpr_clf_1, tpr_clf_1, \"SVM rbf gamma = 1\")\n",
    "plot_roc_curve(fpr_clf_2, tpr_clf_2, \"SVM rbf gamma = 100\")\n",
    "plt.legend(loc=\"lower right\", fontsize=16)\n",
    "plt.show()"
   ]
  },
  {
   "cell_type": "code",
   "execution_count": 30,
   "metadata": {},
   "outputs": [
    {
     "name": "stdout",
     "output_type": "stream",
     "text": [
      "             precision    recall  f1-score   support\n",
      "\n",
      "          0       0.98      0.90      0.94        67\n",
      "          1       0.94      0.99      0.97       121\n",
      "\n",
      "avg / total       0.96      0.96      0.96       188\n",
      "\n"
     ]
    }
   ],
   "source": [
    "from sklearn.metrics import classification_report\n",
    "print(classification_report(y_test, y_pred_2))"
   ]
  },
  {
   "cell_type": "code",
   "execution_count": null,
   "metadata": {
    "collapsed": true
   },
   "outputs": [],
   "source": []
  },
  {
   "cell_type": "code",
   "execution_count": 31,
   "metadata": {},
   "outputs": [
    {
     "name": "stdout",
     "output_type": "stream",
     "text": [
      "[1 0 0 1 1 0 0 0 1 1 1 0 1 0 1 0 1 1 1 0 1 1 0 1 1 1 1 1 1 0 1 1 1 1 1 1 0\n",
      " 1 0 1 1 0 1 1 1 1 1 1 1 1 0 0 1 1 1 1 1 0 1 1 1 0 0 1 1 1 0 0 1 1 0 0 1 0\n",
      " 1 1 1 1 1 1 0 1 1 0 0 0 0 0 1 1 1 1 1 1 1 1 0 0 1 0 0 1 0 0 1 1 1 0 1 1 0\n",
      " 1 0 0 1 0 1 1 1 0 0 1 1 0 1 0 0 1 1 0 0 0 1 1 1 0 1 1 1 0 1 0 1 1 0 1 0 0\n",
      " 0 1 0 1 1 1 1 0 0 1 1 1 1 1 1 1 0 1 1 1 1 0 1 1 1 1 1 1 0 1 1 1 1 0 1 0 0\n",
      " 0 0 1]\n",
      "[  1.50313066 -18.56880261  -5.74110698   5.50253061   6.95640158\n",
      " -21.38945675 -27.21314517  -4.60058067   5.46210878   4.06137855\n",
      "   2.47658228  -7.28475244   4.37154779  -1.56759757   5.50494469\n",
      "  -6.32692055   5.56516456   8.0242789    6.00719891 -15.81946997\n",
      "   1.63176977   3.93235954 -20.14221831   4.85555982   4.18040032\n",
      "   7.10259106   5.38328761   4.49843437   4.72993401 -17.46329441\n",
      "   4.69045201   6.32176885   3.55661836   3.85222231   5.87473142\n",
      "   4.95812807  -5.45828116   4.85067355 -11.77796636   1.16283355\n",
      "   5.67388045  -6.81218923   5.93680951   4.03319956   6.28946935\n",
      "   2.40769982   6.1042049    4.54307312   1.9278036    5.36992997\n",
      "  -8.97511    -20.33299651   1.67779705   7.38567115   5.93175622\n",
      "   3.49591964   5.58677882 -31.69521918   0.50178535   7.17406332\n",
      "   3.71083445 -15.53129864 -25.72915628   2.241552     4.95584689\n",
      "   1.57605002 -10.14328347 -20.30806207   5.82279535   3.3081965\n",
      "  -3.69554314  -9.57381262   5.72157201  -2.32620886   3.08980273\n",
      "   5.83612827   2.83104114   0.11469311   5.80413157   4.75563609\n",
      "  -6.4904894    5.2945494    0.56254407 -24.48443307  -6.66045727\n",
      "  -3.38898977  -6.27383598 -14.96013436   4.56155995   4.77811402\n",
      "   3.71649083   2.08825249   2.00114244   5.91136952   6.29011793\n",
      "   5.41154187 -16.95069881 -12.93748218   7.47788916  -8.96974048\n",
      "  -8.2642201    8.03938546 -19.11405966  -6.00672575   2.0450108\n",
      "   2.22155317   4.15986375 -39.67706402   3.20561482   1.92945633\n",
      "  -8.22345402   5.19677896  -1.19196424 -59.98907339   2.33062718\n",
      " -22.1536879    6.55464939   1.90849865   6.28115751  -6.84474829\n",
      "  -0.93342209   5.74298301   4.09451844 -10.50958875   2.42401496\n",
      " -19.90086904  -6.55350558   3.50509789   5.22844231 -17.16617907\n",
      " -29.71305676  -7.79608412   1.52187106   5.70574541   3.14358542\n",
      "  -2.83364189   2.59516075   4.77241231   1.61421072  -3.98980734\n",
      "   4.18560354 -31.00485945   6.94559818   7.55635134  -3.9317547\n",
      "   3.6535534  -11.94142698 -15.85344174  -0.40460037   4.93422438\n",
      "  -3.70708584   6.51050277   5.69310106   2.89790278   3.37876393\n",
      " -36.00314502  -7.81561797   3.05704187   4.92790616   7.72180874\n",
      "  12.940454     4.0121065    4.41323452   5.12125274  -2.73537805\n",
      "   3.84134809   6.78617799   0.90980059   4.26488054  -2.37867764\n",
      "   2.42486      3.89439125   5.00197814   1.06335642   5.04847024\n",
      "   1.85657974  -4.41830812   3.03686211   3.22106425   5.14146305\n",
      "   2.56625859  -0.24471383   5.19744882  -7.88370726 -13.58431435\n",
      "  -3.46715533  -0.9451039    3.6303544 ]\n"
     ]
    }
   ],
   "source": [
    "clf_3= LogisticRegression(C=1)\n",
    "clf_3.fit(X_train, y_train)\n",
    "\n",
    "y_pred_3 = clf_3.predict(X_test)\n",
    "print(y_pred_3)\n",
    "\n",
    "y_scores_3 = clf_3.decision_function(X_test)\n",
    "print(y_scores_3)"
   ]
  },
  {
   "cell_type": "code",
   "execution_count": 32,
   "metadata": {},
   "outputs": [
    {
     "data": {
      "image/png": "[encoded data removed]",
      "text/plain": [
       "<Figure size 576x432 with 1 Axes>"
      ]
     },
     "metadata": {},
     "output_type": "display_data"
    }
   ],
   "source": [
    "fpr_clf_1, tpr_clf_1, thresholds_clf_1 = roc_curve(y_test, y_scores_1)\n",
    "fpr_clf_2, tpr_clf_2, thresholds_clf_2 = roc_curve(y_test, y_scores_2)\n",
    "fpr_clf_3, tpr_clf_3, thresholds_clf_3 = roc_curve(y_test, y_scores_3)\n",
    "\n",
    "plt.figure(figsize=(8, 6))\n",
    "plot_roc_curve(fpr_clf_1, tpr_clf_1, \"SVM rbf gamma = 1\")\n",
    "plot_roc_curve(fpr_clf_2, tpr_clf_2, \"SVM rbf gamma = 100\")\n",
    "plot_roc_curve(fpr_clf_3, tpr_clf_3, \"Loistic Regresion\")\n",
    "plt.legend(loc=\"lower right\", fontsize=16)\n",
    "plt.show()"
   ]
  },
  {
   "cell_type": "code",
   "execution_count": 33,
   "metadata": {},
   "outputs": [
    {
     "name": "stdout",
     "output_type": "stream",
     "text": [
      "             precision    recall  f1-score   support\n",
      "\n",
      "          0       0.94      0.94      0.94        67\n",
      "          1       0.97      0.97      0.97       121\n",
      "\n",
      "avg / total       0.96      0.96      0.96       188\n",
      "\n"
     ]
    }
   ],
   "source": [
    "from sklearn.metrics import classification_report\n",
    "print(classification_report(y_test, y_pred_3))"
   ]
  },
  {
   "cell_type": "code",
   "execution_count": 34,
   "metadata": {},
   "outputs": [
    {
     "name": "stdout",
     "output_type": "stream",
     "text": [
      "0.5\n",
      "0.9436289626248922\n",
      "0.9536203281115087\n"
     ]
    }
   ],
   "source": [
    "from sklearn.metrics import roc_auc_score\n",
    "\n",
    "print(roc_auc_score(y_test, y_pred_1))\n",
    "print(roc_auc_score(y_test, y_pred_2))\n",
    "print(roc_auc_score(y_test, y_pred_3))"
   ]
  },
  {
   "cell_type": "code",
   "execution_count": null,
   "metadata": {
    "collapsed": true
   },
   "outputs": [],
   "source": []
  }
 ],
 "metadata": {
  "kernelspec": {
   "display_name": "Python 3",
   "language": "python",
   "name": "python3"
  },
  "language_info": {
   "codemirror_mode": {
    "name": "ipython",
    "version": 3
   },
   "file_extension": ".py",
   "mimetype": "text/x-python",
   "name": "python",
   "nbconvert_exporter": "python",
   "pygments_lexer": "ipython3",
   "version": "3.6.3"
  }
 },
 "nbformat": 4,
 "nbformat_minor": 2
}
