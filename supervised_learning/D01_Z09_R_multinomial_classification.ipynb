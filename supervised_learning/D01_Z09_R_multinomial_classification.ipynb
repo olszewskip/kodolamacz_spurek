{
 "cells": [
  {
   "cell_type": "code",
   "execution_count": 20,
   "metadata": {
    "collapsed": true
   },
   "outputs": [],
   "source": [
    "import numpy as np\n",
    "import pandas as pd\n",
    "import matplotlib.pyplot as plt\n",
    "from sklearn import metrics"
   ]
  },
  {
   "cell_type": "markdown",
   "metadata": {},
   "source": [
    "# Klasyfikatory wieloklasowe\n",
    "\n",
    "Podczas gdy klasyfikatory binarne rozróżniają dwie klasy, klasyfikatory wieloklasowe (Multiclass Classification) mogą rozróżniać więcej niż dwie klasy.\n",
    "\n",
    "Scikit-Learn automatycznie wykrywa użycie binarnego algorytmu klasyfikacji do zadania klasyfikacji wieloklasowej i automatycznie uruchamia **one-versus-all (OvA)** (z wyjątkiem klasyfikatorów SVM, dla których używa **one-versus-one (OvO)**). "
   ]
  },
  {
   "cell_type": "code",
   "execution_count": 21,
   "metadata": {},
   "outputs": [
    {
     "name": "stdout",
     "output_type": "stream",
     "text": [
      "Extracting MNIST_data/train-images-idx3-ubyte.gz\n",
      "Extracting MNIST_data/train-labels-idx1-ubyte.gz\n",
      "Extracting MNIST_data/t10k-images-idx3-ubyte.gz\n",
      "Extracting MNIST_data/t10k-labels-idx1-ubyte.gz\n"
     ]
    }
   ],
   "source": [
    "np.random.seed(42)\n",
    "\n",
    "from tensorflow.examples.tutorials.mnist import input_data\n",
    "\n",
    "# Import data\n",
    "mnist = input_data.read_data_sets(\"MNIST_data/\", one_hot=False)\n",
    "\n",
    "X = mnist.train.images # Returns np.array\n",
    "y = np.asarray(mnist.train.labels, dtype=np.int32)"
   ]
  },
  {
   "cell_type": "code",
   "execution_count": 3,
   "metadata": {},
   "outputs": [
    {
     "data": {
      "image/png": "[encoded data removed]",
      "text/plain": [
       "<Figure size 1080x576 with 10 Axes>"
      ]
     },
     "metadata": {},
     "output_type": "display_data"
    }
   ],
   "source": [
    "fig, axes = plt.subplots(2, 5, figsize=(15, 8), subplot_kw={'xticks': (), 'yticks': ()})\n",
    "for target, image, ax in zip(y, X, axes.ravel()):\n",
    "    ax.imshow(image.reshape(28, 28), cmap=plt.cm.gist_gray)\n",
    "    ax.set_title(target)\n",
    "plt.show() "
   ]
  },
  {
   "cell_type": "code",
   "execution_count": 4,
   "metadata": {
    "collapsed": true
   },
   "outputs": [],
   "source": [
    "X_train = mnist.train.images \n",
    "y_train = mnist.train.labels\n",
    "X_test = mnist.test.images\n",
    "y_test = mnist.test.labels"
   ]
  },
  {
   "cell_type": "code",
   "execution_count": 5,
   "metadata": {},
   "outputs": [
    {
     "data": {
      "image/png": "[encoded data removed]",
      "text/plain": [
       "<Figure size 432x288 with 1 Axes>"
      ]
     },
     "metadata": {},
     "output_type": "display_data"
    }
   ],
   "source": [
    "import matplotlib\n",
    "import matplotlib.pyplot as plt\n",
    "some_digit = X[36000]\n",
    "some_digit_image = some_digit.reshape(28, 28)\n",
    "plt.imshow(some_digit_image, cmap = matplotlib.cm.binary, interpolation=\"nearest\")\n",
    "plt.axis(\"off\")\n",
    "plt.show()"
   ]
  },
  {
   "cell_type": "markdown",
   "metadata": {},
   "source": [
    "# Zad. \n",
    "\n",
    "Stwórzmy **LogisticRegression** i uczmy go na całym zbiorze treningowym.\n"
   ]
  },
  {
   "cell_type": "code",
   "execution_count": 22,
   "metadata": {},
   "outputs": [
    {
     "data": {
      "text/plain": [
       "array([5], dtype=uint8)"
      ]
     },
     "execution_count": 22,
     "metadata": {},
     "output_type": "execute_result"
    }
   ],
   "source": [
    "from sklearn.linear_model import LogisticRegression\n",
    "\n",
    "clf = LogisticRegression(random_state=42)\n",
    "\n",
    "clf.fit(X_train, y_train)\n",
    "clf.predict([some_digit])"
   ]
  },
  {
   "cell_type": "markdown",
   "metadata": {},
   "source": [
    " * Scikit-Learn faktycznie nauczył 10 klasyfikatorów binarnych, uzyskał swoje oceny decyzyjne dla obrazu i wybrał klasę z najwyższym wynikiem. \n",
    " * Aby zobaczyć, że tak właśnie jest, możesz wywołać metodę **decision_function()**. "
   ]
  },
  {
   "cell_type": "code",
   "execution_count": 23,
   "metadata": {},
   "outputs": [
    {
     "data": {
      "text/plain": [
       "array([[ -6.02682994, -13.61466292, -10.92838103,  -7.27484896,\n",
       "         -4.3697061 ,   4.23277966,  -9.31762634,  -3.36634451,\n",
       "         -6.6788083 , -11.16984699]])"
      ]
     },
     "execution_count": 23,
     "metadata": {},
     "output_type": "execute_result"
    }
   ],
   "source": [
    "some_digit_scores = clf.decision_function([some_digit])\n",
    "some_digit_scores"
   ]
  },
  {
   "cell_type": "code",
   "execution_count": 24,
   "metadata": {},
   "outputs": [
    {
     "data": {
      "text/plain": [
       "5"
      ]
     },
     "execution_count": 24,
     "metadata": {},
     "output_type": "execute_result"
    }
   ],
   "source": [
    "np.argmax(some_digit_scores)"
   ]
  },
  {
   "cell_type": "code",
   "execution_count": 25,
   "metadata": {},
   "outputs": [
    {
     "data": {
      "text/plain": [
       "array([0, 1, 2, 3, 4, 5, 6, 7, 8, 9], dtype=uint8)"
      ]
     },
     "execution_count": 25,
     "metadata": {},
     "output_type": "execute_result"
    }
   ],
   "source": [
    "clf.classes_"
   ]
  },
  {
   "cell_type": "markdown",
   "metadata": {},
   "source": [
    "# OneVsOneClassifier vs OneVsRestClassifier\n",
    "\n",
    "Jeśli chcesz zmusić ScikitLearn do korzystania z \n",
    " *  one-versus-one\n",
    " *  one-versus-all\n",
    "\n",
    "możesz użyć klas \n",
    "\n",
    " * OneVsOneClassifier \n",
    " * OneVsRestClassifier. \n",
    " \n",
    "Po prostu utwórz instancję i przekaż klasyfikator binarny do jej konstruktora. "
   ]
  },
  {
   "cell_type": "code",
   "execution_count": 26,
   "metadata": {},
   "outputs": [
    {
     "data": {
      "text/plain": [
       "array([5], dtype=uint8)"
      ]
     },
     "execution_count": 26,
     "metadata": {},
     "output_type": "execute_result"
    }
   ],
   "source": [
    "from sklearn.multiclass import OneVsOneClassifier\n",
    "\n",
    "ovo_clf = OneVsOneClassifier(LogisticRegression(max_iter= 5, random_state=42))\n",
    "ovo_clf.fit(X_train, y_train)\n",
    "ovo_clf.predict([some_digit])"
   ]
  },
  {
   "cell_type": "code",
   "execution_count": 27,
   "metadata": {},
   "outputs": [
    {
     "data": {
      "text/plain": [
       "45"
      ]
     },
     "execution_count": 27,
     "metadata": {},
     "output_type": "execute_result"
    }
   ],
   "source": [
    "len(ovo_clf.estimators_)"
   ]
  },
  {
   "cell_type": "markdown",
   "metadata": {},
   "source": [
    " * Teraz oczywiście chcesz ocenić wydajność klasyfikatora wieloklasowego.\n",
    "\n",
    " * Jak zwykle, chcemy użyć cross-validacji. \n"
   ]
  },
  {
   "cell_type": "code",
   "execution_count": 28,
   "metadata": {},
   "outputs": [
    {
     "data": {
      "text/plain": [
       "array([0.93494028, 0.93530791, 0.93797054])"
      ]
     },
     "execution_count": 28,
     "metadata": {},
     "output_type": "execute_result"
    }
   ],
   "source": [
    "from sklearn.model_selection import cross_val_score\n",
    "\n",
    "cross_val_score(ovo_clf, X_train, y_train, cv=3, scoring=\"accuracy\")"
   ]
  },
  {
   "cell_type": "markdown",
   "metadata": {},
   "source": [
    "# Error Analysis\n",
    "\n",
    "Po pierwsze, możesz spojrzeć na **confusion matrix**. "
   ]
  },
  {
   "cell_type": "code",
   "execution_count": 29,
   "metadata": {},
   "outputs": [
    {
     "data": {
      "text/plain": [
       "array([[5271,    1,   22,    9,   10,   33,   41,    9,   42,    6],\n",
       "       [   2, 6008,   32,   17,    5,   24,    5,   10,   65,   11],\n",
       "       [  41,   65, 4859,  105,   65,   25,   70,   79,  142,   19],\n",
       "       [  28,   35,  147, 4964,   10,  182,   30,   50,  125,   67],\n",
       "       [  14,   23,   28,   11, 4907,   13,   39,   17,   58,  197],\n",
       "       [  61,   24,   39,  184,   56, 4313,  108,   23,  122,   57],\n",
       "       [  35,   18,   36,    5,   34,   81, 5169,    4,   33,    2],\n",
       "       [  24,   25,   66,   24,   59,   13,    5, 5307,   14,  178],\n",
       "       [  52,  140,   71,  144,   46,  160,   50,   29, 4602,   95],\n",
       "       [  33,   33,   23,   96,  191,   45,    1,  196,   52, 4784]],\n",
       "      dtype=int64)"
      ]
     },
     "execution_count": 29,
     "metadata": {},
     "output_type": "execute_result"
    }
   ],
   "source": [
    "from sklearn.model_selection import cross_val_predict\n",
    "from sklearn.metrics import confusion_matrix\n",
    "\n",
    "y_train_pred  = cross_val_predict(clf, X_train, y_train, cv=3)\n",
    "conf_mx = confusion_matrix(y_train, y_train_pred)\n",
    "conf_mx"
   ]
  },
  {
   "cell_type": "markdown",
   "metadata": {},
   "source": [
    "To dużo liczb. Często wygodniej jest spojrzeć na wykres:"
   ]
  },
  {
   "cell_type": "code",
   "execution_count": 32,
   "metadata": {
    "collapsed": true
   },
   "outputs": [],
   "source": [
    "def plot_confusion_matrix(matrix):\n",
    "    \"\"\"If you prefer color and a colorbar\"\"\"\n",
    "    fig = plt.figure(figsize=(8,8))\n",
    "    ax = fig.add_subplot(111)\n",
    "    cax = ax.matshow(matrix)\n",
    "    fig.colorbar(cax)"
   ]
  },
  {
   "cell_type": "code",
   "execution_count": 33,
   "metadata": {},
   "outputs": [
    {
     "data": {
      "image/png": "[encoded data removed]",
      "text/plain": [
       "<Figure size 288x288 with 1 Axes>"
      ]
     },
     "metadata": {},
     "output_type": "display_data"
    }
   ],
   "source": [
    "plt.matshow(conf_mx, cmap=plt.cm.gray)\n",
    "plt.show()"
   ]
  },
  {
   "cell_type": "markdown",
   "metadata": {},
   "source": [
    "* Nasza **confusion matrix** wygląda dość dobrze, ponieważ większość obrazów znajduje się na głównej przekątnej, co oznacza, że zostały poprawnie sklasyfikowane. \n",
    "\n",
    "* Piątki wyglądają nieco ciemniej niż pozostałe cyfry, co może oznaczać, że w zestawie danych jest mniej zdjęć o wartości 5 lub że klasyfikator nie działa tak dobrze na 5-ach, jak na innych cyfrach. \n",
    "\n",
    "* W rzeczywistości można sprawdzić, czy tak jest.\n",
    "\n",
    "* Skoncentrujmy wątek na błędach. Po pierwsze, musimy podzielić każdą wartość w **confusion matrix** przez liczbę obrazów w odpowiedniej klasie, aby móc porównać wskaźniki błędów zamiast bezwzględnej liczby błędów:"
   ]
  },
  {
   "cell_type": "code",
   "execution_count": 34,
   "metadata": {
    "collapsed": true
   },
   "outputs": [],
   "source": [
    "row_sums = conf_mx.sum(axis=1, keepdims=True)\n",
    "norm_conf_mx = conf_mx / row_sums"
   ]
  },
  {
   "cell_type": "markdown",
   "metadata": {},
   "source": [
    "Teraz wypełnijmy przekątną zerami, aby zachować tylko błędy i wyprowadźmy wynik:"
   ]
  },
  {
   "cell_type": "code",
   "execution_count": 35,
   "metadata": {},
   "outputs": [
    {
     "data": {
      "image/png": "[encoded data removed]",
      "text/plain": [
       "<Figure size 288x288 with 1 Axes>"
      ]
     },
     "metadata": {},
     "output_type": "display_data"
    }
   ],
   "source": [
    "np.fill_diagonal(norm_conf_mx, 0)\n",
    "plt.matshow(norm_conf_mx, cmap=plt.cm.gray)\n",
    "plt.show()"
   ]
  },
  {
   "cell_type": "markdown",
   "metadata": {},
   "source": [
    "### Teraz możesz wyraźnie zobaczyć rodzaje błędów, które tworzy klasyfikator. \n",
    "\n",
    " * Pamiętaj, że wiersze reprezentują rzeczywiste klasy, a kolumny reprezentują przewidywane klasy. \n",
    "\n",
    " * Kolumny dla klas 8 i 9 są dość jasne, co oznacza, że wiele obrazów zostało błędnie zaklasyfikowanych jako 8 lub 9. \n",
    " \n",
    " * Podobnie, wiersze dla klas 8 i 9 są również dość jasne, informując, że 8s i 9s są często mylone z innymi cyframi. \n",
    " \n",
    " * Odwrotnie, niektóre wiersze są dość ciemne, takie jak wiersz 1: oznacza to, że większość 1 jest klasyfikowana poprawnie (kilka jest mylonych z 8, ale to wszystko). \n",
    " \n",
    " * Zauważ, że błędy nie są idealnie symetryczne: np. jest więcej błędnie zaklasyfikowanych 5 jako 8 niż odwrotnie."
   ]
  },
  {
   "cell_type": "markdown",
   "metadata": {},
   "source": [
    "* Analiza pojedynczych błędów może również być dobrym sposobem na uzyskanie wglądu w to, co robi klasyfikator i dlaczego jest nieskuteczna.\n",
    "\n",
    "* Jest to trudniejsze i bardziej czasochłonna. \n",
    "\n",
    "* Np. możemy narysować przykłady 3 i 5:"
   ]
  },
  {
   "cell_type": "code",
   "execution_count": 36,
   "metadata": {
    "collapsed": true
   },
   "outputs": [],
   "source": [
    "def plot_digits(instances, images_per_row=10, **options):\n",
    "    size = 28\n",
    "    images_per_row = min(len(instances), images_per_row)\n",
    "    images = [instance.reshape(size,size) for instance in instances]\n",
    "    n_rows = (len(instances) - 1) // images_per_row + 1\n",
    "    row_images = []\n",
    "    n_empty = n_rows * images_per_row - len(instances)\n",
    "    images.append(np.zeros((size, size * n_empty)))\n",
    "    for row in range(n_rows):\n",
    "        rimages = images[row * images_per_row : (row + 1) * images_per_row]\n",
    "        row_images.append(np.concatenate(rimages, axis=1))\n",
    "    image = np.concatenate(row_images, axis=0)\n",
    "    plt.imshow(image, cmap = matplotlib.cm.binary, **options)\n",
    "    plt.axis(\"off\")"
   ]
  },
  {
   "cell_type": "code",
   "execution_count": 37,
   "metadata": {},
   "outputs": [
    {
     "data": {
      "image/png": "[encoded data removed]",
      "text/plain": [
       "<Figure size 576x576 with 4 Axes>"
      ]
     },
     "metadata": {},
     "output_type": "display_data"
    }
   ],
   "source": [
    "cl_a, cl_b = 3, 5\n",
    "X_aa = X_train[(y_train == cl_a) & (y_train_pred == cl_a)]\n",
    "X_ab = X_train[(y_train == cl_a) & (y_train_pred == cl_b)]\n",
    "X_ba = X_train[(y_train == cl_b) & (y_train_pred == cl_a)]\n",
    "X_bb = X_train[(y_train == cl_b) & (y_train_pred == cl_b)]\n",
    "\n",
    "plt.figure(figsize=(8,8))\n",
    "plt.subplot(221); plot_digits(X_aa[:25], images_per_row=5)\n",
    "plt.subplot(222); plot_digits(X_ab[:25], images_per_row=5)\n",
    "plt.subplot(223); plot_digits(X_ba[:25], images_per_row=5)\n",
    "plt.subplot(224); plot_digits(X_bb[:25], images_per_row=5)\n",
    "plt.show()"
   ]
  },
  {
   "cell_type": "markdown",
   "metadata": {},
   "source": [
    " * Na rysunku:\n",
    "\n",
    "    * dwa  bloki (5 × 5) po lewej pokazują cyfry sklasyfikowane jako 3\n",
    "    * dwa bloki (5 × 5) po prawej pokazują obrazy sklasyfikowane jako 5. \n",
    "\n",
    "* Niektóre cyfry, które klasyfikator robi źle (tj. w dolnym lewym i górnym prawym bloku) są tak źle napisane, że nawet człowiek miałby problem z ich klasyfikacją (np. 5 w 8. rzędzie i 1. kolumna naprawdę wygląda jak 3). \n",
    "\n",
    "* Jednak większość błędnie wydaje się oczywistym błędem i trudno zrozumieć dlaczego klasyfikator je opełnił\n",
    "\n",
    "* Powodem jest to, że użyliśmy prostego SGDClassifier, który jest modelem liniowym."
   ]
  },
  {
   "cell_type": "markdown",
   "metadata": {},
   "source": [
    "# Zad\n",
    "\n",
    "Weźmy 3 klasy:\n",
    "* 0\n",
    "* 4\n",
    "* 9\n",
    "\n",
    "Naucz model regresji logistycznej i wylicz:\n",
    "\n",
    "* precision\n",
    "* recall_score\n",
    "* f1_score\n",
    "* accuracy"
   ]
  },
  {
   "cell_type": "code",
   "execution_count": 73,
   "metadata": {},
   "outputs": [],
   "source": [
    "X_train_1 = X_train[ (y_train == 0) | (y_train == 4) | (y_train == 9) ] \n",
    "y_train_1 = y_train[ (y_train == 0) | (y_train == 4) | (y_train == 9) ] "
   ]
  },
  {
   "cell_type": "code",
   "execution_count": 74,
   "metadata": {},
   "outputs": [
    {
     "data": {
      "text/plain": [
       "LogisticRegression(C=1.0, class_weight=None, dual=False, fit_intercept=True,\n",
       "          intercept_scaling=1, max_iter=100, multi_class='ovr', n_jobs=1,\n",
       "          penalty='l2', random_state=42, solver='liblinear', tol=0.0001,\n",
       "          verbose=0, warm_start=False)"
      ]
     },
     "execution_count": 74,
     "metadata": {},
     "output_type": "execute_result"
    }
   ],
   "source": [
    "from sklearn.linear_model import LogisticRegression\n",
    "\n",
    "clf = LogisticRegression(random_state=42)\n",
    "\n",
    "clf.fit(X_train_1, y_train_1)"
   ]
  },
  {
   "cell_type": "code",
   "execution_count": 75,
   "metadata": {
    "collapsed": true
   },
   "outputs": [],
   "source": [
    "y_pred = clf.predict(X_train_1)"
   ]
  },
  {
   "cell_type": "code",
   "execution_count": 77,
   "metadata": {},
   "outputs": [
    {
     "name": "stdout",
     "output_type": "stream",
     "text": [
      "precision_score: 0.9801076147660911\n",
      "recall_score: 0.9801295896328294\n",
      "f1_score: 0.9801172349328425\n",
      "accuracy_score: 0.9801295896328294\n"
     ]
    }
   ],
   "source": [
    "print(\"precision_score: {}\".format(metrics.precision_score(y_train_1, y_pred , average='weighted') ))\n",
    "print(\"recall_score: {}\".format( metrics.recall_score(y_train_1, y_pred , average='weighted') ))\n",
    "print(\"f1_score: {}\".format( metrics.f1_score(y_train_1, y_pred , average='weighted') ))\n",
    "print(\"accuracy_score: {}\".format( metrics.accuracy_score(y_train_1, y_pred ) ))"
   ]
  },
  {
   "cell_type": "code",
   "execution_count": null,
   "metadata": {
    "collapsed": true
   },
   "outputs": [],
   "source": []
  }
 ],
 "metadata": {
  "kernelspec": {
   "display_name": "Python 3",
   "language": "python",
   "name": "python3"
  },
  "language_info": {
   "codemirror_mode": {
    "name": "ipython",
    "version": 3
   },
   "file_extension": ".py",
   "mimetype": "text/x-python",
   "name": "python",
   "nbconvert_exporter": "python",
   "pygments_lexer": "ipython3",
   "version": "3.6.3"
  }
 },
 "nbformat": 4,
 "nbformat_minor": 2
}
