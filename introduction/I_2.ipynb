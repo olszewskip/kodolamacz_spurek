{
 "cells": [
  {
   "cell_type": "markdown",
   "metadata": {},
   "source": [
    "# Rozpoznawanie pisanych liter "
   ]
  },
  {
   "cell_type": "code",
   "execution_count": 28,
   "metadata": {
    "collapsed": true
   },
   "outputs": [],
   "source": [
    "from sklearn.datasets import fetch_mldata\n",
    "mnist = fetch_mldata('MNIST original')"
   ]
  },
  {
   "cell_type": "markdown",
   "metadata": {},
   "source": [
    "![alt](https://raw.githubusercontent.com/przem85/bootcamp/master/introduction/img/mnist_originals.png)\n",
    "\n",
    "MNIST to baza danych odręcznie napisanych cyfr około 20 lat temu. Ludzie są w stanie rozpoznać ok. 99,5% cyfr z tego zbioru poprawnie. Zobaczymy ile nam się uda!"
   ]
  },
  {
   "cell_type": "code",
   "execution_count": 4,
   "metadata": {
    "collapsed": false
   },
   "outputs": [
    {
     "name": "stdout",
     "output_type": "stream",
     "text": [
      "Pierwsz obrazek z  70000 : [  0   0   0   0   0   0   0   0   0   0   0   0   0   0   0   0   0   0\n",
      "   0   0   0   0   0   0   0   0   0   0   0   0   0   0   0   0   0   0\n",
      "   0   0   0   0   0   0   0   0   0   0   0   0   0   0   0   0   0   0\n",
      "   0   0   0   0   0   0   0   0   0   0   0   0   0   0   0   0   0   0\n",
      "   0   0   0   0   0   0   0   0   0   0   0   0   0   0   0   0   0   0\n",
      "   0   0   0   0   0   0   0   0   0   0   0   0   0   0   0   0   0   0\n",
      "   0   0   0   0   0   0   0   0   0   0   0   0   0   0   0   0   0   0\n",
      "   0  51 159 253 159  50   0   0   0   0   0   0   0   0   0   0   0   0\n",
      "   0   0   0   0   0   0   0   0   0   0  48 238 252 252 252 237   0   0\n",
      "   0   0   0   0   0   0   0   0   0   0   0   0   0   0   0   0   0   0\n",
      "   0  54 227 253 252 239 233 252  57   6   0   0   0   0   0   0   0   0\n",
      "   0   0   0   0   0   0   0   0   0  10  60 224 252 253 252 202  84 252\n",
      " 253 122   0   0   0   0   0   0   0   0   0   0   0   0   0   0   0   0\n",
      "   0 163 252 252 252 253 252 252  96 189 253 167   0   0   0   0   0   0\n",
      "   0   0   0   0   0   0   0   0   0   0  51 238 253 253 190 114 253 228\n",
      "  47  79 255 168   0   0   0   0   0   0   0   0   0   0   0   0   0   0\n",
      "   0  48 238 252 252 179  12  75 121  21   0   0 253 243  50   0   0   0\n",
      "   0   0   0   0   0   0   0   0   0   0  38 165 253 233 208  84   0   0\n",
      "   0   0   0   0 253 252 165   0   0   0   0   0   0   0   0   0   0   0\n",
      "   0   7 178 252 240  71  19  28   0   0   0   0   0   0 253 252 195   0\n",
      "   0   0   0   0   0   0   0   0   0   0   0  57 252 252  63   0   0   0\n",
      "   0   0   0   0   0   0 253 252 195   0   0   0   0   0   0   0   0   0\n",
      "   0   0   0 198 253 190   0   0   0   0   0   0   0   0   0   0 255 253\n",
      " 196   0   0   0   0   0   0   0   0   0   0   0  76 246 252 112   0   0\n",
      "   0   0   0   0   0   0   0   0 253 252 148   0   0   0   0   0   0   0\n",
      "   0   0   0   0  85 252 230  25   0   0   0   0   0   0   0   0   7 135\n",
      " 253 186  12   0   0   0   0   0   0   0   0   0   0   0  85 252 223   0\n",
      "   0   0   0   0   0   0   0   7 131 252 225  71   0   0   0   0   0   0\n",
      "   0   0   0   0   0   0  85 252 145   0   0   0   0   0   0   0  48 165\n",
      " 252 173   0   0   0   0   0   0   0   0   0   0   0   0   0   0  86 253\n",
      " 225   0   0   0   0   0   0 114 238 253 162   0   0   0   0   0   0   0\n",
      "   0   0   0   0   0   0   0   0  85 252 249 146  48  29  85 178 225 253\n",
      " 223 167  56   0   0   0   0   0   0   0   0   0   0   0   0   0   0   0\n",
      "  85 252 252 252 229 215 252 252 252 196 130   0   0   0   0   0   0   0\n",
      "   0   0   0   0   0   0   0   0   0   0  28 199 252 252 253 252 252 233\n",
      " 145   0   0   0   0   0   0   0   0   0   0   0   0   0   0   0   0   0\n",
      "   0   0   0  25 128 252 253 252 141  37   0   0   0   0   0   0   0   0\n",
      "   0   0   0   0   0   0   0   0   0   0   0   0   0   0   0   0   0   0\n",
      "   0   0   0   0   0   0   0   0   0   0   0   0   0   0   0   0   0   0\n",
      "   0   0   0   0   0   0   0   0   0   0   0   0   0   0   0   0   0   0\n",
      "   0   0   0   0   0   0   0   0   0   0   0   0   0   0   0   0   0   0\n",
      "   0   0   0   0   0   0   0   0   0   0   0   0   0   0   0   0   0   0\n",
      "   0   0   0   0   0   0   0   0   0   0   0   0   0   0   0   0   0   0\n",
      "   0   0   0   0   0   0   0   0   0   0]\n"
     ]
    }
   ],
   "source": [
    "img = mnist.data[0]\n",
    "print(\"Pierwsz obrazek z \", mnist.data.shape[0], \":\", img) # Pixele"
   ]
  },
  {
   "cell_type": "code",
   "execution_count": 5,
   "metadata": {
    "collapsed": false
   },
   "outputs": [
    {
     "data": {
      "text/plain": [
       "<matplotlib.image.AxesImage at 0x3ba87f67b8>"
      ]
     },
     "execution_count": 5,
     "metadata": {},
     "output_type": "execute_result"
    },
    {
     "data": {
      "image/png": "[encoded data removed]",
      "text/plain": [
       "<matplotlib.figure.Figure at 0x3ba438d0f0>"
      ]
     },
     "metadata": {},
     "output_type": "display_data"
    }
   ],
   "source": [
    "# Możemy sobie narysować wcześniej wypisaną cyfrę\n",
    "import matplotlib.pylab as plt\n",
    "%matplotlib inline\n",
    "plt.imshow(img.reshape(28,28), cmap=\"gray\")"
   ]
  },
  {
   "cell_type": "code",
   "execution_count": 7,
   "metadata": {
    "collapsed": false
   },
   "outputs": [],
   "source": [
    "import sklearn\n",
    "from sklearn import linear_model, decomposition\n",
    "from sklearn.pipeline import Pipeline\n",
    "from sklearn.cross_validation import train_test_split\n",
    "from sklearn.linear_model import LogisticRegression\n",
    "from sklearn import preprocessing\n",
    "import numpy as np"
   ]
  },
  {
   "cell_type": "markdown",
   "metadata": {},
   "source": [
    "## Krok 1: wczytanie i podzielenie danych"
   ]
  },
  {
   "cell_type": "code",
   "execution_count": 29,
   "metadata": {
    "collapsed": true
   },
   "outputs": [],
   "source": [
    "#Wczytujemy dane i skalujemy\n",
    "X, Y = mnist.data.astype(\"float64\"), mnist.target \n",
    "X = preprocessing.scale(X)"
   ]
  },
  {
   "cell_type": "code",
   "execution_count": 30,
   "metadata": {
    "collapsed": true
   },
   "outputs": [],
   "source": [
    "#Dzielimy na dane trenujące i testujące\n",
    "X_train, X_test, Y_train, Y_test = train_test_split(X,Y)"
   ]
  },
  {
   "cell_type": "markdown",
   "metadata": {},
   "source": [
    "## Krok 2: dopasujmy pare modeli - uwaga! To juz trwa chwile, 70000 przykladow o 784 cechach kazdy."
   ]
  },
  {
   "cell_type": "code",
   "execution_count": 31,
   "metadata": {
    "collapsed": false
   },
   "outputs": [
    {
     "name": "stdout",
     "output_type": "stream",
     "text": [
      "Dokładność modelu wytrenowanego na  500  przykladach to:  78.8571428571 %\n"
     ]
    }
   ],
   "source": [
    "# Na wszystkich przykladach osiaga 92% dokladnosci. \n",
    "N = 500 # Podzbiór danych\n",
    "model = LogisticRegression() # Model z domyślnymi parametrami\n",
    "model.fit(X_train[0:N], Y_train[0:N])\n",
    "\n",
    "Y_test_predicted = model.predict(X_test)\n",
    "print(\"Dokładność modelu wytrenowanego na \",N, \" przykladach to: \",100*sklearn.metrics.accuracy_score(Y_test, Y_test_predicted), \"%\")"
   ]
  },
  {
   "cell_type": "markdown",
   "metadata": {},
   "source": [
    "## Przyklad zaklasyfikowany jako"
   ]
  },
  {
   "cell_type": "code",
   "execution_count": 34,
   "metadata": {
    "collapsed": false
   },
   "outputs": [
    {
     "name": "stdout",
     "output_type": "stream",
     "text": [
      "Przyklad zaklasyfikowany jako  [ 0.]\n"
     ]
    },
    {
     "name": "stderr",
     "output_type": "stream",
     "text": [
      "D:\\Anaconda3\\lib\\site-packages\\sklearn\\utils\\validation.py:395: DeprecationWarning: Passing 1d arrays as data is deprecated in 0.17 and will raise ValueError in 0.19. Reshape your data either using X.reshape(-1, 1) if your data has a single feature or X.reshape(1, -1) if it contains a single sample.\n",
      "  DeprecationWarning)\n"
     ]
    },
    {
     "data": {
      "text/plain": [
       "<matplotlib.image.AxesImage at 0x3b8add06d8>"
      ]
     },
     "execution_count": 34,
     "metadata": {},
     "output_type": "execute_result"
    },
    {
     "data": {
      "image/png": "[encoded data removed]",
      "text/plain": [
       "<matplotlib.figure.Figure at 0x3b8ad7d9e8>"
      ]
     },
     "metadata": {},
     "output_type": "display_data"
    }
   ],
   "source": [
    "print(\"Przyklad zaklasyfikowany jako \", model.predict(X_test[2]))\n",
    "plt.imshow(X_test[2].reshape(28,28), cmap=\"gray\")"
   ]
  },
  {
   "cell_type": "markdown",
   "metadata": {},
   "source": [
    "## Krok 3: Tworzymy caly model zmniejszając ilość przykładów\n",
    "W scikit-learn możemy połączyć pare modeli w **pipeline**, który sam implementuje interfejs Estimator."
   ]
  },
  {
   "cell_type": "code",
   "execution_count": 35,
   "metadata": {
    "collapsed": true
   },
   "outputs": [],
   "source": [
    "pca = decomposition.PCA(n_components=20)\n",
    "pca.fit(X_train)\n",
    "X_train_transf = pca.transform(X_train)"
   ]
  },
  {
   "cell_type": "code",
   "execution_count": 36,
   "metadata": {
    "collapsed": false
   },
   "outputs": [
    {
     "data": {
      "text/plain": [
       "LogisticRegression(C=0.1, class_weight=None, dual=False, fit_intercept=True,\n",
       "          intercept_scaling=1, max_iter=100, multi_class='ovr', n_jobs=1,\n",
       "          penalty='l2', random_state=None, solver='liblinear', tol=0.0001,\n",
       "          verbose=0, warm_start=False)"
      ]
     },
     "execution_count": 36,
     "metadata": {},
     "output_type": "execute_result"
    }
   ],
   "source": [
    "logistic = linear_model.LogisticRegression(C=0.1)\n",
    "logistic.fit(X_train_transf, Y_train)"
   ]
  },
  {
   "cell_type": "code",
   "execution_count": 37,
   "metadata": {
    "collapsed": true
   },
   "outputs": [],
   "source": [
    "pipe = Pipeline(steps=[('pca', pca), ('logistic', logistic)])"
   ]
  },
  {
   "cell_type": "code",
   "execution_count": 38,
   "metadata": {
    "collapsed": false
   },
   "outputs": [
    {
     "name": "stdout",
     "output_type": "stream",
     "text": [
      "Dokładność modelu wytrenowanego to:  84.9028571429 %\n"
     ]
    }
   ],
   "source": [
    "#Zobaczmy na dokładność modelu\n",
    "Y_test_predicted = pipe.predict(X_test)\n",
    "print(\"Dokładność modelu wytrenowanego to: \",100*sklearn.metrics.accuracy_score(Y_test, Y_test_predicted), \"%\")"
   ]
  },
  {
   "cell_type": "markdown",
   "metadata": {},
   "source": [
    "**Poprawa o 6%! Nice**\n",
    "\n",
    "## Poszukajmy najlepszych hiperparametrów"
   ]
  },
  {
   "cell_type": "code",
   "execution_count": 40,
   "metadata": {
    "collapsed": false
   },
   "outputs": [
    {
     "name": "stdout",
     "output_type": "stream",
     "text": [
      "Fitting 5 folds for each of 12 candidates, totalling 60 fits\n",
      "[CV] logistic__C=1, pca__n_components=10 .............................\n",
      "[CV] .... logistic__C=1, pca__n_components=10, score=0.779608 -   7.2s\n",
      "[CV] logistic__C=1, pca__n_components=10 .............................\n"
     ]
    },
    {
     "name": "stderr",
     "output_type": "stream",
     "text": [
      "[Parallel(n_jobs=1)]: Done   1 out of   1 | elapsed:    7.3s remaining:    0.0s\n"
     ]
    },
    {
     "name": "stdout",
     "output_type": "stream",
     "text": [
      "[CV] .... logistic__C=1, pca__n_components=10, score=0.776233 -   7.0s\n",
      "[CV] logistic__C=1, pca__n_components=10 .............................\n"
     ]
    },
    {
     "name": "stderr",
     "output_type": "stream",
     "text": [
      "[Parallel(n_jobs=1)]: Done   2 out of   2 | elapsed:   14.4s remaining:    0.0s\n"
     ]
    },
    {
     "name": "stdout",
     "output_type": "stream",
     "text": [
      "[CV] .... logistic__C=1, pca__n_components=10, score=0.779735 -   7.2s\n",
      "[CV] logistic__C=1, pca__n_components=10 .............................\n"
     ]
    },
    {
     "name": "stderr",
     "output_type": "stream",
     "text": [
      "[Parallel(n_jobs=1)]: Done   3 out of   3 | elapsed:   21.8s remaining:    0.0s\n"
     ]
    },
    {
     "name": "stdout",
     "output_type": "stream",
     "text": [
      "[CV] .... logistic__C=1, pca__n_components=10, score=0.776741 -   7.3s\n",
      "[CV] logistic__C=1, pca__n_components=10 .............................\n",
      "[CV] .... logistic__C=1, pca__n_components=10, score=0.780827 -   7.4s\n",
      "[CV] logistic__C=1, pca__n_components=20 .............................\n",
      "[CV] .... logistic__C=1, pca__n_components=20, score=0.846249 -  12.7s\n",
      "[CV] logistic__C=1, pca__n_components=20 .............................\n",
      "[CV] .... logistic__C=1, pca__n_components=20, score=0.853171 -  12.3s\n",
      "[CV] logistic__C=1, pca__n_components=20 .............................\n",
      "[CV] .... logistic__C=1, pca__n_components=20, score=0.850300 -  12.9s\n",
      "[CV] logistic__C=1, pca__n_components=20 .............................\n",
      "[CV] .... logistic__C=1, pca__n_components=20, score=0.851319 -  12.7s\n",
      "[CV] logistic__C=1, pca__n_components=20 .............................\n",
      "[CV] .... logistic__C=1, pca__n_components=20, score=0.852964 -  13.1s\n",
      "[CV] logistic__C=1, pca__n_components=30 .............................\n",
      "[CV] .... logistic__C=1, pca__n_components=30, score=0.869859 -  21.6s\n",
      "[CV] logistic__C=1, pca__n_components=30 .............................\n",
      "[CV] .... logistic__C=1, pca__n_components=30, score=0.876119 -  18.9s\n",
      "[CV] logistic__C=1, pca__n_components=30 .............................\n",
      "[CV] .... logistic__C=1, pca__n_components=30, score=0.872203 -  25.7s\n",
      "[CV] logistic__C=1, pca__n_components=30 .............................\n",
      "[CV] .... logistic__C=1, pca__n_components=30, score=0.872464 -  20.9s\n",
      "[CV] logistic__C=1, pca__n_components=30 .............................\n",
      "[CV] .... logistic__C=1, pca__n_components=30, score=0.875834 -  20.1s\n",
      "[CV] logistic__C=10, pca__n_components=10 ............................\n",
      "[CV] ... logistic__C=10, pca__n_components=10, score=0.780465 -   7.3s\n",
      "[CV] logistic__C=10, pca__n_components=10 ............................\n",
      "[CV] ... logistic__C=10, pca__n_components=10, score=0.775567 -   7.5s\n",
      "[CV] logistic__C=10, pca__n_components=10 ............................\n",
      "[CV] ... logistic__C=10, pca__n_components=10, score=0.780116 -   7.6s\n",
      "[CV] logistic__C=10, pca__n_components=10 ............................\n",
      "[CV] ... logistic__C=10, pca__n_components=10, score=0.776455 -   7.3s\n",
      "[CV] logistic__C=10, pca__n_components=10 ............................\n",
      "[CV] ... logistic__C=10, pca__n_components=10, score=0.781971 -   7.3s\n",
      "[CV] logistic__C=10, pca__n_components=20 ............................\n",
      "[CV] ... logistic__C=10, pca__n_components=20, score=0.847867 -  14.2s\n",
      "[CV] logistic__C=10, pca__n_components=20 ............................\n",
      "[CV] ... logistic__C=10, pca__n_components=20, score=0.853647 -  13.5s\n",
      "[CV] logistic__C=10, pca__n_components=20 ............................\n",
      "[CV] ... logistic__C=10, pca__n_components=20, score=0.850681 -  13.8s\n",
      "[CV] logistic__C=10, pca__n_components=20 ............................\n",
      "[CV] ... logistic__C=10, pca__n_components=20, score=0.852653 -  12.9s\n",
      "[CV] logistic__C=10, pca__n_components=20 ............................\n",
      "[CV] ... logistic__C=10, pca__n_components=20, score=0.853154 -  12.8s\n",
      "[CV] logistic__C=10, pca__n_components=30 ............................\n",
      "[CV] ... logistic__C=10, pca__n_components=30, score=0.870621 -  21.1s\n",
      "[CV] logistic__C=10, pca__n_components=30 ............................\n",
      "[CV] ... logistic__C=10, pca__n_components=30, score=0.875167 -  18.8s\n",
      "[CV] logistic__C=10, pca__n_components=30 ............................\n",
      "[CV] ... logistic__C=10, pca__n_components=30, score=0.871536 -  20.9s\n",
      "[CV] logistic__C=10, pca__n_components=30 ............................\n",
      "[CV] ... logistic__C=10, pca__n_components=30, score=0.871226 -  19.9s\n",
      "[CV] logistic__C=10, pca__n_components=30 ............................\n",
      "[CV] ... logistic__C=10, pca__n_components=30, score=0.875548 -  19.6s\n",
      "[CV] logistic__C=100, pca__n_components=10 ...........................\n",
      "[CV] .. logistic__C=100, pca__n_components=10, score=0.779703 -   7.2s\n",
      "[CV] logistic__C=100, pca__n_components=10 ...........................\n",
      "[CV] .. logistic__C=100, pca__n_components=10, score=0.775757 -   7.2s\n",
      "[CV] logistic__C=100, pca__n_components=10 ...........................\n",
      "[CV] .. logistic__C=100, pca__n_components=10, score=0.779830 -   7.2s\n",
      "[CV] logistic__C=100, pca__n_components=10 ...........................\n",
      "[CV] .. logistic__C=100, pca__n_components=10, score=0.777312 -   7.2s\n",
      "[CV] logistic__C=100, pca__n_components=10 ...........................\n",
      "[CV] .. logistic__C=100, pca__n_components=10, score=0.782542 -   7.0s\n",
      "[CV] logistic__C=100, pca__n_components=20 ...........................\n",
      "[CV] .. logistic__C=100, pca__n_components=20, score=0.845202 -  13.2s\n",
      "[CV] logistic__C=100, pca__n_components=20 ...........................\n",
      "[CV] .. logistic__C=100, pca__n_components=20, score=0.854218 -  13.0s\n",
      "[CV] logistic__C=100, pca__n_components=20 ...........................\n",
      "[CV] .. logistic__C=100, pca__n_components=20, score=0.851157 -  14.2s\n",
      "[CV] logistic__C=100, pca__n_components=20 ...........................\n",
      "[CV] .. logistic__C=100, pca__n_components=20, score=0.852462 -  12.9s\n",
      "[CV] logistic__C=100, pca__n_components=20 ...........................\n",
      "[CV] .. logistic__C=100, pca__n_components=20, score=0.854107 -  13.1s\n",
      "[CV] logistic__C=100, pca__n_components=30 ...........................\n",
      "[CV] .. logistic__C=100, pca__n_components=30, score=0.870335 -  19.9s\n",
      "[CV] logistic__C=100, pca__n_components=30 ...........................\n",
      "[CV] .. logistic__C=100, pca__n_components=30, score=0.872881 -  18.2s\n",
      "[CV] logistic__C=100, pca__n_components=30 ...........................\n",
      "[CV] .. logistic__C=100, pca__n_components=30, score=0.871727 -  23.4s\n",
      "[CV] logistic__C=100, pca__n_components=30 ...........................\n",
      "[CV] .. logistic__C=100, pca__n_components=30, score=0.868464 -  19.2s\n",
      "[CV] logistic__C=100, pca__n_components=30 ...........................\n",
      "[CV] .. logistic__C=100, pca__n_components=30, score=0.873928 -  20.8s\n",
      "[CV] logistic__C=1000, pca__n_components=10 ..........................\n",
      "[CV] . logistic__C=1000, pca__n_components=10, score=0.780560 -   7.0s\n",
      "[CV] logistic__C=1000, pca__n_components=10 ..........................\n",
      "[CV] . logistic__C=1000, pca__n_components=10, score=0.775662 -   6.9s\n",
      "[CV] logistic__C=1000, pca__n_components=10 ..........................\n",
      "[CV] . logistic__C=1000, pca__n_components=10, score=0.778878 -   7.0s\n",
      "[CV] logistic__C=1000, pca__n_components=10 ..........................\n",
      "[CV] . logistic__C=1000, pca__n_components=10, score=0.776836 -   7.1s\n",
      "[CV] logistic__C=1000, pca__n_components=10 ..........................\n",
      "[CV] . logistic__C=1000, pca__n_components=10, score=0.782733 -   7.1s\n",
      "[CV] logistic__C=1000, pca__n_components=20 ..........................\n",
      "[CV] . logistic__C=1000, pca__n_components=20, score=0.846630 -  13.1s\n",
      "[CV] logistic__C=1000, pca__n_components=20 ..........................\n",
      "[CV] . logistic__C=1000, pca__n_components=20, score=0.853837 -  12.8s\n",
      "[CV] logistic__C=1000, pca__n_components=20 ..........................\n",
      "[CV] . logistic__C=1000, pca__n_components=20, score=0.850681 -  13.0s\n",
      "[CV] logistic__C=1000, pca__n_components=20 ..........................\n",
      "[CV] . logistic__C=1000, pca__n_components=20, score=0.852938 -  12.8s\n",
      "[CV] logistic__C=1000, pca__n_components=20 ..........................\n",
      "[CV] . logistic__C=1000, pca__n_components=20, score=0.853917 -  13.1s\n",
      "[CV] logistic__C=1000, pca__n_components=30 ..........................\n",
      "[CV] . logistic__C=1000, pca__n_components=30, score=0.871192 -  22.7s\n",
      "[CV] logistic__C=1000, pca__n_components=30 ..........................\n",
      "[CV] . logistic__C=1000, pca__n_components=30, score=0.872881 -  18.9s\n",
      "[CV] logistic__C=1000, pca__n_components=30 ..........................\n",
      "[CV] . logistic__C=1000, pca__n_components=30, score=0.873060 -  21.8s\n",
      "[CV] logistic__C=1000, pca__n_components=30 ..........................\n",
      "[CV] . logistic__C=1000, pca__n_components=30, score=0.869416 -  24.7s\n",
      "[CV] logistic__C=1000, pca__n_components=30 ..........................\n",
      "[CV] . logistic__C=1000, pca__n_components=30, score=0.875643 -  20.3s\n"
     ]
    },
    {
     "name": "stderr",
     "output_type": "stream",
     "text": [
      "[Parallel(n_jobs=1)]: Done  60 out of  60 | elapsed: 13.9min finished\n"
     ]
    },
    {
     "data": {
      "text/plain": [
       "GridSearchCV(cv=5, error_score='raise',\n",
       "       estimator=Pipeline(steps=[('pca', PCA(copy=True, iterated_power='auto', n_components=20, random_state=None,\n",
       "  svd_solver='auto', tol=0.0, whiten=False)), ('logistic', LogisticRegression(C=0.1, class_weight=None, dual=False, fit_intercept=True,\n",
       "          intercept_scaling=1, max_iter=100, multi_class='ovr', n_jobs=1,\n",
       "          penalty='l2', random_state=None, solver='liblinear', tol=0.0001,\n",
       "          verbose=0, warm_start=False))]),\n",
       "       fit_params={}, iid=True, n_jobs=1,\n",
       "       param_grid=[{'pca__n_components': [10, 20, 30], 'logistic__C': [1, 10, 100, 1000]}],\n",
       "       pre_dispatch='2*n_jobs', refit=True, scoring='accuracy', verbose=4)"
      ]
     },
     "execution_count": 40,
     "metadata": {},
     "output_type": "execute_result"
    }
   ],
   "source": [
    "from sklearn.grid_search import GridSearchCV\n",
    "\n",
    "tuned_parameters = [{'pca__n_components':[10,20,30], 'logistic__C':  [1, 10, 100, 1000]}]\n",
    "clf_fitted = Pipeline(steps=[('pca', pca), ('logistic', logistic)])\n",
    "clf = GridSearchCV(clf_fitted, tuned_parameters, cv=5, scoring='accuracy', verbose=4)\n",
    "clf.fit(X_train, Y_train)"
   ]
  },
  {
   "cell_type": "code",
   "execution_count": 41,
   "metadata": {
    "collapsed": false
   },
   "outputs": [
    {
     "data": {
      "text/plain": [
       "Pipeline(steps=[('pca', PCA(copy=True, iterated_power='auto', n_components=30, random_state=None,\n",
       "  svd_solver='auto', tol=0.0, whiten=False)), ('logistic', LogisticRegression(C=1, class_weight=None, dual=False, fit_intercept=True,\n",
       "          intercept_scaling=1, max_iter=100, multi_class='ovr', n_jobs=1,\n",
       "          penalty='l2', random_state=None, solver='liblinear', tol=0.0001,\n",
       "          verbose=0, warm_start=False))])"
      ]
     },
     "execution_count": 41,
     "metadata": {},
     "output_type": "execute_result"
    }
   ],
   "source": [
    "clf.best_estimator_"
   ]
  },
  {
   "cell_type": "code",
   "execution_count": 42,
   "metadata": {
    "collapsed": false
   },
   "outputs": [
    {
     "name": "stdout",
     "output_type": "stream",
     "text": [
      "Dokładność modelu wytrenowanego to:  87.2057142857 %\n"
     ]
    }
   ],
   "source": [
    "#Zobaczmy na dokładność modelu\n",
    "Y_test_predicted = clf.best_estimator_.predict(X_test)\n",
    "print(\"Dokładność modelu wytrenowanego to: \",100*sklearn.metrics.accuracy_score(Y_test, Y_test_predicted), \"%\")"
   ]
  },
  {
   "cell_type": "code",
   "execution_count": null,
   "metadata": {
    "collapsed": true
   },
   "outputs": [],
   "source": []
  }
 ],
 "metadata": {
  "kernelspec": {
   "display_name": "Python 3",
   "language": "python",
   "name": "python3"
  },
  "language_info": {
   "codemirror_mode": {
    "name": "ipython",
    "version": 3
   },
   "file_extension": ".py",
   "mimetype": "text/x-python",
   "name": "python",
   "nbconvert_exporter": "python",
   "pygments_lexer": "ipython3",
   "version": "3.6.0"
  }
 },
 "nbformat": 4,
 "nbformat_minor": 2
}
