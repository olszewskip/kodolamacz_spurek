{
 "cells": [
  {
   "cell_type": "markdown",
   "metadata": {},
   "source": [
    "# Zad.\n",
    "Pytamy się jakie są naturalne grupy w postach. Bierzemy zbiór 20newsgroups."
   ]
  },
  {
   "cell_type": "code",
   "execution_count": 1,
   "metadata": {
    "collapsed": true
   },
   "outputs": [],
   "source": [
    "import numpy as np\n",
    "import pandas as pd\n",
    "import matplotlib.pyplot as plt"
   ]
  },
  {
   "cell_type": "markdown",
   "metadata": {},
   "source": [
    "### wczytaj dane"
   ]
  },
  {
   "cell_type": "code",
   "execution_count": 2,
   "metadata": {
    "collapsed": true
   },
   "outputs": [],
   "source": [
    "from sklearn.datasets import fetch_20newsgroups\n",
    "twenty = fetch_20newsgroups(subset='all', shuffle=True)"
   ]
  },
  {
   "cell_type": "code",
   "execution_count": 3,
   "metadata": {},
   "outputs": [
    {
     "data": {
      "text/plain": [
       "'the 20 newsgroups by date dataset'"
      ]
     },
     "execution_count": 3,
     "metadata": {},
     "output_type": "execute_result"
    }
   ],
   "source": [
    "twenty.description"
   ]
  },
  {
   "cell_type": "code",
   "execution_count": 4,
   "metadata": {},
   "outputs": [
    {
     "data": {
      "text/plain": [
       "['alt.atheism',\n",
       " 'comp.graphics',\n",
       " 'comp.os.ms-windows.misc',\n",
       " 'comp.sys.ibm.pc.hardware',\n",
       " 'comp.sys.mac.hardware',\n",
       " 'comp.windows.x',\n",
       " 'misc.forsale',\n",
       " 'rec.autos',\n",
       " 'rec.motorcycles',\n",
       " 'rec.sport.baseball',\n",
       " 'rec.sport.hockey',\n",
       " 'sci.crypt',\n",
       " 'sci.electronics',\n",
       " 'sci.med',\n",
       " 'sci.space',\n",
       " 'soc.religion.christian',\n",
       " 'talk.politics.guns',\n",
       " 'talk.politics.mideast',\n",
       " 'talk.politics.misc',\n",
       " 'talk.religion.misc']"
      ]
     },
     "execution_count": 4,
     "metadata": {},
     "output_type": "execute_result"
    }
   ],
   "source": [
    "twenty.target_names"
   ]
  },
  {
   "cell_type": "code",
   "execution_count": 5,
   "metadata": {
    "collapsed": true
   },
   "outputs": [],
   "source": [
    "data = []\n",
    "for j in range(len(twenty.target_names)):\n",
    "    data.append([twenty.data[i] for i in range(twenty.target.shape[0]) if twenty.target[i] == j])"
   ]
  },
  {
   "cell_type": "markdown",
   "metadata": {},
   "source": [
    "### Wypisz pierwszy post"
   ]
  },
  {
   "cell_type": "code",
   "execution_count": 6,
   "metadata": {},
   "outputs": [
    {
     "name": "stdout",
     "output_type": "stream",
     "text": [
      "From: kmr4@po.CWRU.edu (Keith M. Ryan)\n",
      "Subject: Re: Islam And Scientific Predictions (was Re: Genocide is Caused by Atheism)\n",
      "Organization: Case Western Reserve University\n",
      "Lines: 14\n",
      "NNTP-Posting-Host: b64635.student.cwru.edu\n",
      "\n",
      "In article <1993Apr19.231641.21652@monu6.cc.monash.edu.au> darice@yoyo.cc.monash.edu.au (Fred Rice) writes:\n",
      "\n",
      ">The positive aspect of this verse noted by Dr. Maurice Bucaille is that\n",
      ">while geocentrism was the commonly accepted notion at the time (and for\n",
      ">a long time afterwards), there is no notion of geocentrism in this verse\n",
      ">(or anywhere in the Qur'an).\n",
      "\n",
      "\tThere is no notion of heliocentric, or even galacticentric either.\n",
      "\n",
      "\n",
      "\n",
      "--------------------------------------------------------------------------------\n",
      "\t\t\n",
      "\t\t\"My sole intention was learning to fly.\"\n",
      "\n"
     ]
    }
   ],
   "source": [
    "print(data[0][0])"
   ]
  },
  {
   "cell_type": "markdown",
   "metadata": {},
   "source": [
    "### Zapisz dane w dwóch zmiennych \n",
    "\n",
    " * X_set\n",
    " * y_set\n",
    " \n",
    "biorąc okreslona ilosc danych z kazdej klasy\n",
    "\n",
    "5 klas po 50 elementów"
   ]
  },
  {
   "cell_type": "code",
   "execution_count": 7,
   "metadata": {
    "collapsed": true
   },
   "outputs": [],
   "source": [
    "#biore okreslona ilosc danych z kazdej klasy\n",
    "\n",
    "categories = 5\n",
    "num=50\n",
    "X_set = []\n",
    "Y_set =[]\n",
    "for i in range(categories):\n",
    "    X_set = X_set + data[i][:num]\n",
    "    Y_set = Y_set + [i]*num"
   ]
  },
  {
   "cell_type": "markdown",
   "metadata": {},
   "source": [
    "### wypisz pierwszy post"
   ]
  },
  {
   "cell_type": "code",
   "execution_count": 8,
   "metadata": {},
   "outputs": [
    {
     "data": {
      "text/plain": [
       "'From: kmr4@po.CWRU.edu (Keith M. Ryan)\\nSubject: Re: Islam And Scientific Predictions (was Re: Genocide is Caused by Atheism)\\nOrganization: Case Western Reserve University\\nLines: 14\\nNNTP-Posting-Host: b64635.student.cwru.edu\\n\\nIn article <1993Apr19.231641.21652@monu6.cc.monash.edu.au> darice@yoyo.cc.monash.edu.au (Fred Rice) writes:\\n\\n>The positive aspect of this verse noted by Dr. Maurice Bucaille is that\\n>while geocentrism was the commonly accepted notion at the time (and for\\n>a long time afterwards), there is no notion of geocentrism in this verse\\n>(or anywhere in the Qur\\'an).\\n\\n\\tThere is no notion of heliocentric, or even galacticentric either.\\n\\n\\n\\n--------------------------------------------------------------------------------\\n\\t\\t\\n\\t\\t\"My sole intention was learning to fly.\"\\n'"
      ]
     },
     "execution_count": 8,
     "metadata": {},
     "output_type": "execute_result"
    }
   ],
   "source": [
    "X_set[0]"
   ]
  },
  {
   "cell_type": "markdown",
   "metadata": {},
   "source": [
    "### wypisz pierwszy label posta"
   ]
  },
  {
   "cell_type": "code",
   "execution_count": 9,
   "metadata": {},
   "outputs": [
    {
     "data": {
      "text/plain": [
       "0"
      ]
     },
     "execution_count": 9,
     "metadata": {},
     "output_type": "execute_result"
    }
   ],
   "source": [
    "Y_set[0]"
   ]
  },
  {
   "cell_type": "markdown",
   "metadata": {},
   "source": [
    "### wektoryzuje dane"
   ]
  },
  {
   "cell_type": "code",
   "execution_count": 10,
   "metadata": {
    "collapsed": true
   },
   "outputs": [],
   "source": [
    "#wektoryzuje dane\n",
    "\n",
    "from sklearn.feature_extraction.text import CountVectorizer\n",
    "\n",
    "tf_vectorizer = CountVectorizer(strip_accents = 'unicode',\n",
    "                                stop_words = 'english',\n",
    "                                lowercase = True,\n",
    "                                token_pattern = r'\\b[a-zA-Z]{3,}\\b',\n",
    "                                max_df = 0.5, \n",
    "                                min_df = 10)\n",
    "X_vectors = tf_vectorizer.fit_transform(X_set)"
   ]
  },
  {
   "cell_type": "code",
   "execution_count": 11,
   "metadata": {},
   "outputs": [
    {
     "name": "stdout",
     "output_type": "stream",
     "text": [
      "(250, 312)\n",
      "250\n"
     ]
    }
   ],
   "source": [
    "print(X_vectors.shape)\n",
    "print(len(Y_set))"
   ]
  },
  {
   "cell_type": "code",
   "execution_count": 12,
   "metadata": {},
   "outputs": [
    {
     "data": {
      "text/plain": [
       "array([0, 1, 2, 3, 4])"
      ]
     },
     "execution_count": 12,
     "metadata": {},
     "output_type": "execute_result"
    }
   ],
   "source": [
    "np.unique(Y_set)"
   ]
  },
  {
   "cell_type": "markdown",
   "metadata": {},
   "source": [
    "# Zad. \n",
    "\n",
    "Wykonajmy grupowanie danych metodą hierarchiczną.\n",
    "\n",
    "Użyj odległości:\n",
    "    \n",
    "   * 'euclidean'\n",
    "   * 'cosine'\n",
    "    \n",
    "Dlaczego odległość 'euclidean' jest gorsza od 'cosine'?"
   ]
  },
  {
   "cell_type": "code",
   "execution_count": 23,
   "metadata": {
    "collapsed": true
   },
   "outputs": [],
   "source": [
    "from scipy.spatial.distance import pdist, squareform\n",
    "from scipy.cluster.hierarchy import linkage\n",
    "from scipy.cluster.hierarchy import dendrogram\n",
    "from scipy.cluster.hierarchy import fcluster\n",
    "from sklearn import metrics"
   ]
  },
  {
   "cell_type": "code",
   "execution_count": 24,
   "metadata": {},
   "outputs": [
    {
     "data": {
      "image/png": "[encoded data removed]",
      "text/plain": [
       "<Figure size 1800x720 with 1 Axes>"
      ]
     },
     "metadata": {},
     "output_type": "display_data"
    }
   ],
   "source": [
    "df = pd.DataFrame(X_vectors.todense())\n",
    "df\n",
    "\n",
    "plt.figure(figsize=(25, 10))\n",
    "row_clusters = linkage(pdist(df, metric='euclidean'), method='ward') \n",
    "row_dendr = dendrogram(row_clusters)\n",
    "\n",
    "plt.ylabel('Euclidean distance')\n",
    "plt.show()\n"
   ]
  },
  {
   "cell_type": "code",
   "execution_count": 25,
   "metadata": {},
   "outputs": [
    {
     "data": {
      "image/png": "[encoded data removed]",
      "text/plain": [
       "<Figure size 1800x720 with 1 Axes>"
      ]
     },
     "metadata": {},
     "output_type": "display_data"
    }
   ],
   "source": [
    "df = pd.DataFrame(X_vectors.todense())\n",
    "df\n",
    "\n",
    "plt.figure(figsize=(25, 10))\n",
    "row_clusters = linkage(pdist(df, metric='cosine'), method='ward') \n",
    "row_dendr = dendrogram(row_clusters)\n",
    "\n",
    "plt.ylabel('Euclidean distance')\n",
    "plt.show()\n"
   ]
  },
  {
   "cell_type": "code",
   "execution_count": 26,
   "metadata": {},
   "outputs": [
    {
     "data": {
      "image/png": "[encoded data removed]",
      "text/plain": [
       "<Figure size 1800x720 with 1 Axes>"
      ]
     },
     "metadata": {},
     "output_type": "display_data"
    }
   ],
   "source": [
    "df = pd.DataFrame(X_vectors.todense())\n",
    "df\n",
    "\n",
    "plt.figure(figsize=(25, 10))\n",
    "row_clusters = linkage(pdist(df, metric='cosine'), method='complete') \n",
    "row_dendr = dendrogram(row_clusters)\n",
    "\n",
    "plt.ylabel('Euclidean distance')\n",
    "plt.show()"
   ]
  },
  {
   "cell_type": "markdown",
   "metadata": {},
   "source": [
    "# Zad \n",
    "Podziel dane na grupy np. 20."
   ]
  },
  {
   "cell_type": "code",
   "execution_count": 28,
   "metadata": {},
   "outputs": [
    {
     "name": "stdout",
     "output_type": "stream",
     "text": [
      "[ 1  9  9 15 16 20 15  5  3  7 15 12 20  5 20 20 20 20 20  1 20 20 20  5\n",
      "  3 20 20  3 20 12  5 20 20 20 15 15  3  5  5  9 20 20  5 20 15 20 20 20\n",
      " 15  3 12 19  8  8  1 18 10 12 14  8  2  8 19 12  2 19  7  5  2 14 19 18\n",
      "  5  8 12  5  8  7  3  8  5  3  8 16 16  2  8  9 17  8  2 12 12  8 17 10\n",
      "  5  8 13  8 10 10 18 18  7  2  8  3 17 14  1 10  8 14 18 18 14  5  8 14\n",
      "  9 14  7  9 18 14 14  9 18 14 17 14 18 16 14 14  5  7  7 18 13  7 14 18\n",
      " 18 10  3 14 18  5  6 11 17 14  9 16  4 11  6 11  8 17  5  8  5 16  6 16\n",
      "  8 11 14  8 11 17 11  9  5  7  5  6  5 15  7  4 11  8 11  2 10 11  6  5\n",
      "  5 17  6  8 11 14  5 11 16  1  8  7  7  3  5 15  1  8  1  4  2  6  1 14\n",
      "  5  3 13 12  7  1  4  1  5  1  9  6  1  8  8  1 11  5  5  5 10  7  9  8\n",
      "  7  4  5  5  6  1  5  4  3  1]\n",
      "[ 1  2  3  4  5  6  7  8  9 10 11 12 13 14 15 16 17 18 19 20]\n"
     ]
    }
   ],
   "source": [
    "part = fcluster(row_clusters, 20, 'maxclust')\n",
    "print(part)\n",
    "print(np.unique(part))"
   ]
  },
  {
   "cell_type": "code",
   "execution_count": 29,
   "metadata": {},
   "outputs": [
    {
     "data": {
      "text/plain": [
       "(array([ 1,  2,  3,  4,  5,  6,  7,  8,  9, 10, 11, 12, 13, 14, 15, 16, 17,\n",
       "        18, 19, 20], dtype=int32),\n",
       " array([15,  8, 12,  6, 32,  9, 15, 27, 11,  8, 12,  9,  3, 19,  9,  8,  8,\n",
       "        13,  4, 22], dtype=int64))"
      ]
     },
     "execution_count": 29,
     "metadata": {},
     "output_type": "execute_result"
    }
   ],
   "source": [
    "np.unique(part, return_counts = True)"
   ]
  },
  {
   "cell_type": "markdown",
   "metadata": {},
   "source": [
    "# Zad \n",
    "Wylicz średnie w każdym klastrze"
   ]
  },
  {
   "cell_type": "code",
   "execution_count": 53,
   "metadata": {},
   "outputs": [
    {
     "name": "stdout",
     "output_type": "stream",
     "text": [
      "---------------------------\n",
      "[[0.13333333 0.         0.2        ... 0.06666667 0.06666667 0.        ]\n",
      " [0.         0.125      0.         ... 0.375      0.         0.        ]\n",
      " [0.08333333 0.08333333 0.08333333 ... 0.16666667 0.08333333 0.16666667]\n",
      " ...\n",
      " [0.         0.30769231 0.07692308 ... 0.07692308 0.         0.        ]\n",
      " [0.25       0.         0.         ... 0.         0.         0.25      ]\n",
      " [0.04545455 0.         0.31818182 ... 0.31818182 0.36363636 0.27272727]]\n",
      "---------------------------\n"
     ]
    }
   ],
   "source": [
    "n_elements = len(set(part))\n",
    "\n",
    "X_dense = X_vectors.todense()\n",
    "centers = np.zeros((n_elements, X_dense.shape[1]))\n",
    "\n",
    "for i in range(1,n_elements+1):\n",
    "    centers[i-1] = np.mean(X_dense[part == i], axis = 0)\n",
    "print(\"---------------------------\")\n",
    "print(centers)\n",
    "print(\"---------------------------\")"
   ]
  },
  {
   "cell_type": "markdown",
   "metadata": {},
   "source": [
    "# Zad. \n",
    "\n",
    "Wypisujem po kilka najczęstszych słów z klastrach"
   ]
  },
  {
   "cell_type": "code",
   "execution_count": 54,
   "metadata": {},
   "outputs": [
    {
     "name": "stdout",
     "output_type": "stream",
     "text": [
      "['university', 'nntp', 'posting', 'host', 'article', 'writes', 'time', 'apple', 'like', 'good', 'just', 'note', 'don', 'hard', 'problems', 'having', 'engineering', 'number', 'software', 'machine']\n",
      "['university', 'nntp', 'posting', 'host', 'article', 'writes', 'better', 'need', 'computer', 'thing', 'just', 'use', 'memory', 'bit', 'based', 'graphics', 'windows', 'running', 'image', 'uses']\n",
      "['university', 'article', 'writes', 'state', 'com', 'like', 'know', 'make', 'tell', 'way', 'problem', 'life', 'file', 'don', 'help', 'want', 'read', 'memory', 'using', 'work']\n",
      "['posting', 'question', 'way', 'problem', 'did', 'public', 'access', 'mail', 'help', 'want', 'thanks', 'does', 'distribution', 'world', 'mac', 'message', 'robert', 'running', 'org', 'computers']\n",
      "['nntp', 'posting', 'host', 'article', 'writes', 'time', 'com', 'know', 'think', 'use', 'don', 'does', 'distribution', 'world', 'using', 'mac', 'ibm', 'color', 'card', 'port']\n",
      "['university', 'nntp', 'posting', 'host', 'com', 'high', 'use', 'email', 'does', 'version', 'bit', 'work', 'video', 'card', 'display', 'cards', 'bus', 'performance', 'drivers', 'monitor']\n",
      "['university', 'writes', 'state', 'apple', 'know', 'speed', 'just', 'think', 'thanks', 'does', 'problems', 'memory', 'second', 'tried', 'college', 'windows', 'usa', 'video', 'performance', 'monitor']\n",
      "['university', 'nntp', 'posting', 'host', 'know', 'need', 'way', 'looking', 'new', 'think', 'don', 'mail', 'thanks', 'does', 'distribution', 'world', 'ibm', 'program', 'disk', 'drivers']\n",
      "['university', 'nntp', 'posting', 'host', 'article', 'writes', 'say', 'know', 'right', 'wrong', 'good', 'make', 'better', 'question', 'correct', 'makes', 'ask', 'computer', 'science', 'just']\n",
      "['case', 'time', 'problem', 'science', 'works', 'fax', 'mail', 'thanks', 'email', 'problems', 'having', 'address', 'try', 'post', 'hello', 'college', 'wanted', 'windows', 'running', 'advance']\n",
      "['article', 'writes', 'com', 'use', 'hard', 'want', 'does', 'mac', 'data', 'ibm', 'devices', 'format', 'card', 'disk', 'bus', 'drive', 'scsi', 'isa', 'controller', 'ide']\n",
      "['university', 'article', 'writes', 'know', 'right', 'information', 'looking', 'computer', 'science', 'think', 'reply', 'help', 'email', 'systems', 'post', 'uiuc', 'programs', 'graphics', 'comp', 'fast']\n",
      "['university', 'article', 'just', 'able', 'mail', 'thanks', 'box', 'version', 'support', 'come', 'tech', 'ftp', 'software', 'vesa', 'running', 'color', 'ram', 'available', 'card', 'driver']\n",
      "['university', 'nntp', 'posting', 'host', 'article', 'writes', 'com', 'like', 'need', 'just', 'use', 'don', 'using', 'run', 'dos', 'ibm', 'sys', 'windows', 'files', 'drivers']\n",
      "['atheism', 'university', 'writes', 'time', 'say', 'people', 'right', 'good', 'really', 'point', 'did', 'just', 'new', 'think', 'believe', 'don', 'hard', 'deleted', 'atheist', 'atheists']\n",
      "['article', 'time', 'com', 'know', 'information', 'make', 'just', 'use', 'mail', 'list', 'send', 'address', 'post', 'michael', 'old', 'message', 'interested', 'software', 'available', 'drive']\n",
      "['university', 'need', 'tell', 'problem', 'big', 'trying', 'mail', 'help', 'thanks', 'board', 'far', 'data', 'number', 'ibm', 'mode', 'greatly', 'meg', 'format', 'port', 'drive']\n",
      "['university', 'article', 'writes', 'john', 'com', 'know', 'file', 'new', 'david', 'help', 'thanks', 'version', 'run', 'dos', 'windows', 'files', 'card', 'screen', 'win', 'computers']\n",
      "['say', 'uucp', 'wrong', 'need', 'just', 'don', 'reply', 'mail', 'distribution', 'world', 'support', 'robert', 'software', 'graphics', 'program', 'vesa', 'mode', 'vga', 'card', 'bios']\n",
      "['keith', 'article', 'writes', 'say', 'com', 'know', 'people', 'way', 'true', 'just', 'reason', 'think', 'believe', 'god', 'don', 'does', 'atheists', 'read', 'claim', 'mean']\n"
     ]
    }
   ],
   "source": [
    "top = 20\n",
    "for i in range(n_elements):\n",
    "    tops = np.argsort(centers[i,:])[-top:]#[::-1]\n",
    "    print([w for w in tf_vectorizer.vocabulary_ if tf_vectorizer.vocabulary_[w] in tops])"
   ]
  },
  {
   "cell_type": "markdown",
   "metadata": {},
   "source": [
    "# Zad\n",
    "\n",
    "Wypiszmy teraz posty najbardziej reprezentujące klaster (zdania najbliższe średniej)"
   ]
  },
  {
   "cell_type": "code",
   "execution_count": 55,
   "metadata": {},
   "outputs": [
    {
     "name": "stdout",
     "output_type": "stream",
     "text": [
      "From: Geoffrey_Hansen@mindlink.bc.ca (Geoffrey Hansen)\n",
      "Subject: Re: VESA on the Speedstar 24\n",
      "Organization: MIND LINK! - British Columbia, Canada\n",
      "Lines: 12\n",
      "\n",
      "Using the VMODE command, all you need to do is type VMODE VESA at the dos\n",
      "prompt. VMODE is included with the Speedstar 24.  I have used the VESA mode\n",
      "for autodesk animator pro.\n",
      "\n",
      "--\n",
      "   <=================================================|\n",
      "             |     geoffrey_hansen@mindlink.bc.ca    |\n",
      "             |=================================================>\n",
      " \"Inumerable confusions and a feeling of despair invariably emerge\n",
      "  in periods of great technological and cultural transition.\"\n",
      "                                                     Marshall McLuhan\n",
      "\n",
      "\n",
      "-----------------------------------------------------------------------------\n",
      "From: v-cckch@microsoft.com (Kenneth Charlton)\n",
      "Subject: Re: \"Jump Starting\" a Mac II\n",
      "Organization: Microsoft Corp.\n",
      "Distribution: usa\n",
      "Lines: 5\n",
      "\n",
      "Apple dealerships once had kits to replace the soldered in batteries with a battery \n",
      "holder.\n",
      "\n",
      "Real easy to install, but it does require some soldering.\n",
      "\n",
      "\n",
      "-----------------------------------------------------------------------------\n",
      "From: gregof@JSP.UMontreal.CA (Grego Filippo)\n",
      "Subject: Info wanted on Tseng Labs ET4000 VLB\n",
      "Organization: Universite de Montreal\n",
      "Lines: 9\n",
      "\n",
      "Hi fellow netters,\n",
      "\n",
      "does anybody have any info on Tseng Labs ET4000 VLB card:\n",
      "price, speed, compatibility with existing and up-comming softwares,\n",
      "performance compared to others cards ( is it an S3 based card ?)....\n",
      "\n",
      "Thank you..\n",
      "\n",
      "\n",
      "\n",
      "-----------------------------------------------------------------------------\n",
      "From: edb@dmssyd.syd.dms.CSIRO.AU (Ed Breen)\n",
      "Subject: DICTA-93\n",
      "Originator: edb@friend.syd.dms.CSIRO.AU\n",
      "Keywords: Conference\n",
      "Reply-To: edb@dmssyd.syd.dms.CSIRO.AU (Ed Breen)\n",
      "Organization: CSIRO Division of Mathematics and Statistics, Australia\n",
      "Lines: 163\n",
      "\n",
      "\n",
      "                Australian Pattern Recognition Society\n",
      "\n",
      "                         2nd CALL FOR PAPERS\n",
      "\n",
      "                               DICTA-93\n",
      "\n",
      "                          2nd Conference on -\n",
      "\n",
      "         DIGITAL IMAGING COMPUTING: TECHNIQUES AND APPLICATIONS\n",
      "\n",
      "\n",
      "Location: Macquarie Theatre\n",
      "          Macquarie University\n",
      "          Sydney\n",
      "\n",
      "Date: 8-10 December 1993.\n",
      "\n",
      "\n",
      "   DICTA-93 is the second biennial national conference of the\n",
      "Australian Pattern Recognition Society.\n",
      "\n",
      "   This event will provide an opportunity for any persons with an\n",
      "interest in computer vision, digital image processing/analysis and other\n",
      "aspects of pattern recognition to become informed about contemporary\n",
      "developments in the area, to exchange ideas, to establish contacts and\n",
      "to share details of their own work with others.\n",
      "\n",
      "        The Following invited speakers will provide specialised\n",
      "presentations:\n",
      "\n",
      "Prof Gabor T. Herman, University of Pennsylvania on Medical Imaging.\n",
      "\n",
      "Prof. R.M. Hodgson, Massey University New Zealand on Computer Vision.\n",
      "\n",
      "Prof. Dominique Juelin, Centre de Morphologie Mathematique, Paris on\n",
      "Mathematical Morphology.\n",
      "\n",
      "Prof. John Richards, Aust. Defence Force Academy, Canberra on Remote\n",
      "Sensing.\n",
      "\n",
      "Dr. Phillip K. Robertson, CSIRO Division of Information Technology,\n",
      "Canberra on Interactive Visualisation.\n",
      "\n",
      "\n",
      "   The conference will concentrate on (but is not limited to) the\n",
      "following areas of image processing:-\n",
      "\n",
      "                * Computer Vision and Object Recognition\n",
      "                * Motion Analysis\n",
      "                * Morphology\n",
      "                * Medical Imaging\n",
      "                * Fuzzy logic and Neural Networks\n",
      "                * Image Coding\n",
      "                * Machine Vision and Robotics\n",
      "                * Enhancement and Restoration\n",
      "                * Enhancement and Restoration\n",
      "                * Visualisation\n",
      "                * Industrial Applications\n",
      "                * Software and Hardware Tools\n",
      "\n",
      "   Papers are sought for presentation at the conference and publication\n",
      "in the conference proceedings. Submission for peer review should consist\n",
      "of an extended abstract of 750-1000 words of doubled spaced text, summarizing the\n",
      "technical aspects of the paper and any results that will be quoted.\n",
      "Final papers should be limited to no more than 8 pages of text and\n",
      "illustrations in camera-ready form.\n",
      "\n",
      "\n",
      "   Four (4) copies of the abstract should be sent to:\n",
      "\n",
      "\n",
      "                               DICTA-93\n",
      "                          C/- Tony Adriaansen\n",
      "                  CSIRO - Division of Wool Technology\n",
      "                                PO Box 7\n",
      "                             Ryde NSW 2112\n",
      "                               Australia\n",
      "\n",
      "\n",
      "\n",
      "                            IMPORTANT DATES\n",
      "\n",
      "                Abstract due            - 25th June 1993\n",
      "                Acceptance notified     - 27th August 1993\n",
      "                Final paper due         - 15th October 1993\n",
      "\n",
      "\n",
      "\n",
      "SOCIAL PROGRAM:\n",
      "\n",
      "The conference dinner will be held on the Thursday 9th of December 1993.\n",
      "Other social activities are being arranged.\n",
      "\n",
      "Situated on a beautiful harbour, Sydney has many and varied places of\n",
      "interest. The Opera House and Harbour Bridge are just two of the well\n",
      "known landmarks. Harbour cruises, city tours to the Blue Mountains run\n",
      "daily. We can provide further information on request.\n",
      "\n",
      "\n",
      "ACCOMMODATION:\n",
      "\n",
      "Accommodation within 15 min walking distance is available, ranging from\n",
      "college style to 5 star Hotel facilities. Information will be supplied\n",
      "upon request.\n",
      "\n",
      "\n",
      "CONFERENCE FEES:\n",
      "\n",
      "                        before 30th Sep.        After 30th Sep.\n",
      "APRS Members              A$220                   A$250\n",
      "APRS Student Members      A$120                   A$150\n",
      "Others                    A$250                   A$280\n",
      "\n",
      "Conference Dinner         A$35\n",
      "on Dec 9th 1993\n",
      "\n",
      "\n",
      "-------------------------------------------------------------\n",
      "                ADVANCED REGISTRATION\n",
      "\n",
      "Name:\n",
      "Organisation:\n",
      "Address\n",
      "\n",
      "Phone:\n",
      "Fax:\n",
      "email:\n",
      "\n",
      "                - I am a current Member of APRS.\n",
      "\n",
      "                - I am not a current member of APRS.\n",
      "\n",
      "                - Please send me information on accommodation.\n",
      "\n",
      "\n",
      "I enclose a cheque for\n",
      "\n",
      "-------------------------------------------------------------\n",
      "\n",
      "Please send the above form to\n",
      "\n",
      "DICTA-93\n",
      "C/- Tony Adriaansen\n",
      "CSIRO - Division of Wool Technology\n",
      "PO Box 7\n",
      "Ryde NSW 2112\n",
      "Australia\n",
      "\n",
      "The cheques should be made payable to DICTA-93.\n",
      "\n",
      "For further information contact:\n",
      "* Tony Adriaansen (02) 809 9495\n",
      "* Athula Ginigie  (02) 330 2393\n",
      "* email: dicta93@ee.uts.edu.au\n",
      "\n",
      "APRS is a member of IAPP the International Association for Pattern\n",
      "Recognition, Inc. An affiliated member of the International Federation\n",
      "for Information Processing.\n",
      "\n",
      "\n",
      "\n",
      "\n",
      "\n",
      "-----------------------------------------------------------------------------\n",
      "From: chugh@niktow.canisius.edu (Kevin Chugh)\n",
      "Subject: micro solutions backpack not working properly\n",
      "Organization: Canisius College, Buffalo NY. 14208\n",
      "Lines: 14\n",
      "\n",
      "\n",
      "\n",
      "\n",
      "\n",
      "hello all- i have a problem with my micro solutions backpack- sometimes \n",
      "it works, sometimes it doesnt.  i will either start a backup, or \n",
      "start a tape format, and at about 20 percent i get an error either saying\n",
      "the tape is bad or the backup/format has aborted for an unknown reason.\n",
      "if i turn everything off and wait a half hour it works fine.  is it\n",
      "because the tape backup is too warm?  has anyone had similar experiences?\n",
      "\n",
      "\n",
      "thanks,\n",
      "kevin\n",
      "\n",
      "-----------------------------------------------------------------------------\n",
      "From: chugh@niktow.canisius.edu (Kevin Chugh)\n",
      "Subject: micro solutions backpack not working properly\n",
      "Organization: Canisius College, Buffalo NY. 14208\n",
      "Lines: 14\n",
      "\n",
      "\n",
      "\n",
      "\n",
      "\n",
      "hello all- i have a problem with my micro solutions backpack- sometimes \n",
      "it works, sometimes it doesnt.  i will either start a backup, or \n",
      "start a tape format, and at about 20 percent i get an error either saying\n",
      "the tape is bad or the backup/format has aborted for an unknown reason.\n",
      "if i turn everything off and wait a half hour it works fine.  is it\n",
      "because the tape backup is too warm?  has anyone had similar experiences?\n",
      "\n",
      "\n",
      "thanks,\n",
      "kevin\n",
      "\n",
      "-----------------------------------------------------------------------------\n",
      "From: Geoffrey_Hansen@mindlink.bc.ca (Geoffrey Hansen)\n",
      "Subject: Re: VESA on the Speedstar 24\n",
      "Organization: MIND LINK! - British Columbia, Canada\n",
      "Lines: 12\n",
      "\n",
      "Using the VMODE command, all you need to do is type VMODE VESA at the dos\n",
      "prompt. VMODE is included with the Speedstar 24.  I have used the VESA mode\n",
      "for autodesk animator pro.\n",
      "\n",
      "--\n",
      "   <=================================================|\n",
      "             |     geoffrey_hansen@mindlink.bc.ca    |\n",
      "             |=================================================>\n",
      " \"Inumerable confusions and a feeling of despair invariably emerge\n",
      "  in periods of great technological and cultural transition.\"\n",
      "                                                     Marshall McLuhan\n",
      "\n",
      "\n",
      "-----------------------------------------------------------------------------\n",
      "From: wlieftin@cs.vu.nl (Liefting W)\n",
      "Subject: Re: 486/33 WIN3.1 HANG\n",
      "Organization: Fac. Wiskunde & Informatica, VU, Amsterdam\n",
      "Lines: 19\n",
      "\n",
      "10748539@eng2.eng.monash.edu.au (CHARLES CHOONG) writes:\n",
      "\n",
      ">HELP, PROBLEM 486/33MHZ HANGS IN EXTENDED MODE TRYING TO\n",
      ">ACCESS DRIVES A: OR B: , SOMETIMES IT WILL DO DIR , SOMETIMES WILL HANG\n",
      ">ON ACCESS SOMETIMES WILL WHEN TYING A TEXT FILE.\n",
      "\n",
      ">HARDWARE:\n",
      ">AMERICAN MEGATREND MOTHERBOARD\n",
      ">AMI BIOS 91\n",
      ">CONNER 85MB HARD DRIVE\n",
      ">TRIDENT 1 MEG SVGA\n",
      "\n",
      ">PLEASE HELP!!!\n",
      ">ITS OK IN STANDARD MODE!!!\n",
      "\n",
      "I have the same problem. Someone suggested it might be a BIOS bug.\n",
      "Gonna check with my supplier tomorrow. I'll tell you if it helps.\n",
      "\n",
      "Wouter.\n",
      "\n",
      "-----------------------------------------------------------------------------\n",
      "From: Geoffrey_Hansen@mindlink.bc.ca (Geoffrey Hansen)\n",
      "Subject: Re: VESA on the Speedstar 24\n",
      "Organization: MIND LINK! - British Columbia, Canada\n",
      "Lines: 12\n",
      "\n",
      "Using the VMODE command, all you need to do is type VMODE VESA at the dos\n",
      "prompt. VMODE is included with the Speedstar 24.  I have used the VESA mode\n",
      "for autodesk animator pro.\n",
      "\n",
      "--\n",
      "   <=================================================|\n",
      "             |     geoffrey_hansen@mindlink.bc.ca    |\n",
      "             |=================================================>\n",
      " \"Inumerable confusions and a feeling of despair invariably emerge\n",
      "  in periods of great technological and cultural transition.\"\n",
      "                                                     Marshall McLuhan\n",
      "\n",
      "\n",
      "-----------------------------------------------------------------------------\n",
      "Subject: Re: Feminism and Islam, again\n",
      "From: kmagnacca@eagle.wesleyan.edu\n",
      "Organization: Wesleyan University\n",
      "Nntp-Posting-Host: wesleyan.edu\n",
      "Lines: 30\n",
      "\n",
      "In article <1993Apr14.030334.8650@ultb.isc.rit.edu>, snm6394@ultb.isc.rit.edu (S.N. Mozumder ) writes:\n",
      "> In article <1993Apr11.145519.1@eagle.wesleyan.edu> kmagnacca@eagle.wesleyan.edu writes:\n",
      ">>\n",
      ">>There's a way around that via the hadith, which state that silence is\n",
      ">>taken to mean \"yes\" and that women may not speak before a judge, who\n",
      ">>must conduct the marriage.\n",
      "> \n",
      "> Actaully, that's a false hadith, because it contradicts verses in the\n",
      "> Quran, that says women may testify- speak before a judge.\n",
      "> \n",
      "> Hadiths are declared false when they contradict the Quran.  Hadiths\n",
      "> weren't written during the revelation or during the life of the prophet,\n",
      "> and so may contain errors.\n",
      "\n",
      "So the only way you can tell a false hadith from a true one is\n",
      "if it contradicts the Quran?  What if it relates to something\n",
      "that isn't explicitly spelled out in the Quran?\n",
      "\n",
      "Also, the Quran wasn't written down during the life of Muhammed\n",
      "either.  It wasn't long after, but 20 years or so is still long\n",
      "enough to shift a few verses around.\n",
      "\n",
      "Karl\n",
      " -----------------------------------------------------------------------------\n",
      "| \"Lastly, I come to China in the hope      | \"All you touch and all you see  |\n",
      "| of fulfilling a lifelong ambition -       | Is all your life will ever be.\" |\n",
      "| dropping acid on the Great Wall.\"  --Duke |                 --Pink Floyd    |\n",
      "|-----------------------------------------------------------------------------|\n",
      "|         A Lie is still a Lie even if 3.8 billion people believe it.         |\n",
      " -----------------------------------------------------------------------------\n",
      "\n",
      "-----------------------------------------------------------------------------\n",
      "From: weidlich@arb-phys.uni-dortmund.de (Weidlich)\n",
      "Subject: Searching for a phonetic font\n",
      "Organization: Institut f. Arbeitsphysiologie a.d. Uni Dortmund\n",
      "Lines: 13\n",
      "\n",
      "I'm searching for a phonetic TrueType font for Windows 3.1. If \n",
      "anybody knows one, please mail me!\n",
      "\n",
      "Thanks.\n",
      "\n",
      "dw \n",
      "\n",
      "\n",
      "##################################################################\n",
      "Dipl.-Inform. Dietmar Weidlich    # IfADo, Ardeystr. 67          #\n",
      "weidlich@arb-phys.uni-dortmund.de # D-4600 Dortmund 50           #\n",
      "Phone ++49 231 1084-250           # >> Dr. B.: \"Koennten Sie das #\n",
      "Fax   ++49 231 1084-401           #      MAL EBEN erledigen?\" << #\n",
      "\n",
      "-----------------------------------------------------------------------------\n",
      "From: gkoh@athena.mit.edu (Glenn Koh)\n",
      "Subject: Re: Gateway 4DX-33V - too high a price?\n",
      "Organization: Massachusetts Institute of Technology\n",
      "Lines: 9\n",
      "NNTP-Posting-Host: w20-575-74.mit.edu\n",
      "\n",
      "\n",
      "Then again, maybe $2445 for the gateway system isn't too cheap.\n",
      "\n",
      "I have a system from Micron computers:\n",
      "\n",
      "486-2-50, 16 meg ram, 245 Maxtor HD, Local bus IDE / 2 meg video card, and\n",
      "the same 15\" monitor.  The system with shipping came to $2200.  I sold the\n",
      "sx-33 chip that came with it and bought a dx2-50.  Total price $2300-2400.\n",
      "\n",
      "\n",
      "-----------------------------------------------------------------------------\n",
      "From: root@c1.nkw.ac.uk (Convex UNIX)\n",
      "Subject: re: Help with WinQVT\n",
      "Reply-To: tb@ua.nbu.ac.uk\n",
      "Organization: Natural Environment Research Council\n",
      "Lines: 4\n",
      "\n",
      "\n",
      "I had a similar problem - try changing the netmask to 0.0.0.0 or 255.255.254.0\n",
      "\n",
      "Tommy.\n",
      "\n",
      "-----------------------------------------------------------------------------\n",
      "From: prg@nessie.mcc.ac.uk (Pete Green)\n",
      "Subject: Wanted: Advice/comments on building a PC\n",
      "Distribution: uk\n",
      "Organization: Manchester Computing Centre\n",
      "Lines: 14\n",
      "\n",
      "In the next few months I am intending to build a 386 or 486 PC system\n",
      "for remote monitoring. I would welcome any comments or advice you may\n",
      "have on the choice of motherboard, HDDs and I/O boards. Recommendations\n",
      "for good companies selling these would be a big help.\n",
      "\n",
      "Many thanks,\n",
      "\n",
      "Peter Green.\n",
      "\n",
      "\n",
      "-- \n",
      "Peter R. Green ------- Tel:+44 61 200 4738 ---- Fax:+44 61 200 4019 -----------\n",
      "  JANET: prg@uk.ac.mcc.nessie            INTERNET: prg%nessie.mcc.ac.uk   \n",
      "----------------------- #include <std.disclaimers> ----------------------------\n",
      "\n",
      "-----------------------------------------------------------------------------\n",
      "From: stjohn@math1.kaist.ac.kr (Ryou Seong Joon)\n",
      "Subject: WANTED: Multi-page GIF!!\n",
      "Organization: Korea Advanced Institute of Science and Technology\n",
      "X-Newsreader: Tin 1.1 PL3\n",
      "Lines:       12\n",
      "\n",
      "Hi!... \n",
      "\n",
      "I am searching for packages that could handle Multi-page GIF\n",
      "files...    \n",
      "\n",
      "Are there any on some ftp servers?\n",
      "\n",
      "I'll appreciate one which works on PC (either on DOS or Windows 3.0/3.1).\n",
      "But any package works on Unix will be OK..\n",
      "\n",
      "Thanks in advance...\n",
      "\n",
      "-----------------------------------------------------------------------------\n",
      "From: ebraeden@magnus.acs.ohio-state.edu (Eric W Braeden)\n",
      "Subject: ** What exactly is the IBM made 486SLC or SLC2 Processor? **\n",
      "Nntp-Posting-Host: top.magnus.acs.ohio-state.edu\n",
      "Organization: The Ohio State University\n",
      "Distribution: na\n",
      "Lines: 11\n",
      "\n",
      "Could someone please tell me if the 486SLC and 486SLC2 processors\n",
      "IBM is putting in their Thinkpad 700's and other PC's is a REAL\n",
      "486 with a math coprocessor or if it is really some Kludge that\n",
      "should not be called a 486 at all?\n",
      "\n",
      "Thanks,\n",
      "Eric\n",
      "-- \n",
      "Eric W. Braeden                    | \"Der Verstand war zwar praechtig\n",
      "Ohio State University              | doch das Nuetzte am Ende nicht viel\"\n",
      "ebraeden@magnus.acs.ohio-state.edu | Peter Schilling   120 Grad    1983\n",
      "\n",
      "-----------------------------------------------------------------------------\n",
      "From: scrowe@hemel.bull.co.uk (Simon Crowe)\n",
      "Subject: BGI Drivers for SVGA\n",
      "Summary: Ftp site for SVGA Driver\n",
      "Keywords: BGI, SVGA\n",
      "Nntp-Posting-Host: bogart\n",
      "Organization: Bull HN UK\n",
      "Lines: 11\n",
      "\n",
      "I require BGI drivers for Super VGA Displays and Super XVGA Displays. Does \n",
      "anyone know where I could obtain the relevant drivers ? (FTP sites ??)\n",
      "\n",
      "\tRegards\n",
      "\n",
      "\n",
      "\t\tSimon Crowe\n",
      "\n",
      "\n",
      "\n",
      "\n",
      "\n",
      "-----------------------------------------------------------------------------\n",
      "From: mcook@cs.ulowell.edu (Michael Cook)\n",
      "Subject: CMOS Checksum error\n",
      "Organization: UMass-Lowell Computer Science\n",
      "Lines: 10\n",
      "\n",
      "Recently, I have been getting a CMOS Checksum error when I first turn on my\n",
      "computer.  It doesn't happen everytime I turn it on, nor can I predict when it\n",
      "is going to happen.  I have an AMI BIOS and all of the setting are lost, for\n",
      "example the drive types and the password options.  However, the date and time\n",
      "remain correct.  If anyone knows what can be causing this, please let me know.\n",
      "\n",
      "Thank you,\n",
      "Mike\n",
      "\n",
      "\n",
      "\n",
      "-----------------------------------------------------------------------------\n",
      "Subject: Computer repairs\n",
      "From: <BR4416A@auvm.american.edu>\n",
      "Organization: The American University - University Computing Center\n",
      "Lines: 9\n",
      "\n",
      "Does anyone out there know where some one can become educated in the art of\n",
      "repairing Macintosh computers?  Also, how does one gain the prestige of being\n",
      "refered to as a Authorized Apple Service person?  Has anyone out there actually\n",
      "done any of this or maybe even know someone who did.  I would appreciate any\n",
      "and all comments on this subject.\n",
      "\n",
      "-------------------------------------------------------------------------------\n",
      "Ben Roy--------internet<br4416a@american.edu>---------PCS(poor college student)\n",
      "-------------------------------------------------------------------------------\n",
      "\n",
      "-----------------------------------------------------------------------------\n",
      "From: weidlich@arb-phys.uni-dortmund.de (Weidlich)\n",
      "Subject: Searching for a phonetic font\n",
      "Organization: Institut f. Arbeitsphysiologie a.d. Uni Dortmund\n",
      "Lines: 13\n",
      "\n",
      "I'm searching for a phonetic TrueType font for Windows 3.1. If \n",
      "anybody knows one, please mail me!\n",
      "\n",
      "Thanks.\n",
      "\n",
      "dw \n",
      "\n",
      "\n",
      "##################################################################\n",
      "Dipl.-Inform. Dietmar Weidlich    # IfADo, Ardeystr. 67          #\n",
      "weidlich@arb-phys.uni-dortmund.de # D-4600 Dortmund 50           #\n",
      "Phone ++49 231 1084-250           # >> Dr. B.: \"Koennten Sie das #\n",
      "Fax   ++49 231 1084-401           #      MAL EBEN erledigen?\" << #\n",
      "\n",
      "-----------------------------------------------------------------------------\n"
     ]
    }
   ],
   "source": [
    "\n",
    "top = 1\n",
    "import scipy.spatial.distance as dist\n",
    "\n",
    "#macierz odległości zdanie-center\n",
    "distances = [[dist.cosine(w,c) for w in X_dense] for c in centers] \n",
    "for i in range(n_elements):\n",
    "    tops = np.argsort(distances[i])[-top:]\n",
    "    for s in tops:\n",
    "        print(X_set[s])\n",
    "    print(\"-----------------------------------------------------------------------------\")\n",
    "#     print([w for w in tf_vectorizer.vocabulary_ if tf_vectorizer.vocabulary_[w] in tops])\n",
    "\n",
    "\n",
    "# #wypiszmy teraz posty najbardziej reprezentujące klaster (zdania najbliższe średniej\n",
    "# top = 2\n",
    "# import scipy.spatial.distance as dist"
   ]
  },
  {
   "cell_type": "code",
   "execution_count": null,
   "metadata": {
    "collapsed": true
   },
   "outputs": [],
   "source": []
  },
  {
   "cell_type": "code",
   "execution_count": null,
   "metadata": {
    "collapsed": true
   },
   "outputs": [],
   "source": []
  }
 ],
 "metadata": {
  "kernelspec": {
   "display_name": "Python 3",
   "language": "python",
   "name": "python3"
  },
  "language_info": {
   "codemirror_mode": {
    "name": "ipython",
    "version": 3
   },
   "file_extension": ".py",
   "mimetype": "text/x-python",
   "name": "python",
   "nbconvert_exporter": "python",
   "pygments_lexer": "ipython3",
   "version": "3.6.3"
  }
 },
 "nbformat": 4,
 "nbformat_minor": 2
}
