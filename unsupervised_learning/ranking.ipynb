{
 "cells": [
  {
   "cell_type": "code",
   "execution_count": 83,
   "metadata": {},
   "outputs": [],
   "source": [
    "import numpy as np\n",
    "import pandas as pd\n",
    "import seaborn as sns\n",
    "import matplotlib.pyplot as plt"
   ]
  },
  {
   "cell_type": "markdown",
   "metadata": {},
   "source": [
    "https://docs.google.com/spreadsheets/d/1IFOUnrGGsXONB_T6HJUdwFJ0UjM6aTpRf1K8Oyd4AtY/edit?usp=sharing"
   ]
  },
  {
   "cell_type": "code",
   "execution_count": 79,
   "metadata": {},
   "outputs": [],
   "source": [
    "filename=\"./tab.txt\"\n",
    "\n",
    "df = pd.read_csv(filename, delimiter='\\t')\n",
    "data = df.values "
   ]
  },
  {
   "cell_type": "code",
   "execution_count": 80,
   "metadata": {},
   "outputs": [
    {
     "data": {
      "text/plain": [
       "array([[1, 1, 1, 1, 1, 1, 1, 1, 1, 1],\n",
       "       [1, 1, 1, 1, 2, 2, 1, 1, 2, 1],\n",
       "       [2, 4, 3, 1, 1, 2, 3, 4, 5, 6],\n",
       "       [3, 3, 3, 3, 3, 3, 3, 4, 6, 4]], dtype=int64)"
      ]
     },
     "execution_count": 80,
     "metadata": {},
     "output_type": "execute_result"
    }
   ],
   "source": [
    "data"
   ]
  },
  {
   "cell_type": "code",
   "execution_count": 81,
   "metadata": {},
   "outputs": [
    {
     "name": "stdout",
     "output_type": "stream",
     "text": [
      "[[5.5 5.5 5.5 5.5 5.5 5.5 5.5 5.5 5.5 5.5]\n",
      " [7.  7.  7.  7.  2.  2.  7.  7.  2.  7. ]\n",
      " [7.5 3.5 5.5 9.5 9.5 7.5 5.5 3.5 2.  1. ]\n",
      " [7.  7.  7.  7.  7.  7.  7.  2.5 1.  2.5]]\n"
     ]
    }
   ],
   "source": [
    "data = -data\n",
    "y = np.argsort(data, axis=1)\n",
    "\n",
    "n_samples, n_features = data.shape\n",
    "res = np.zeros_like(data)\n",
    "\n",
    "for i in range(n_samples):\n",
    "    n = 1\n",
    "    for j in range(n_features):\n",
    "        if j == 0:\n",
    "            res[i, y[i, j]] = n\n",
    "        elif data[i, y[i, j - 1]] == data[i, y[i, j]]:\n",
    "            res[i, y[i, j]] = n\n",
    "        else:\n",
    "            n += 1\n",
    "            res[i, y[i, j]] = n\n",
    "            \n",
    "\n",
    "for i in range(n_samples):\n",
    "    n = 1\n",
    "    for j in range(n_features):\n",
    "        if j == 0:\n",
    "            res[i, y[i, j]] = n\n",
    "        elif data[i, y[i, j - 1]] == data[i, y[i, j]]:\n",
    "            res[i, y[i, j]] = n\n",
    "        else:\n",
    "            n += 1\n",
    "            res[i, y[i, j]] = n\n",
    "\n",
    "res1 = np.copy(res)\n",
    "res1 = res1.astype(float)\n",
    "\n",
    "for i in range(n_samples):\n",
    "    n = 0\n",
    "    for j in range(1,12):\n",
    "        v = np.where(res[i, :] == j)[0]\n",
    "        if v.size == 0:\n",
    "            break\n",
    "        n += 1\n",
    "        res1[i, v] = n + (v.size - 1) / 2.\n",
    "        n = n + v.size -1\n",
    "\n",
    "print(res1)\n"
   ]
  },
  {
   "cell_type": "code",
   "execution_count": 88,
   "metadata": {},
   "outputs": [
    {
     "data": {
      "image/png": "[encoded data removed]",
      "text/plain": [
       "<Figure size 1080x720 with 1 Axes>"
      ]
     },
     "metadata": {},
     "output_type": "display_data"
    }
   ],
   "source": [
    "data = res1\n",
    "name_list = df.columns.values\n",
    "\n",
    "plt.figure(figsize=(15,10))\n",
    "sns.set_style(\"white\")\n",
    "sns.set_context(\"notebook\", font_scale=1.5, rc={\"lines.linewidth\": 1.5})\n",
    "\n",
    "bplot = sns.boxplot(data = data, palette=sns.color_palette(\"hls\", 11))\n",
    "\n",
    "bplot.set_ylabel(r'Ranking', fontsize=18)\n",
    "\n",
    "bplot.set_xticklabels(name_list, rotation=45, ha='right', fontsize=14)\n",
    "\n",
    "medians = np.median(data, axis=0)\n",
    "median_labels = [str(np.round(s, 2)) for s in medians]\n",
    "\n",
    "pos = range(len(medians))\n",
    "for tick,label in zip(pos, bplot.get_xticklabels()):\n",
    "    bplot.text(pos[tick], medians[tick] + 0.4, median_labels[tick],\n",
    "            horizontalalignment='center', size='x-small', color='w', weight='semibold')\n",
    "\n",
    "plt.show();"
   ]
  },
  {
   "cell_type": "code",
   "execution_count": null,
   "metadata": {
    "collapsed": true
   },
   "outputs": [],
   "source": []
  }
 ],
 "metadata": {
  "kernelspec": {
   "display_name": "Python 3",
   "language": "python",
   "name": "python3"
  },
  "language_info": {
   "codemirror_mode": {
    "name": "ipython",
    "version": 3
   },
   "file_extension": ".py",
   "mimetype": "text/x-python",
   "name": "python",
   "nbconvert_exporter": "python",
   "pygments_lexer": "ipython3",
   "version": "3.6.3"
  }
 },
 "nbformat": 4,
 "nbformat_minor": 2
}
