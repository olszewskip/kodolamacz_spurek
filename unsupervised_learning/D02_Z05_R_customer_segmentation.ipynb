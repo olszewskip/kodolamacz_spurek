{
 "cells": [
  {
   "cell_type": "markdown",
   "metadata": {},
   "source": [
    "# Analiza klientów w podejściu hierarchicznym\n",
    "\n",
    "# Zad. \n",
    "\n",
    "Proszę wziąć zbiór klientów win i dokonać podobnej analizy jak w k-means"
   ]
  },
  {
   "cell_type": "code",
   "execution_count": 44,
   "metadata": {
    "collapsed": true
   },
   "outputs": [],
   "source": [
    "import numpy as np\n",
    "import pandas as pd\n",
    "import matplotlib.pyplot as plt"
   ]
  },
  {
   "cell_type": "code",
   "execution_count": 45,
   "metadata": {
    "collapsed": true
   },
   "outputs": [],
   "source": [
    "from sklearn.cluster import KMeans\n",
    "from scipy.cluster.hierarchy import dendrogram, linkage"
   ]
  },
  {
   "cell_type": "markdown",
   "metadata": {},
   "source": [
    "Pobieramy dane z pliku \"./WineKMC.xlsx\". Co się w nich znajduje?"
   ]
  },
  {
   "cell_type": "code",
   "execution_count": 46,
   "metadata": {},
   "outputs": [
    {
     "data": {
      "text/html": [
       "<div>\n",
       "<style>\n",
       "    .dataframe thead tr:only-child th {\n",
       "        text-align: right;\n",
       "    }\n",
       "\n",
       "    .dataframe thead th {\n",
       "        text-align: left;\n",
       "    }\n",
       "\n",
       "    .dataframe tbody tr th {\n",
       "        vertical-align: top;\n",
       "    }\n",
       "</style>\n",
       "<table border=\"1\" class=\"dataframe\">\n",
       "  <thead>\n",
       "    <tr style=\"text-align: right;\">\n",
       "      <th></th>\n",
       "      <th>offer_id</th>\n",
       "      <th>campaign</th>\n",
       "      <th>varietal</th>\n",
       "      <th>min_qty</th>\n",
       "      <th>discount</th>\n",
       "      <th>origin</th>\n",
       "      <th>past_peak</th>\n",
       "    </tr>\n",
       "  </thead>\n",
       "  <tbody>\n",
       "    <tr>\n",
       "      <th>0</th>\n",
       "      <td>1</td>\n",
       "      <td>January</td>\n",
       "      <td>Malbec</td>\n",
       "      <td>72</td>\n",
       "      <td>56</td>\n",
       "      <td>France</td>\n",
       "      <td>False</td>\n",
       "    </tr>\n",
       "    <tr>\n",
       "      <th>1</th>\n",
       "      <td>2</td>\n",
       "      <td>January</td>\n",
       "      <td>Pinot Noir</td>\n",
       "      <td>72</td>\n",
       "      <td>17</td>\n",
       "      <td>France</td>\n",
       "      <td>False</td>\n",
       "    </tr>\n",
       "    <tr>\n",
       "      <th>2</th>\n",
       "      <td>3</td>\n",
       "      <td>February</td>\n",
       "      <td>Espumante</td>\n",
       "      <td>144</td>\n",
       "      <td>32</td>\n",
       "      <td>Oregon</td>\n",
       "      <td>True</td>\n",
       "    </tr>\n",
       "    <tr>\n",
       "      <th>3</th>\n",
       "      <td>4</td>\n",
       "      <td>February</td>\n",
       "      <td>Champagne</td>\n",
       "      <td>72</td>\n",
       "      <td>48</td>\n",
       "      <td>France</td>\n",
       "      <td>True</td>\n",
       "    </tr>\n",
       "    <tr>\n",
       "      <th>4</th>\n",
       "      <td>5</td>\n",
       "      <td>February</td>\n",
       "      <td>Cabernet Sauvignon</td>\n",
       "      <td>144</td>\n",
       "      <td>44</td>\n",
       "      <td>New Zealand</td>\n",
       "      <td>True</td>\n",
       "    </tr>\n",
       "  </tbody>\n",
       "</table>\n",
       "</div>"
      ],
      "text/plain": [
       "   offer_id  campaign            varietal  min_qty  discount       origin  \\\n",
       "0         1   January              Malbec       72        56       France   \n",
       "1         2   January          Pinot Noir       72        17       France   \n",
       "2         3  February           Espumante      144        32       Oregon   \n",
       "3         4  February           Champagne       72        48       France   \n",
       "4         5  February  Cabernet Sauvignon      144        44  New Zealand   \n",
       "\n",
       "   past_peak  \n",
       "0      False  \n",
       "1      False  \n",
       "2       True  \n",
       "3       True  \n",
       "4       True  "
      ]
     },
     "execution_count": 46,
     "metadata": {},
     "output_type": "execute_result"
    }
   ],
   "source": [
    "import pandas as pd\n",
    "\n",
    "df_offers = pd.read_excel(\"WineKMC.xlsx\", sheetname=0)\n",
    "df_offers.columns = [\"offer_id\", \"campaign\", \"varietal\", \"min_qty\", \"discount\", \"origin\", \"past_peak\"]\n",
    "df_offers.head()"
   ]
  },
  {
   "cell_type": "markdown",
   "metadata": {},
   "source": [
    "i dane o ilości transakcji poszczegulnych osób"
   ]
  },
  {
   "cell_type": "code",
   "execution_count": 47,
   "metadata": {},
   "outputs": [
    {
     "data": {
      "text/html": [
       "<div>\n",
       "<style>\n",
       "    .dataframe thead tr:only-child th {\n",
       "        text-align: right;\n",
       "    }\n",
       "\n",
       "    .dataframe thead th {\n",
       "        text-align: left;\n",
       "    }\n",
       "\n",
       "    .dataframe tbody tr th {\n",
       "        vertical-align: top;\n",
       "    }\n",
       "</style>\n",
       "<table border=\"1\" class=\"dataframe\">\n",
       "  <thead>\n",
       "    <tr style=\"text-align: right;\">\n",
       "      <th></th>\n",
       "      <th>customer_name</th>\n",
       "      <th>offer_id</th>\n",
       "      <th>n</th>\n",
       "    </tr>\n",
       "  </thead>\n",
       "  <tbody>\n",
       "    <tr>\n",
       "      <th>0</th>\n",
       "      <td>Smith</td>\n",
       "      <td>2</td>\n",
       "      <td>1</td>\n",
       "    </tr>\n",
       "    <tr>\n",
       "      <th>1</th>\n",
       "      <td>Smith</td>\n",
       "      <td>24</td>\n",
       "      <td>1</td>\n",
       "    </tr>\n",
       "    <tr>\n",
       "      <th>2</th>\n",
       "      <td>Johnson</td>\n",
       "      <td>17</td>\n",
       "      <td>1</td>\n",
       "    </tr>\n",
       "    <tr>\n",
       "      <th>3</th>\n",
       "      <td>Johnson</td>\n",
       "      <td>24</td>\n",
       "      <td>1</td>\n",
       "    </tr>\n",
       "    <tr>\n",
       "      <th>4</th>\n",
       "      <td>Johnson</td>\n",
       "      <td>26</td>\n",
       "      <td>1</td>\n",
       "    </tr>\n",
       "  </tbody>\n",
       "</table>\n",
       "</div>"
      ],
      "text/plain": [
       "  customer_name  offer_id  n\n",
       "0         Smith         2  1\n",
       "1         Smith        24  1\n",
       "2       Johnson        17  1\n",
       "3       Johnson        24  1\n",
       "4       Johnson        26  1"
      ]
     },
     "execution_count": 47,
     "metadata": {},
     "output_type": "execute_result"
    }
   ],
   "source": [
    "df_transactions = pd.read_excel(\"datasets/WineKMC.xlsx\", sheetname=1)\n",
    "df_transactions.columns = [\"customer_name\", \"offer_id\"]\n",
    "df_transactions['n'] = 1\n",
    "df_transactions.head()"
   ]
  },
  {
   "cell_type": "markdown",
   "metadata": {},
   "source": [
    "# Zad\n",
    "\n",
    "Stwórzmy tabelę, gdzie \n",
    "\n",
    "  * w wierszach są klienci a w kolumnach oferty \n",
    "  * dla każdego klienta zaznaczmy czy wybrał daną ofertę (1) czy nie (0)."
   ]
  },
  {
   "cell_type": "code",
   "execution_count": 48,
   "metadata": {},
   "outputs": [
    {
     "name": "stdout",
     "output_type": "stream",
     "text": [
      "offer_id customer_name    1    2    3    4    5    6    7    8    9 ...    23  \\\n",
      "0                Adams  0.0  0.0  0.0  0.0  0.0  0.0  0.0  0.0  0.0 ...   0.0   \n",
      "1                Allen  0.0  0.0  0.0  0.0  0.0  0.0  0.0  0.0  1.0 ...   0.0   \n",
      "2             Anderson  0.0  0.0  0.0  0.0  0.0  0.0  0.0  0.0  0.0 ...   0.0   \n",
      "3               Bailey  0.0  0.0  0.0  0.0  0.0  0.0  1.0  0.0  0.0 ...   0.0   \n",
      "4                Baker  0.0  0.0  0.0  0.0  0.0  0.0  1.0  0.0  0.0 ...   0.0   \n",
      "5               Barnes  0.0  0.0  0.0  0.0  0.0  0.0  0.0  0.0  0.0 ...   0.0   \n",
      "6                 Bell  0.0  1.0  0.0  0.0  0.0  0.0  0.0  0.0  0.0 ...   0.0   \n",
      "7              Bennett  0.0  0.0  0.0  0.0  0.0  0.0  0.0  1.0  0.0 ...   0.0   \n",
      "8               Brooks  0.0  0.0  1.0  0.0  0.0  0.0  0.0  1.0  0.0 ...   0.0   \n",
      "9                Brown  0.0  0.0  0.0  0.0  0.0  0.0  1.0  0.0  0.0 ...   0.0   \n",
      "10              Butler  1.0  0.0  0.0  1.0  0.0  0.0  0.0  0.0  0.0 ...   0.0   \n",
      "11            Campbell  0.0  1.0  0.0  0.0  0.0  0.0  0.0  0.0  0.0 ...   0.0   \n",
      "12              Carter  0.0  0.0  0.0  0.0  0.0  0.0  1.0  0.0  0.0 ...   0.0   \n",
      "13               Clark  0.0  0.0  0.0  1.0  0.0  0.0  0.0  0.0  0.0 ...   0.0   \n",
      "14             Collins  0.0  0.0  0.0  0.0  0.0  0.0  0.0  0.0  0.0 ...   0.0   \n",
      "15                Cook  0.0  0.0  0.0  0.0  0.0  0.0  0.0  0.0  0.0 ...   0.0   \n",
      "16              Cooper  0.0  0.0  0.0  1.0  0.0  0.0  0.0  0.0  0.0 ...   0.0   \n",
      "17                 Cox  0.0  1.0  0.0  0.0  0.0  0.0  0.0  0.0  0.0 ...   0.0   \n",
      "18                Cruz  0.0  0.0  0.0  0.0  0.0  0.0  0.0  0.0  0.0 ...   0.0   \n",
      "19               Davis  0.0  0.0  0.0  0.0  0.0  0.0  0.0  0.0  0.0 ...   0.0   \n",
      "20                Diaz  0.0  0.0  0.0  0.0  0.0  0.0  1.0  1.0  0.0 ...   0.0   \n",
      "21             Edwards  0.0  0.0  0.0  0.0  0.0  0.0  0.0  1.0  0.0 ...   0.0   \n",
      "22               Evans  0.0  0.0  0.0  0.0  0.0  0.0  0.0  0.0  0.0 ...   0.0   \n",
      "23              Fisher  1.0  1.0  0.0  0.0  0.0  0.0  0.0  0.0  0.0 ...   0.0   \n",
      "24              Flores  0.0  0.0  0.0  0.0  0.0  0.0  0.0  0.0  0.0 ...   0.0   \n",
      "25              Foster  1.0  0.0  0.0  0.0  0.0  0.0  0.0  0.0  1.0 ...   1.0   \n",
      "26              Garcia  0.0  0.0  0.0  0.0  0.0  0.0  0.0  0.0  0.0 ...   0.0   \n",
      "27               Gomez  0.0  0.0  0.0  0.0  0.0  0.0  0.0  0.0  0.0 ...   0.0   \n",
      "28            Gonzalez  0.0  0.0  0.0  0.0  0.0  0.0  0.0  0.0  1.0 ...   0.0   \n",
      "29                Gray  0.0  0.0  0.0  0.0  0.0  0.0  0.0  0.0  0.0 ...   0.0   \n",
      "..                 ...  ...  ...  ...  ...  ...  ...  ...  ...  ... ...   ...   \n",
      "70                Reed  0.0  0.0  0.0  0.0  1.0  0.0  0.0  0.0  0.0 ...   0.0   \n",
      "71               Reyes  0.0  0.0  0.0  0.0  0.0  0.0  0.0  0.0  1.0 ...   1.0   \n",
      "72          Richardson  0.0  0.0  1.0  0.0  0.0  1.0  0.0  0.0  0.0 ...   0.0   \n",
      "73              Rivera  0.0  0.0  0.0  0.0  0.0  0.0  1.0  0.0  0.0 ...   0.0   \n",
      "74             Roberts  0.0  0.0  0.0  0.0  0.0  0.0  0.0  0.0  0.0 ...   0.0   \n",
      "75            Robinson  0.0  0.0  0.0  0.0  0.0  0.0  1.0  0.0  0.0 ...   0.0   \n",
      "76           Rodriguez  0.0  1.0  0.0  0.0  0.0  0.0  0.0  0.0  0.0 ...   0.0   \n",
      "77              Rogers  0.0  0.0  1.0  0.0  0.0  0.0  1.0  1.0  0.0 ...   0.0   \n",
      "78                Ross  0.0  0.0  0.0  0.0  0.0  0.0  0.0  0.0  0.0 ...   0.0   \n",
      "79             Russell  0.0  0.0  0.0  0.0  0.0  0.0  0.0  0.0  0.0 ...   0.0   \n",
      "80             Sanchez  0.0  0.0  0.0  1.0  1.0  0.0  0.0  0.0  0.0 ...   0.0   \n",
      "81             Sanders  1.0  0.0  0.0  1.0  1.0  1.0  0.0  0.0  1.0 ...   0.0   \n",
      "82               Scott  0.0  0.0  0.0  0.0  0.0  1.0  0.0  0.0  0.0 ...   1.0   \n",
      "83               Smith  0.0  1.0  0.0  0.0  0.0  0.0  0.0  0.0  0.0 ...   0.0   \n",
      "84             Stewart  0.0  0.0  0.0  0.0  0.0  0.0  0.0  1.0  0.0 ...   0.0   \n",
      "85            Sullivan  0.0  0.0  0.0  0.0  0.0  0.0  0.0  1.0  0.0 ...   0.0   \n",
      "86              Taylor  0.0  0.0  0.0  0.0  0.0  0.0  1.0  0.0  0.0 ...   0.0   \n",
      "87              Thomas  1.0  0.0  0.0  1.0  0.0  0.0  0.0  0.0  1.0 ...   0.0   \n",
      "88            Thompson  0.0  0.0  0.0  0.0  0.0  0.0  0.0  0.0  1.0 ...   0.0   \n",
      "89              Torres  0.0  0.0  0.0  0.0  0.0  0.0  0.0  1.0  0.0 ...   0.0   \n",
      "90              Turner  0.0  0.0  0.0  1.0  0.0  1.0  0.0  0.0  0.0 ...   0.0   \n",
      "91              Walker  0.0  0.0  0.0  0.0  0.0  0.0  0.0  0.0  0.0 ...   0.0   \n",
      "92                Ward  0.0  0.0  0.0  1.0  0.0  0.0  0.0  0.0  0.0 ...   0.0   \n",
      "93              Watson  0.0  0.0  0.0  0.0  0.0  0.0  1.0  0.0  0.0 ...   0.0   \n",
      "94               White  0.0  0.0  0.0  0.0  0.0  0.0  0.0  0.0  0.0 ...   0.0   \n",
      "95            Williams  0.0  0.0  0.0  0.0  0.0  0.0  0.0  0.0  0.0 ...   0.0   \n",
      "96              Wilson  0.0  0.0  0.0  0.0  0.0  0.0  0.0  1.0  0.0 ...   0.0   \n",
      "97                Wood  1.0  0.0  0.0  0.0  0.0  0.0  0.0  0.0  0.0 ...   0.0   \n",
      "98              Wright  0.0  0.0  0.0  1.0  0.0  1.0  0.0  0.0  0.0 ...   0.0   \n",
      "99               Young  0.0  0.0  0.0  0.0  0.0  1.0  0.0  0.0  1.0 ...   0.0   \n",
      "\n",
      "offer_id   24   25   26   27   28   29   30   31   32  \n",
      "0         0.0  0.0  0.0  0.0  0.0  1.0  1.0  0.0  0.0  \n",
      "1         0.0  0.0  0.0  1.0  0.0  0.0  0.0  0.0  0.0  \n",
      "2         1.0  0.0  1.0  0.0  0.0  0.0  0.0  0.0  0.0  \n",
      "3         0.0  0.0  0.0  0.0  0.0  0.0  1.0  0.0  0.0  \n",
      "4         0.0  0.0  0.0  0.0  0.0  0.0  0.0  1.0  0.0  \n",
      "5         0.0  0.0  0.0  0.0  0.0  0.0  0.0  1.0  0.0  \n",
      "6         1.0  0.0  1.0  0.0  0.0  0.0  0.0  0.0  0.0  \n",
      "7         0.0  0.0  0.0  0.0  0.0  1.0  0.0  0.0  0.0  \n",
      "8         0.0  0.0  0.0  0.0  0.0  0.0  0.0  0.0  0.0  \n",
      "9         0.0  0.0  0.0  0.0  0.0  1.0  1.0  0.0  0.0  \n",
      "10        0.0  0.0  0.0  0.0  1.0  0.0  1.0  0.0  0.0  \n",
      "11        1.0  0.0  1.0  0.0  0.0  0.0  0.0  0.0  0.0  \n",
      "12        0.0  0.0  0.0  0.0  0.0  1.0  1.0  0.0  0.0  \n",
      "13        0.0  0.0  0.0  0.0  1.0  0.0  0.0  1.0  0.0  \n",
      "14        0.0  0.0  0.0  0.0  0.0  0.0  1.0  0.0  0.0  \n",
      "15        1.0  0.0  1.0  0.0  0.0  0.0  0.0  0.0  0.0  \n",
      "16        0.0  0.0  0.0  0.0  0.0  0.0  0.0  0.0  1.0  \n",
      "17        1.0  0.0  1.0  0.0  0.0  0.0  0.0  0.0  0.0  \n",
      "18        0.0  0.0  0.0  0.0  0.0  1.0  1.0  0.0  0.0  \n",
      "19        0.0  1.0  0.0  0.0  0.0  0.0  0.0  0.0  0.0  \n",
      "20        0.0  0.0  0.0  0.0  0.0  1.0  1.0  0.0  0.0  \n",
      "21        0.0  0.0  0.0  1.0  0.0  0.0  0.0  0.0  0.0  \n",
      "22        0.0  0.0  0.0  1.0  0.0  0.0  0.0  0.0  0.0  \n",
      "23        0.0  0.0  0.0  0.0  1.0  0.0  1.0  1.0  0.0  \n",
      "24        1.0  0.0  0.0  0.0  0.0  0.0  0.0  0.0  0.0  \n",
      "25        0.0  0.0  0.0  0.0  0.0  0.0  0.0  0.0  0.0  \n",
      "26        0.0  0.0  0.0  0.0  0.0  0.0  0.0  0.0  0.0  \n",
      "27        0.0  1.0  0.0  0.0  0.0  0.0  0.0  0.0  1.0  \n",
      "28        0.0  0.0  0.0  0.0  0.0  0.0  0.0  1.0  0.0  \n",
      "29        0.0  0.0  1.0  0.0  0.0  0.0  0.0  0.0  0.0  \n",
      "..        ...  ...  ...  ...  ...  ...  ...  ...  ...  \n",
      "70        0.0  0.0  0.0  0.0  0.0  0.0  0.0  0.0  0.0  \n",
      "71        0.0  0.0  0.0  0.0  0.0  0.0  0.0  0.0  0.0  \n",
      "72        0.0  0.0  0.0  0.0  0.0  0.0  0.0  0.0  0.0  \n",
      "73        0.0  0.0  0.0  0.0  0.0  0.0  0.0  0.0  0.0  \n",
      "74        0.0  0.0  0.0  0.0  0.0  0.0  0.0  1.0  0.0  \n",
      "75        0.0  0.0  0.0  0.0  0.0  1.0  0.0  0.0  0.0  \n",
      "76        0.0  0.0  1.0  0.0  0.0  0.0  0.0  0.0  0.0  \n",
      "77        0.0  0.0  0.0  0.0  0.0  0.0  0.0  0.0  0.0  \n",
      "78        0.0  0.0  0.0  0.0  0.0  0.0  0.0  0.0  0.0  \n",
      "79        0.0  0.0  1.0  0.0  0.0  0.0  0.0  0.0  0.0  \n",
      "80        0.0  0.0  1.0  0.0  0.0  0.0  0.0  0.0  0.0  \n",
      "81        0.0  1.0  1.0  0.0  0.0  0.0  0.0  0.0  0.0  \n",
      "82        0.0  0.0  0.0  0.0  0.0  0.0  0.0  0.0  0.0  \n",
      "83        1.0  0.0  0.0  0.0  0.0  0.0  0.0  0.0  0.0  \n",
      "84        0.0  0.0  0.0  0.0  0.0  1.0  1.0  0.0  0.0  \n",
      "85        0.0  0.0  0.0  0.0  0.0  0.0  0.0  0.0  0.0  \n",
      "86        0.0  0.0  0.0  0.0  0.0  1.0  1.0  0.0  0.0  \n",
      "87        0.0  0.0  1.0  0.0  0.0  0.0  0.0  0.0  0.0  \n",
      "88        0.0  1.0  0.0  0.0  0.0  0.0  1.0  0.0  0.0  \n",
      "89        0.0  0.0  0.0  0.0  0.0  0.0  0.0  0.0  0.0  \n",
      "90        0.0  0.0  0.0  1.0  0.0  0.0  0.0  1.0  0.0  \n",
      "91        0.0  0.0  0.0  0.0  0.0  1.0  0.0  0.0  0.0  \n",
      "92        0.0  0.0  0.0  0.0  0.0  0.0  0.0  0.0  0.0  \n",
      "93        0.0  0.0  0.0  0.0  0.0  1.0  0.0  0.0  0.0  \n",
      "94        0.0  1.0  0.0  0.0  0.0  0.0  1.0  0.0  0.0  \n",
      "95        0.0  0.0  0.0  0.0  0.0  0.0  0.0  1.0  0.0  \n",
      "96        0.0  0.0  0.0  0.0  0.0  0.0  1.0  0.0  0.0  \n",
      "97        0.0  0.0  0.0  0.0  0.0  0.0  0.0  1.0  0.0  \n",
      "98        0.0  0.0  0.0  1.0  0.0  0.0  0.0  0.0  0.0  \n",
      "99        0.0  0.0  0.0  0.0  0.0  0.0  0.0  1.0  1.0  \n",
      "\n",
      "[100 rows x 33 columns]\n"
     ]
    }
   ],
   "source": [
    "# join the offers and transactions table\n",
    "df = pd.merge(df_offers, df_transactions)\n",
    "# create a \"pivot table\" which will give us the number of times each customer responded to a given offer\n",
    "matrix = df.pivot_table(index=['customer_name'], columns=['offer_id'], values='n')\n",
    "# a little tidying up. fill NA values with 0 and make the index into a column\n",
    "matrix = matrix.fillna(0).reset_index()\n",
    "# # save a list of the 0/1 columns. we'll use these a bit later\n",
    "x_cols = matrix.columns[1:]\n",
    "# print(df)\n",
    "# print(\"------------\")\n",
    "print(matrix)"
   ]
  },
  {
   "cell_type": "code",
   "execution_count": 50,
   "metadata": {
    "collapsed": true
   },
   "outputs": [],
   "source": [
    "from scipy.spatial.distance import pdist, squareform\n",
    "from scipy.cluster.hierarchy import linkage\n",
    "from scipy.cluster.hierarchy import dendrogram\n",
    "from scipy.cluster.hierarchy import fcluster\n",
    "from sklearn import metrics"
   ]
  },
  {
   "cell_type": "markdown",
   "metadata": {},
   "source": [
    "# Zad. \n",
    "\n",
    "Podzielmy klientów na grupy (segmenty) - do jednej grupy włączamy podobnych klientów - podobni klienci reagują na podobne oferty. \n",
    "\n",
    "Użyjemy grupowania hierarchicznego."
   ]
  },
  {
   "cell_type": "code",
   "execution_count": 51,
   "metadata": {},
   "outputs": [
    {
     "data": {
      "image/png": "[encoded data removed]",
      "text/plain": [
       "<Figure size 1800x720 with 1 Axes>"
      ]
     },
     "metadata": {},
     "output_type": "display_data"
    }
   ],
   "source": [
    "X = matrix[matrix.columns[2:]]\n",
    "df1 = pd.DataFrame(X)\n",
    "df1\n",
    "\n",
    "plt.figure(figsize=(25, 10))   \n",
    "row_clusters = linkage(pdist(df1, metric='euclidean'), method='average') \n",
    "row_dendr = dendrogram(row_clusters)\n",
    "\n",
    "plt.ylabel('Euclidean distance')\n",
    "plt.show()"
   ]
  },
  {
   "cell_type": "code",
   "execution_count": 52,
   "metadata": {},
   "outputs": [
    {
     "data": {
      "text/plain": [
       "array([ 7,  7,  7,  7,  7,  7,  7,  7,  7,  7,  7,  7,  7,  7,  7,  7,  6,\n",
       "        7,  7,  7,  7,  7,  7,  7,  7,  4,  7,  6,  7,  7,  7,  7,  7,  8,\n",
       "        7,  7,  7,  7,  7,  7,  7,  7,  7,  6,  7,  8,  7,  7, 10,  7,  7,\n",
       "        4,  7,  7,  3,  7,  7,  7,  7,  8,  7,  7,  6,  7,  7,  9,  7,  7,\n",
       "        7,  7,  7,  7,  8,  7,  7,  7,  7,  3,  7,  7,  2,  1,  4,  7,  7,\n",
       "        7,  7,  1,  7,  7,  8,  7,  7,  7,  7,  7,  7,  7,  8,  5],\n",
       "      dtype=int32)"
      ]
     },
     "execution_count": 52,
     "metadata": {},
     "output_type": "execute_result"
    }
   ],
   "source": [
    "part = fcluster(row_clusters, 10, 'maxclust')\n",
    "part"
   ]
  },
  {
   "cell_type": "markdown",
   "metadata": {},
   "source": [
    "# Zad.\n",
    "\n",
    "Możemy zwizualizować wynik na płaszczyźnie \n",
    "\n",
    "* t-SNE\n",
    "* PCA"
   ]
  },
  {
   "cell_type": "code",
   "execution_count": 53,
   "metadata": {},
   "outputs": [
    {
     "data": {
      "image/png": "[encoded data removed]",
      "text/plain": [
       "<Figure size 720x720 with 1 Axes>"
      ]
     },
     "metadata": {},
     "output_type": "display_data"
    }
   ],
   "source": [
    "from sklearn.manifold import TSNE\n",
    "tsne = TSNE(random_state=42)\n",
    "# use fit_transform instead of fit, as TSNE has no transform method\n",
    "X_tsne = tsne.fit_transform(X)\n",
    "\n",
    "from matplotlib import colors as mcolors\n",
    "#colors = list(mcolors.CSS4_COLORS)\n",
    "colors = [\"#476A2A\", \"#7851B8\", \"#BD3430\", \"#4A2D4E\", \"#875525\",\n",
    "          \"#A83683\", \"#4E655E\", \"#853541\", \"#3A3120\", \"#535D8E\"]\n",
    "\n",
    "plt.figure(figsize=(10, 10))\n",
    "plt.xlim(X_tsne[:, 0].min(), X_tsne[:, 0].max())\n",
    "plt.ylim(X_tsne[:, 1].min(), X_tsne[:, 1].max())\n",
    "plt.scatter(X_tsne[:, 0], X_tsne[:, 1], c = part)\n",
    "plt.xlabel(\"First principal component\")\n",
    "plt.ylabel(\"Second principal component\")\n",
    "plt.show()"
   ]
  },
  {
   "cell_type": "markdown",
   "metadata": {},
   "source": [
    "# Zad. \n",
    "\n",
    "Wypiszmy liczności klastrów na poziomach od 2 do 10 licząc od góry"
   ]
  },
  {
   "cell_type": "code",
   "execution_count": 56,
   "metadata": {},
   "outputs": [
    {
     "name": "stdout",
     "output_type": "stream",
     "text": [
      "2: 3, 97, \n",
      "3: 3, 2, 95, \n",
      "4: 3, 2, 94, 1, \n",
      "5: 3, 2, 93, 1, 1, \n",
      "6: 3, 2, 4, 89, 1, 1, \n",
      "7: 3, 2, 4, 4, 85, 1, 1, \n",
      "8: 2, 1, 2, 4, 4, 85, 1, 1, \n",
      "9: 2, 1, 2, 4, 4, 79, 6, 1, 1, \n"
     ]
    }
   ],
   "source": [
    "#wypiszmy liczności klastrów z hierarchii\n",
    "for k in range(2,10):\n",
    "    matrix['cluster_' + str(k)] = fcluster(Z, k, criterion='maxclust')\n",
    "    s = \"\"\n",
    "    for i in range(1,k+1):\n",
    "        s = s + str(len(np.where(matrix['cluster_' + str(k)] == i)[0])) + \", \"\n",
    "    print(str(k) + \": \" + s)"
   ]
  },
  {
   "cell_type": "markdown",
   "metadata": {},
   "source": [
    "# Zad:\n",
    "\n",
    "Prosze wybrać sobie klienta np. Allen. Zobaczmy co preferują (a co nie) ludzie podobni do Allen'a - jakie wina, w jakich ilościach i z jakimi rabatami. Patrzymy na górne poziomy hierarchii."
   ]
  },
  {
   "cell_type": "code",
   "execution_count": 57,
   "metadata": {},
   "outputs": [
    {
     "name": "stdout",
     "output_type": "stream",
     "text": [
      "clusters 2\n",
      "is_Adams_cluster  varietal          \n",
      "False             Espumante              3\n",
      "True              Prosecco              31\n",
      "                  Espumante             23\n",
      "                  Champagne             12\n",
      "                  Malbec                10\n",
      "                  Pinot Noir            10\n",
      "                  Chardonnay             7\n",
      "                  Cabernet Sauvignon     4\n",
      "Name: varietal, dtype: int64\n",
      "--------------------------------\n",
      "clusters 3\n",
      "is_Adams_cluster  varietal          \n",
      "False             Espumante              4\n",
      "                  Prosecco               1\n",
      "True              Prosecco              30\n",
      "                  Espumante             22\n",
      "                  Champagne             12\n",
      "                  Malbec                10\n",
      "                  Pinot Noir            10\n",
      "                  Chardonnay             7\n",
      "                  Cabernet Sauvignon     4\n",
      "Name: varietal, dtype: int64\n",
      "--------------------------------\n",
      "clusters 4\n",
      "is_Adams_cluster  varietal          \n",
      "False             Espumante              4\n",
      "                  Prosecco               2\n",
      "True              Prosecco              29\n",
      "                  Espumante             22\n",
      "                  Champagne             12\n",
      "                  Malbec                10\n",
      "                  Pinot Noir            10\n",
      "                  Chardonnay             7\n",
      "                  Cabernet Sauvignon     4\n",
      "Name: varietal, dtype: int64\n",
      "--------------------------------\n",
      "clusters 5\n",
      "is_Adams_cluster  varietal          \n",
      "False             Espumante              4\n",
      "                  Prosecco               3\n",
      "True              Prosecco              28\n",
      "                  Espumante             22\n",
      "                  Champagne             12\n",
      "                  Malbec                10\n",
      "                  Pinot Noir            10\n",
      "                  Chardonnay             7\n",
      "                  Cabernet Sauvignon     4\n",
      "Name: varietal, dtype: int64\n",
      "--------------------------------\n",
      "clusters 6\n",
      "is_Adams_cluster  varietal          \n",
      "False             Espumante              6\n",
      "                  Prosecco               4\n",
      "                  Chardonnay             1\n",
      "True              Prosecco              27\n",
      "                  Espumante             20\n",
      "                  Champagne             12\n",
      "                  Malbec                10\n",
      "                  Pinot Noir            10\n",
      "                  Chardonnay             6\n",
      "                  Cabernet Sauvignon     4\n",
      "Name: varietal, dtype: int64\n",
      "--------------------------------\n",
      "clusters 7\n",
      "is_Adams_cluster  varietal          \n",
      "False             Espumante              6\n",
      "                  Prosecco               6\n",
      "                  Champagne              1\n",
      "                  Chardonnay             1\n",
      "                  Pinot Noir             1\n",
      "True              Prosecco              25\n",
      "                  Espumante             20\n",
      "                  Champagne             11\n",
      "                  Malbec                10\n",
      "                  Pinot Noir             9\n",
      "                  Chardonnay             6\n",
      "                  Cabernet Sauvignon     4\n",
      "Name: varietal, dtype: int64\n",
      "--------------------------------\n",
      "clusters 8\n",
      "is_Adams_cluster  varietal          \n",
      "False             Espumante              6\n",
      "                  Prosecco               6\n",
      "                  Champagne              1\n",
      "                  Chardonnay             1\n",
      "                  Pinot Noir             1\n",
      "True              Prosecco              25\n",
      "                  Espumante             20\n",
      "                  Champagne             11\n",
      "                  Malbec                10\n",
      "                  Pinot Noir             9\n",
      "                  Chardonnay             6\n",
      "                  Cabernet Sauvignon     4\n",
      "Name: varietal, dtype: int64\n",
      "--------------------------------\n",
      "clusters 9\n",
      "is_Adams_cluster  varietal          \n",
      "False             Prosecco               9\n",
      "                  Espumante              7\n",
      "                  Champagne              2\n",
      "                  Chardonnay             2\n",
      "                  Pinot Noir             1\n",
      "True              Prosecco              22\n",
      "                  Espumante             19\n",
      "                  Champagne             10\n",
      "                  Malbec                10\n",
      "                  Pinot Noir             9\n",
      "                  Chardonnay             5\n",
      "                  Cabernet Sauvignon     4\n",
      "Name: varietal, dtype: int64\n",
      "--------------------------------\n"
     ]
    }
   ],
   "source": [
    "#zobaczmy co lubi kupować klaster w którym jest klient Adams\n",
    "name = 'Adams'\n",
    "#analizujemy wszystkie podziały od 2 do 9 klastrów\n",
    "for k in range(2,10):\n",
    "    #wybieramy klaster w którym jest Adams - to jest tablica\n",
    "    cluster = matrix.loc[matrix['customer_name'] == name]['cluster_' + str(k)]\n",
    "    #dodajemy sobie kolumnę mówiąca czy to jest ten sam klaster co Adams - będę po niej grupował\n",
    "    df['is_' + name + '_cluster'] = matrix['cluster_' + str(k)] == cluster[0]\n",
    "    print(\"clusters \" + str(k))\n",
    "    #grupuję pole 'variental' po klastrach Adams'a\n",
    "    print(df.groupby(\"is_\" + name + \"_cluster\").varietal.value_counts())\n",
    "    print(\"--------------------------------\")"
   ]
  },
  {
   "cell_type": "markdown",
   "metadata": {},
   "source": [
    "# Zad.\n",
    "\n",
    "Jaki typ klijentów reprezentuje każdy klaster?\n",
    "\n",
    "Jak jest średnia ilości i rabatu?"
   ]
  },
  {
   "cell_type": "code",
   "execution_count": 58,
   "metadata": {},
   "outputs": [
    {
     "name": "stdout",
     "output_type": "stream",
     "text": [
      "clusters 2\n",
      "                    min_qty   discount\n",
      "is_Adams_cluster                      \n",
      "False              6.000000  45.000000\n",
      "True              69.030928  47.731959\n",
      "--------------------------------\n",
      "clusters 3\n",
      "                    min_qty   discount\n",
      "is_Adams_cluster                      \n",
      "False              6.000000  44.000000\n",
      "True              70.357895  47.842105\n",
      "--------------------------------\n",
      "clusters 4\n",
      "                    min_qty  discount\n",
      "is_Adams_cluster                     \n",
      "False             29.000000  51.00000\n",
      "True              69.574468  47.43617\n",
      "--------------------------------\n",
      "clusters 5\n",
      "                    min_qty   discount\n",
      "is_Adams_cluster                      \n",
      "False             25.714286  49.428571\n",
      "True              70.258065  47.516129\n",
      "--------------------------------\n",
      "clusters 6\n",
      "                    min_qty   discount\n",
      "is_Adams_cluster                      \n",
      "False             56.181818  51.454545\n",
      "True              68.494382  47.179775\n",
      "--------------------------------\n",
      "clusters 7\n",
      "                    min_qty   discount\n",
      "is_Adams_cluster                      \n",
      "False             60.800000  50.466667\n",
      "True              68.258824  47.152941\n",
      "--------------------------------\n",
      "clusters 8\n",
      "                    min_qty   discount\n",
      "is_Adams_cluster                      \n",
      "False             60.800000  50.466667\n",
      "True              68.258824  47.152941\n",
      "--------------------------------\n",
      "clusters 9\n",
      "                    min_qty   discount\n",
      "is_Adams_cluster                      \n",
      "False             61.428571  51.095238\n",
      "True              68.658228  46.734177\n",
      "--------------------------------\n"
     ]
    }
   ],
   "source": [
    "for k in range(2,10):\n",
    "    #wybieramy klaster w którym jest Adams - to jest tablica\n",
    "    cluster = matrix.loc[matrix['customer_name'] == name]['cluster_' + str(k)]\n",
    "    #dodajemy sobie kolumnę mówiąca czy to jest ten sam klaster co Adams - będę po niej grupował\n",
    "    df['is_' + name + '_cluster'] = matrix['cluster_' + str(k)] == cluster[0]\n",
    "    print(\"clusters \" + str(k))\n",
    "    #grupuję pole 'variental' po klastrach Adams'a\n",
    "    print(df.groupby(\"is_\" + name + \"_cluster\")[['min_qty', 'discount']].mean())\n",
    "    print(\"--------------------------------\")"
   ]
  },
  {
   "cell_type": "markdown",
   "metadata": {},
   "source": [
    "Jego grupa kupuje w małych ilościach z rabatami większymi niż średnie (ale nieznacznie)"
   ]
  },
  {
   "cell_type": "code",
   "execution_count": null,
   "metadata": {
    "collapsed": true
   },
   "outputs": [],
   "source": []
  }
 ],
 "metadata": {
  "kernelspec": {
   "display_name": "Python 3",
   "language": "python",
   "name": "python3"
  },
  "language_info": {
   "codemirror_mode": {
    "name": "ipython",
    "version": 3
   },
   "file_extension": ".py",
   "mimetype": "text/x-python",
   "name": "python",
   "nbconvert_exporter": "python",
   "pygments_lexer": "ipython3",
   "version": "3.6.3"
  }
 },
 "nbformat": 4,
 "nbformat_minor": 2
}
