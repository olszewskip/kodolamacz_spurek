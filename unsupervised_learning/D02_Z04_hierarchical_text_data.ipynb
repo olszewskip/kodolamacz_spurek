{
 "cells": [
  {
   "cell_type": "markdown",
   "metadata": {},
   "source": [
    "# Zad.\n",
    "Pytamy się jakie są naturalne grupy w postach. Bierzemy zbiór 20newsgroups."
   ]
  },
  {
   "cell_type": "code",
   "execution_count": 1,
   "metadata": {
    "collapsed": true
   },
   "outputs": [],
   "source": [
    "import numpy as np\n",
    "import pandas as pd\n",
    "import matplotlib.pyplot as plt"
   ]
  },
  {
   "cell_type": "markdown",
   "metadata": {},
   "source": [
    "### wczytaj dane"
   ]
  },
  {
   "cell_type": "code",
   "execution_count": 2,
   "metadata": {
    "collapsed": true
   },
   "outputs": [],
   "source": [
    "from sklearn.datasets import fetch_20newsgroups\n",
    "twenty = fetch_20newsgroups(subset='all', shuffle=True)"
   ]
  },
  {
   "cell_type": "code",
   "execution_count": 3,
   "metadata": {},
   "outputs": [
    {
     "data": {
      "text/plain": [
       "'the 20 newsgroups by date dataset'"
      ]
     },
     "execution_count": 3,
     "metadata": {},
     "output_type": "execute_result"
    }
   ],
   "source": [
    "twenty.description"
   ]
  },
  {
   "cell_type": "code",
   "execution_count": 4,
   "metadata": {},
   "outputs": [
    {
     "data": {
      "text/plain": [
       "['alt.atheism',\n",
       " 'comp.graphics',\n",
       " 'comp.os.ms-windows.misc',\n",
       " 'comp.sys.ibm.pc.hardware',\n",
       " 'comp.sys.mac.hardware',\n",
       " 'comp.windows.x',\n",
       " 'misc.forsale',\n",
       " 'rec.autos',\n",
       " 'rec.motorcycles',\n",
       " 'rec.sport.baseball',\n",
       " 'rec.sport.hockey',\n",
       " 'sci.crypt',\n",
       " 'sci.electronics',\n",
       " 'sci.med',\n",
       " 'sci.space',\n",
       " 'soc.religion.christian',\n",
       " 'talk.politics.guns',\n",
       " 'talk.politics.mideast',\n",
       " 'talk.politics.misc',\n",
       " 'talk.religion.misc']"
      ]
     },
     "execution_count": 4,
     "metadata": {},
     "output_type": "execute_result"
    }
   ],
   "source": [
    "twenty.target_names"
   ]
  },
  {
   "cell_type": "code",
   "execution_count": 5,
   "metadata": {
    "collapsed": true
   },
   "outputs": [],
   "source": [
    "data = []\n",
    "for j in range(len(twenty.target_names)):\n",
    "    data.append([twenty.data[i] for i in range(twenty.target.shape[0]) if twenty.target[i] == j])"
   ]
  },
  {
   "cell_type": "markdown",
   "metadata": {},
   "source": [
    "### Wypisz pierwszy post"
   ]
  },
  {
   "cell_type": "code",
   "execution_count": 6,
   "metadata": {},
   "outputs": [
    {
     "name": "stdout",
     "output_type": "stream",
     "text": [
      "From: kmr4@po.CWRU.edu (Keith M. Ryan)\n",
      "Subject: Re: Islam And Scientific Predictions (was Re: Genocide is Caused by Atheism)\n",
      "Organization: Case Western Reserve University\n",
      "Lines: 14\n",
      "NNTP-Posting-Host: b64635.student.cwru.edu\n",
      "\n",
      "In article <1993Apr19.231641.21652@monu6.cc.monash.edu.au> darice@yoyo.cc.monash.edu.au (Fred Rice) writes:\n",
      "\n",
      ">The positive aspect of this verse noted by Dr. Maurice Bucaille is that\n",
      ">while geocentrism was the commonly accepted notion at the time (and for\n",
      ">a long time afterwards), there is no notion of geocentrism in this verse\n",
      ">(or anywhere in the Qur'an).\n",
      "\n",
      "\tThere is no notion of heliocentric, or even galacticentric either.\n",
      "\n",
      "\n",
      "\n",
      "--------------------------------------------------------------------------------\n",
      "\t\t\n",
      "\t\t\"My sole intention was learning to fly.\"\n",
      "\n"
     ]
    }
   ],
   "source": [
    "print(data[0][0])"
   ]
  },
  {
   "cell_type": "markdown",
   "metadata": {},
   "source": [
    "### Zapisz dane w dwóch zmiennych \n",
    "\n",
    " * X_set\n",
    " * y_set\n",
    " \n",
    "biorąc okreslona ilosc danych z kazdej klasy\n",
    "\n",
    "5 klas po 50 elementów"
   ]
  },
  {
   "cell_type": "code",
   "execution_count": null,
   "metadata": {
    "collapsed": true
   },
   "outputs": [],
   "source": []
  },
  {
   "cell_type": "markdown",
   "metadata": {},
   "source": [
    "### wypisz pierwszy post"
   ]
  },
  {
   "cell_type": "code",
   "execution_count": 8,
   "metadata": {},
   "outputs": [
    {
     "data": {
      "text/plain": [
       "'From: kmr4@po.CWRU.edu (Keith M. Ryan)\\nSubject: Re: Islam And Scientific Predictions (was Re: Genocide is Caused by Atheism)\\nOrganization: Case Western Reserve University\\nLines: 14\\nNNTP-Posting-Host: b64635.student.cwru.edu\\n\\nIn article <1993Apr19.231641.21652@monu6.cc.monash.edu.au> darice@yoyo.cc.monash.edu.au (Fred Rice) writes:\\n\\n>The positive aspect of this verse noted by Dr. Maurice Bucaille is that\\n>while geocentrism was the commonly accepted notion at the time (and for\\n>a long time afterwards), there is no notion of geocentrism in this verse\\n>(or anywhere in the Qur\\'an).\\n\\n\\tThere is no notion of heliocentric, or even galacticentric either.\\n\\n\\n\\n--------------------------------------------------------------------------------\\n\\t\\t\\n\\t\\t\"My sole intention was learning to fly.\"\\n'"
      ]
     },
     "execution_count": 8,
     "metadata": {},
     "output_type": "execute_result"
    }
   ],
   "source": [
    "X_set[0]"
   ]
  },
  {
   "cell_type": "markdown",
   "metadata": {},
   "source": [
    "### wypisz pierwszy label posta"
   ]
  },
  {
   "cell_type": "code",
   "execution_count": 9,
   "metadata": {},
   "outputs": [
    {
     "data": {
      "text/plain": [
       "0"
      ]
     },
     "execution_count": 9,
     "metadata": {},
     "output_type": "execute_result"
    }
   ],
   "source": [
    "Y_set[0]"
   ]
  },
  {
   "cell_type": "markdown",
   "metadata": {},
   "source": [
    "### Wektoryzuje dane\n",
    "\n",
    "Możesz użyć \n",
    "\n",
    "```python\n",
    "from sklearn.feature_extraction.text import CountVectorizer\n",
    "```"
   ]
  },
  {
   "cell_type": "code",
   "execution_count": null,
   "metadata": {},
   "outputs": [],
   "source": []
  },
  {
   "cell_type": "markdown",
   "metadata": {},
   "source": [
    "# Zad. \n",
    "\n",
    "Wykonajmy grupowanie danych metodą hierarchiczną.\n",
    "\n",
    "Użyj odległości:\n",
    "    \n",
    "   * 'euclidean'\n",
    "   * 'cosine'\n",
    "    \n",
    "Dlaczego odległość 'euclidean' jest gorsza od 'cosine'?"
   ]
  },
  {
   "cell_type": "code",
   "execution_count": 23,
   "metadata": {
    "collapsed": true
   },
   "outputs": [],
   "source": [
    "from scipy.spatial.distance import pdist, squareform\n",
    "from scipy.cluster.hierarchy import linkage\n",
    "from scipy.cluster.hierarchy import dendrogram\n",
    "from scipy.cluster.hierarchy import fcluster\n",
    "from sklearn import metrics"
   ]
  },
  {
   "cell_type": "code",
   "execution_count": null,
   "metadata": {},
   "outputs": [],
   "source": []
  },
  {
   "cell_type": "code",
   "execution_count": null,
   "metadata": {},
   "outputs": [],
   "source": []
  },
  {
   "cell_type": "code",
   "execution_count": null,
   "metadata": {},
   "outputs": [],
   "source": []
  },
  {
   "cell_type": "markdown",
   "metadata": {},
   "source": [
    "# Zad \n",
    "Podziel dane na grupy np. 20."
   ]
  },
  {
   "cell_type": "code",
   "execution_count": 28,
   "metadata": {},
   "outputs": [
    {
     "name": "stdout",
     "output_type": "stream",
     "text": [
      "[ 1  9  9 15 16 20 15  5  3  7 15 12 20  5 20 20 20 20 20  1 20 20 20  5\n",
      "  3 20 20  3 20 12  5 20 20 20 15 15  3  5  5  9 20 20  5 20 15 20 20 20\n",
      " 15  3 12 19  8  8  1 18 10 12 14  8  2  8 19 12  2 19  7  5  2 14 19 18\n",
      "  5  8 12  5  8  7  3  8  5  3  8 16 16  2  8  9 17  8  2 12 12  8 17 10\n",
      "  5  8 13  8 10 10 18 18  7  2  8  3 17 14  1 10  8 14 18 18 14  5  8 14\n",
      "  9 14  7  9 18 14 14  9 18 14 17 14 18 16 14 14  5  7  7 18 13  7 14 18\n",
      " 18 10  3 14 18  5  6 11 17 14  9 16  4 11  6 11  8 17  5  8  5 16  6 16\n",
      "  8 11 14  8 11 17 11  9  5  7  5  6  5 15  7  4 11  8 11  2 10 11  6  5\n",
      "  5 17  6  8 11 14  5 11 16  1  8  7  7  3  5 15  1  8  1  4  2  6  1 14\n",
      "  5  3 13 12  7  1  4  1  5  1  9  6  1  8  8  1 11  5  5  5 10  7  9  8\n",
      "  7  4  5  5  6  1  5  4  3  1]\n",
      "[ 1  2  3  4  5  6  7  8  9 10 11 12 13 14 15 16 17 18 19 20]\n"
     ]
    }
   ],
   "source": []
  },
  {
   "cell_type": "markdown",
   "metadata": {},
   "source": [
    "# Zad \n",
    "Wylicz średnie w każdym klastrze"
   ]
  },
  {
   "cell_type": "code",
   "execution_count": null,
   "metadata": {},
   "outputs": [],
   "source": []
  },
  {
   "cell_type": "markdown",
   "metadata": {},
   "source": [
    "# Zad. \n",
    "\n",
    "Wypisujem po kilka najczęstszych słów z klastrach"
   ]
  },
  {
   "cell_type": "code",
   "execution_count": null,
   "metadata": {},
   "outputs": [],
   "source": []
  },
  {
   "cell_type": "markdown",
   "metadata": {},
   "source": [
    "# Zad\n",
    "\n",
    "Wypiszmy teraz posty najbardziej reprezentujące klaster (zdania najbliższe średniej)"
   ]
  },
  {
   "cell_type": "code",
   "execution_count": null,
   "metadata": {},
   "outputs": [],
   "source": []
  }
 ],
 "metadata": {
  "kernelspec": {
   "display_name": "Python 3",
   "language": "python",
   "name": "python3"
  },
  "language_info": {
   "codemirror_mode": {
    "name": "ipython",
    "version": 3
   },
   "file_extension": ".py",
   "mimetype": "text/x-python",
   "name": "python",
   "nbconvert_exporter": "python",
   "pygments_lexer": "ipython3",
   "version": "3.6.3"
  }
 },
 "nbformat": 4,
 "nbformat_minor": 2
}
